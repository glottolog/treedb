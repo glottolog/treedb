{
 "cells": [
  {
   "cell_type": "markdown",
   "metadata": {},
   "source": [
    "# Glottolog stats dashboard\n",
    "## report stats, monitor change\n",
    "\n",
    "record properties of ``treedb.sqlite3``\n",
    "loaded from [Glottolog](https://glottolog.org)\n",
    "[master repo](https://github.com/glottolog/glottolog) commit\n",
    "and monitor changes by diffing this\n",
    "\n",
    "<div style=\"text-align: right\">\n",
    "  <a href=\"https://nbviewer.jupyter.org/github/glottolog/treedb/blob/master/Stats.ipynb\">\n",
    "      latest version from GitHub in nbviewer\n",
    "  </a>\n",
    "</div>\n",
    "\n",
    "### Contents\n",
    "1. [Clone the data repository](#Clone-the-data-repository)\n",
    "2. [Use the repository root as source](#Use-the-repository-root-as-source)\n",
    "3. [Set the database file and load it](#Set-the-database-file-and-load-it)\n",
    "4. [Check the database](#Check-the-database)\n",
    "5. [treedb.sqlite3](#treedb.sqlite3)\n",
    "6. [print_dataset()](#print_dataset())\n",
    "7. [\\_\\_dataset\\_\\_](#__dataset__)\n",
    "8. [\\_\\_producer\\_\\_](#__producer__)\n",
    "9. [treedb.raw](#treedb.raw)\n",
    "10. [languoid](#languoid)\n",
    "11. [macroarea](#macroarea)\n",
    "12. [country](#country)\n",
    "13. [altname](#altname)\n",
    "14. [source](#source)\n",
    "15. [classification](#classification)\n",
    "16. [link](#link)\n",
    "17. [endangerment](#endangerment)\n",
    "18. [Example query](#example-query)"
   ]
  },
  {
   "cell_type": "code",
   "execution_count": 1,
   "metadata": {},
   "outputs": [
    {
     "name": "stdout",
     "output_type": "stream",
     "text": [
      "treedb version: 2.6.4.dev0\n",
      "pycountry version: 24.6.1\n",
      "sqlalchemy version: 2.0.41\n",
      "sqlite_version: 3.49.2\n",
      "csv23 version: 0.3.4\n"
     ]
    }
   ],
   "source": [
    "%matplotlib inline\n",
    "\n",
    "import collections\n",
    "import os\n",
    "\n",
    "os.environ['SQLALCHEMY_WARN_20'] = 'true'\n",
    "\n",
    "import pandas as pd\n",
    "import sqlalchemy as sa\n",
    "import matplotlib as mpl\n",
    "import matplotlib.pyplot as plt\n",
    "\n",
    "import treedb\n",
    "import treedb.raw\n",
    "\n",
    "treedb.configure_logging(log_sql=False)\n",
    "\n",
    "treedb.print_versions()"
   ]
  },
  {
   "cell_type": "markdown",
   "metadata": {},
   "source": [
    "## Clone the data repository"
   ]
  },
  {
   "cell_type": "code",
   "execution_count": 2,
   "metadata": {},
   "outputs": [
    {
     "name": "stdout",
     "output_type": "stream",
     "text": [
      "CPU times: total: 0 ns\n",
      "Wall time: 44 s\n"
     ]
    },
    {
     "data": {
      "text/plain": [
       "(CompletedProcess(args=['git', 'clone', '-c', 'advice.detachedHead=false', '--single-branch', '--branch', 'v5.1', '--depth', '1', 'https://github.com/glottolog/glottolog.git', WindowsPath('../glottolog')], returncode=0),\n",
       " CompletedProcess(args=['git', 'checkout', '-B', 'treedb', 'v5.1'], returncode=0))"
      ]
     },
     "execution_count": 2,
     "metadata": {},
     "output_type": "execute_result"
    }
   ],
   "source": [
    "%%time\n",
    "\n",
    "GLOTTOLOG_TAG = 'v5.1'\n",
    "\n",
    "TARGET = '../glottolog/'\n",
    "\n",
    "treedb.checkout_or_clone(GLOTTOLOG_TAG, target=TARGET)"
   ]
  },
  {
   "cell_type": "code",
   "execution_count": 3,
   "metadata": {},
   "outputs": [
    {
     "data": {
      "text/plain": [
       "GlottologVersion(commit='4ffdd9865810885b4675551040b93282b26dcf72', describe='v5.1')"
      ]
     },
     "execution_count": 3,
     "metadata": {},
     "output_type": "execute_result"
    }
   ],
   "source": [
    "treedb.glottolog_version()"
   ]
  },
  {
   "cell_type": "markdown",
   "metadata": {},
   "source": [
    "## Use the repository root as source"
   ]
  },
  {
   "cell_type": "code",
   "execution_count": 4,
   "metadata": {},
   "outputs": [
    {
     "data": {
      "text/plain": [
       "<treedb._proxies.PathProxy path='../glottolog/languoids/tree' inode=25051272927591111>"
      ]
     },
     "execution_count": 4,
     "metadata": {},
     "output_type": "execute_result"
    }
   ],
   "source": [
    "treedb.set_root(TARGET)"
   ]
  },
  {
   "cell_type": "code",
   "execution_count": 5,
   "metadata": {},
   "outputs": [
    {
     "data": {
      "text/plain": [
       "FileInfo(path=('abin1243',), dentry=<DirEntry 'md.ini'>, config=<treedb.languoids.files.ConfigParser object at 0x000001ADDA710050>)"
      ]
     },
     "execution_count": 5,
     "metadata": {},
     "output_type": "execute_result"
    }
   ],
   "source": [
    "next(treedb.iterfiles())"
   ]
  },
  {
   "cell_type": "code",
   "execution_count": 6,
   "metadata": {},
   "outputs": [
    {
     "data": {
      "text/plain": [
       "{('abin1243',): {'id': 'abin1243',\n",
       "  'parent_id': None,\n",
       "  'name': 'Abinomn',\n",
       "  'level': 'language',\n",
       "  'hid': 'bsa',\n",
       "  'iso639_3': 'bsa',\n",
       "  'latitude': -2.92281,\n",
       "  'longitude': 138.891,\n",
       "  'macroareas': ['Papunesia'],\n",
       "  'countries': [{'id': 'ID', 'name': 'Indonesia'}],\n",
       "  'links': [{'url': 'https://endangeredlanguages.com/lang/1763',\n",
       "    'title': 'Abinomn',\n",
       "    'scheme': 'https'},\n",
       "   {'url': 'https://en.wikipedia.org/wiki/Abinomn_language',\n",
       "    'title': None,\n",
       "    'scheme': 'https'},\n",
       "   {'url': 'https://www.wikidata.org/entity/Q56648',\n",
       "    'title': None,\n",
       "    'scheme': 'https'}],\n",
       "  'timespan': None,\n",
       "  'sources': {'glottolog': [{'bibfile': 'cldf',\n",
       "     'bibkey': 'hammarstroem:17',\n",
       "     'pages': None,\n",
       "     'trigger': None},\n",
       "    {'bibfile': 'cldf',\n",
       "     'bibkey': 'lewis:ed:09',\n",
       "     'pages': None,\n",
       "     'trigger': None},\n",
       "    {'bibfile': 'cldf', 'bibkey': 'np:nd:264', 'pages': None, 'trigger': None},\n",
       "    {'bibfile': 'hh',\n",
       "     'bibkey': 'e:Lagerberg:Moegip',\n",
       "     'pages': None,\n",
       "     'trigger': None},\n",
       "    {'bibfile': 'hh',\n",
       "     'bibkey': 'h:SilzerClouse:Index',\n",
       "     'pages': None,\n",
       "     'trigger': None},\n",
       "    {'bibfile': 'hh',\n",
       "     'bibkey': 'h:SilzerHeikkinen:Irian',\n",
       "     'pages': None,\n",
       "     'trigger': None},\n",
       "    {'bibfile': 'hh',\n",
       "     'bibkey': 'hv:Foley:Northwest-New-Guinea',\n",
       "     'pages': None,\n",
       "     'trigger': None},\n",
       "    {'bibfile': 'hh',\n",
       "     'bibkey': 'hvtyp:DonohueMusgrave:Melanesia',\n",
       "     'pages': None,\n",
       "     'trigger': None},\n",
       "    {'bibfile': 'hh',\n",
       "     'bibkey': 'w:Fiwei:Abinomn',\n",
       "     'pages': None,\n",
       "     'trigger': None}]},\n",
       "  'altnames': {'multitree': [{'name': '\"Baso\"', 'lang': None},\n",
       "    {'name': 'Abinomn', 'lang': None},\n",
       "    {'name': 'Avinomen', 'lang': None},\n",
       "    {'name': 'Foja', 'lang': None},\n",
       "    {'name': 'Foya', 'lang': None}],\n",
       "   'lexvo': [{'name': 'Abinomn', 'lang': 'en'},\n",
       "    {'name': 'Abinomn language', 'lang': 'en'},\n",
       "    {'name': 'Abinomneg', 'lang': 'br'},\n",
       "    {'name': 'Lingua abinomn', 'lang': 'gl'},\n",
       "    {'name': 'Llingua Abinomn', 'lang': 'ast'}],\n",
       "   'hhbib_lgcode': [{'name': 'Baso', 'lang': None}],\n",
       "   'elcat': [{'name': '\"Baso\"', 'lang': None},\n",
       "    {'name': 'Abinomn', 'lang': None},\n",
       "    {'name': 'Avinomen', 'lang': None},\n",
       "    {'name': 'Foja', 'lang': None},\n",
       "    {'name': 'Foya', 'lang': None}]},\n",
       "  'triggers': {'lgcode': ['macrohistory', 'moegip']},\n",
       "  'identifier': {'multitree': 'bsa', 'endangeredlanguages': '1763'},\n",
       "  'classification': {'familyrefs': [{'bibfile': 'hh',\n",
       "     'bibkey': 'h:SilzerClouse:Index',\n",
       "     'pages': None,\n",
       "     'trigger': None},\n",
       "    {'bibfile': 'hh',\n",
       "     'bibkey': 'hvtyp:DonohueMusgrave:Melanesia',\n",
       "     'pages': None,\n",
       "     'trigger': None}]},\n",
       "  'endangerment': {'status': 'nearly extinct',\n",
       "   'source': {'name': 'ElCat', 'bibfile': None, 'bibkey': None, 'pages': None},\n",
       "   'date': datetime.datetime(2023, 7, 6, 16, 7, 13),\n",
       "   'comment': 'Abinomn (1763-bsa) = Critically Endangered (40 percent certain, based on the evidence available) (Speakers are shifting to the neighbouring Mander language, which also has few native speakers. The number of Foya speakers is likely to be considerably less than fifty. It has been seriously endangered before, but is now more likely to be moribund.) [Wurm 2007](elcat:e60e81c4cbe5171cd654662d9887aec2)'},\n",
       "  'hh_ethnologue_comment': None,\n",
       "  'iso_retirement': None}}"
      ]
     },
     "execution_count": 6,
     "metadata": {},
     "output_type": "execute_result"
    }
   ],
   "source": [
    "dict(treedb.iterlanguoids(limit=1))"
   ]
  },
  {
   "cell_type": "code",
   "execution_count": 7,
   "metadata": {},
   "outputs": [
    {
     "name": "stdout",
     "output_type": "stream",
     "text": [
      "CPU times: total: 23.2 s\n",
      "Wall time: 2min 38s\n"
     ]
    },
    {
     "data": {
      "text/plain": [
       "'path_languoid:path:sha256:e37d43e99deb5fb5055916b29c009c43fafffc2c60c4e9fc027b34d16336d856'"
      ]
     },
     "execution_count": 7,
     "metadata": {},
     "output_type": "execute_result"
    }
   ],
   "source": [
    "%time treedb.checksum(source='files')"
   ]
  },
  {
   "cell_type": "markdown",
   "metadata": {},
   "source": [
    "## Set the database file and load it"
   ]
  },
  {
   "cell_type": "code",
   "execution_count": 8,
   "metadata": {},
   "outputs": [
    {
     "data": {
      "text/plain": [
       "<treedb._proxies.SQLiteEngineProxy filename='treedb.sqlite3' size=None>"
      ]
     },
     "execution_count": 8,
     "metadata": {},
     "output_type": "execute_result"
    }
   ],
   "source": [
    "treedb.set_engine('treedb.sqlite3')"
   ]
  },
  {
   "cell_type": "code",
   "execution_count": 9,
   "metadata": {},
   "outputs": [
    {
     "name": "stdout",
     "output_type": "stream",
     "text": [
      "0:00:43.182771\n",
      "CPU times: total: 42.5 s\n",
      "Wall time: 43.5 s\n"
     ]
    },
    {
     "data": {
      "text/plain": [
       "<treedb._proxies.SQLiteEngineProxy filename='treedb.sqlite3' size=77860864>"
      ]
     },
     "execution_count": 9,
     "metadata": {},
     "output_type": "execute_result"
    }
   ],
   "source": [
    "%%time\n",
    "\n",
    "engine = treedb.load(rebuild=False, exclude_raw=False)\n",
    "engine"
   ]
  },
  {
   "cell_type": "markdown",
   "metadata": {},
   "source": [
    "## Check the database"
   ]
  },
  {
   "cell_type": "code",
   "execution_count": 10,
   "metadata": {},
   "outputs": [
    {
     "data": {
      "text/plain": [
       "datetime.datetime(2025, 5, 25, 21, 9, 13, 101506)"
      ]
     },
     "execution_count": 10,
     "metadata": {},
     "output_type": "execute_result"
    }
   ],
   "source": [
    "engine.file_mtime()"
   ]
  },
  {
   "cell_type": "code",
   "execution_count": 11,
   "metadata": {},
   "outputs": [
    {
     "data": {
      "text/plain": [
       "74.25390625"
      ]
     },
     "execution_count": 11,
     "metadata": {},
     "output_type": "execute_result"
    }
   ],
   "source": [
    "engine.file_size(as_megabytes=True)"
   ]
  },
  {
   "cell_type": "code",
   "execution_count": 12,
   "metadata": {},
   "outputs": [
    {
     "name": "stdout",
     "output_type": "stream",
     "text": [
      "CPU times: total: 62.5 ms\n",
      "Wall time: 54.2 ms\n"
     ]
    },
    {
     "data": {
      "text/plain": [
       "'5fd99ce81a808f3d66361d5c1af52e4cdcff563d9abe314e389af85f3ffe4c72'"
      ]
     },
     "execution_count": 12,
     "metadata": {},
     "output_type": "execute_result"
    }
   ],
   "source": [
    "%time engine.file_sha256()"
   ]
  },
  {
   "cell_type": "code",
   "execution_count": 13,
   "metadata": {},
   "outputs": [
    {
     "name": "stdout",
     "output_type": "stream",
     "text": [
      "CPU times: total: 93.8 ms\n",
      "Wall time: 88.7 ms\n"
     ]
    },
    {
     "data": {
      "text/plain": [
       "'strong:sha256:67e84364cca2eb6ce221777c3a3b965862b0231e841e20a3c8b65a50b3c68e31'"
      ]
     },
     "execution_count": 13,
     "metadata": {},
     "output_type": "execute_result"
    }
   ],
   "source": [
    "%time treedb.raw.checksum()"
   ]
  },
  {
   "cell_type": "code",
   "execution_count": 14,
   "metadata": {},
   "outputs": [
    {
     "name": "stdout",
     "output_type": "stream",
     "text": [
      "CPU times: total: 3.64 s\n",
      "Wall time: 3.64 s\n"
     ]
    },
    {
     "data": {
      "text/plain": [
       "'weak:sha256:8637e556a46c3a75fe726bb0d2ed4791770b5939f0ba1146a9457d4ad5b19b37'"
      ]
     },
     "execution_count": 14,
     "metadata": {},
     "output_type": "execute_result"
    }
   ],
   "source": [
    "%time treedb.raw.checksum(weak=True)"
   ]
  },
  {
   "cell_type": "code",
   "execution_count": 15,
   "metadata": {},
   "outputs": [
    {
     "name": "stdout",
     "output_type": "stream",
     "text": [
      "CPU times: total: 4.52 s\n",
      "Wall time: 4.53 s\n"
     ]
    },
    {
     "data": {
      "text/plain": [
       "'path_languoid:path:sha256:e37d43e99deb5fb5055916b29c009c43fafffc2c60c4e9fc027b34d16336d856'"
      ]
     },
     "execution_count": 15,
     "metadata": {},
     "output_type": "execute_result"
    }
   ],
   "source": [
    "%time treedb.checksum(source='tables')"
   ]
  },
  {
   "cell_type": "code",
   "execution_count": 16,
   "metadata": {},
   "outputs": [
    {
     "name": "stdout",
     "output_type": "stream",
     "text": [
      "CPU times: total: 7.44 s\n",
      "Wall time: 7.45 s\n"
     ]
    },
    {
     "data": {
      "text/plain": [
       "'path_languoid:path:sha256:e37d43e99deb5fb5055916b29c009c43fafffc2c60c4e9fc027b34d16336d856'"
      ]
     },
     "execution_count": 16,
     "metadata": {},
     "output_type": "execute_result"
    }
   ],
   "source": [
    "%time treedb.checksum(source='raw')"
   ]
  },
  {
   "cell_type": "code",
   "execution_count": 17,
   "metadata": {},
   "outputs": [
    {
     "name": "stdout",
     "output_type": "stream",
     "text": [
      "valid_pseudofamily_referencesCheck: OK\n",
      "pseudofamilies_are_rootsCheck: OK\n",
      "valid_glottocodeCheck: OK\n",
      "valid_iso639_3Check: OK\n",
      "valid_hidCheck: OK\n",
      "clean_nameCheck: OK\n",
      "family_parentCheck: OK\n",
      "language_parentCheck: OK\n",
      "dialect_parentCheck: OK\n",
      "family_childrenCheck: OK\n",
      "family_languagesCheck: OK\n",
      "no_empty_filesCheck: OK\n",
      "CPU times: total: 953 ms\n",
      "Wall time: 959 ms\n"
     ]
    },
    {
     "data": {
      "text/plain": [
       "True"
      ]
     },
     "execution_count": 17,
     "metadata": {},
     "output_type": "execute_result"
    }
   ],
   "source": [
    "%time treedb.check()"
   ]
  },
  {
   "cell_type": "markdown",
   "metadata": {},
   "source": [
    "## treedb.sqlite3"
   ]
  },
  {
   "cell_type": "code",
   "execution_count": 18,
   "metadata": {},
   "outputs": [
    {
     "name": "stderr",
     "output_type": "stream",
     "text": [
      "[INFO@treedb.logging_] treedb version: 2.6.4.dev0\n",
      "BEGIN (implicit)\n",
      "SELECT sqlite_version() AS sqlite_version_1\n",
      "[generated in 0.00062s] ()\n",
      "ROLLBACK\n"
     ]
    },
    {
     "data": {
      "text/plain": [
       "'3.49.2'"
      ]
     },
     "execution_count": 18,
     "metadata": {},
     "output_type": "execute_result"
    }
   ],
   "source": [
    "treedb.configure_logging(level='INFO', log_sql=True)\n",
    "\n",
    "treedb.scalar(sa.select(sa.func.sqlite_version()))"
   ]
  },
  {
   "cell_type": "code",
   "execution_count": 19,
   "metadata": {},
   "outputs": [
    {
     "name": "stderr",
     "output_type": "stream",
     "text": [
      "BEGIN (implicit)\n",
      "PRAGMA application_id\n",
      "[generated in 0.00109s] ()\n",
      "ROLLBACK\n"
     ]
    },
    {
     "data": {
      "text/plain": [
       "1122"
      ]
     },
     "execution_count": 19,
     "metadata": {},
     "output_type": "execute_result"
    }
   ],
   "source": [
    "application_id = treedb.scalar(sa.text('PRAGMA application_id'))\n",
    "\n",
    "assert application_id == 1122 == 0x462\n",
    "assert application_id == sum(ord(c) for c in treedb.Dataset.__tablename__)\n",
    "assert treedb.Dataset.__tablename__ == '__dataset__'\n",
    "\n",
    "application_id"
   ]
  },
  {
   "cell_type": "code",
   "execution_count": 20,
   "metadata": {},
   "outputs": [
    {
     "name": "stderr",
     "output_type": "stream",
     "text": [
      "BEGIN (implicit)\n",
      "SELECT sqlite_master.name \n",
      "FROM sqlite_master \n",
      "WHERE sqlite_master.type = ? AND sqlite_master.name NOT LIKE ? ORDER BY sqlite_master.name\n",
      "[generated in 0.00103s] ('table', 'sqlite_%')\n",
      "ROLLBACK\n",
      "[INFO@treedb.backend.pandas] pandas version: 2.2.3\n",
      "BEGIN (implicit)\n",
      "SELECT ? AS table_name, (SELECT count(*) AS n \n",
      "FROM __dataset__) AS n_rows UNION ALL SELECT ? AS table_name, (SELECT count(*) AS n \n",
      "FROM __producer__) AS n_rows UNION ALL SELECT ? AS table_name, (SELECT count(*) AS n \n",
      "FROM _config) AS n_rows UNION ALL SELECT ? AS table_name, (SELECT count(*) AS n \n",
      "FROM _file) AS n_rows UNION ALL SELECT ? AS table_name, (SELECT count(*) AS n \n",
      "FROM _option) AS n_rows UNION ALL SELECT ? AS table_name, (SELECT count(*) AS n \n",
      "FROM _value) AS n_rows UNION ALL SELECT ? AS table_name, (SELECT count(*) AS n \n",
      "FROM altname) AS n_rows UNION ALL SELECT ? AS table_name, (SELECT count(*) AS n \n",
      "FROM altnameprovider) AS n_rows UNION ALL SELECT ? AS table_name, (SELECT count(*) AS n \n",
      "FROM bibfile) AS n_rows UNION ALL SELECT ? AS table_name, (SELECT count(*) AS n \n",
      "FROM bibitem) AS n_rows UNION ALL SELECT ? AS table_name, (SELECT count(*) AS n \n",
      "FROM classificationcomment) AS n_rows UNION ALL SELECT ? AS table_name, (SELECT count(*) AS n \n",
      "FROM classificationref) AS n_rows UNION ALL SELECT ? AS table_name, (SELECT count(*) AS n \n",
      "FROM country) AS n_rows UNION ALL SELECT ? AS table_name, (SELECT count(*) AS n \n",
      "FROM endangerment) AS n_rows UNION ALL SELECT ? AS table_name, (SELECT count(*) AS n \n",
      "FROM endangermentsource) AS n_rows UNION ALL SELECT ? AS table_name, (SELECT count(*) AS n \n",
      "FROM endangermentstatus) AS n_rows UNION ALL SELECT ? AS table_name, (SELECT count(*) AS n \n",
      "FROM ethnologuecomment) AS n_rows UNION ALL SELECT ? AS table_name, (SELECT count(*) AS n \n",
      "FROM identifier) AS n_rows UNION ALL SELECT ? AS table_name, (SELECT count(*) AS n \n",
      "FROM identifiersite) AS n_rows UNION ALL SELECT ? AS table_name, (SELECT count(*) AS n \n",
      "FROM isoretirement) AS n_rows UNION ALL SELECT ? AS table_name, (SELECT count(*) AS n \n",
      "FROM isoretirement_changeto) AS n_rows UNION ALL SELECT ? AS table_name, (SELECT count(*) AS n \n",
      "FROM languoid) AS n_rows UNION ALL SELECT ? AS table_name, (SELECT count(*) AS n \n",
      "FROM languoid_country) AS n_rows UNION ALL SELECT ? AS table_name, (SELECT count(*) AS n \n",
      "FROM languoid_macroarea) AS n_rows UNION ALL SELECT ? AS table_name, (SELECT count(*) AS n \n",
      "FROM languoidlevel) AS n_rows UNION ALL SELECT ? AS table_name, (SELECT count(*) AS n \n",
      "FROM link) AS n_rows UNION ALL SELECT ? AS table_name, (SELECT count(*) AS n \n",
      "FROM macroarea) AS n_rows UNION ALL SELECT ? AS table_name, (SELECT count(*) AS n \n",
      "FROM pseudofamily) AS n_rows UNION ALL SELECT ? AS table_name, (SELECT count(*) AS n \n",
      "FROM source) AS n_rows UNION ALL SELECT ? AS table_name, (SELECT count(*) AS n \n",
      "FROM sourceprovider) AS n_rows UNION ALL SELECT ? AS table_name, (SELECT count(*) AS n \n",
      "FROM timespan) AS n_rows UNION ALL SELECT ? AS table_name, (SELECT count(*) AS n \n",
      "FROM \"trigger\") AS n_rows\n",
      "[generated in 0.00120s] ('__dataset__', '__producer__', '_config', '_file', '_option', '_value', 'altname', 'altnameprovider', 'bibfile', 'bibitem', 'classificationcomment', 'classificationref', 'country', 'endangerment', 'endangermentsource', 'endangermentstatus', 'ethnologuecomment', 'identifier', 'identifiersite', 'isoretirement', 'isoretirement_changeto', 'languoid', 'languoid_country', 'languoid_macroarea', 'languoidlevel', 'link', 'macroarea', 'pseudofamily', 'source', 'sourceprovider', 'timespan', 'trigger')\n",
      "ROLLBACK\n"
     ]
    },
    {
     "data": {
      "text/html": [
       "<div>\n",
       "<style scoped>\n",
       "    .dataframe tbody tr th:only-of-type {\n",
       "        vertical-align: middle;\n",
       "    }\n",
       "\n",
       "    .dataframe tbody tr th {\n",
       "        vertical-align: top;\n",
       "    }\n",
       "\n",
       "    .dataframe thead th {\n",
       "        text-align: right;\n",
       "    }\n",
       "</style>\n",
       "<table border=\"1\" class=\"dataframe\">\n",
       "  <thead>\n",
       "    <tr style=\"text-align: right;\">\n",
       "      <th></th>\n",
       "      <th>n_rows</th>\n",
       "    </tr>\n",
       "    <tr>\n",
       "      <th>table_name</th>\n",
       "      <th></th>\n",
       "    </tr>\n",
       "  </thead>\n",
       "  <tbody>\n",
       "    <tr>\n",
       "      <th>__dataset__</th>\n",
       "      <td>1</td>\n",
       "    </tr>\n",
       "    <tr>\n",
       "      <th>__producer__</th>\n",
       "      <td>1</td>\n",
       "    </tr>\n",
       "    <tr>\n",
       "      <th>_config</th>\n",
       "      <td>402</td>\n",
       "    </tr>\n",
       "    <tr>\n",
       "      <th>_file</th>\n",
       "      <td>26953</td>\n",
       "    </tr>\n",
       "    <tr>\n",
       "      <th>_option</th>\n",
       "      <td>53</td>\n",
       "    </tr>\n",
       "    <tr>\n",
       "      <th>_value</th>\n",
       "      <td>660744</td>\n",
       "    </tr>\n",
       "    <tr>\n",
       "      <th>altname</th>\n",
       "      <td>160773</td>\n",
       "    </tr>\n",
       "    <tr>\n",
       "      <th>altnameprovider</th>\n",
       "      <td>11</td>\n",
       "    </tr>\n",
       "    <tr>\n",
       "      <th>bibfile</th>\n",
       "      <td>37</td>\n",
       "    </tr>\n",
       "    <tr>\n",
       "      <th>bibitem</th>\n",
       "      <td>156977</td>\n",
       "    </tr>\n",
       "    <tr>\n",
       "      <th>classificationcomment</th>\n",
       "      <td>12495</td>\n",
       "    </tr>\n",
       "    <tr>\n",
       "      <th>classificationref</th>\n",
       "      <td>19279</td>\n",
       "    </tr>\n",
       "    <tr>\n",
       "      <th>country</th>\n",
       "      <td>246</td>\n",
       "    </tr>\n",
       "    <tr>\n",
       "      <th>endangerment</th>\n",
       "      <td>8557</td>\n",
       "    </tr>\n",
       "    <tr>\n",
       "      <th>endangermentsource</th>\n",
       "      <td>65</td>\n",
       "    </tr>\n",
       "    <tr>\n",
       "      <th>endangermentstatus</th>\n",
       "      <td>6</td>\n",
       "    </tr>\n",
       "    <tr>\n",
       "      <th>ethnologuecomment</th>\n",
       "      <td>534</td>\n",
       "    </tr>\n",
       "    <tr>\n",
       "      <th>identifier</th>\n",
       "      <td>21370</td>\n",
       "    </tr>\n",
       "    <tr>\n",
       "      <th>identifiersite</th>\n",
       "      <td>4</td>\n",
       "    </tr>\n",
       "    <tr>\n",
       "      <th>isoretirement</th>\n",
       "      <td>369</td>\n",
       "    </tr>\n",
       "    <tr>\n",
       "      <th>isoretirement_changeto</th>\n",
       "      <td>453</td>\n",
       "    </tr>\n",
       "    <tr>\n",
       "      <th>languoid</th>\n",
       "      <td>26953</td>\n",
       "    </tr>\n",
       "    <tr>\n",
       "      <th>languoid_country</th>\n",
       "      <td>11912</td>\n",
       "    </tr>\n",
       "    <tr>\n",
       "      <th>languoid_macroarea</th>\n",
       "      <td>22127</td>\n",
       "    </tr>\n",
       "    <tr>\n",
       "      <th>languoidlevel</th>\n",
       "      <td>3</td>\n",
       "    </tr>\n",
       "    <tr>\n",
       "      <th>link</th>\n",
       "      <td>32870</td>\n",
       "    </tr>\n",
       "    <tr>\n",
       "      <th>macroarea</th>\n",
       "      <td>6</td>\n",
       "    </tr>\n",
       "    <tr>\n",
       "      <th>pseudofamily</th>\n",
       "      <td>8</td>\n",
       "    </tr>\n",
       "    <tr>\n",
       "      <th>source</th>\n",
       "      <td>220672</td>\n",
       "    </tr>\n",
       "    <tr>\n",
       "      <th>sourceprovider</th>\n",
       "      <td>1</td>\n",
       "    </tr>\n",
       "    <tr>\n",
       "      <th>timespan</th>\n",
       "      <td>1058</td>\n",
       "    </tr>\n",
       "    <tr>\n",
       "      <th>trigger</th>\n",
       "      <td>30140</td>\n",
       "    </tr>\n",
       "  </tbody>\n",
       "</table>\n",
       "</div>"
      ],
      "text/plain": [
       "                        n_rows\n",
       "table_name                    \n",
       "__dataset__                  1\n",
       "__producer__                 1\n",
       "_config                    402\n",
       "_file                    26953\n",
       "_option                     53\n",
       "_value                  660744\n",
       "altname                 160773\n",
       "altnameprovider             11\n",
       "bibfile                     37\n",
       "bibitem                 156977\n",
       "classificationcomment    12495\n",
       "classificationref        19279\n",
       "country                    246\n",
       "endangerment              8557\n",
       "endangermentsource          65\n",
       "endangermentstatus           6\n",
       "ethnologuecomment          534\n",
       "identifier               21370\n",
       "identifiersite               4\n",
       "isoretirement              369\n",
       "isoretirement_changeto     453\n",
       "languoid                 26953\n",
       "languoid_country         11912\n",
       "languoid_macroarea       22127\n",
       "languoidlevel                3\n",
       "link                     32870\n",
       "macroarea                    6\n",
       "pseudofamily                 8\n",
       "source                  220672\n",
       "sourceprovider               1\n",
       "timespan                  1058\n",
       "trigger                  30140"
      ]
     },
     "execution_count": 20,
     "metadata": {},
     "output_type": "execute_result"
    }
   ],
   "source": [
    "from treedb import pd_read_sql as read_sql\n",
    "\n",
    "read_sql(treedb.select_tables_nrows(), index_col='table_name')"
   ]
  },
  {
   "cell_type": "code",
   "execution_count": 21,
   "metadata": {},
   "outputs": [
    {
     "name": "stderr",
     "output_type": "stream",
     "text": [
      "BEGIN (implicit)\n",
      "SELECT sqlite_master.name \n",
      "FROM sqlite_master \n",
      "WHERE sqlite_master.type = ? AND sqlite_master.name NOT LIKE ? ORDER BY sqlite_master.name\n",
      "[cached since 0.05234s ago] ('view', 'sqlite_%')\n",
      "ROLLBACK\n"
     ]
    },
    {
     "name": "stdout",
     "output_type": "stream",
     "text": [
      "example\n",
      "path_languoid\n",
      "stats\n"
     ]
    }
   ],
   "source": [
    "treedb.print_rows(treedb.backend.sqlite_master.select_views(),\n",
    "                  format_='{name}')"
   ]
  },
  {
   "cell_type": "code",
   "execution_count": 22,
   "metadata": {
    "tags": []
   },
   "outputs": [
    {
     "name": "stderr",
     "output_type": "stream",
     "text": [
      "BEGIN (implicit)\n",
      "SELECT sqlite_master.sql \n",
      "FROM sqlite_master \n",
      "WHERE sqlite_master.type = ? AND sqlite_master.name = ?\n",
      "[generated in 0.00109s] ('table', 'sqlite_master')\n",
      "SELECT count(*) AS n_rows \n",
      "FROM sqlite_master\n",
      "[generated in 0.00041s] ()\n",
      "ROLLBACK\n"
     ]
    },
    {
     "name": "stdout",
     "output_type": "stream",
     "text": [
      "None\n",
      "66\n"
     ]
    }
   ],
   "source": [
    "from treedb import print_table_sql as print_sql\n",
    "\n",
    "print_sql('sqlite_master')"
   ]
  },
  {
   "cell_type": "markdown",
   "metadata": {},
   "source": [
    "## print_dataset()"
   ]
  },
  {
   "cell_type": "code",
   "execution_count": 23,
   "metadata": {},
   "outputs": [
    {
     "name": "stderr",
     "output_type": "stream",
     "text": [
      "BEGIN (implicit)\n",
      "SELECT __dataset__.id, __dataset__.title, __dataset__.git_commit, __dataset__.git_describe, __dataset__.clean, __dataset__.version, __dataset__.exclude_raw \n",
      "FROM __dataset__\n",
      "[generated in 0.00089s] ()\n",
      "SELECT __producer__.id, __producer__.name, __producer__.version \n",
      "FROM __producer__\n",
      "[cached since 16.86s ago] ()\n",
      "ROLLBACK\n",
      "[INFO@treedb.backend.models] git describe 'v5.1' clean: True\n",
      "[INFO@treedb.backend.models] __dataset__.git_commit: '4ffdd9865810885b4675551040b93282b26dcf72'\n",
      "[INFO@treedb.backend.models] __dataset__.version: '5.1'\n",
      "[INFO@treedb.backend.models] __producer__.name: treedb\n",
      "[INFO@treedb.backend.models] __producer__.version: 2.6.4.dev0\n"
     ]
    },
    {
     "name": "stdout",
     "output_type": "stream",
     "text": [
      "git describe 'v5.1' clean: True\n",
      "__dataset__.title: 'Glottolog treedb''\n",
      "__dataset__.git_commit: '4ffdd9865810885b4675551040b93282b26dcf72'\n",
      "__dataset__.version: '5.1'\n",
      "__dataset__.exclude_raw: False\n",
      "__producer__.name: treedb\n",
      "__producer__.version: 2.6.4.dev0\n"
     ]
    }
   ],
   "source": [
    "treedb.print_dataset()"
   ]
  },
  {
   "cell_type": "markdown",
   "metadata": {},
   "source": [
    "## \\_\\_dataset\\_\\_"
   ]
  },
  {
   "cell_type": "code",
   "execution_count": 24,
   "metadata": {},
   "outputs": [
    {
     "name": "stderr",
     "output_type": "stream",
     "text": [
      "BEGIN (implicit)\n",
      "SELECT sqlite_master.sql \n",
      "FROM sqlite_master \n",
      "WHERE sqlite_master.type = ? AND sqlite_master.name = ?\n",
      "[cached since 0.01847s ago] ('table', '__dataset__')\n",
      "SELECT count(*) AS n_rows \n",
      "FROM __dataset__\n",
      "[generated in 0.00046s] ()\n",
      "ROLLBACK\n"
     ]
    },
    {
     "name": "stdout",
     "output_type": "stream",
     "text": [
      "CREATE TABLE __dataset__ (\n",
      "\tid INTEGER NOT NULL CHECK (id = 1), \n",
      "\ttitle TEXT NOT NULL CHECK (title != ''), \n",
      "\tgit_commit VARCHAR(40) NOT NULL CHECK (length(git_commit) = 40), \n",
      "\tgit_describe TEXT NOT NULL CHECK (git_describe != ''), \n",
      "\tclean BOOLEAN NOT NULL, \n",
      "\tversion TEXT CHECK (version != ''), \n",
      "\texclude_raw BOOLEAN NOT NULL, \n",
      "\tPRIMARY KEY (id), \n",
      "\tUNIQUE (git_commit), \n",
      "\tUNIQUE (git_describe), \n",
      "\tCHECK (clean IN (0, 1)), \n",
      "\tCHECK (exclude_raw IN (0, 1))\n",
      ")\n",
      "1\n"
     ]
    }
   ],
   "source": [
    "from treedb import Dataset\n",
    "\n",
    "print_sql(Dataset)"
   ]
  },
  {
   "cell_type": "code",
   "execution_count": 25,
   "metadata": {},
   "outputs": [
    {
     "name": "stderr",
     "output_type": "stream",
     "text": [
      "BEGIN (implicit)\n",
      "SELECT __dataset__.id, __dataset__.title, __dataset__.git_commit, __dataset__.git_describe, __dataset__.clean, __dataset__.version, __dataset__.exclude_raw \n",
      "FROM __dataset__\n",
      "[cached since 0.01801s ago] ()\n",
      "ROLLBACK\n"
     ]
    },
    {
     "data": {
      "text/html": [
       "<div>\n",
       "<style scoped>\n",
       "    .dataframe tbody tr th:only-of-type {\n",
       "        vertical-align: middle;\n",
       "    }\n",
       "\n",
       "    .dataframe tbody tr th {\n",
       "        vertical-align: top;\n",
       "    }\n",
       "\n",
       "    .dataframe thead th {\n",
       "        text-align: right;\n",
       "    }\n",
       "</style>\n",
       "<table border=\"1\" class=\"dataframe\">\n",
       "  <thead>\n",
       "    <tr style=\"text-align: right;\">\n",
       "      <th></th>\n",
       "      <th>__dataset__</th>\n",
       "    </tr>\n",
       "  </thead>\n",
       "  <tbody>\n",
       "    <tr>\n",
       "      <th>id</th>\n",
       "      <td>1</td>\n",
       "    </tr>\n",
       "    <tr>\n",
       "      <th>title</th>\n",
       "      <td>Glottolog treedb</td>\n",
       "    </tr>\n",
       "    <tr>\n",
       "      <th>git_commit</th>\n",
       "      <td>4ffdd9865810885b4675551040b93282b26dcf72</td>\n",
       "    </tr>\n",
       "    <tr>\n",
       "      <th>git_describe</th>\n",
       "      <td>v5.1</td>\n",
       "    </tr>\n",
       "    <tr>\n",
       "      <th>clean</th>\n",
       "      <td>True</td>\n",
       "    </tr>\n",
       "    <tr>\n",
       "      <th>version</th>\n",
       "      <td>5.1</td>\n",
       "    </tr>\n",
       "    <tr>\n",
       "      <th>exclude_raw</th>\n",
       "      <td>False</td>\n",
       "    </tr>\n",
       "  </tbody>\n",
       "</table>\n",
       "</div>"
      ],
      "text/plain": [
       "                                           __dataset__\n",
       "id                                                   1\n",
       "title                                 Glottolog treedb\n",
       "git_commit    4ffdd9865810885b4675551040b93282b26dcf72\n",
       "git_describe                                      v5.1\n",
       "clean                                             True\n",
       "version                                            5.1\n",
       "exclude_raw                                      False"
      ]
     },
     "execution_count": 25,
     "metadata": {},
     "output_type": "execute_result"
    }
   ],
   "source": [
    "dataset, = treedb.iterrows(sa.select(Dataset), mappings=True)\n",
    "\n",
    "pd.DataFrame.from_dict(dataset, orient='index',\n",
    "                       columns=['__dataset__'])"
   ]
  },
  {
   "cell_type": "markdown",
   "metadata": {},
   "source": [
    "## \\_\\_producer\\_\\_"
   ]
  },
  {
   "cell_type": "code",
   "execution_count": 26,
   "metadata": {},
   "outputs": [
    {
     "name": "stderr",
     "output_type": "stream",
     "text": [
      "BEGIN (implicit)\n",
      "SELECT sqlite_master.sql \n",
      "FROM sqlite_master \n",
      "WHERE sqlite_master.type = ? AND sqlite_master.name = ?\n",
      "[cached since 0.03491s ago] ('table', '__producer__')\n",
      "SELECT count(*) AS n_rows \n",
      "FROM __producer__\n",
      "[generated in 0.00042s] ()\n",
      "ROLLBACK\n"
     ]
    },
    {
     "name": "stdout",
     "output_type": "stream",
     "text": [
      "CREATE TABLE __producer__ (\n",
      "\tid INTEGER NOT NULL CHECK (id = 1), \n",
      "\tname TEXT NOT NULL CHECK (name != ''), \n",
      "\tversion TEXT NOT NULL CHECK (version != ''), \n",
      "\tPRIMARY KEY (id), \n",
      "\tUNIQUE (name)\n",
      ")\n",
      "1\n"
     ]
    }
   ],
   "source": [
    "from treedb import Producer\n",
    "\n",
    "print_sql(Producer)"
   ]
  },
  {
   "cell_type": "code",
   "execution_count": 27,
   "metadata": {},
   "outputs": [
    {
     "name": "stderr",
     "output_type": "stream",
     "text": [
      "BEGIN (implicit)\n",
      "SELECT __producer__.id, __producer__.name, __producer__.version \n",
      "FROM __producer__\n",
      "[cached since 16.89s ago] ()\n",
      "ROLLBACK\n"
     ]
    },
    {
     "data": {
      "text/html": [
       "<div>\n",
       "<style scoped>\n",
       "    .dataframe tbody tr th:only-of-type {\n",
       "        vertical-align: middle;\n",
       "    }\n",
       "\n",
       "    .dataframe tbody tr th {\n",
       "        vertical-align: top;\n",
       "    }\n",
       "\n",
       "    .dataframe thead th {\n",
       "        text-align: right;\n",
       "    }\n",
       "</style>\n",
       "<table border=\"1\" class=\"dataframe\">\n",
       "  <thead>\n",
       "    <tr style=\"text-align: right;\">\n",
       "      <th></th>\n",
       "      <th>__producer__</th>\n",
       "    </tr>\n",
       "  </thead>\n",
       "  <tbody>\n",
       "    <tr>\n",
       "      <th>id</th>\n",
       "      <td>1</td>\n",
       "    </tr>\n",
       "    <tr>\n",
       "      <th>name</th>\n",
       "      <td>treedb</td>\n",
       "    </tr>\n",
       "    <tr>\n",
       "      <th>version</th>\n",
       "      <td>2.6.4.dev0</td>\n",
       "    </tr>\n",
       "  </tbody>\n",
       "</table>\n",
       "</div>"
      ],
      "text/plain": [
       "        __producer__\n",
       "id                 1\n",
       "name          treedb\n",
       "version   2.6.4.dev0"
      ]
     },
     "execution_count": 27,
     "metadata": {},
     "output_type": "execute_result"
    }
   ],
   "source": [
    "producer, = treedb.iterrows(sa.select(Producer), mappings=True)\n",
    "\n",
    "pd.DataFrame.from_dict(producer, orient='index',\n",
    "                       columns=['__producer__'])"
   ]
  },
  {
   "cell_type": "markdown",
   "metadata": {},
   "source": [
    "## `treedb.raw`"
   ]
  },
  {
   "cell_type": "code",
   "execution_count": 28,
   "metadata": {},
   "outputs": [
    {
     "name": "stderr",
     "output_type": "stream",
     "text": [
      "BEGIN (implicit)\n",
      "SELECT sqlite_master.sql \n",
      "FROM sqlite_master \n",
      "WHERE sqlite_master.type = ? AND sqlite_master.name = ?\n",
      "[cached since 0.05074s ago] ('table', '_file')\n",
      "SELECT count(*) AS n_rows \n",
      "FROM _file\n",
      "[generated in 0.00039s] ()\n",
      "ROLLBACK\n"
     ]
    },
    {
     "name": "stdout",
     "output_type": "stream",
     "text": [
      "CREATE TABLE _file (\n",
      "\tid INTEGER NOT NULL, \n",
      "\tglottocode VARCHAR(8) NOT NULL CHECK (length(glottocode) = 8), \n",
      "\tpath TEXT NOT NULL CHECK (length(path) >= 8 AND (length(path) + 1) % 9 = 0), \n",
      "\tsize INTEGER NOT NULL CHECK (size > 0), \n",
      "\tsha256 VARCHAR(64) NOT NULL CHECK (length(sha256) = 64), \n",
      "\tPRIMARY KEY (id), \n",
      "\tCHECK (substr(path, -length(glottocode)) = glottocode), \n",
      "\tUNIQUE (glottocode), \n",
      "\tUNIQUE (path), \n",
      "\tUNIQUE (sha256)\n",
      ")\n",
      "26953\n"
     ]
    },
    {
     "name": "stderr",
     "output_type": "stream",
     "text": [
      "BEGIN (implicit)\n",
      "SELECT sqlite_master.sql \n",
      "FROM sqlite_master \n",
      "WHERE sqlite_master.type = ? AND sqlite_master.name = ?\n",
      "[cached since 0.05611s ago] ('table', '_option')\n",
      "SELECT count(*) AS n_rows \n",
      "FROM _option\n",
      "[generated in 0.00042s] ()\n",
      "ROLLBACK\n"
     ]
    },
    {
     "name": "stdout",
     "output_type": "stream",
     "text": [
      "CREATE TABLE _option (\n",
      "\tid INTEGER NOT NULL, \n",
      "\tsection TEXT NOT NULL CHECK (section != ''), \n",
      "\toption TEXT NOT NULL CHECK (option != ''), \n",
      "\tis_lines BOOLEAN, \n",
      "\tdefined BOOLEAN NOT NULL, \n",
      "\tdefined_any_options BOOLEAN NOT NULL, \n",
      "\tord_section INTEGER CHECK (ord_section >= 1), \n",
      "\tord_option INTEGER CHECK (ord_section >= 0), \n",
      "\tPRIMARY KEY (id), \n",
      "\tUNIQUE (section, option), \n",
      "\tCHECK ((is_lines IS NULL) = (defined = 0)), \n",
      "\tCHECK (defined = 1 OR defined_any_options = 0), \n",
      "\tCHECK ((defined = 0) = (ord_section IS NULL)), \n",
      "\tCHECK (ord_section IS NOT NULL OR ord_option IS NULL), \n",
      "\tCHECK (is_lines IN (0, 1)), \n",
      "\tCHECK (defined IN (0, 1)), \n",
      "\tCHECK (defined_any_options IN (0, 1))\n",
      ")\n",
      "53\n"
     ]
    },
    {
     "name": "stderr",
     "output_type": "stream",
     "text": [
      "BEGIN (implicit)\n",
      "SELECT sqlite_master.sql \n",
      "FROM sqlite_master \n",
      "WHERE sqlite_master.type = ? AND sqlite_master.name = ?\n",
      "[cached since 0.06037s ago] ('table', '_value')\n",
      "SELECT count(*) AS n_rows \n",
      "FROM _value\n",
      "[generated in 0.00046s] ()\n",
      "ROLLBACK\n"
     ]
    },
    {
     "name": "stdout",
     "output_type": "stream",
     "text": [
      "CREATE TABLE _value (\n",
      "\tfile_id INTEGER NOT NULL, \n",
      "\toption_id INTEGER NOT NULL, \n",
      "\tline INTEGER NOT NULL CHECK (line > 0), \n",
      "\tvalue TEXT NOT NULL CHECK (value != ''), \n",
      "\tPRIMARY KEY (file_id, option_id, line), \n",
      "\tUNIQUE (file_id, line), \n",
      "\tFOREIGN KEY(file_id) REFERENCES _file (id), \n",
      "\tFOREIGN KEY(option_id) REFERENCES _option (id)\n",
      ") WITHOUT ROWID\n",
      "660744\n"
     ]
    }
   ],
   "source": [
    "from treedb.raw import File, Option, Value\n",
    "\n",
    "for model in (File, Option, Value):\n",
    "    print_sql(model)"
   ]
  },
  {
   "cell_type": "code",
   "execution_count": 29,
   "metadata": {},
   "outputs": [
    {
     "name": "stderr",
     "output_type": "stream",
     "text": [
      "BEGIN (implicit)\n",
      "SELECT _file.id, _file.glottocode, _file.path, _file.size, _file.sha256 \n",
      "FROM _file\n",
      " LIMIT ? OFFSET ?\n",
      "[generated in 0.00090s] (5, 0)\n",
      "ROLLBACK\n"
     ]
    },
    {
     "data": {
      "text/html": [
       "<div>\n",
       "<style scoped>\n",
       "    .dataframe tbody tr th:only-of-type {\n",
       "        vertical-align: middle;\n",
       "    }\n",
       "\n",
       "    .dataframe tbody tr th {\n",
       "        vertical-align: top;\n",
       "    }\n",
       "\n",
       "    .dataframe thead th {\n",
       "        text-align: right;\n",
       "    }\n",
       "</style>\n",
       "<table border=\"1\" class=\"dataframe\">\n",
       "  <thead>\n",
       "    <tr style=\"text-align: right;\">\n",
       "      <th></th>\n",
       "      <th>glottocode</th>\n",
       "      <th>path</th>\n",
       "      <th>size</th>\n",
       "      <th>sha256</th>\n",
       "    </tr>\n",
       "    <tr>\n",
       "      <th>id</th>\n",
       "      <th></th>\n",
       "      <th></th>\n",
       "      <th></th>\n",
       "      <th></th>\n",
       "    </tr>\n",
       "  </thead>\n",
       "  <tbody>\n",
       "    <tr>\n",
       "      <th>1</th>\n",
       "      <td>abin1243</td>\n",
       "      <td>abin1243</td>\n",
       "      <td>1609</td>\n",
       "      <td>f9bfc07c0fa5c494f10120446ea774425e0228ff398041...</td>\n",
       "    </tr>\n",
       "    <tr>\n",
       "      <th>2</th>\n",
       "      <td>abis1238</td>\n",
       "      <td>abis1238</td>\n",
       "      <td>1980</td>\n",
       "      <td>74bfb186dac461a02c14c8222b9555c1565eb06c39c604...</td>\n",
       "    </tr>\n",
       "    <tr>\n",
       "      <th>3</th>\n",
       "      <td>abkh1242</td>\n",
       "      <td>abkh1242</td>\n",
       "      <td>306</td>\n",
       "      <td>5dd28ae1265a0967b1a236d06c7fd6e7ac3b9e32d866dd...</td>\n",
       "    </tr>\n",
       "    <tr>\n",
       "      <th>4</th>\n",
       "      <td>abkh1243</td>\n",
       "      <td>abkh1242/abkh1243</td>\n",
       "      <td>257</td>\n",
       "      <td>a5900355c69af22d94eaa0a147b95fc291270634bc033c...</td>\n",
       "    </tr>\n",
       "    <tr>\n",
       "      <th>5</th>\n",
       "      <td>abaz1241</td>\n",
       "      <td>abkh1242/abkh1243/abaz1241</td>\n",
       "      <td>2839</td>\n",
       "      <td>8ec3d57e891488e28613d8b7bdc03b004a4b9168313e0e...</td>\n",
       "    </tr>\n",
       "  </tbody>\n",
       "</table>\n",
       "</div>"
      ],
      "text/plain": [
       "   glottocode                        path  size  \\\n",
       "id                                                \n",
       "1    abin1243                    abin1243  1609   \n",
       "2    abis1238                    abis1238  1980   \n",
       "3    abkh1242                    abkh1242   306   \n",
       "4    abkh1243           abkh1242/abkh1243   257   \n",
       "5    abaz1241  abkh1242/abkh1243/abaz1241  2839   \n",
       "\n",
       "                                               sha256  \n",
       "id                                                     \n",
       "1   f9bfc07c0fa5c494f10120446ea774425e0228ff398041...  \n",
       "2   74bfb186dac461a02c14c8222b9555c1565eb06c39c604...  \n",
       "3   5dd28ae1265a0967b1a236d06c7fd6e7ac3b9e32d866dd...  \n",
       "4   a5900355c69af22d94eaa0a147b95fc291270634bc033c...  \n",
       "5   8ec3d57e891488e28613d8b7bdc03b004a4b9168313e0e...  "
      ]
     },
     "execution_count": 29,
     "metadata": {},
     "output_type": "execute_result"
    }
   ],
   "source": [
    "read_sql(sa.select(File).limit(5), index_col='id')"
   ]
  },
  {
   "cell_type": "code",
   "execution_count": 30,
   "metadata": {},
   "outputs": [
    {
     "name": "stderr",
     "output_type": "stream",
     "text": [
      "BEGIN (implicit)\n",
      "SELECT _option.id, _option.section, _option.option, _option.is_lines, _option.defined, _option.defined_any_options, _option.ord_section, _option.ord_option \n",
      "FROM _option\n",
      " LIMIT ? OFFSET ?\n",
      "[generated in 0.00084s] (5, 0)\n",
      "ROLLBACK\n"
     ]
    },
    {
     "data": {
      "text/html": [
       "<div>\n",
       "<style scoped>\n",
       "    .dataframe tbody tr th:only-of-type {\n",
       "        vertical-align: middle;\n",
       "    }\n",
       "\n",
       "    .dataframe tbody tr th {\n",
       "        vertical-align: top;\n",
       "    }\n",
       "\n",
       "    .dataframe thead th {\n",
       "        text-align: right;\n",
       "    }\n",
       "</style>\n",
       "<table border=\"1\" class=\"dataframe\">\n",
       "  <thead>\n",
       "    <tr style=\"text-align: right;\">\n",
       "      <th></th>\n",
       "      <th>section</th>\n",
       "      <th>option</th>\n",
       "      <th>is_lines</th>\n",
       "      <th>defined</th>\n",
       "      <th>defined_any_options</th>\n",
       "      <th>ord_section</th>\n",
       "      <th>ord_option</th>\n",
       "    </tr>\n",
       "    <tr>\n",
       "      <th>id</th>\n",
       "      <th></th>\n",
       "      <th></th>\n",
       "      <th></th>\n",
       "      <th></th>\n",
       "      <th></th>\n",
       "      <th></th>\n",
       "      <th></th>\n",
       "    </tr>\n",
       "  </thead>\n",
       "  <tbody>\n",
       "    <tr>\n",
       "      <th>1</th>\n",
       "      <td>core</td>\n",
       "      <td>name</td>\n",
       "      <td>False</td>\n",
       "      <td>True</td>\n",
       "      <td>False</td>\n",
       "      <td>1</td>\n",
       "      <td>1</td>\n",
       "    </tr>\n",
       "    <tr>\n",
       "      <th>2</th>\n",
       "      <td>core</td>\n",
       "      <td>hid</td>\n",
       "      <td>False</td>\n",
       "      <td>True</td>\n",
       "      <td>False</td>\n",
       "      <td>1</td>\n",
       "      <td>2</td>\n",
       "    </tr>\n",
       "    <tr>\n",
       "      <th>3</th>\n",
       "      <td>core</td>\n",
       "      <td>level</td>\n",
       "      <td>False</td>\n",
       "      <td>True</td>\n",
       "      <td>False</td>\n",
       "      <td>1</td>\n",
       "      <td>3</td>\n",
       "    </tr>\n",
       "    <tr>\n",
       "      <th>4</th>\n",
       "      <td>core</td>\n",
       "      <td>iso639-3</td>\n",
       "      <td>False</td>\n",
       "      <td>True</td>\n",
       "      <td>False</td>\n",
       "      <td>1</td>\n",
       "      <td>4</td>\n",
       "    </tr>\n",
       "    <tr>\n",
       "      <th>5</th>\n",
       "      <td>core</td>\n",
       "      <td>latitude</td>\n",
       "      <td>False</td>\n",
       "      <td>True</td>\n",
       "      <td>False</td>\n",
       "      <td>1</td>\n",
       "      <td>5</td>\n",
       "    </tr>\n",
       "  </tbody>\n",
       "</table>\n",
       "</div>"
      ],
      "text/plain": [
       "   section    option  is_lines  defined  defined_any_options  ord_section  \\\n",
       "id                                                                          \n",
       "1     core      name     False     True                False            1   \n",
       "2     core       hid     False     True                False            1   \n",
       "3     core     level     False     True                False            1   \n",
       "4     core  iso639-3     False     True                False            1   \n",
       "5     core  latitude     False     True                False            1   \n",
       "\n",
       "    ord_option  \n",
       "id              \n",
       "1            1  \n",
       "2            2  \n",
       "3            3  \n",
       "4            4  \n",
       "5            5  "
      ]
     },
     "execution_count": 30,
     "metadata": {},
     "output_type": "execute_result"
    }
   ],
   "source": [
    "read_sql(sa.select(Option).limit(5), index_col='id')"
   ]
  },
  {
   "cell_type": "code",
   "execution_count": 31,
   "metadata": {},
   "outputs": [
    {
     "name": "stderr",
     "output_type": "stream",
     "text": [
      "BEGIN (implicit)\n",
      "SELECT _value.file_id, _value.option_id, _value.line, _value.value \n",
      "FROM _value\n",
      " LIMIT ? OFFSET ?\n",
      "[generated in 0.00115s] (5, 0)\n",
      "ROLLBACK\n"
     ]
    },
    {
     "data": {
      "text/html": [
       "<div>\n",
       "<style scoped>\n",
       "    .dataframe tbody tr th:only-of-type {\n",
       "        vertical-align: middle;\n",
       "    }\n",
       "\n",
       "    .dataframe tbody tr th {\n",
       "        vertical-align: top;\n",
       "    }\n",
       "\n",
       "    .dataframe thead th {\n",
       "        text-align: right;\n",
       "    }\n",
       "</style>\n",
       "<table border=\"1\" class=\"dataframe\">\n",
       "  <thead>\n",
       "    <tr style=\"text-align: right;\">\n",
       "      <th></th>\n",
       "      <th></th>\n",
       "      <th>line</th>\n",
       "      <th>value</th>\n",
       "    </tr>\n",
       "    <tr>\n",
       "      <th>file_id</th>\n",
       "      <th>option_id</th>\n",
       "      <th></th>\n",
       "      <th></th>\n",
       "    </tr>\n",
       "  </thead>\n",
       "  <tbody>\n",
       "    <tr>\n",
       "      <th rowspan=\"5\" valign=\"top\">1</th>\n",
       "      <th>1</th>\n",
       "      <td>1</td>\n",
       "      <td>Abinomn</td>\n",
       "    </tr>\n",
       "    <tr>\n",
       "      <th>2</th>\n",
       "      <td>2</td>\n",
       "      <td>bsa</td>\n",
       "    </tr>\n",
       "    <tr>\n",
       "      <th>3</th>\n",
       "      <td>3</td>\n",
       "      <td>language</td>\n",
       "    </tr>\n",
       "    <tr>\n",
       "      <th>4</th>\n",
       "      <td>4</td>\n",
       "      <td>bsa</td>\n",
       "    </tr>\n",
       "    <tr>\n",
       "      <th>5</th>\n",
       "      <td>5</td>\n",
       "      <td>-2.92281</td>\n",
       "    </tr>\n",
       "  </tbody>\n",
       "</table>\n",
       "</div>"
      ],
      "text/plain": [
       "                   line     value\n",
       "file_id option_id                \n",
       "1       1             1   Abinomn\n",
       "        2             2       bsa\n",
       "        3             3  language\n",
       "        4             4       bsa\n",
       "        5             5  -2.92281"
      ]
     },
     "execution_count": 31,
     "metadata": {},
     "output_type": "execute_result"
    }
   ],
   "source": [
    "read_sql(sa.select(Value).limit(5), index_col=['file_id', 'option_id'])"
   ]
  },
  {
   "cell_type": "code",
   "execution_count": 32,
   "metadata": {},
   "outputs": [
    {
     "name": "stderr",
     "output_type": "stream",
     "text": [
      "BEGIN (implicit)\n",
      "SELECT _option.section, _option.option, _value.line, _value.value \n",
      "FROM _file JOIN _value ON _file.id = _value.file_id JOIN _option ON _option.id = _value.option_id \n",
      "WHERE _file.glottocode = ?\n",
      "[generated in 0.00081s] ('abin1243',)\n",
      "ROLLBACK\n"
     ]
    },
    {
     "data": {
      "text/html": [
       "<div>\n",
       "<style scoped>\n",
       "    .dataframe tbody tr th:only-of-type {\n",
       "        vertical-align: middle;\n",
       "    }\n",
       "\n",
       "    .dataframe tbody tr th {\n",
       "        vertical-align: top;\n",
       "    }\n",
       "\n",
       "    .dataframe thead th {\n",
       "        text-align: right;\n",
       "    }\n",
       "</style>\n",
       "<table border=\"1\" class=\"dataframe\">\n",
       "  <thead>\n",
       "    <tr style=\"text-align: right;\">\n",
       "      <th></th>\n",
       "      <th></th>\n",
       "      <th></th>\n",
       "      <th>value</th>\n",
       "    </tr>\n",
       "    <tr>\n",
       "      <th>section</th>\n",
       "      <th>option</th>\n",
       "      <th>line</th>\n",
       "      <th></th>\n",
       "    </tr>\n",
       "  </thead>\n",
       "  <tbody>\n",
       "    <tr>\n",
       "      <th rowspan=\"11\" valign=\"top\">core</th>\n",
       "      <th>name</th>\n",
       "      <th>1</th>\n",
       "      <td>Abinomn</td>\n",
       "    </tr>\n",
       "    <tr>\n",
       "      <th>hid</th>\n",
       "      <th>2</th>\n",
       "      <td>bsa</td>\n",
       "    </tr>\n",
       "    <tr>\n",
       "      <th>level</th>\n",
       "      <th>3</th>\n",
       "      <td>language</td>\n",
       "    </tr>\n",
       "    <tr>\n",
       "      <th>iso639-3</th>\n",
       "      <th>4</th>\n",
       "      <td>bsa</td>\n",
       "    </tr>\n",
       "    <tr>\n",
       "      <th>latitude</th>\n",
       "      <th>5</th>\n",
       "      <td>-2.92281</td>\n",
       "    </tr>\n",
       "    <tr>\n",
       "      <th>longitude</th>\n",
       "      <th>6</th>\n",
       "      <td>138.891</td>\n",
       "    </tr>\n",
       "    <tr>\n",
       "      <th>macroareas</th>\n",
       "      <th>7</th>\n",
       "      <td>Papunesia</td>\n",
       "    </tr>\n",
       "    <tr>\n",
       "      <th>countries</th>\n",
       "      <th>8</th>\n",
       "      <td>ID</td>\n",
       "    </tr>\n",
       "    <tr>\n",
       "      <th rowspan=\"3\" valign=\"top\">links</th>\n",
       "      <th>9</th>\n",
       "      <td>[Abinomn](https://endangeredlanguages.com/lang...</td>\n",
       "    </tr>\n",
       "    <tr>\n",
       "      <th>10</th>\n",
       "      <td>https://en.wikipedia.org/wiki/Abinomn_language</td>\n",
       "    </tr>\n",
       "    <tr>\n",
       "      <th>11</th>\n",
       "      <td>https://www.wikidata.org/entity/Q56648</td>\n",
       "    </tr>\n",
       "    <tr>\n",
       "      <th rowspan=\"9\" valign=\"top\">sources</th>\n",
       "      <th rowspan=\"9\" valign=\"top\">glottolog</th>\n",
       "      <th>12</th>\n",
       "      <td>**cldf:hammarstroem:17**</td>\n",
       "    </tr>\n",
       "    <tr>\n",
       "      <th>13</th>\n",
       "      <td>**cldf:lewis:ed:09**</td>\n",
       "    </tr>\n",
       "    <tr>\n",
       "      <th>14</th>\n",
       "      <td>**cldf:np:nd:264**</td>\n",
       "    </tr>\n",
       "    <tr>\n",
       "      <th>15</th>\n",
       "      <td>**hh:e:Lagerberg:Moegip**</td>\n",
       "    </tr>\n",
       "    <tr>\n",
       "      <th>16</th>\n",
       "      <td>**hh:h:SilzerClouse:Index**</td>\n",
       "    </tr>\n",
       "    <tr>\n",
       "      <th>17</th>\n",
       "      <td>**hh:h:SilzerHeikkinen:Irian**</td>\n",
       "    </tr>\n",
       "    <tr>\n",
       "      <th>18</th>\n",
       "      <td>**hh:hv:Foley:Northwest-New-Guinea**</td>\n",
       "    </tr>\n",
       "    <tr>\n",
       "      <th>19</th>\n",
       "      <td>**hh:hvtyp:DonohueMusgrave:Melanesia**</td>\n",
       "    </tr>\n",
       "    <tr>\n",
       "      <th>20</th>\n",
       "      <td>**hh:w:Fiwei:Abinomn**</td>\n",
       "    </tr>\n",
       "    <tr>\n",
       "      <th rowspan=\"16\" valign=\"top\">altnames</th>\n",
       "      <th rowspan=\"5\" valign=\"top\">multitree</th>\n",
       "      <th>21</th>\n",
       "      <td>\"Baso\"</td>\n",
       "    </tr>\n",
       "    <tr>\n",
       "      <th>22</th>\n",
       "      <td>Abinomn</td>\n",
       "    </tr>\n",
       "    <tr>\n",
       "      <th>23</th>\n",
       "      <td>Avinomen</td>\n",
       "    </tr>\n",
       "    <tr>\n",
       "      <th>24</th>\n",
       "      <td>Foja</td>\n",
       "    </tr>\n",
       "    <tr>\n",
       "      <th>25</th>\n",
       "      <td>Foya</td>\n",
       "    </tr>\n",
       "    <tr>\n",
       "      <th rowspan=\"5\" valign=\"top\">lexvo</th>\n",
       "      <th>26</th>\n",
       "      <td>Abinomn [en]</td>\n",
       "    </tr>\n",
       "    <tr>\n",
       "      <th>27</th>\n",
       "      <td>Abinomn language [en]</td>\n",
       "    </tr>\n",
       "    <tr>\n",
       "      <th>28</th>\n",
       "      <td>Abinomneg [br]</td>\n",
       "    </tr>\n",
       "    <tr>\n",
       "      <th>29</th>\n",
       "      <td>Lingua abinomn [gl]</td>\n",
       "    </tr>\n",
       "    <tr>\n",
       "      <th>30</th>\n",
       "      <td>Llingua Abinomn [ast]</td>\n",
       "    </tr>\n",
       "    <tr>\n",
       "      <th>hhbib_lgcode</th>\n",
       "      <th>31</th>\n",
       "      <td>Baso</td>\n",
       "    </tr>\n",
       "    <tr>\n",
       "      <th rowspan=\"5\" valign=\"top\">elcat</th>\n",
       "      <th>32</th>\n",
       "      <td>\"Baso\"</td>\n",
       "    </tr>\n",
       "    <tr>\n",
       "      <th>33</th>\n",
       "      <td>Abinomn</td>\n",
       "    </tr>\n",
       "    <tr>\n",
       "      <th>34</th>\n",
       "      <td>Avinomen</td>\n",
       "    </tr>\n",
       "    <tr>\n",
       "      <th>35</th>\n",
       "      <td>Foja</td>\n",
       "    </tr>\n",
       "    <tr>\n",
       "      <th>36</th>\n",
       "      <td>Foya</td>\n",
       "    </tr>\n",
       "    <tr>\n",
       "      <th rowspan=\"2\" valign=\"top\">triggers</th>\n",
       "      <th rowspan=\"2\" valign=\"top\">lgcode</th>\n",
       "      <th>37</th>\n",
       "      <td>macrohistory</td>\n",
       "    </tr>\n",
       "    <tr>\n",
       "      <th>38</th>\n",
       "      <td>moegip</td>\n",
       "    </tr>\n",
       "    <tr>\n",
       "      <th rowspan=\"2\" valign=\"top\">identifier</th>\n",
       "      <th>multitree</th>\n",
       "      <th>39</th>\n",
       "      <td>bsa</td>\n",
       "    </tr>\n",
       "    <tr>\n",
       "      <th>endangeredlanguages</th>\n",
       "      <th>40</th>\n",
       "      <td>1763</td>\n",
       "    </tr>\n",
       "    <tr>\n",
       "      <th rowspan=\"2\" valign=\"top\">classification</th>\n",
       "      <th rowspan=\"2\" valign=\"top\">familyrefs</th>\n",
       "      <th>41</th>\n",
       "      <td>**hh:h:SilzerClouse:Index**</td>\n",
       "    </tr>\n",
       "    <tr>\n",
       "      <th>42</th>\n",
       "      <td>**hh:hvtyp:DonohueMusgrave:Melanesia**</td>\n",
       "    </tr>\n",
       "    <tr>\n",
       "      <th rowspan=\"4\" valign=\"top\">endangerment</th>\n",
       "      <th>status</th>\n",
       "      <th>43</th>\n",
       "      <td>nearly extinct</td>\n",
       "    </tr>\n",
       "    <tr>\n",
       "      <th>source</th>\n",
       "      <th>44</th>\n",
       "      <td>ElCat</td>\n",
       "    </tr>\n",
       "    <tr>\n",
       "      <th>date</th>\n",
       "      <th>45</th>\n",
       "      <td>2023-07-06T16:07:13</td>\n",
       "    </tr>\n",
       "    <tr>\n",
       "      <th>comment</th>\n",
       "      <th>46</th>\n",
       "      <td>Abinomn (1763-bsa) = Critically Endangered (40...</td>\n",
       "    </tr>\n",
       "  </tbody>\n",
       "</table>\n",
       "</div>"
      ],
      "text/plain": [
       "                                                                                     value\n",
       "section        option              line                                                   \n",
       "core           name                1                                               Abinomn\n",
       "               hid                 2                                                   bsa\n",
       "               level               3                                              language\n",
       "               iso639-3            4                                                   bsa\n",
       "               latitude            5                                              -2.92281\n",
       "               longitude           6                                               138.891\n",
       "               macroareas          7                                             Papunesia\n",
       "               countries           8                                                    ID\n",
       "               links               9     [Abinomn](https://endangeredlanguages.com/lang...\n",
       "                                   10       https://en.wikipedia.org/wiki/Abinomn_language\n",
       "                                   11               https://www.wikidata.org/entity/Q56648\n",
       "sources        glottolog           12                             **cldf:hammarstroem:17**\n",
       "                                   13                                 **cldf:lewis:ed:09**\n",
       "                                   14                                   **cldf:np:nd:264**\n",
       "                                   15                            **hh:e:Lagerberg:Moegip**\n",
       "                                   16                          **hh:h:SilzerClouse:Index**\n",
       "                                   17                       **hh:h:SilzerHeikkinen:Irian**\n",
       "                                   18                 **hh:hv:Foley:Northwest-New-Guinea**\n",
       "                                   19               **hh:hvtyp:DonohueMusgrave:Melanesia**\n",
       "                                   20                               **hh:w:Fiwei:Abinomn**\n",
       "altnames       multitree           21                                               \"Baso\"\n",
       "                                   22                                              Abinomn\n",
       "                                   23                                             Avinomen\n",
       "                                   24                                                 Foja\n",
       "                                   25                                                 Foya\n",
       "               lexvo               26                                         Abinomn [en]\n",
       "                                   27                                Abinomn language [en]\n",
       "                                   28                                       Abinomneg [br]\n",
       "                                   29                                  Lingua abinomn [gl]\n",
       "                                   30                                Llingua Abinomn [ast]\n",
       "               hhbib_lgcode        31                                                 Baso\n",
       "               elcat               32                                               \"Baso\"\n",
       "                                   33                                              Abinomn\n",
       "                                   34                                             Avinomen\n",
       "                                   35                                                 Foja\n",
       "                                   36                                                 Foya\n",
       "triggers       lgcode              37                                         macrohistory\n",
       "                                   38                                               moegip\n",
       "identifier     multitree           39                                                  bsa\n",
       "               endangeredlanguages 40                                                 1763\n",
       "classification familyrefs          41                          **hh:h:SilzerClouse:Index**\n",
       "                                   42               **hh:hvtyp:DonohueMusgrave:Melanesia**\n",
       "endangerment   status              43                                       nearly extinct\n",
       "               source              44                                                ElCat\n",
       "               date                45                                  2023-07-06T16:07:13\n",
       "               comment             46    Abinomn (1763-bsa) = Critically Endangered (40..."
      ]
     },
     "execution_count": 32,
     "metadata": {},
     "output_type": "execute_result"
    }
   ],
   "source": [
    "select_file_values = (sa.select(Option.section, Option.option, Value.line, Value.value)\n",
    "                      .select_from(File)\n",
    "                      .filter_by(glottocode=sa.bindparam('glottocode'))\n",
    "                      .join(Value).join(Option))\n",
    "\n",
    "read_sql(select_file_values, params={'glottocode': 'abin1243'},\n",
    "         index_col=['section', 'option', 'line'])"
   ]
  },
  {
   "cell_type": "code",
   "execution_count": 33,
   "metadata": {},
   "outputs": [
    {
     "name": "stderr",
     "output_type": "stream",
     "text": [
      "BEGIN (implicit)\n",
      "SELECT floor((length(_file.path) + ?) / (? + 0.0)) AS path_depth, languoid.level, count(*) AS n_files \n",
      "FROM _file JOIN languoid ON _file.glottocode = languoid.id GROUP BY floor((length(_file.path) + ?) / (? + 0.0)), languoid.level ORDER BY path_depth, languoid.level\n",
      "[generated in 0.00105s] (1, 9, 1, 9)\n",
      "ROLLBACK\n"
     ]
    },
    {
     "data": {
      "image/png": "[encoded data removed]",
      "text/plain": [
       "<Figure size 864x216 with 1 Axes>"
      ]
     },
     "metadata": {},
     "output_type": "display_data"
    },
    {
     "data": {
      "image/png": "[encoded data removed]",
      "text/plain": [
       "<Figure size 864x216 with 1 Axes>"
      ]
     },
     "metadata": {},
     "output_type": "display_data"
    }
   ],
   "source": [
    "path_depth = File.path_depth()\n",
    "\n",
    "select_path_depths = (sa.select(path_depth,\n",
    "                                treedb.Languoid.level, sa.func.count().label('n_files'))\n",
    "                      .join_from(File, treedb.Languoid, File.glottocode == treedb.Languoid.id)\n",
    "                      .group_by(path_depth, treedb.Languoid.level)\n",
    "                      .order_by('path_depth', 'level'))\n",
    "\n",
    "_ = (read_sql(select_path_depths, index_col=['path_depth', 'level'])\n",
    "     .unstack(fill_value=0).droplevel(0, axis='columns')[list(treedb.LEVEL)])\n",
    "\n",
    "_.plot.bar(stacked=True, figsize=(12 * 72 / 100, 3 * 72 / 100))\n",
    "\n",
    "(100 * _.div(_.sum(axis='columns'), axis='rows')).plot.bar(stacked=True, figsize=(12 * 72 / 100, 3 * 72 / 100));"
   ]
  },
  {
   "cell_type": "code",
   "execution_count": 34,
   "metadata": {},
   "outputs": [
    {
     "name": "stderr",
     "output_type": "stream",
     "text": [
      "BEGIN (implicit)\n",
      "SELECT _file.size AS file_size, count(*) AS n_files \n",
      "FROM _file GROUP BY _file.size ORDER BY file_size\n",
      "[generated in 0.00071s] ()\n",
      "ROLLBACK\n"
     ]
    },
    {
     "data": {
      "text/html": [
       "<div>\n",
       "<style scoped>\n",
       "    .dataframe tbody tr th:only-of-type {\n",
       "        vertical-align: middle;\n",
       "    }\n",
       "\n",
       "    .dataframe tbody tr th {\n",
       "        vertical-align: top;\n",
       "    }\n",
       "\n",
       "    .dataframe thead th {\n",
       "        text-align: right;\n",
       "    }\n",
       "</style>\n",
       "<table border=\"1\" class=\"dataframe\">\n",
       "  <thead>\n",
       "    <tr style=\"text-align: right;\">\n",
       "      <th></th>\n",
       "      <th>count</th>\n",
       "      <th>min</th>\n",
       "      <th>max</th>\n",
       "    </tr>\n",
       "  </thead>\n",
       "  <tbody>\n",
       "    <tr>\n",
       "      <th>file_size</th>\n",
       "      <td>3524.0</td>\n",
       "      <td>65.0</td>\n",
       "      <td>47211.0</td>\n",
       "    </tr>\n",
       "  </tbody>\n",
       "</table>\n",
       "</div>"
      ],
      "text/plain": [
       "            count   min      max\n",
       "file_size  3524.0  65.0  47211.0"
      ]
     },
     "execution_count": 34,
     "metadata": {},
     "output_type": "execute_result"
    },
    {
     "data": {
      "image/png": "[encoded data removed]",
      "text/plain": [
       "<Figure size 864x216 with 1 Axes>"
      ]
     },
     "metadata": {},
     "output_type": "display_data"
    }
   ],
   "source": [
    "file_size = File.size.label('file_size')\n",
    "\n",
    "select_file_sizes = (sa.select(file_size, sa.func.count().label('n_files'))\n",
    "                     .group_by(file_size)\n",
    "                     .order_by('file_size'))\n",
    "\n",
    "_ = read_sql(select_file_sizes, index_col='file_size')\n",
    "\n",
    "(_.plot.area(figsize=(12 * 72 / 100, 3 * 72 / 100), logx=True)\n",
    " .xaxis.set_major_formatter(mpl.ticker.ScalarFormatter()))\n",
    "(_.index.to_series().describe()\n",
    " .to_frame().transpose()[['count', 'min', 'max']])"
   ]
  },
  {
   "cell_type": "code",
   "execution_count": 35,
   "metadata": {},
   "outputs": [
    {
     "name": "stderr",
     "output_type": "stream",
     "text": [
      "BEGIN (implicit)\n",
      "SELECT file_nvalues.n_values, count(*) AS n_files \n",
      "FROM (SELECT _file.glottocode AS glottocode, count(DISTINCT _value.option_id) AS n_values \n",
      "FROM _file JOIN _value ON _file.id = _value.file_id GROUP BY _file.glottocode) AS file_nvalues GROUP BY file_nvalues.n_values ORDER BY file_nvalues.n_values\n",
      "[generated in 0.00094s] ()\n",
      "ROLLBACK\n"
     ]
    },
    {
     "data": {
      "text/html": [
       "<div>\n",
       "<style scoped>\n",
       "    .dataframe tbody tr th:only-of-type {\n",
       "        vertical-align: middle;\n",
       "    }\n",
       "\n",
       "    .dataframe tbody tr th {\n",
       "        vertical-align: top;\n",
       "    }\n",
       "\n",
       "    .dataframe thead th {\n",
       "        text-align: right;\n",
       "    }\n",
       "</style>\n",
       "<table border=\"1\" class=\"dataframe\">\n",
       "  <thead>\n",
       "    <tr style=\"text-align: right;\">\n",
       "      <th></th>\n",
       "      <th>count</th>\n",
       "      <th>min</th>\n",
       "      <th>max</th>\n",
       "    </tr>\n",
       "  </thead>\n",
       "  <tbody>\n",
       "    <tr>\n",
       "      <th>n_values</th>\n",
       "      <td>36.0</td>\n",
       "      <td>2.0</td>\n",
       "      <td>37.0</td>\n",
       "    </tr>\n",
       "  </tbody>\n",
       "</table>\n",
       "</div>"
      ],
      "text/plain": [
       "          count  min   max\n",
       "n_values   36.0  2.0  37.0"
      ]
     },
     "execution_count": 35,
     "metadata": {},
     "output_type": "execute_result"
    },
    {
     "data": {
      "image/png": "[encoded data removed]",
      "text/plain": [
       "<Figure size 864x216 with 1 Axes>"
      ]
     },
     "metadata": {},
     "output_type": "display_data"
    }
   ],
   "source": [
    "file_nvalues = (sa.select(File.glottocode,\n",
    "                          sa.func.count(Value.option_id.distinct()).label('n_values'))\n",
    "                .join_from(File, Value)\n",
    "                .group_by(File.glottocode)\n",
    "                .alias('file_nvalues')\n",
    "                .c.n_values)\n",
    "\n",
    "select_nvalues = (sa.select(file_nvalues, sa.func.count().label('n_files'))\n",
    "                  .group_by(file_nvalues)\n",
    "                  .order_by(file_nvalues))\n",
    "\n",
    "_ = read_sql(select_nvalues, index_col='n_values')\n",
    "\n",
    "_.plot.bar(figsize=(12 * 72 / 100, 3 * 72 / 100))\n",
    "(_.index.to_series().describe()\n",
    " .to_frame().transpose()[['count', 'min', 'max']])"
   ]
  },
  {
   "cell_type": "code",
   "execution_count": 36,
   "metadata": {},
   "outputs": [
    {
     "name": "stderr",
     "output_type": "stream",
     "text": [
      "BEGIN (implicit)\n",
      "SELECT length(_value.value) AS value_length, count(*) AS n_values \n",
      "FROM _value GROUP BY length(_value.value) ORDER BY value_length\n",
      "[generated in 0.00094s] ()\n",
      "ROLLBACK\n"
     ]
    },
    {
     "data": {
      "text/html": [
       "<div>\n",
       "<style scoped>\n",
       "    .dataframe tbody tr th:only-of-type {\n",
       "        vertical-align: middle;\n",
       "    }\n",
       "\n",
       "    .dataframe tbody tr th {\n",
       "        vertical-align: top;\n",
       "    }\n",
       "\n",
       "    .dataframe thead th {\n",
       "        text-align: right;\n",
       "    }\n",
       "</style>\n",
       "<table border=\"1\" class=\"dataframe\">\n",
       "  <thead>\n",
       "    <tr style=\"text-align: right;\">\n",
       "      <th></th>\n",
       "      <th>count</th>\n",
       "      <th>min</th>\n",
       "      <th>max</th>\n",
       "    </tr>\n",
       "  </thead>\n",
       "  <tbody>\n",
       "    <tr>\n",
       "      <th>value_length</th>\n",
       "      <td>814.0</td>\n",
       "      <td>1.0</td>\n",
       "      <td>6215.0</td>\n",
       "    </tr>\n",
       "  </tbody>\n",
       "</table>\n",
       "</div>"
      ],
      "text/plain": [
       "              count  min     max\n",
       "value_length  814.0  1.0  6215.0"
      ]
     },
     "execution_count": 36,
     "metadata": {},
     "output_type": "execute_result"
    },
    {
     "data": {
      "image/png": "[encoded data removed]",
      "text/plain": [
       "<Figure size 864x216 with 1 Axes>"
      ]
     },
     "metadata": {},
     "output_type": "display_data"
    }
   ],
   "source": [
    "value_length = sa.func.length(Value.value).label('value_length')\n",
    "\n",
    "select_value_length = (sa.select(value_length, sa.func.count().label('n_values'))\n",
    "                       .group_by(value_length)\n",
    "                       .order_by('value_length'))\n",
    "\n",
    "_ = read_sql(select_value_length, index_col='value_length')\n",
    "\n",
    "(_.plot.area(figsize=(12 * 72 / 100, 3 * 72 / 100), logx=True)\n",
    " .xaxis.set_major_formatter(mpl.ticker.ScalarFormatter()))\n",
    "(_.index.to_series().describe()\n",
    " .to_frame().transpose()[['count', 'min', 'max']])"
   ]
  },
  {
   "cell_type": "code",
   "execution_count": 37,
   "metadata": {},
   "outputs": [
    {
     "name": "stderr",
     "output_type": "stream",
     "text": [
      "[INFO@treedb.raw.export] fetch statistics\n",
      "BEGIN (implicit)\n",
      "SELECT _option.section, _option.option, count(*) AS n \n",
      "FROM _option JOIN _value ON _option.id = _value.option_id GROUP BY _option.section, _option.option ORDER BY _option.defined DESC, _option.ord_section, _option.ord_option, _option.section, n DESC, _option.option\n",
      "[generated in 0.00092s] ()\n",
      "ROLLBACK\n"
     ]
    },
    {
     "name": "stdout",
     "output_type": "stream",
     "text": [
      "core                   name                   26,953\n",
      "core                   hid                    8,922\n",
      "core                   level                  26,953\n",
      "core                   iso639-3               8,167\n",
      "core                   latitude               8,907\n",
      "core                   longitude              8,907\n",
      "core                   macroareas             22,127\n",
      "core                   countries              11,912\n",
      "core                   name_comment           14\n",
      "core                   comment                1\n",
      "core                   location               1\n",
      "core                   name_pronunciation     1\n",
      "core                   speakers               1\n",
      "core                   links                  32,870\n",
      "core                   timespan               1,058\n",
      "sources                glottolog              220,672\n",
      "altnames               multitree              54,469\n",
      "altnames               hhbib_lgcode           40,639\n",
      "altnames               lexvo                  26,035\n",
      "altnames               elcat                  23,792\n",
      "altnames               aiatsis                5,123\n",
      "altnames               wals                   2,441\n",
      "altnames               wals other             2,097\n",
      "altnames               moseley & asher (1994) 2,088\n",
      "altnames               glottolog              2,079\n",
      "altnames               ruhlen (1987)          2,007\n",
      "altnames               ethnologue             3\n",
      "triggers               lgcode                 29,953\n",
      "triggers               inlg                   187\n",
      "identifier             multitree              14,823\n",
      "identifier             endangeredlanguages    3,596\n",
      "identifier             wals                   2,618\n",
      "identifier             languagelandscape      333\n",
      "classification         sub                    12,309\n",
      "classification         subrefs                18,581\n",
      "classification         family                 186\n",
      "classification         familyrefs             698\n",
      "endangerment           status                 8,557\n",
      "endangerment           source                 8,557\n",
      "endangerment           date                   8,557\n",
      "endangerment           comment                8,557\n",
      "hh_ethnologue_comment  isohid                 534\n",
      "hh_ethnologue_comment  comment_type           534\n",
      "hh_ethnologue_comment  ethnologue_versions    534\n",
      "hh_ethnologue_comment  comment                534\n",
      "iso_retirement         code                   369\n",
      "iso_retirement         name                   369\n",
      "iso_retirement         change_request         360\n",
      "iso_retirement         effective              369\n",
      "iso_retirement         reason                 369\n",
      "iso_retirement         change_to              453\n",
      "iso_retirement         remedy                 336\n",
      "iso_retirement         comment                232\n",
      "CPU times: total: 1.56 s\n",
      "Wall time: 1.57 s\n"
     ]
    }
   ],
   "source": [
    "%time treedb.raw.print_stats()"
   ]
  },
  {
   "cell_type": "markdown",
   "metadata": {},
   "source": [
    "## languoid"
   ]
  },
  {
   "cell_type": "code",
   "execution_count": 38,
   "metadata": {},
   "outputs": [
    {
     "name": "stderr",
     "output_type": "stream",
     "text": [
      "BEGIN (implicit)\n",
      "SELECT sqlite_master.sql \n",
      "FROM sqlite_master \n",
      "WHERE sqlite_master.type = ? AND sqlite_master.name = ?\n",
      "[cached since 3.322s ago] ('table', 'languoid')\n",
      "SELECT count(*) AS n_rows \n",
      "FROM languoid\n",
      "[generated in 0.00054s] ()\n",
      "ROLLBACK\n"
     ]
    },
    {
     "name": "stdout",
     "output_type": "stream",
     "text": [
      "CREATE TABLE languoid (\n",
      "\tid VARCHAR(8) NOT NULL CHECK (length(id) = 8), \n",
      "\tname VARCHAR NOT NULL CHECK (name != ''), \n",
      "\tlevel VARCHAR NOT NULL, \n",
      "\tparent_id VARCHAR(8), \n",
      "\thid TEXT CHECK (length(hid) >= 3), \n",
      "\tiso639_3 VARCHAR(3) CHECK (length(iso639_3) = 3), \n",
      "\tlatitude FLOAT CHECK (latitude BETWEEN -90 AND 90), \n",
      "\tlongitude FLOAT CHECK (longitude BETWEEN -180 AND 180), \n",
      "\tPRIMARY KEY (id), \n",
      "\tCHECK ((latitude IS NULL) = (longitude IS NULL)), \n",
      "\tUNIQUE (name), \n",
      "\tFOREIGN KEY(level) REFERENCES languoidlevel (name), \n",
      "\tFOREIGN KEY(parent_id) REFERENCES languoid (id) DEFERRABLE INITIALLY DEFERRED, \n",
      "\tUNIQUE (hid), \n",
      "\tUNIQUE (iso639_3)\n",
      ") WITHOUT ROWID\n",
      "26953\n"
     ]
    }
   ],
   "source": [
    "from treedb import Languoid\n",
    "\n",
    "print_sql(Languoid)"
   ]
  },
  {
   "cell_type": "code",
   "execution_count": 39,
   "metadata": {},
   "outputs": [
    {
     "name": "stderr",
     "output_type": "stream",
     "text": [
      "BEGIN (implicit)\n",
      "SELECT sqlite_master.sql \n",
      "FROM sqlite_master \n",
      "WHERE sqlite_master.type = ? AND sqlite_master.name = ?\n",
      "[cached since 3.336s ago] ('table', 'languoidlevel')\n",
      "SELECT count(*) AS n_rows \n",
      "FROM languoidlevel\n",
      "[generated in 0.00036s] ()\n",
      "ROLLBACK\n"
     ]
    },
    {
     "name": "stdout",
     "output_type": "stream",
     "text": [
      "CREATE TABLE languoidlevel (\n",
      "\tname VARCHAR NOT NULL CHECK (name != ''), \n",
      "\tdescription TEXT NOT NULL CHECK (description != ''), \n",
      "\tordinal INTEGER NOT NULL CHECK (ordinal >= 1), \n",
      "\tPRIMARY KEY (name)\n",
      ") WITHOUT ROWID\n",
      "3\n"
     ]
    },
    {
     "name": "stderr",
     "output_type": "stream",
     "text": [
      "BEGIN (implicit)\n",
      "SELECT languoidlevel.name, languoidlevel.description, languoidlevel.ordinal \n",
      "FROM languoidlevel ORDER BY languoidlevel.ordinal\n",
      "[generated in 0.00077s] ()\n",
      "ROLLBACK\n"
     ]
    },
    {
     "data": {
      "text/html": [
       "<div>\n",
       "<style scoped>\n",
       "    .dataframe tbody tr th:only-of-type {\n",
       "        vertical-align: middle;\n",
       "    }\n",
       "\n",
       "    .dataframe tbody tr th {\n",
       "        vertical-align: top;\n",
       "    }\n",
       "\n",
       "    .dataframe thead th {\n",
       "        text-align: right;\n",
       "    }\n",
       "</style>\n",
       "<table border=\"1\" class=\"dataframe\">\n",
       "  <thead>\n",
       "    <tr style=\"text-align: right;\">\n",
       "      <th></th>\n",
       "      <th>description</th>\n",
       "      <th>ordinal</th>\n",
       "    </tr>\n",
       "    <tr>\n",
       "      <th>name</th>\n",
       "      <th></th>\n",
       "      <th></th>\n",
       "    </tr>\n",
       "  </thead>\n",
       "  <tbody>\n",
       "    <tr>\n",
       "      <th>family</th>\n",
       "      <td>sub-grouping of languoids above the language l...</td>\n",
       "      <td>1</td>\n",
       "    </tr>\n",
       "    <tr>\n",
       "      <th>language</th>\n",
       "      <td>defined by mutual non-intellegibility</td>\n",
       "      <td>2</td>\n",
       "    </tr>\n",
       "    <tr>\n",
       "      <th>dialect</th>\n",
       "      <td>any variety which is not a language</td>\n",
       "      <td>3</td>\n",
       "    </tr>\n",
       "  </tbody>\n",
       "</table>\n",
       "</div>"
      ],
      "text/plain": [
       "                                                description  ordinal\n",
       "name                                                                \n",
       "family    sub-grouping of languoids above the language l...        1\n",
       "language              defined by mutual non-intellegibility        2\n",
       "dialect                 any variety which is not a language        3"
      ]
     },
     "execution_count": 39,
     "metadata": {},
     "output_type": "execute_result"
    }
   ],
   "source": [
    "from treedb import LEVEL\n",
    "from treedb.models import LanguoidLevel\n",
    "\n",
    "FAMILY, LANGUAGE, DIALECT = LEVEL\n",
    "\n",
    "print_sql(LanguoidLevel)\n",
    "read_sql(sa.select(LanguoidLevel).order_by('ordinal'), index_col='name')"
   ]
  },
  {
   "cell_type": "code",
   "execution_count": 40,
   "metadata": {},
   "outputs": [
    {
     "name": "stderr",
     "output_type": "stream",
     "text": [
      "BEGIN (implicit)\n",
      "SELECT sqlite_master.sql \n",
      "FROM sqlite_master \n",
      "WHERE sqlite_master.type = ? AND sqlite_master.name = ?\n",
      "[cached since 3.349s ago] ('table', 'pseudofamily')\n",
      "SELECT count(*) AS n_rows \n",
      "FROM pseudofamily\n",
      "[generated in 0.00043s] ()\n",
      "ROLLBACK\n"
     ]
    },
    {
     "name": "stdout",
     "output_type": "stream",
     "text": [
      "CREATE TABLE pseudofamily (\n",
      "\tlanguoid_id VARCHAR(8) NOT NULL, \n",
      "\tname VARCHAR NOT NULL, \n",
      "\tconfig_section VARCHAR NOT NULL CHECK (config_section != ''), \n",
      "\tdescription TEXT CHECK (description != ''), \n",
      "\tbookkeeping BOOLEAN CHECK (bookkeeping = 1), \n",
      "\tPRIMARY KEY (languoid_id), \n",
      "\tFOREIGN KEY(languoid_id) REFERENCES languoid (id), \n",
      "\tUNIQUE (name), \n",
      "\tFOREIGN KEY(name) REFERENCES languoid (name), \n",
      "\tUNIQUE (config_section), \n",
      "\tUNIQUE (bookkeeping)\n",
      ") WITHOUT ROWID\n",
      "8\n"
     ]
    },
    {
     "name": "stderr",
     "output_type": "stream",
     "text": [
      "BEGIN (implicit)\n",
      "SELECT pseudofamily.languoid_id, pseudofamily.name, pseudofamily.config_section, pseudofamily.description, pseudofamily.bookkeeping \n",
      "FROM pseudofamily ORDER BY pseudofamily.name\n",
      "[generated in 0.00075s] ()\n",
      "ROLLBACK\n"
     ]
    },
    {
     "data": {
      "text/html": [
       "<div>\n",
       "<style scoped>\n",
       "    .dataframe tbody tr th:only-of-type {\n",
       "        vertical-align: middle;\n",
       "    }\n",
       "\n",
       "    .dataframe tbody tr th {\n",
       "        vertical-align: top;\n",
       "    }\n",
       "\n",
       "    .dataframe thead th {\n",
       "        text-align: right;\n",
       "    }\n",
       "</style>\n",
       "<table border=\"1\" class=\"dataframe\">\n",
       "  <thead>\n",
       "    <tr style=\"text-align: right;\">\n",
       "      <th></th>\n",
       "      <th>languoid_id</th>\n",
       "      <th>name</th>\n",
       "      <th>description</th>\n",
       "      <th>bookkeeping</th>\n",
       "    </tr>\n",
       "    <tr>\n",
       "      <th>config_section</th>\n",
       "      <th></th>\n",
       "      <th></th>\n",
       "      <th></th>\n",
       "      <th></th>\n",
       "    </tr>\n",
       "  </thead>\n",
       "  <tbody>\n",
       "    <tr>\n",
       "      <th>artificial_language</th>\n",
       "      <td>arti1236</td>\n",
       "      <td>Artificial Language</td>\n",
       "      <td>A language known to have been created by consc...</td>\n",
       "      <td>None</td>\n",
       "    </tr>\n",
       "    <tr>\n",
       "      <th>bookkeeping</th>\n",
       "      <td>book1242</td>\n",
       "      <td>Bookkeeping</td>\n",
       "      <td>An alleged language that has been replaced wit...</td>\n",
       "      <td>True</td>\n",
       "    </tr>\n",
       "    <tr>\n",
       "      <th>mixed_language</th>\n",
       "      <td>mixe1287</td>\n",
       "      <td>Mixed Language</td>\n",
       "      <td>None</td>\n",
       "      <td>None</td>\n",
       "    </tr>\n",
       "    <tr>\n",
       "      <th>pidgin</th>\n",
       "      <td>pidg1258</td>\n",
       "      <td>Pidgin</td>\n",
       "      <td>A language used for interethnic communication ...</td>\n",
       "      <td>None</td>\n",
       "    </tr>\n",
       "    <tr>\n",
       "      <th>sign_language</th>\n",
       "      <td>sign1238</td>\n",
       "      <td>Sign Language</td>\n",
       "      <td>A language with visible manual signs as the mo...</td>\n",
       "      <td>None</td>\n",
       "    </tr>\n",
       "    <tr>\n",
       "      <th>speech_register</th>\n",
       "      <td>spee1234</td>\n",
       "      <td>Speech Register</td>\n",
       "      <td>A language not used by a community of speakers...</td>\n",
       "      <td>None</td>\n",
       "    </tr>\n",
       "    <tr>\n",
       "      <th>unattested</th>\n",
       "      <td>unat1236</td>\n",
       "      <td>Unattested</td>\n",
       "      <td>A language arguably different from all other e...</td>\n",
       "      <td>None</td>\n",
       "    </tr>\n",
       "    <tr>\n",
       "      <th>unclassifiable</th>\n",
       "      <td>uncl1493</td>\n",
       "      <td>Unclassifiable</td>\n",
       "      <td>A language arguably different from all other e...</td>\n",
       "      <td>None</td>\n",
       "    </tr>\n",
       "  </tbody>\n",
       "</table>\n",
       "</div>"
      ],
      "text/plain": [
       "                    languoid_id                 name  \\\n",
       "config_section                                         \n",
       "artificial_language    arti1236  Artificial Language   \n",
       "bookkeeping            book1242          Bookkeeping   \n",
       "mixed_language         mixe1287       Mixed Language   \n",
       "pidgin                 pidg1258               Pidgin   \n",
       "sign_language          sign1238        Sign Language   \n",
       "speech_register        spee1234      Speech Register   \n",
       "unattested             unat1236           Unattested   \n",
       "unclassifiable         uncl1493       Unclassifiable   \n",
       "\n",
       "                                                           description  \\\n",
       "config_section                                                           \n",
       "artificial_language  A language known to have been created by consc...   \n",
       "bookkeeping          An alleged language that has been replaced wit...   \n",
       "mixed_language                                                    None   \n",
       "pidgin               A language used for interethnic communication ...   \n",
       "sign_language        A language with visible manual signs as the mo...   \n",
       "speech_register      A language not used by a community of speakers...   \n",
       "unattested           A language arguably different from all other e...   \n",
       "unclassifiable       A language arguably different from all other e...   \n",
       "\n",
       "                    bookkeeping  \n",
       "config_section                   \n",
       "artificial_language        None  \n",
       "bookkeeping                True  \n",
       "mixed_language             None  \n",
       "pidgin                     None  \n",
       "sign_language              None  \n",
       "speech_register            None  \n",
       "unattested                 None  \n",
       "unclassifiable             None  "
      ]
     },
     "execution_count": 40,
     "metadata": {},
     "output_type": "execute_result"
    }
   ],
   "source": [
    "from treedb.models import PseudoFamily\n",
    "\n",
    "print_sql(PseudoFamily)\n",
    "read_sql(sa.select(PseudoFamily).order_by('name'), index_col='config_section')"
   ]
  },
  {
   "cell_type": "code",
   "execution_count": 41,
   "metadata": {},
   "outputs": [
    {
     "name": "stderr",
     "output_type": "stream",
     "text": [
      "BEGIN (implicit)\n",
      "WITH RECURSIVE tree(parent_id, child_id) AS \n",
      "(SELECT root.id AS parent_id, root.id AS child_id \n",
      "FROM languoid AS root \n",
      "WHERE root.parent_id IS NULL UNION ALL SELECT tree.parent_id AS parent_id, child.id AS child_id \n",
      "FROM tree JOIN languoid AS child ON tree.child_id = child.parent_id)\n",
      " SELECT ? AS kind, count(*) AS n \n",
      "FROM languoid UNION ALL SELECT ? AS kind, count(*) AS n \n",
      "FROM languoid \n",
      "WHERE languoid.level = ? AND languoid.parent_id IS NULL UNION ALL SELECT ? AS kind, count(*) AS n \n",
      "FROM languoid \n",
      "WHERE languoid.level = ? AND languoid.parent_id IS NULL UNION ALL SELECT ? AS kind, count(*) AS n \n",
      "FROM languoid \n",
      "WHERE languoid.parent_id IS NULL UNION ALL SELECT ? AS kind, count(*) AS n \n",
      "FROM languoid \n",
      "WHERE languoid.level = ? UNION ALL SELECT ? AS kind, count(*) AS n \n",
      "FROM languoid \n",
      "WHERE languoid.level = ? AND languoid.parent_id IS NOT NULL UNION ALL SELECT ? AS kind, count(*) AS n \n",
      "FROM languoid \n",
      "WHERE languoid.level = ? UNION ALL SELECT ? AS kind, count(*) AS n \n",
      "FROM tree JOIN languoid AS root ON tree.parent_id = root.id JOIN languoid AS child ON tree.child_id = child.id \n",
      "WHERE child.level = ? AND (root.name NOT IN (?, ?, ?, ?, ?, ?, ?, ?)) UNION ALL SELECT ? AS kind, count(*) AS n \n",
      "FROM tree JOIN languoid AS root ON tree.parent_id = root.id JOIN languoid AS child ON tree.child_id = child.id \n",
      "WHERE child.level = ? AND root.name = ? UNION ALL SELECT ? AS kind, count(*) AS n \n",
      "FROM tree JOIN languoid AS root ON tree.parent_id = root.id JOIN languoid AS child ON tree.child_id = child.id \n",
      "WHERE child.level = ? AND root.name = ? UNION ALL SELECT ? AS kind, count(*) AS n \n",
      "FROM tree JOIN languoid AS root ON tree.parent_id = root.id JOIN languoid AS child ON tree.child_id = child.id \n",
      "WHERE child.level = ? AND root.name = ? UNION ALL SELECT ? AS kind, count(*) AS n \n",
      "FROM tree JOIN languoid AS root ON tree.parent_id = root.id JOIN languoid AS child ON tree.child_id = child.id \n",
      "WHERE child.level = ? AND root.name = ? UNION ALL SELECT ? AS kind, count(*) AS n \n",
      "FROM tree JOIN languoid AS root ON tree.parent_id = root.id JOIN languoid AS child ON tree.child_id = child.id \n",
      "WHERE child.level = ? AND root.name = ? UNION ALL SELECT ? AS kind, count(*) AS n \n",
      "FROM tree JOIN languoid AS root ON tree.parent_id = root.id JOIN languoid AS child ON tree.child_id = child.id \n",
      "WHERE child.level = ? AND root.name = ? UNION ALL SELECT ? AS kind, count(*) AS n \n",
      "FROM tree JOIN languoid AS root ON tree.parent_id = root.id JOIN languoid AS child ON tree.child_id = child.id \n",
      "WHERE child.level = ? AND root.name = ? UNION ALL SELECT ? AS kind, count(*) AS n \n",
      "FROM tree JOIN languoid AS root ON tree.parent_id = root.id JOIN languoid AS child ON tree.child_id = child.id \n",
      "WHERE child.level = ? AND root.name != ? UNION ALL SELECT ? AS kind, count(*) AS n \n",
      "FROM tree JOIN languoid AS root ON tree.parent_id = root.id JOIN languoid AS child ON tree.child_id = child.id \n",
      "WHERE child.level = ? AND root.name = ?\n",
      "[generated in 0.00123s] ('languoids', 'families', 'family', 'isolates', 'language', 'roots', 'languages', 'language', 'subfamilies', 'family', 'dialects', 'dialect', 'Spoken L1 Languages', 'language', 'Sign Language', 'Unclassifiable', 'Pidgin', 'Unattested', 'Artificial Language', 'Mixed Language', 'Speech Register', 'Bookkeeping', 'Sign Language', 'language', 'Sign Language', 'Unclassifiable', 'language', 'Unclassifiable', 'Pidgin', 'language', 'Pidgin', 'Unattested', 'language', 'Unattested', 'Artificial Language', 'language', 'Artificial Language', 'Mixed Language', 'language', 'Mixed Language', 'Speech Register', 'language', 'Speech Register', 'All', 'language', 'Bookkeeping', 'Bookkeeping', 'language', 'Bookkeeping')\n"
     ]
    },
    {
     "name": "stdout",
     "output_type": "stream",
     "text": [
      "26,953 languoids\n",
      "   247 families\n",
      "   183 isolates\n",
      "   430 roots\n",
      " 8,605 languages\n",
      " 4,547 subfamilies\n",
      "13,554 dialects\n",
      " 7,667 Spoken L1 Languages\n",
      "   227 Sign Language\n",
      "   120 Unclassifiable\n",
      "    87 Pidgin\n",
      "    68 Unattested\n",
      "    31 Artificial Language\n",
      "     8 Mixed Language\n",
      "    15 Speech Register\n"
     ]
    },
    {
     "name": "stderr",
     "output_type": "stream",
     "text": [
      "ROLLBACK\n"
     ]
    },
    {
     "name": "stdout",
     "output_type": "stream",
     "text": [
      " 8,223 All\n",
      "   382 Bookkeeping\n",
      "CPU times: total: 484 ms\n",
      "Wall time: 460 ms\n"
     ]
    }
   ],
   "source": [
    "%time treedb.print_languoid_stats()"
   ]
  },
  {
   "cell_type": "code",
   "execution_count": 42,
   "metadata": {},
   "outputs": [
    {
     "name": "stderr",
     "output_type": "stream",
     "text": [
      "BEGIN (implicit)\n",
      "SELECT languoid.id, languoid.name, languoid.level, languoid.parent_id, languoid.hid, languoid.iso639_3, languoid.latitude, languoid.longitude \n",
      "FROM languoid\n",
      " LIMIT ? OFFSET ?\n",
      "[generated in 0.00109s] (5, 0)\n",
      "ROLLBACK\n"
     ]
    },
    {
     "data": {
      "text/html": [
       "<div>\n",
       "<style scoped>\n",
       "    .dataframe tbody tr th:only-of-type {\n",
       "        vertical-align: middle;\n",
       "    }\n",
       "\n",
       "    .dataframe tbody tr th {\n",
       "        vertical-align: top;\n",
       "    }\n",
       "\n",
       "    .dataframe thead th {\n",
       "        text-align: right;\n",
       "    }\n",
       "</style>\n",
       "<table border=\"1\" class=\"dataframe\">\n",
       "  <thead>\n",
       "    <tr style=\"text-align: right;\">\n",
       "      <th></th>\n",
       "      <th>name</th>\n",
       "      <th>level</th>\n",
       "      <th>parent_id</th>\n",
       "      <th>hid</th>\n",
       "      <th>iso639_3</th>\n",
       "      <th>latitude</th>\n",
       "      <th>longitude</th>\n",
       "    </tr>\n",
       "    <tr>\n",
       "      <th>id</th>\n",
       "      <th></th>\n",
       "      <th></th>\n",
       "      <th></th>\n",
       "      <th></th>\n",
       "      <th></th>\n",
       "      <th></th>\n",
       "      <th></th>\n",
       "    </tr>\n",
       "  </thead>\n",
       "  <tbody>\n",
       "    <tr>\n",
       "      <th>3adt1234</th>\n",
       "      <td>3Ad-Tekles</td>\n",
       "      <td>dialect</td>\n",
       "      <td>nort3292</td>\n",
       "      <td>None</td>\n",
       "      <td>None</td>\n",
       "      <td>NaN</td>\n",
       "      <td>NaN</td>\n",
       "    </tr>\n",
       "    <tr>\n",
       "      <th>aala1237</th>\n",
       "      <td>Aalawa</td>\n",
       "      <td>dialect</td>\n",
       "      <td>ramo1244</td>\n",
       "      <td>None</td>\n",
       "      <td>None</td>\n",
       "      <td>NaN</td>\n",
       "      <td>NaN</td>\n",
       "    </tr>\n",
       "    <tr>\n",
       "      <th>aant1238</th>\n",
       "      <td>Aantantara</td>\n",
       "      <td>dialect</td>\n",
       "      <td>nort2920</td>\n",
       "      <td>None</td>\n",
       "      <td>None</td>\n",
       "      <td>NaN</td>\n",
       "      <td>NaN</td>\n",
       "    </tr>\n",
       "    <tr>\n",
       "      <th>aari1238</th>\n",
       "      <td>Aari-Gayil</td>\n",
       "      <td>family</td>\n",
       "      <td>ahkk1235</td>\n",
       "      <td>aiz</td>\n",
       "      <td>aiz</td>\n",
       "      <td>NaN</td>\n",
       "      <td>NaN</td>\n",
       "    </tr>\n",
       "    <tr>\n",
       "      <th>aari1239</th>\n",
       "      <td>Aari</td>\n",
       "      <td>language</td>\n",
       "      <td>aari1238</td>\n",
       "      <td>aiw</td>\n",
       "      <td>aiw</td>\n",
       "      <td>5.95034</td>\n",
       "      <td>36.5721</td>\n",
       "    </tr>\n",
       "  </tbody>\n",
       "</table>\n",
       "</div>"
      ],
      "text/plain": [
       "                name     level parent_id   hid iso639_3  latitude  longitude\n",
       "id                                                                          \n",
       "3adt1234  3Ad-Tekles   dialect  nort3292  None     None       NaN        NaN\n",
       "aala1237      Aalawa   dialect  ramo1244  None     None       NaN        NaN\n",
       "aant1238  Aantantara   dialect  nort2920  None     None       NaN        NaN\n",
       "aari1238  Aari-Gayil    family  ahkk1235   aiz      aiz       NaN        NaN\n",
       "aari1239        Aari  language  aari1238   aiw      aiw   5.95034    36.5721"
      ]
     },
     "execution_count": 42,
     "metadata": {},
     "output_type": "execute_result"
    }
   ],
   "source": [
    "read_sql(sa.select(Languoid).limit(5), index_col='id')"
   ]
  },
  {
   "cell_type": "code",
   "execution_count": 43,
   "metadata": {},
   "outputs": [
    {
     "name": "stderr",
     "output_type": "stream",
     "text": [
      "BEGIN (implicit)\n",
      "SELECT languoid.id, languoid.name, languoid.level, languoid.parent_id, languoid.hid, languoid.iso639_3, languoid.latitude, languoid.longitude \n",
      "FROM languoid ORDER BY languoid.id\n",
      " LIMIT ? OFFSET ?\n",
      "[generated in 0.00093s] (5, 0)\n",
      "ROLLBACK\n"
     ]
    },
    {
     "data": {
      "text/html": [
       "<div>\n",
       "<style scoped>\n",
       "    .dataframe tbody tr th:only-of-type {\n",
       "        vertical-align: middle;\n",
       "    }\n",
       "\n",
       "    .dataframe tbody tr th {\n",
       "        vertical-align: top;\n",
       "    }\n",
       "\n",
       "    .dataframe thead th {\n",
       "        text-align: right;\n",
       "    }\n",
       "</style>\n",
       "<table border=\"1\" class=\"dataframe\">\n",
       "  <thead>\n",
       "    <tr style=\"text-align: right;\">\n",
       "      <th></th>\n",
       "      <th>name</th>\n",
       "      <th>level</th>\n",
       "      <th>parent_id</th>\n",
       "      <th>hid</th>\n",
       "      <th>iso639_3</th>\n",
       "      <th>latitude</th>\n",
       "      <th>longitude</th>\n",
       "    </tr>\n",
       "    <tr>\n",
       "      <th>id</th>\n",
       "      <th></th>\n",
       "      <th></th>\n",
       "      <th></th>\n",
       "      <th></th>\n",
       "      <th></th>\n",
       "      <th></th>\n",
       "      <th></th>\n",
       "    </tr>\n",
       "  </thead>\n",
       "  <tbody>\n",
       "    <tr>\n",
       "      <th>3adt1234</th>\n",
       "      <td>3Ad-Tekles</td>\n",
       "      <td>dialect</td>\n",
       "      <td>nort3292</td>\n",
       "      <td>None</td>\n",
       "      <td>None</td>\n",
       "      <td>NaN</td>\n",
       "      <td>NaN</td>\n",
       "    </tr>\n",
       "    <tr>\n",
       "      <th>aala1237</th>\n",
       "      <td>Aalawa</td>\n",
       "      <td>dialect</td>\n",
       "      <td>ramo1244</td>\n",
       "      <td>None</td>\n",
       "      <td>None</td>\n",
       "      <td>NaN</td>\n",
       "      <td>NaN</td>\n",
       "    </tr>\n",
       "    <tr>\n",
       "      <th>aant1238</th>\n",
       "      <td>Aantantara</td>\n",
       "      <td>dialect</td>\n",
       "      <td>nort2920</td>\n",
       "      <td>None</td>\n",
       "      <td>None</td>\n",
       "      <td>NaN</td>\n",
       "      <td>NaN</td>\n",
       "    </tr>\n",
       "    <tr>\n",
       "      <th>aari1238</th>\n",
       "      <td>Aari-Gayil</td>\n",
       "      <td>family</td>\n",
       "      <td>ahkk1235</td>\n",
       "      <td>aiz</td>\n",
       "      <td>aiz</td>\n",
       "      <td>NaN</td>\n",
       "      <td>NaN</td>\n",
       "    </tr>\n",
       "    <tr>\n",
       "      <th>aari1239</th>\n",
       "      <td>Aari</td>\n",
       "      <td>language</td>\n",
       "      <td>aari1238</td>\n",
       "      <td>aiw</td>\n",
       "      <td>aiw</td>\n",
       "      <td>5.95034</td>\n",
       "      <td>36.5721</td>\n",
       "    </tr>\n",
       "  </tbody>\n",
       "</table>\n",
       "</div>"
      ],
      "text/plain": [
       "                name     level parent_id   hid iso639_3  latitude  longitude\n",
       "id                                                                          \n",
       "3adt1234  3Ad-Tekles   dialect  nort3292  None     None       NaN        NaN\n",
       "aala1237      Aalawa   dialect  ramo1244  None     None       NaN        NaN\n",
       "aant1238  Aantantara   dialect  nort2920  None     None       NaN        NaN\n",
       "aari1238  Aari-Gayil    family  ahkk1235   aiz      aiz       NaN        NaN\n",
       "aari1239        Aari  language  aari1238   aiw      aiw   5.95034    36.5721"
      ]
     },
     "execution_count": 43,
     "metadata": {},
     "output_type": "execute_result"
    }
   ],
   "source": [
    "read_sql(sa.select(Languoid).order_by('id').limit(5), index_col='id')"
   ]
  },
  {
   "cell_type": "code",
   "execution_count": 44,
   "metadata": {},
   "outputs": [
    {
     "name": "stderr",
     "output_type": "stream",
     "text": [
      "BEGIN (implicit)\n",
      "SELECT languoid.id, languoid.name, languoid.level, languoid.parent_id, languoid.hid, languoid.iso639_3, languoid.latitude, languoid.longitude \n",
      "FROM languoid ORDER BY languoid.name\n",
      " LIMIT ? OFFSET ?\n",
      "[generated in 0.00114s] (5, 0)\n",
      "ROLLBACK\n"
     ]
    },
    {
     "data": {
      "text/html": [
       "<div>\n",
       "<style scoped>\n",
       "    .dataframe tbody tr th:only-of-type {\n",
       "        vertical-align: middle;\n",
       "    }\n",
       "\n",
       "    .dataframe tbody tr th {\n",
       "        vertical-align: top;\n",
       "    }\n",
       "\n",
       "    .dataframe thead th {\n",
       "        text-align: right;\n",
       "    }\n",
       "</style>\n",
       "<table border=\"1\" class=\"dataframe\">\n",
       "  <thead>\n",
       "    <tr style=\"text-align: right;\">\n",
       "      <th></th>\n",
       "      <th>name</th>\n",
       "      <th>level</th>\n",
       "      <th>parent_id</th>\n",
       "      <th>hid</th>\n",
       "      <th>iso639_3</th>\n",
       "      <th>latitude</th>\n",
       "      <th>longitude</th>\n",
       "    </tr>\n",
       "    <tr>\n",
       "      <th>id</th>\n",
       "      <th></th>\n",
       "      <th></th>\n",
       "      <th></th>\n",
       "      <th></th>\n",
       "      <th></th>\n",
       "      <th></th>\n",
       "      <th></th>\n",
       "    </tr>\n",
       "  </thead>\n",
       "  <tbody>\n",
       "    <tr>\n",
       "      <th>gane1238</th>\n",
       "      <td>!Gã!ne</td>\n",
       "      <td>language</td>\n",
       "      <td>east2867</td>\n",
       "      <td>NOCODE_Gane</td>\n",
       "      <td>None</td>\n",
       "      <td>-31.3200</td>\n",
       "      <td>28.7500</td>\n",
       "    </tr>\n",
       "    <tr>\n",
       "      <th>oung1238</th>\n",
       "      <td>!O!ung</td>\n",
       "      <td>language</td>\n",
       "      <td>book1242</td>\n",
       "      <td>oun</td>\n",
       "      <td>oun</td>\n",
       "      <td>-15.3000</td>\n",
       "      <td>14.3500</td>\n",
       "    </tr>\n",
       "    <tr>\n",
       "      <th>kwii1241</th>\n",
       "      <td>!Ui</td>\n",
       "      <td>family</td>\n",
       "      <td>tuuu1241</td>\n",
       "      <td>None</td>\n",
       "      <td>None</td>\n",
       "      <td>NaN</td>\n",
       "      <td>NaN</td>\n",
       "    </tr>\n",
       "    <tr>\n",
       "      <th>abda1238</th>\n",
       "      <td>'Abd Al-Kuri</td>\n",
       "      <td>dialect</td>\n",
       "      <td>soqo1240</td>\n",
       "      <td>None</td>\n",
       "      <td>None</td>\n",
       "      <td>12.1959</td>\n",
       "      <td>52.2282</td>\n",
       "    </tr>\n",
       "    <tr>\n",
       "      <th>aden1242</th>\n",
       "      <td>'Aden</td>\n",
       "      <td>dialect</td>\n",
       "      <td>jude1267</td>\n",
       "      <td>None</td>\n",
       "      <td>None</td>\n",
       "      <td>NaN</td>\n",
       "      <td>NaN</td>\n",
       "    </tr>\n",
       "  </tbody>\n",
       "</table>\n",
       "</div>"
      ],
      "text/plain": [
       "                  name     level parent_id          hid iso639_3  latitude  \\\n",
       "id                                                                           \n",
       "gane1238       !Gã!ne  language  east2867  NOCODE_Gane     None  -31.3200   \n",
       "oung1238        !O!ung  language  book1242          oun      oun  -15.3000   \n",
       "kwii1241           !Ui    family  tuuu1241         None     None       NaN   \n",
       "abda1238  'Abd Al-Kuri   dialect  soqo1240         None     None   12.1959   \n",
       "aden1242         'Aden   dialect  jude1267         None     None       NaN   \n",
       "\n",
       "          longitude  \n",
       "id                   \n",
       "gane1238    28.7500  \n",
       "oung1238    14.3500  \n",
       "kwii1241        NaN  \n",
       "abda1238    52.2282  \n",
       "aden1242        NaN  "
      ]
     },
     "execution_count": 44,
     "metadata": {},
     "output_type": "execute_result"
    }
   ],
   "source": [
    "read_sql(sa.select(Languoid).order_by('name').limit(5), index_col='id')"
   ]
  },
  {
   "cell_type": "code",
   "execution_count": 45,
   "metadata": {},
   "outputs": [
    {
     "name": "stderr",
     "output_type": "stream",
     "text": [
      "BEGIN (implicit)\n",
      "SELECT child.level AS child_level, parent.level AS parent_level, count(*) AS n_languoids \n",
      "FROM languoid AS child LEFT OUTER JOIN languoid AS parent ON child.parent_id = parent.id GROUP BY child.level, parent.level ORDER BY child_level, parent_level\n",
      "[generated in 0.00086s] ()\n",
      "ROLLBACK\n"
     ]
    },
    {
     "data": {
      "text/html": [
       "<div>\n",
       "<style scoped>\n",
       "    .dataframe tbody tr th:only-of-type {\n",
       "        vertical-align: middle;\n",
       "    }\n",
       "\n",
       "    .dataframe tbody tr th {\n",
       "        vertical-align: top;\n",
       "    }\n",
       "\n",
       "    .dataframe thead tr th {\n",
       "        text-align: left;\n",
       "    }\n",
       "\n",
       "    .dataframe thead tr:last-of-type th {\n",
       "        text-align: right;\n",
       "    }\n",
       "</style>\n",
       "<table border=\"1\" class=\"dataframe\">\n",
       "  <thead>\n",
       "    <tr>\n",
       "      <th></th>\n",
       "      <th colspan=\"4\" halign=\"left\">n_languoids</th>\n",
       "      <th>all</th>\n",
       "    </tr>\n",
       "    <tr>\n",
       "      <th>parent_level</th>\n",
       "      <th>NaN</th>\n",
       "      <th>dialect</th>\n",
       "      <th>family</th>\n",
       "      <th>language</th>\n",
       "      <th></th>\n",
       "    </tr>\n",
       "    <tr>\n",
       "      <th>child_level</th>\n",
       "      <th></th>\n",
       "      <th></th>\n",
       "      <th></th>\n",
       "      <th></th>\n",
       "      <th></th>\n",
       "    </tr>\n",
       "  </thead>\n",
       "  <tbody>\n",
       "    <tr>\n",
       "      <th>dialect</th>\n",
       "      <td>0</td>\n",
       "      <td>2556</td>\n",
       "      <td>0</td>\n",
       "      <td>10998</td>\n",
       "      <td>13554</td>\n",
       "    </tr>\n",
       "    <tr>\n",
       "      <th>family</th>\n",
       "      <td>247</td>\n",
       "      <td>0</td>\n",
       "      <td>4547</td>\n",
       "      <td>0</td>\n",
       "      <td>4794</td>\n",
       "    </tr>\n",
       "    <tr>\n",
       "      <th>language</th>\n",
       "      <td>183</td>\n",
       "      <td>0</td>\n",
       "      <td>8422</td>\n",
       "      <td>0</td>\n",
       "      <td>8605</td>\n",
       "    </tr>\n",
       "    <tr>\n",
       "      <th>all</th>\n",
       "      <td>430</td>\n",
       "      <td>2556</td>\n",
       "      <td>12969</td>\n",
       "      <td>10998</td>\n",
       "      <td>26953</td>\n",
       "    </tr>\n",
       "  </tbody>\n",
       "</table>\n",
       "</div>"
      ],
      "text/plain": [
       "             n_languoids                            all\n",
       "parent_level         NaN dialect family language       \n",
       "child_level                                            \n",
       "dialect                0    2556      0    10998  13554\n",
       "family               247       0   4547        0   4794\n",
       "language             183       0   8422        0   8605\n",
       "all                  430    2556  12969    10998  26953"
      ]
     },
     "execution_count": 45,
     "metadata": {},
     "output_type": "execute_result"
    }
   ],
   "source": [
    "Child, Parent = (sa.orm.aliased(Languoid, name=n) for n in ('child', 'parent'))\n",
    "\n",
    "select_parent_levels = (sa.select(Child.level.label('child_level'),\n",
    "                                  Parent.level.label('parent_level'),\n",
    "                                  sa.func.count().label('n_languoids'))\n",
    "                        .outerjoin_from(Child, Parent, Child.parent_id == Parent.id)\n",
    "                        .group_by(Child.level, Parent.level)\n",
    "                        .order_by('child_level', 'parent_level'))\n",
    "\n",
    "(read_sql(select_parent_levels, index_col=['child_level', 'parent_level'])\n",
    " .unstack(fill_value=0).assign(all=lambda x: x.sum(axis='columns'))\n",
    " .pipe(lambda x: pd.concat([x, x.sum().rename('all').to_frame().T.rename_axis('child_level')])))"
   ]
  },
  {
   "cell_type": "code",
   "execution_count": 46,
   "metadata": {},
   "outputs": [
    {
     "name": "stderr",
     "output_type": "stream",
     "text": [
      "BEGIN (implicit)\n",
      "SELECT languoid.level AS level, count(*) AS n_languoids, count(languoid.iso639_3) AS n_isos \n",
      "FROM languoid GROUP BY languoid.level ORDER BY level\n",
      "[generated in 0.00080s] ()\n",
      "ROLLBACK\n"
     ]
    },
    {
     "data": {
      "text/html": [
       "<div>\n",
       "<style scoped>\n",
       "    .dataframe tbody tr th:only-of-type {\n",
       "        vertical-align: middle;\n",
       "    }\n",
       "\n",
       "    .dataframe tbody tr th {\n",
       "        vertical-align: top;\n",
       "    }\n",
       "\n",
       "    .dataframe thead th {\n",
       "        text-align: right;\n",
       "    }\n",
       "</style>\n",
       "<table border=\"1\" class=\"dataframe\">\n",
       "  <thead>\n",
       "    <tr style=\"text-align: right;\">\n",
       "      <th></th>\n",
       "      <th>n_languoids</th>\n",
       "      <th>n_isos</th>\n",
       "      <th>ratio</th>\n",
       "    </tr>\n",
       "    <tr>\n",
       "      <th>level</th>\n",
       "      <th></th>\n",
       "      <th></th>\n",
       "      <th></th>\n",
       "    </tr>\n",
       "  </thead>\n",
       "  <tbody>\n",
       "    <tr>\n",
       "      <th>dialect</th>\n",
       "      <td>13554</td>\n",
       "      <td>269</td>\n",
       "      <td>1.984654</td>\n",
       "    </tr>\n",
       "    <tr>\n",
       "      <th>family</th>\n",
       "      <td>4794</td>\n",
       "      <td>45</td>\n",
       "      <td>0.938673</td>\n",
       "    </tr>\n",
       "    <tr>\n",
       "      <th>language</th>\n",
       "      <td>8605</td>\n",
       "      <td>7853</td>\n",
       "      <td>91.260895</td>\n",
       "    </tr>\n",
       "  </tbody>\n",
       "</table>\n",
       "</div>"
      ],
      "text/plain": [
       "          n_languoids  n_isos      ratio\n",
       "level                                   \n",
       "dialect         13554     269   1.984654\n",
       "family           4794      45   0.938673\n",
       "language         8605    7853  91.260895"
      ]
     },
     "execution_count": 46,
     "metadata": {},
     "output_type": "execute_result"
    }
   ],
   "source": [
    "select_lang_nisos = (sa.select(Languoid.level.label('level'),\n",
    "                              sa.func.count().label('n_languoids'),\n",
    "                              sa.func.count(Languoid.iso639_3).label('n_isos'))\n",
    "                    .group_by(Languoid.level)\n",
    "                    .order_by('level'))\n",
    "\n",
    "(read_sql(select_lang_nisos, index_col='level')\n",
    " .assign(ratio=lambda x: 100 * x['n_isos'] / x['n_languoids']))"
   ]
  },
  {
   "cell_type": "code",
   "execution_count": 47,
   "metadata": {},
   "outputs": [
    {
     "name": "stderr",
     "output_type": "stream",
     "text": [
      "BEGIN (implicit)\n",
      "SELECT languoid.level AS level, count(*) AS n_languoids, count(languoid.latitude) AS n_locations \n",
      "FROM languoid GROUP BY languoid.level ORDER BY level\n",
      "[generated in 0.00098s] ()\n",
      "ROLLBACK\n"
     ]
    },
    {
     "data": {
      "text/html": [
       "<div>\n",
       "<style scoped>\n",
       "    .dataframe tbody tr th:only-of-type {\n",
       "        vertical-align: middle;\n",
       "    }\n",
       "\n",
       "    .dataframe tbody tr th {\n",
       "        vertical-align: top;\n",
       "    }\n",
       "\n",
       "    .dataframe thead th {\n",
       "        text-align: right;\n",
       "    }\n",
       "</style>\n",
       "<table border=\"1\" class=\"dataframe\">\n",
       "  <thead>\n",
       "    <tr style=\"text-align: right;\">\n",
       "      <th></th>\n",
       "      <th>n_languoids</th>\n",
       "      <th>n_locations</th>\n",
       "      <th>ratio</th>\n",
       "    </tr>\n",
       "    <tr>\n",
       "      <th>level</th>\n",
       "      <th></th>\n",
       "      <th></th>\n",
       "      <th></th>\n",
       "    </tr>\n",
       "  </thead>\n",
       "  <tbody>\n",
       "    <tr>\n",
       "      <th>dialect</th>\n",
       "      <td>13554</td>\n",
       "      <td>580</td>\n",
       "      <td>4.279180</td>\n",
       "    </tr>\n",
       "    <tr>\n",
       "      <th>family</th>\n",
       "      <td>4794</td>\n",
       "      <td>36</td>\n",
       "      <td>0.750939</td>\n",
       "    </tr>\n",
       "    <tr>\n",
       "      <th>language</th>\n",
       "      <td>8605</td>\n",
       "      <td>8291</td>\n",
       "      <td>96.350959</td>\n",
       "    </tr>\n",
       "  </tbody>\n",
       "</table>\n",
       "</div>"
      ],
      "text/plain": [
       "          n_languoids  n_locations      ratio\n",
       "level                                        \n",
       "dialect         13554          580   4.279180\n",
       "family           4794           36   0.750939\n",
       "language         8605         8291  96.350959"
      ]
     },
     "execution_count": 47,
     "metadata": {},
     "output_type": "execute_result"
    }
   ],
   "source": [
    "select_lang_nlocations = (sa.select(Languoid.level.label('level'),\n",
    "                                    sa.func.count().label('n_languoids'),\n",
    "                                    sa.func.count(Languoid.latitude).label('n_locations'))\n",
    "                          .group_by(Languoid.level)\n",
    "                          .order_by('level'))\n",
    "\n",
    "(read_sql(select_lang_nlocations, index_col='level')\n",
    " .assign(ratio=lambda x: 100 * x['n_locations'] / x['n_languoids']))"
   ]
  },
  {
   "cell_type": "code",
   "execution_count": 48,
   "metadata": {},
   "outputs": [
    {
     "name": "stderr",
     "output_type": "stream",
     "text": [
      "BEGIN (implicit)\n",
      "SELECT languoid.latitude, languoid.longitude \n",
      "FROM languoid \n",
      "WHERE languoid.level = ?\n",
      "[generated in 0.00094s] ('language',)\n",
      "ROLLBACK\n"
     ]
    },
    {
     "data": {
      "image/png": "[encoded data removed]",
      "text/plain": [
       "<Figure size 864x432 with 1 Axes>"
      ]
     },
     "metadata": {},
     "output_type": "display_data"
    }
   ],
   "source": [
    "select_latlon = (sa.select(Languoid.latitude, Languoid.longitude)\n",
    "                 .select_from(Languoid)\n",
    "                 .filter_by(level=LANGUAGE))\n",
    "\n",
    "latitudes, longitudes = zip(*treedb.iterrows(select_latlon))\n",
    "    \n",
    "plt.figure(figsize=(12 * 72 / 100, 6 * 72 / 100))\n",
    "plt.axis([-180, 180, -90, 90])\n",
    "plt.xticks(range(-180, 181, 60))\n",
    "plt.yticks(range(-90, 91, 30))\n",
    "plt.scatter(longitudes, latitudes, 1, 'black');"
   ]
  },
  {
   "cell_type": "code",
   "execution_count": 49,
   "metadata": {},
   "outputs": [
    {
     "name": "stderr",
     "output_type": "stream",
     "text": [
      "BEGIN (implicit)\n",
      "WITH RECURSIVE tree(parent_id, child_id) AS \n",
      "(SELECT root.id AS parent_id, child.id AS child_id \n",
      "FROM languoid AS root LEFT OUTER JOIN languoid AS child ON root.id = child.parent_id \n",
      "WHERE root.parent_id IS NULL AND root.level = ? UNION ALL SELECT tree.parent_id AS parent_id, child.id AS child_id \n",
      "FROM tree JOIN languoid AS child ON tree.child_id = child.parent_id)\n",
      " SELECT root.id AS family_id, count(child.id) AS n_languages \n",
      "FROM tree JOIN languoid AS root ON tree.parent_id = root.id LEFT OUTER JOIN languoid AS child ON tree.child_id = child.id \n",
      "WHERE child.level = ? GROUP BY root.id \n",
      "HAVING count(child.id) >= ? ORDER BY n_languages\n",
      "[generated in 0.00112s] ('family', 'language', 100)\n",
      "ROLLBACK\n"
     ]
    },
    {
     "data": {
      "image/png": "[encoded data removed]",
      "text/plain": [
       "<Figure size 432x288 with 1 Axes>"
      ]
     },
     "metadata": {},
     "output_type": "display_data"
    }
   ],
   "source": [
    "Family, Child, family_child = treedb.Languoid.parent_descendant(parent_root=True,\n",
    "                                                                parent_level=FAMILY)\n",
    "\n",
    "n_languages = sa.func.count(Child.id).label('n_languages')\n",
    "\n",
    "select_family_nlanguages = (sa.select(Family.id.label('family_id'), n_languages)\n",
    "                            .select_from(family_child)\n",
    "                            .where(Child.level == LANGUAGE)\n",
    "                            .group_by(Family.id))\n",
    "\n",
    "select_top_families = (select_family_nlanguages\n",
    "                       .having(n_languages >= 100)\n",
    "                       .order_by('n_languages'))\n",
    "\n",
    "(read_sql(select_top_families, index_col='family_id')\n",
    " .plot.barh(figsize=(6 * 72 / 100, 4 * 72 / 100)));"
   ]
  },
  {
   "cell_type": "code",
   "execution_count": 50,
   "metadata": {},
   "outputs": [
    {
     "name": "stderr",
     "output_type": "stream",
     "text": [
      "BEGIN (implicit)\n",
      "WITH RECURSIVE tree(parent_id, child_id) AS \n",
      "(SELECT root.id AS parent_id, child.id AS child_id \n",
      "FROM languoid AS root LEFT OUTER JOIN languoid AS child ON root.id = child.parent_id \n",
      "WHERE root.parent_id IS NULL AND root.level = ? UNION ALL SELECT tree.parent_id AS parent_id, child.id AS child_id \n",
      "FROM tree JOIN languoid AS child ON tree.child_id = child.parent_id)\n",
      " SELECT family_nlanguages.n_languages AS family_size, count(*) AS n_families \n",
      "FROM (SELECT root.id AS family_id, count(child.id) AS n_languages \n",
      "FROM tree JOIN languoid AS root ON tree.parent_id = root.id LEFT OUTER JOIN languoid AS child ON tree.child_id = child.id \n",
      "WHERE child.level = ? GROUP BY root.id) AS family_nlanguages GROUP BY family_nlanguages.n_languages ORDER BY family_size\n",
      "[generated in 0.00099s] ('family', 'language')\n",
      "ROLLBACK\n"
     ]
    },
    {
     "data": {
      "text/html": [
       "<div>\n",
       "<style scoped>\n",
       "    .dataframe tbody tr th:only-of-type {\n",
       "        vertical-align: middle;\n",
       "    }\n",
       "\n",
       "    .dataframe tbody tr th {\n",
       "        vertical-align: top;\n",
       "    }\n",
       "\n",
       "    .dataframe thead th {\n",
       "        text-align: right;\n",
       "    }\n",
       "</style>\n",
       "<table border=\"1\" class=\"dataframe\">\n",
       "  <thead>\n",
       "    <tr style=\"text-align: right;\">\n",
       "      <th></th>\n",
       "      <th>count</th>\n",
       "      <th>min</th>\n",
       "      <th>max</th>\n",
       "    </tr>\n",
       "  </thead>\n",
       "  <tbody>\n",
       "    <tr>\n",
       "      <th>family_size</th>\n",
       "      <td>58.0</td>\n",
       "      <td>2.0</td>\n",
       "      <td>1410.0</td>\n",
       "    </tr>\n",
       "  </tbody>\n",
       "</table>\n",
       "</div>"
      ],
      "text/plain": [
       "             count  min     max\n",
       "family_size   58.0  2.0  1410.0"
      ]
     },
     "execution_count": 50,
     "metadata": {},
     "output_type": "execute_result"
    },
    {
     "data": {
      "image/png": "[encoded data removed]",
      "text/plain": [
       "<Figure size 864x216 with 1 Axes>"
      ]
     },
     "metadata": {},
     "output_type": "display_data"
    }
   ],
   "source": [
    "family_size = (select_family_nlanguages\n",
    "               .alias('family_nlanguages')\n",
    "               .c.n_languages.label('family_size'))\n",
    "\n",
    "select_family_sizes = (sa.select(family_size, sa.func.count().label('n_families'))\n",
    "                       .group_by(family_size)\n",
    "                       .order_by('family_size'))\n",
    "\n",
    "_ = read_sql(select_family_sizes, index_col='family_size')\n",
    "\n",
    "(_.plot.area(figsize=(12 * 72 / 100, 3 * 72 / 100), logx=True)\n",
    " .xaxis.set_major_formatter(mpl.ticker.ScalarFormatter()))\n",
    "(_.index.to_series().describe()\n",
    " .to_frame().transpose()[['count', 'min', 'max']])"
   ]
  },
  {
   "cell_type": "code",
   "execution_count": 51,
   "metadata": {},
   "outputs": [
    {
     "name": "stderr",
     "output_type": "stream",
     "text": [
      "BEGIN (implicit)\n",
      "WITH levels AS \n",
      "(SELECT ? AS level UNION ALL SELECT ? AS level UNION ALL SELECT ? AS level)\n",
      " SELECT parent.id AS parent_id, parent.level AS parent_level, levels.level AS child_level, count(child.id) AS n_children \n",
      "FROM languoid AS parent JOIN levels ON 1 = 1 LEFT OUTER JOIN languoid AS child ON parent.id = child.parent_id AND child.level = levels.level GROUP BY parent.id, parent.level, levels.level\n",
      "[generated in 0.00089s] ('family', 'language', 'dialect')\n",
      "ROLLBACK\n"
     ]
    },
    {
     "data": {
      "text/html": [
       "<div>\n",
       "<style scoped>\n",
       "    .dataframe tbody tr th:only-of-type {\n",
       "        vertical-align: middle;\n",
       "    }\n",
       "\n",
       "    .dataframe tbody tr th {\n",
       "        vertical-align: top;\n",
       "    }\n",
       "\n",
       "    .dataframe thead tr th {\n",
       "        text-align: left;\n",
       "    }\n",
       "\n",
       "    .dataframe thead tr:last-of-type th {\n",
       "        text-align: right;\n",
       "    }\n",
       "</style>\n",
       "<table border=\"1\" class=\"dataframe\">\n",
       "  <thead>\n",
       "    <tr>\n",
       "      <th></th>\n",
       "      <th colspan=\"3\" halign=\"left\">sum</th>\n",
       "      <th colspan=\"3\" halign=\"left\">max</th>\n",
       "      <th colspan=\"3\" halign=\"left\">mean</th>\n",
       "    </tr>\n",
       "    <tr>\n",
       "      <th>child_level</th>\n",
       "      <th>dialect</th>\n",
       "      <th>family</th>\n",
       "      <th>language</th>\n",
       "      <th>dialect</th>\n",
       "      <th>family</th>\n",
       "      <th>language</th>\n",
       "      <th>dialect</th>\n",
       "      <th>family</th>\n",
       "      <th>language</th>\n",
       "    </tr>\n",
       "    <tr>\n",
       "      <th>parent_level</th>\n",
       "      <th></th>\n",
       "      <th></th>\n",
       "      <th></th>\n",
       "      <th></th>\n",
       "      <th></th>\n",
       "      <th></th>\n",
       "      <th></th>\n",
       "      <th></th>\n",
       "      <th></th>\n",
       "    </tr>\n",
       "  </thead>\n",
       "  <tbody>\n",
       "    <tr>\n",
       "      <th>dialect</th>\n",
       "      <td>2556</td>\n",
       "      <td>0</td>\n",
       "      <td>0</td>\n",
       "      <td>22</td>\n",
       "      <td>0</td>\n",
       "      <td>0</td>\n",
       "      <td>0.188579</td>\n",
       "      <td>0.000000</td>\n",
       "      <td>0.000000</td>\n",
       "    </tr>\n",
       "    <tr>\n",
       "      <th>family</th>\n",
       "      <td>0</td>\n",
       "      <td>4547</td>\n",
       "      <td>8422</td>\n",
       "      <td>0</td>\n",
       "      <td>47</td>\n",
       "      <td>372</td>\n",
       "      <td>0.000000</td>\n",
       "      <td>0.948477</td>\n",
       "      <td>1.756779</td>\n",
       "    </tr>\n",
       "    <tr>\n",
       "      <th>language</th>\n",
       "      <td>10998</td>\n",
       "      <td>0</td>\n",
       "      <td>0</td>\n",
       "      <td>32</td>\n",
       "      <td>0</td>\n",
       "      <td>0</td>\n",
       "      <td>1.278094</td>\n",
       "      <td>0.000000</td>\n",
       "      <td>0.000000</td>\n",
       "    </tr>\n",
       "  </tbody>\n",
       "</table>\n",
       "</div>"
      ],
      "text/plain": [
       "                 sum                     max                      mean  \\\n",
       "child_level  dialect family language dialect family language   dialect   \n",
       "parent_level                                                             \n",
       "dialect         2556      0        0      22      0        0  0.188579   \n",
       "family             0   4547     8422       0     47      372  0.000000   \n",
       "language       10998      0        0      32      0        0  1.278094   \n",
       "\n",
       "                                  \n",
       "child_level     family  language  \n",
       "parent_level                      \n",
       "dialect       0.000000  0.000000  \n",
       "family        0.948477  1.756779  \n",
       "language      0.000000  0.000000  "
      ]
     },
     "execution_count": 51,
     "metadata": {},
     "output_type": "execute_result"
    }
   ],
   "source": [
    "levels = (sa.union_all(*[sa.select(sa.literal(l).label('level')) for l in LEVEL])\n",
    "          .cte(name='levels'))\n",
    "\n",
    "select_parent_nchildren = (sa.select(Parent.id.label('parent_id'),\n",
    "                                     Parent.level.label('parent_level'),\n",
    "                                     levels.c.level.label('child_level'),\n",
    "                                     sa.func.count(Child.id).label('n_children'))\n",
    "                           .join_from(Parent, levels, sa.true())\n",
    "                           .outerjoin(Child, sa.and_(Parent.id == Child.parent_id, \n",
    "                                                     Child.level == levels.c.level))\n",
    "                           .group_by(Parent.id, Parent.level, levels.c.level))\n",
    "\n",
    "(read_sql(select_parent_nchildren)\n",
    " .pivot_table(index='parent_level', columns='child_level', values='n_children',\n",
    "              aggfunc=['sum', 'max', 'mean'], fill_value=0))"
   ]
  },
  {
   "cell_type": "code",
   "execution_count": 52,
   "metadata": {},
   "outputs": [
    {
     "name": "stderr",
     "output_type": "stream",
     "text": [
      "BEGIN (implicit)\n",
      "WITH RECURSIVE tree(parent_id, child_id) AS \n",
      "(SELECT parent.id AS parent_id, child.id AS child_id \n",
      "FROM languoid AS parent LEFT OUTER JOIN languoid AS child ON parent.id = child.parent_id UNION ALL SELECT tree.parent_id AS parent_id, child.id AS child_id \n",
      "FROM tree JOIN languoid AS child ON tree.child_id = child.parent_id)\n",
      " SELECT parent_ndescendants.parent_level, min(parent_ndescendants.n_descendants) AS min, max(parent_ndescendants.n_descendants) AS max, CAST(sum(parent_ndescendants.n_descendants) AS FLOAT) / (count(parent_ndescendants.n_descendants) + 0.0) AS mean \n",
      "FROM (SELECT parent.id AS parent_id, parent.level AS parent_level, count(child.id) AS n_descendants \n",
      "FROM tree JOIN languoid AS parent ON tree.parent_id = parent.id LEFT OUTER JOIN languoid AS child ON tree.child_id = child.id GROUP BY parent.id, parent.level) AS parent_ndescendants GROUP BY parent_ndescendants.parent_level ORDER BY parent_ndescendants.parent_level\n",
      "[generated in 0.00095s] ()\n",
      "ROLLBACK\n",
      "BEGIN (implicit)\n",
      "WITH RECURSIVE tree(parent_id, child_id) AS \n",
      "(SELECT parent.id AS parent_id, child.id AS child_id \n",
      "FROM languoid AS parent LEFT OUTER JOIN languoid AS child ON parent.id = child.parent_id UNION ALL SELECT tree.parent_id AS parent_id, child.id AS child_id \n",
      "FROM tree JOIN languoid AS child ON tree.child_id = child.parent_id)\n",
      " SELECT ? AS parent_level, min(parent_ndescendants.n_descendants) AS min, max(parent_ndescendants.n_descendants) AS max, CAST(sum(parent_ndescendants.n_descendants) AS FLOAT) / (count(parent_ndescendants.n_descendants) + 0.0) AS mean \n",
      "FROM (SELECT parent.id AS parent_id, parent.level AS parent_level, count(child.id) AS n_descendants \n",
      "FROM tree JOIN languoid AS parent ON tree.parent_id = parent.id LEFT OUTER JOIN languoid AS child ON tree.child_id = child.id GROUP BY parent.id, parent.level) AS parent_ndescendants\n",
      "[generated in 0.00069s] ('total',)\n",
      "ROLLBACK\n"
     ]
    },
    {
     "data": {
      "text/html": [
       "<div>\n",
       "<style scoped>\n",
       "    .dataframe tbody tr th:only-of-type {\n",
       "        vertical-align: middle;\n",
       "    }\n",
       "\n",
       "    .dataframe tbody tr th {\n",
       "        vertical-align: top;\n",
       "    }\n",
       "\n",
       "    .dataframe thead tr th {\n",
       "        text-align: left;\n",
       "    }\n",
       "\n",
       "    .dataframe thead tr:last-of-type th {\n",
       "        text-align: right;\n",
       "    }\n",
       "</style>\n",
       "<table border=\"1\" class=\"dataframe\">\n",
       "  <thead>\n",
       "    <tr>\n",
       "      <th></th>\n",
       "      <th colspan=\"3\" halign=\"left\">n_descendants</th>\n",
       "    </tr>\n",
       "    <tr>\n",
       "      <th></th>\n",
       "      <th>min</th>\n",
       "      <th>max</th>\n",
       "      <th>mean</th>\n",
       "    </tr>\n",
       "    <tr>\n",
       "      <th>parent_level</th>\n",
       "      <th></th>\n",
       "      <th></th>\n",
       "      <th></th>\n",
       "    </tr>\n",
       "  </thead>\n",
       "  <tbody>\n",
       "    <tr>\n",
       "      <th>dialect</th>\n",
       "      <td>0</td>\n",
       "      <td>56</td>\n",
       "      <td>0.257784</td>\n",
       "    </tr>\n",
       "    <tr>\n",
       "      <th>family</th>\n",
       "      <td>1</td>\n",
       "      <td>4852</td>\n",
       "      <td>34.488319</td>\n",
       "    </tr>\n",
       "    <tr>\n",
       "      <th>language</th>\n",
       "      <td>0</td>\n",
       "      <td>119</td>\n",
       "      <td>1.575131</td>\n",
       "    </tr>\n",
       "    <tr>\n",
       "      <th>total</th>\n",
       "      <td>0</td>\n",
       "      <td>4852</td>\n",
       "      <td>6.766779</td>\n",
       "    </tr>\n",
       "  </tbody>\n",
       "</table>\n",
       "</div>"
      ],
      "text/plain": [
       "             n_descendants                 \n",
       "                       min   max       mean\n",
       "parent_level                               \n",
       "dialect                  0    56   0.257784\n",
       "family                   1  4852  34.488319\n",
       "language                 0   119   1.575131\n",
       "total                    0  4852   6.766779"
      ]
     },
     "execution_count": 52,
     "metadata": {},
     "output_type": "execute_result"
    }
   ],
   "source": [
    "Parent, Child, parent_child = treedb.Languoid.parent_descendant()\n",
    "\n",
    "select_parent_ndescendants = (sa.select(Parent.id.label('parent_id'),\n",
    "                                        Parent.level.label('parent_level'),\n",
    "                                        sa.func.count(Child.id).label('n_descendants'))\n",
    "                              .select_from(parent_child)\n",
    "                              .group_by(Parent.id, Parent.level)\n",
    "                              .alias('parent_ndescendants'))\n",
    "\n",
    "parent_level = select_parent_ndescendants.c.parent_level\n",
    "\n",
    "n_descendants = select_parent_ndescendants.c.n_descendants\n",
    "\n",
    "d_min = sa.func.min(n_descendants).label('min')\n",
    "d_max = sa.func.max(n_descendants).label('max')\n",
    "d_mean = (sa.func.sum(n_descendants).cast(sa.Float) / sa.func.count(n_descendants)).label('mean')\n",
    "\n",
    "select_level_mean_descendants = (sa.select(parent_level, d_min, d_max, d_mean)\n",
    "                                 .group_by(parent_level)\n",
    "                                 .order_by(parent_level))\n",
    "\n",
    "select_total_mean_descendants = sa.select(sa.literal('total').label('parent_level'),\n",
    "                                          d_min, d_max, d_mean)\n",
    "\n",
    "select_mean_descendants = [select_level_mean_descendants, select_total_mean_descendants]\n",
    "\n",
    "_ = pd.concat([read_sql(q, index_col='parent_level') for q in select_mean_descendants])\n",
    "_.columns = pd.MultiIndex.from_product([['n_descendants'], _.columns])\n",
    "_"
   ]
  },
  {
   "cell_type": "markdown",
   "metadata": {},
   "source": [
    "## macroarea"
   ]
  },
  {
   "cell_type": "code",
   "execution_count": 53,
   "metadata": {},
   "outputs": [
    {
     "name": "stderr",
     "output_type": "stream",
     "text": [
      "BEGIN (implicit)\n",
      "SELECT sqlite_master.sql \n",
      "FROM sqlite_master \n",
      "WHERE sqlite_master.type = ? AND sqlite_master.name = ?\n",
      "[cached since 6.275s ago] ('table', 'macroarea')\n",
      "SELECT count(*) AS n_rows \n",
      "FROM macroarea\n",
      "[generated in 0.00059s] ()\n",
      "ROLLBACK\n"
     ]
    },
    {
     "name": "stdout",
     "output_type": "stream",
     "text": [
      "CREATE TABLE macroarea (\n",
      "\tname VARCHAR NOT NULL CHECK (name != ''), \n",
      "\tconfig_section VARCHAR NOT NULL CHECK (config_section != ''), \n",
      "\tdescription TEXT NOT NULL CHECK (description != ''), \n",
      "\tPRIMARY KEY (name), \n",
      "\tUNIQUE (config_section)\n",
      ") WITHOUT ROWID\n",
      "6\n"
     ]
    },
    {
     "name": "stderr",
     "output_type": "stream",
     "text": [
      "BEGIN (implicit)\n",
      "SELECT sqlite_master.sql \n",
      "FROM sqlite_master \n",
      "WHERE sqlite_master.type = ? AND sqlite_master.name = ?\n",
      "[cached since 6.28s ago] ('table', 'languoid_macroarea')\n",
      "SELECT count(*) AS n_rows \n",
      "FROM languoid_macroarea\n",
      "[generated in 0.00046s] ()\n",
      "ROLLBACK\n"
     ]
    },
    {
     "name": "stdout",
     "output_type": "stream",
     "text": [
      "CREATE TABLE languoid_macroarea (\n",
      "\tlanguoid_id VARCHAR(8) NOT NULL, \n",
      "\tmacroarea_name VARCHAR NOT NULL, \n",
      "\tPRIMARY KEY (languoid_id, macroarea_name), \n",
      "\tFOREIGN KEY(languoid_id) REFERENCES languoid (id), \n",
      "\tFOREIGN KEY(macroarea_name) REFERENCES macroarea (name)\n",
      ") WITHOUT ROWID\n",
      "22127\n"
     ]
    },
    {
     "name": "stderr",
     "output_type": "stream",
     "text": [
      "BEGIN (implicit)\n",
      "SELECT macroarea.name, macroarea.config_section, macroarea.description \n",
      "FROM macroarea ORDER BY macroarea.name\n",
      "[generated in 0.00073s] ()\n",
      "ROLLBACK\n"
     ]
    },
    {
     "data": {
      "text/html": [
       "<div>\n",
       "<style scoped>\n",
       "    .dataframe tbody tr th:only-of-type {\n",
       "        vertical-align: middle;\n",
       "    }\n",
       "\n",
       "    .dataframe tbody tr th {\n",
       "        vertical-align: top;\n",
       "    }\n",
       "\n",
       "    .dataframe thead th {\n",
       "        text-align: right;\n",
       "    }\n",
       "</style>\n",
       "<table border=\"1\" class=\"dataframe\">\n",
       "  <thead>\n",
       "    <tr style=\"text-align: right;\">\n",
       "      <th></th>\n",
       "      <th>name</th>\n",
       "      <th>description</th>\n",
       "    </tr>\n",
       "    <tr>\n",
       "      <th>config_section</th>\n",
       "      <th></th>\n",
       "      <th></th>\n",
       "    </tr>\n",
       "  </thead>\n",
       "  <tbody>\n",
       "    <tr>\n",
       "      <th>africa</th>\n",
       "      <td>Africa</td>\n",
       "      <td>The continent</td>\n",
       "    </tr>\n",
       "    <tr>\n",
       "      <th>australia</th>\n",
       "      <td>Australia</td>\n",
       "      <td>The continent</td>\n",
       "    </tr>\n",
       "    <tr>\n",
       "      <th>eurasia</th>\n",
       "      <td>Eurasia</td>\n",
       "      <td>The Eurasian landmass North of Sinai. Includes...</td>\n",
       "    </tr>\n",
       "    <tr>\n",
       "      <th>northamerica</th>\n",
       "      <td>North America</td>\n",
       "      <td>North and Middle America up to Panama. Include...</td>\n",
       "    </tr>\n",
       "    <tr>\n",
       "      <th>pacific</th>\n",
       "      <td>Papunesia</td>\n",
       "      <td>All islands between Sumatra and the Americas, ...</td>\n",
       "    </tr>\n",
       "    <tr>\n",
       "      <th>southamerica</th>\n",
       "      <td>South America</td>\n",
       "      <td>Everything South of Darién.</td>\n",
       "    </tr>\n",
       "  </tbody>\n",
       "</table>\n",
       "</div>"
      ],
      "text/plain": [
       "                         name  \\\n",
       "config_section                  \n",
       "africa                 Africa   \n",
       "australia           Australia   \n",
       "eurasia               Eurasia   \n",
       "northamerica    North America   \n",
       "pacific             Papunesia   \n",
       "southamerica    South America   \n",
       "\n",
       "                                                      description  \n",
       "config_section                                                     \n",
       "africa                                              The continent  \n",
       "australia                                           The continent  \n",
       "eurasia         The Eurasian landmass North of Sinai. Includes...  \n",
       "northamerica    North and Middle America up to Panama. Include...  \n",
       "pacific         All islands between Sumatra and the Americas, ...  \n",
       "southamerica                          Everything South of Darién.  "
      ]
     },
     "execution_count": 53,
     "metadata": {},
     "output_type": "execute_result"
    }
   ],
   "source": [
    "from treedb.models import Macroarea, languoid_macroarea\n",
    "\n",
    "print_sql(Macroarea)\n",
    "print_sql(languoid_macroarea)\n",
    "read_sql(sa.select(Macroarea).order_by('name'), index_col='config_section')"
   ]
  },
  {
   "cell_type": "code",
   "execution_count": 54,
   "metadata": {},
   "outputs": [
    {
     "name": "stderr",
     "output_type": "stream",
     "text": [
      "BEGIN (implicit)\n",
      "SELECT macroarea.name AS macroarea, count(*) AS n_languages \n",
      "FROM macroarea LEFT OUTER JOIN languoid_macroarea ON macroarea.name = languoid_macroarea.macroarea_name JOIN languoid ON languoid.id = languoid_macroarea.languoid_id \n",
      "WHERE languoid.level = ? GROUP BY macroarea.name ORDER BY n_languages DESC\n",
      "[generated in 0.00097s] ('language',)\n",
      "ROLLBACK\n"
     ]
    },
    {
     "data": {
      "text/html": [
       "<div>\n",
       "<style scoped>\n",
       "    .dataframe tbody tr th:only-of-type {\n",
       "        vertical-align: middle;\n",
       "    }\n",
       "\n",
       "    .dataframe tbody tr th {\n",
       "        vertical-align: top;\n",
       "    }\n",
       "\n",
       "    .dataframe thead th {\n",
       "        text-align: right;\n",
       "    }\n",
       "</style>\n",
       "<table border=\"1\" class=\"dataframe\">\n",
       "  <thead>\n",
       "    <tr style=\"text-align: right;\">\n",
       "      <th></th>\n",
       "      <th>n_languages</th>\n",
       "    </tr>\n",
       "    <tr>\n",
       "      <th>macroarea</th>\n",
       "      <th></th>\n",
       "    </tr>\n",
       "  </thead>\n",
       "  <tbody>\n",
       "    <tr>\n",
       "      <th>Africa</th>\n",
       "      <td>2375</td>\n",
       "    </tr>\n",
       "    <tr>\n",
       "      <th>Papunesia</th>\n",
       "      <td>2215</td>\n",
       "    </tr>\n",
       "    <tr>\n",
       "      <th>Eurasia</th>\n",
       "      <td>2023</td>\n",
       "    </tr>\n",
       "    <tr>\n",
       "      <th>North America</th>\n",
       "      <td>793</td>\n",
       "    </tr>\n",
       "    <tr>\n",
       "      <th>South America</th>\n",
       "      <td>718</td>\n",
       "    </tr>\n",
       "    <tr>\n",
       "      <th>Australia</th>\n",
       "      <td>389</td>\n",
       "    </tr>\n",
       "  </tbody>\n",
       "</table>\n",
       "</div>"
      ],
      "text/plain": [
       "               n_languages\n",
       "macroarea                 \n",
       "Africa                2375\n",
       "Papunesia             2215\n",
       "Eurasia               2023\n",
       "North America          793\n",
       "South America          718\n",
       "Australia              389"
      ]
     },
     "execution_count": 54,
     "metadata": {},
     "output_type": "execute_result"
    },
    {
     "data": {
      "image/png": "[encoded data removed]",
      "text/plain": [
       "<Figure size 432x288 with 1 Axes>"
      ]
     },
     "metadata": {},
     "output_type": "display_data"
    }
   ],
   "source": [
    "select_macroarea_nlanguages = (sa.select(Macroarea.name.label('macroarea'),\n",
    "                                         sa.func.count().label('n_languages'))\n",
    "                               .outerjoin_from(Macroarea, languoid_macroarea).join(Languoid)\n",
    "                               .filter_by(level=LANGUAGE)\n",
    "                               .group_by(Macroarea.name)\n",
    "                               .order_by(sa.desc('n_languages')))\n",
    "\n",
    "_ = read_sql(select_macroarea_nlanguages, index_col='macroarea')\n",
    "_.plot.pie(y='n_languages', figsize=(6 * 72 / 100, 4 * 72 / 100))\n",
    "_"
   ]
  },
  {
   "cell_type": "code",
   "execution_count": 55,
   "metadata": {},
   "outputs": [
    {
     "name": "stderr",
     "output_type": "stream",
     "text": [
      "BEGIN (implicit)\n",
      "SELECT languoid.id, languoid.name, group_concat(macroarea.name, ?) AS macroareas \n",
      "FROM languoid JOIN languoid_macroarea ON languoid.id = languoid_macroarea.languoid_id JOIN macroarea ON macroarea.name = languoid_macroarea.macroarea_name \n",
      "WHERE languoid.level = ? GROUP BY languoid.id \n",
      "HAVING count(*) > ? ORDER BY languoid.id\n",
      "[generated in 0.00084s] (', ', 'language', 1)\n",
      "ROLLBACK\n"
     ]
    }
   ],
   "source": [
    "macroareas = sa.func.group_concat(Macroarea.name, ', ').label('macroareas')\n",
    "\n",
    "select_multiarea_languages = (sa.select(Languoid.id, Languoid.name, macroareas)\n",
    "                              .select_from(Languoid)\n",
    "                              .filter_by(level=LANGUAGE)\n",
    "                              .join(languoid_macroarea).join(Macroarea)\n",
    "                              .group_by(Languoid.id)\n",
    "                              .having(sa.func.count() > 1)\n",
    "                              .order_by('id'))\n",
    "    \n",
    "assert read_sql(select_multiarea_languages).empty"
   ]
  },
  {
   "cell_type": "markdown",
   "metadata": {},
   "source": [
    "## country"
   ]
  },
  {
   "cell_type": "code",
   "execution_count": 56,
   "metadata": {},
   "outputs": [
    {
     "name": "stderr",
     "output_type": "stream",
     "text": [
      "BEGIN (implicit)\n",
      "SELECT sqlite_master.sql \n",
      "FROM sqlite_master \n",
      "WHERE sqlite_master.type = ? AND sqlite_master.name = ?\n",
      "[cached since 6.424s ago] ('table', 'country')\n",
      "SELECT count(*) AS n_rows \n",
      "FROM country\n",
      "[generated in 0.00036s] ()\n",
      "ROLLBACK\n"
     ]
    },
    {
     "name": "stdout",
     "output_type": "stream",
     "text": [
      "CREATE TABLE country (\n",
      "\tid VARCHAR(2) NOT NULL CHECK (length(id) = 2), \n",
      "\tname TEXT NOT NULL CHECK (name != ''), \n",
      "\tPRIMARY KEY (id), \n",
      "\tUNIQUE (name)\n",
      ") WITHOUT ROWID\n",
      "246\n"
     ]
    },
    {
     "name": "stderr",
     "output_type": "stream",
     "text": [
      "BEGIN (implicit)\n",
      "SELECT sqlite_master.sql \n",
      "FROM sqlite_master \n",
      "WHERE sqlite_master.type = ? AND sqlite_master.name = ?\n",
      "[cached since 6.429s ago] ('table', 'languoid_country')\n",
      "SELECT count(*) AS n_rows \n",
      "FROM languoid_country\n",
      "[generated in 0.00053s] ()\n",
      "ROLLBACK\n"
     ]
    },
    {
     "name": "stdout",
     "output_type": "stream",
     "text": [
      "CREATE TABLE languoid_country (\n",
      "\tlanguoid_id VARCHAR(8) NOT NULL, \n",
      "\tcountry_id VARCHAR(2) NOT NULL, \n",
      "\tPRIMARY KEY (languoid_id, country_id), \n",
      "\tFOREIGN KEY(languoid_id) REFERENCES languoid (id), \n",
      "\tFOREIGN KEY(country_id) REFERENCES country (id)\n",
      ") WITHOUT ROWID\n",
      "11912\n"
     ]
    }
   ],
   "source": [
    "from treedb.models import Country, languoid_country\n",
    "\n",
    "print_sql(Country)\n",
    "print_sql(languoid_country)"
   ]
  },
  {
   "cell_type": "code",
   "execution_count": 57,
   "metadata": {},
   "outputs": [
    {
     "name": "stderr",
     "output_type": "stream",
     "text": [
      "BEGIN (implicit)\n",
      "SELECT country.name AS country, count(*) AS n_languages \n",
      "FROM country LEFT OUTER JOIN languoid_country ON country.id = languoid_country.country_id JOIN languoid ON languoid.id = languoid_country.languoid_id \n",
      "WHERE languoid.level = ? GROUP BY country.id ORDER BY n_languages DESC\n",
      " LIMIT ? OFFSET ?\n",
      "[generated in 0.00088s] ('language', 10, 0)\n",
      "ROLLBACK\n"
     ]
    },
    {
     "data": {
      "text/html": [
       "<div>\n",
       "<style scoped>\n",
       "    .dataframe tbody tr th:only-of-type {\n",
       "        vertical-align: middle;\n",
       "    }\n",
       "\n",
       "    .dataframe tbody tr th {\n",
       "        vertical-align: top;\n",
       "    }\n",
       "\n",
       "    .dataframe thead th {\n",
       "        text-align: right;\n",
       "    }\n",
       "</style>\n",
       "<table border=\"1\" class=\"dataframe\">\n",
       "  <thead>\n",
       "    <tr style=\"text-align: right;\">\n",
       "      <th></th>\n",
       "      <th>n_languages</th>\n",
       "    </tr>\n",
       "    <tr>\n",
       "      <th>country</th>\n",
       "      <th></th>\n",
       "    </tr>\n",
       "  </thead>\n",
       "  <tbody>\n",
       "    <tr>\n",
       "      <th>Papua New Guinea</th>\n",
       "      <td>899</td>\n",
       "    </tr>\n",
       "    <tr>\n",
       "      <th>Indonesia</th>\n",
       "      <td>752</td>\n",
       "    </tr>\n",
       "    <tr>\n",
       "      <th>Nigeria</th>\n",
       "      <td>590</td>\n",
       "    </tr>\n",
       "    <tr>\n",
       "      <th>India</th>\n",
       "      <td>518</td>\n",
       "    </tr>\n",
       "    <tr>\n",
       "      <th>China</th>\n",
       "      <td>448</td>\n",
       "    </tr>\n",
       "    <tr>\n",
       "      <th>Australia</th>\n",
       "      <td>401</td>\n",
       "    </tr>\n",
       "    <tr>\n",
       "      <th>Mexico</th>\n",
       "      <td>339</td>\n",
       "    </tr>\n",
       "    <tr>\n",
       "      <th>Brazil</th>\n",
       "      <td>338</td>\n",
       "    </tr>\n",
       "    <tr>\n",
       "      <th>United States</th>\n",
       "      <td>321</td>\n",
       "    </tr>\n",
       "    <tr>\n",
       "      <th>Cameroon</th>\n",
       "      <td>317</td>\n",
       "    </tr>\n",
       "  </tbody>\n",
       "</table>\n",
       "</div>"
      ],
      "text/plain": [
       "                  n_languages\n",
       "country                      \n",
       "Papua New Guinea          899\n",
       "Indonesia                 752\n",
       "Nigeria                   590\n",
       "India                     518\n",
       "China                     448\n",
       "Australia                 401\n",
       "Mexico                    339\n",
       "Brazil                    338\n",
       "United States             321\n",
       "Cameroon                  317"
      ]
     },
     "execution_count": 57,
     "metadata": {},
     "output_type": "execute_result"
    }
   ],
   "source": [
    "select_country_nlanguages = (sa.select(Country.name.label('country'),\n",
    "                                       sa.func.count().label('n_languages'))\n",
    "                             .outerjoin_from(Country, languoid_country).join(Languoid)\n",
    "                             .filter_by(level=LANGUAGE)\n",
    "                             .group_by(Country.id)\n",
    "                             .order_by(sa.desc('n_languages'))\n",
    "                             .limit(10))\n",
    "\n",
    "read_sql(select_country_nlanguages, index_col='country')"
   ]
  },
  {
   "cell_type": "code",
   "execution_count": 58,
   "metadata": {},
   "outputs": [
    {
     "name": "stderr",
     "output_type": "stream",
     "text": [
      "BEGIN (implicit)\n",
      "SELECT lang_country.id, lang_country.name, count(*) AS n_countries, group_concat(lang_country.country, ?) AS countries \n",
      "FROM (SELECT languoid.id AS id, languoid.name AS name, country.id AS country \n",
      "FROM languoid JOIN languoid_country ON languoid.id = languoid_country.languoid_id JOIN country ON country.id = languoid_country.country_id \n",
      "WHERE languoid.level = ? ORDER BY languoid.id, country) AS lang_country GROUP BY lang_country.id, lang_country.name \n",
      "HAVING count(*) > ? ORDER BY n_countries DESC, lang_country.id\n",
      " LIMIT ? OFFSET ?\n",
      "[generated in 0.00109s] (', ', 'language', 1, 10, 0)\n",
      "ROLLBACK\n"
     ]
    },
    {
     "data": {
      "text/html": [
       "<div>\n",
       "<style scoped>\n",
       "    .dataframe tbody tr th:only-of-type {\n",
       "        vertical-align: middle;\n",
       "    }\n",
       "\n",
       "    .dataframe tbody tr th {\n",
       "        vertical-align: top;\n",
       "    }\n",
       "\n",
       "    .dataframe thead th {\n",
       "        text-align: right;\n",
       "    }\n",
       "</style>\n",
       "<table border=\"1\" class=\"dataframe\">\n",
       "  <thead>\n",
       "    <tr style=\"text-align: right;\">\n",
       "      <th></th>\n",
       "      <th>name</th>\n",
       "      <th>n_countries</th>\n",
       "      <th>countries</th>\n",
       "    </tr>\n",
       "    <tr>\n",
       "      <th>id</th>\n",
       "      <th></th>\n",
       "      <th></th>\n",
       "      <th></th>\n",
       "    </tr>\n",
       "  </thead>\n",
       "  <tbody>\n",
       "    <tr>\n",
       "      <th>stan1293</th>\n",
       "      <td>English</td>\n",
       "      <td>34</td>\n",
       "      <td>AU, BM, BR, BZ, CA, CC, CK, CU, CX, DO, FK, GB...</td>\n",
       "    </tr>\n",
       "    <tr>\n",
       "      <th>vlax1238</th>\n",
       "      <td>Vlax Romani</td>\n",
       "      <td>32</td>\n",
       "      <td>AL, AT, BA, BG, BY, CH, CZ, DE, ES, FI, FR, GR...</td>\n",
       "    </tr>\n",
       "    <tr>\n",
       "      <th>balk1252</th>\n",
       "      <td>Balkan Romani</td>\n",
       "      <td>30</td>\n",
       "      <td>AL, AT, BA, BG, BY, CH, CZ, DE, FI, FR, GB, GR...</td>\n",
       "    </tr>\n",
       "    <tr>\n",
       "      <th>stan1288</th>\n",
       "      <td>Spanish</td>\n",
       "      <td>30</td>\n",
       "      <td>AD, AR, BO, BR, BZ, CL, CO, CR, CU, DO, EC, ES...</td>\n",
       "    </tr>\n",
       "    <tr>\n",
       "      <th>balt1257</th>\n",
       "      <td>Baltic Romani</td>\n",
       "      <td>29</td>\n",
       "      <td>AL, AT, BA, BG, BY, CH, CZ, DE, EE, FI, FR, GB...</td>\n",
       "    </tr>\n",
       "    <tr>\n",
       "      <th>sint1235</th>\n",
       "      <td>Sinte-Manus Romani</td>\n",
       "      <td>29</td>\n",
       "      <td>AL, AT, BA, BG, BY, CH, CZ, DE, FI, FR, GB, GR...</td>\n",
       "    </tr>\n",
       "    <tr>\n",
       "      <th>carp1235</th>\n",
       "      <td>Central Romani</td>\n",
       "      <td>28</td>\n",
       "      <td>AL, AT, BA, BG, BY, CH, CZ, DE, FI, FR, GB, GR...</td>\n",
       "    </tr>\n",
       "    <tr>\n",
       "      <th>stan1318</th>\n",
       "      <td>Standard Arabic</td>\n",
       "      <td>25</td>\n",
       "      <td>AE, BH, DJ, DZ, EG, ER, IL, IQ, JO, KM, KW, LB...</td>\n",
       "    </tr>\n",
       "    <tr>\n",
       "      <th>amer1248</th>\n",
       "      <td>American Sign Language</td>\n",
       "      <td>22</td>\n",
       "      <td>BB, BF, BJ, BO, CA, CD, CF, CI, CN, GA, GH, JM...</td>\n",
       "    </tr>\n",
       "    <tr>\n",
       "      <th>east2295</th>\n",
       "      <td>Eastern Yiddish</td>\n",
       "      <td>22</td>\n",
       "      <td>AR, AU, BE, BY, CA, CR, EE, HU, IL, LT, LV, MD...</td>\n",
       "    </tr>\n",
       "  </tbody>\n",
       "</table>\n",
       "</div>"
      ],
      "text/plain": [
       "                            name  n_countries  \\\n",
       "id                                              \n",
       "stan1293                 English           34   \n",
       "vlax1238             Vlax Romani           32   \n",
       "balk1252           Balkan Romani           30   \n",
       "stan1288                 Spanish           30   \n",
       "balt1257           Baltic Romani           29   \n",
       "sint1235      Sinte-Manus Romani           29   \n",
       "carp1235          Central Romani           28   \n",
       "stan1318         Standard Arabic           25   \n",
       "amer1248  American Sign Language           22   \n",
       "east2295         Eastern Yiddish           22   \n",
       "\n",
       "                                                  countries  \n",
       "id                                                           \n",
       "stan1293  AU, BM, BR, BZ, CA, CC, CK, CU, CX, DO, FK, GB...  \n",
       "vlax1238  AL, AT, BA, BG, BY, CH, CZ, DE, ES, FI, FR, GR...  \n",
       "balk1252  AL, AT, BA, BG, BY, CH, CZ, DE, FI, FR, GB, GR...  \n",
       "stan1288  AD, AR, BO, BR, BZ, CL, CO, CR, CU, DO, EC, ES...  \n",
       "balt1257  AL, AT, BA, BG, BY, CH, CZ, DE, EE, FI, FR, GB...  \n",
       "sint1235  AL, AT, BA, BG, BY, CH, CZ, DE, FI, FR, GB, GR...  \n",
       "carp1235  AL, AT, BA, BG, BY, CH, CZ, DE, FI, FR, GB, GR...  \n",
       "stan1318  AE, BH, DJ, DZ, EG, ER, IL, IQ, JO, KM, KW, LB...  \n",
       "amer1248  BB, BF, BJ, BO, CA, CD, CF, CI, CN, GA, GH, JM...  \n",
       "east2295  AR, AU, BE, BY, CA, CR, EE, HU, IL, LT, LV, MD...  "
      ]
     },
     "execution_count": 58,
     "metadata": {},
     "output_type": "execute_result"
    }
   ],
   "source": [
    "select_lang_country = (sa.select(Languoid.id, Languoid.name, Country.id.label('country'))\n",
    "                       .select_from(Languoid)\n",
    "                       .filter_by(level=LANGUAGE)\n",
    "                       .join(languoid_country).join(Country)\n",
    "                       .order_by(Languoid.id, 'country')\n",
    "                       .alias('lang_country'))\n",
    "\n",
    "countries = sa.func.group_concat(select_lang_country.c.country, ', ').label('countries')\n",
    "\n",
    "select_multicountry_languages = (sa.select(select_lang_country.c.id,\n",
    "                                           select_lang_country.c.name,\n",
    "                                           sa.func.count().label('n_countries'),\n",
    "                                           countries)\n",
    "                                 .group_by(select_lang_country.c.id,\n",
    "                                           select_lang_country.c.name)\n",
    "                                 .having(sa.func.count() > 1)\n",
    "                                 .order_by(sa.desc('n_countries'),\n",
    "                                           select_lang_country.c.id)\n",
    "                                 .limit(10))\n",
    "    \n",
    "read_sql(select_multicountry_languages, index_col='id')"
   ]
  },
  {
   "cell_type": "code",
   "execution_count": 59,
   "metadata": {},
   "outputs": [
    {
     "name": "stderr",
     "output_type": "stream",
     "text": [
      "BEGIN (implicit)\n",
      "SELECT language_ncountries.n_countries, count(*) AS n_languages \n",
      "FROM (SELECT languoid.id AS id, count(*) AS n_countries \n",
      "FROM languoid LEFT OUTER JOIN languoid_country ON languoid.id = languoid_country.languoid_id \n",
      "WHERE languoid.level = ? GROUP BY languoid.id) AS language_ncountries GROUP BY language_ncountries.n_countries ORDER BY language_ncountries.n_countries\n",
      "[generated in 0.00093s] ('language',)\n",
      "ROLLBACK\n",
      "BEGIN (implicit)\n",
      "SELECT ? AS value, count(*) AS count, sum(language_ncountries.n_countries) AS sum, min(language_ncountries.n_countries) AS min, max(language_ncountries.n_countries) AS max, avg(language_ncountries.n_countries) AS mean \n",
      "FROM (SELECT languoid.id AS id, count(*) AS n_countries \n",
      "FROM languoid LEFT OUTER JOIN languoid_country ON languoid.id = languoid_country.languoid_id \n",
      "WHERE languoid.level = ? GROUP BY languoid.id) AS language_ncountries\n",
      "[generated in 0.00100s] ('n_countries', 'language')\n",
      "ROLLBACK\n"
     ]
    },
    {
     "data": {
      "text/html": [
       "<div>\n",
       "<style scoped>\n",
       "    .dataframe tbody tr th:only-of-type {\n",
       "        vertical-align: middle;\n",
       "    }\n",
       "\n",
       "    .dataframe tbody tr th {\n",
       "        vertical-align: top;\n",
       "    }\n",
       "\n",
       "    .dataframe thead th {\n",
       "        text-align: right;\n",
       "    }\n",
       "</style>\n",
       "<table border=\"1\" class=\"dataframe\">\n",
       "  <thead>\n",
       "    <tr style=\"text-align: right;\">\n",
       "      <th></th>\n",
       "      <th>count</th>\n",
       "      <th>sum</th>\n",
       "      <th>min</th>\n",
       "      <th>max</th>\n",
       "      <th>mean</th>\n",
       "    </tr>\n",
       "  </thead>\n",
       "  <tbody>\n",
       "    <tr>\n",
       "      <th>n_countries</th>\n",
       "      <td>8605</td>\n",
       "      <td>11342</td>\n",
       "      <td>1</td>\n",
       "      <td>34</td>\n",
       "      <td>1.318071</td>\n",
       "    </tr>\n",
       "  </tbody>\n",
       "</table>\n",
       "</div>"
      ],
      "text/plain": [
       "             count    sum  min  max      mean\n",
       "n_countries   8605  11342    1   34  1.318071"
      ]
     },
     "execution_count": 59,
     "metadata": {},
     "output_type": "execute_result"
    },
    {
     "data": {
      "image/png": "[encoded data removed]",
      "text/plain": [
       "<Figure size 864x216 with 1 Axes>"
      ]
     },
     "metadata": {},
     "output_type": "display_data"
    }
   ],
   "source": [
    "n_countries = (sa.select(Languoid.id, sa.func.count().label('n_countries'))\n",
    "               .select_from(Languoid)\n",
    "               .filter_by(level=LANGUAGE)\n",
    "               .outerjoin(languoid_country)\n",
    "               .group_by(Languoid.id)\n",
    "               .alias('language_ncountries')\n",
    "               .c.n_countries)\n",
    "\n",
    "select_lc_dist = (sa.select(n_countries, sa.func.count().label('n_languages'))\n",
    "                  .group_by(n_countries)\n",
    "                  .order_by('n_countries'))\n",
    "\n",
    "_ = read_sql(select_lc_dist, index_col='n_countries')\n",
    "\n",
    "_.plot.bar(figsize=(12 * 72 / 100, 3 * 72 / 100))\n",
    "\n",
    "(read_sql(sa.select(sa.literal('n_countries').label('value'),\n",
    "                   sa.func.count().label('count'),\n",
    "                   sa.func.sum(n_countries).label('sum'),\n",
    "                   sa.func.min(n_countries).label('min'),\n",
    "                   sa.func.max(n_countries).label('max'),\n",
    "                   sa.func.avg(n_countries).label('mean')),\n",
    "          index_col='value')\n",
    " .rename_axis(None))"
   ]
  },
  {
   "cell_type": "markdown",
   "metadata": {},
   "source": [
    "## altname"
   ]
  },
  {
   "cell_type": "code",
   "execution_count": 60,
   "metadata": {},
   "outputs": [
    {
     "name": "stderr",
     "output_type": "stream",
     "text": [
      "BEGIN (implicit)\n",
      "SELECT altnameprovider.name AS altname_provider, count(DISTINCT altname.languoid_id) AS n_languoids \n",
      "FROM altnameprovider JOIN altname ON altnameprovider.id = altname.provider_id GROUP BY altnameprovider.name ORDER BY n_languoids, altname_provider\n",
      "[generated in 0.00103s] ()\n",
      "ROLLBACK\n"
     ]
    },
    {
     "data": {
      "image/png": "[encoded data removed]",
      "text/plain": [
       "<Figure size 432x288 with 1 Axes>"
      ]
     },
     "metadata": {},
     "output_type": "display_data"
    }
   ],
   "source": [
    "from treedb.models import Altname, AltnameProvider\n",
    "\n",
    "select_provider_nlanguoids = (sa.select(AltnameProvider.name.label('altname_provider'),\n",
    "                                        sa.func.count(sa.distinct(Altname.languoid_id)).label('n_languoids'))\n",
    "                              .join_from(AltnameProvider, Altname)\n",
    "                              .group_by(AltnameProvider.name)\n",
    "                              .order_by('n_languoids', 'altname_provider'))\n",
    "\n",
    "(read_sql(select_provider_nlanguoids, index_col='altname_provider')\n",
    " .plot.barh(figsize=(6 * 72 / 100, 4 * 72 / 100)));"
   ]
  },
  {
   "cell_type": "code",
   "execution_count": 61,
   "metadata": {},
   "outputs": [
    {
     "name": "stderr",
     "output_type": "stream",
     "text": [
      "BEGIN (implicit)\n",
      "SELECT languoid_naltnames.n_altnames, count(*) AS n_languoids \n",
      "FROM (SELECT languoid.id AS id, count(*) AS n_altnames \n",
      "FROM languoid LEFT OUTER JOIN altname ON languoid.id = altname.languoid_id GROUP BY languoid.id) AS languoid_naltnames GROUP BY languoid_naltnames.n_altnames ORDER BY languoid_naltnames.n_altnames\n",
      "[generated in 0.00091s] ()\n",
      "ROLLBACK\n",
      "BEGIN (implicit)\n",
      "SELECT ? AS value, count(*) AS count, sum(languoid_naltnames.n_altnames) AS sum, min(languoid_naltnames.n_altnames) AS min, max(languoid_naltnames.n_altnames) AS max, avg(languoid_naltnames.n_altnames) AS mean \n",
      "FROM (SELECT languoid.id AS id, count(*) AS n_altnames \n",
      "FROM languoid LEFT OUTER JOIN altname ON languoid.id = altname.languoid_id GROUP BY languoid.id) AS languoid_naltnames\n",
      "[generated in 0.00081s] ('n_altnames',)\n",
      "ROLLBACK\n"
     ]
    },
    {
     "data": {
      "text/html": [
       "<div>\n",
       "<style scoped>\n",
       "    .dataframe tbody tr th:only-of-type {\n",
       "        vertical-align: middle;\n",
       "    }\n",
       "\n",
       "    .dataframe tbody tr th {\n",
       "        vertical-align: top;\n",
       "    }\n",
       "\n",
       "    .dataframe thead th {\n",
       "        text-align: right;\n",
       "    }\n",
       "</style>\n",
       "<table border=\"1\" class=\"dataframe\">\n",
       "  <thead>\n",
       "    <tr style=\"text-align: right;\">\n",
       "      <th></th>\n",
       "      <th>count</th>\n",
       "      <th>sum</th>\n",
       "      <th>min</th>\n",
       "      <th>max</th>\n",
       "      <th>mean</th>\n",
       "    </tr>\n",
       "  </thead>\n",
       "  <tbody>\n",
       "    <tr>\n",
       "      <th>n_altnames</th>\n",
       "      <td>26953</td>\n",
       "      <td>171011</td>\n",
       "      <td>1</td>\n",
       "      <td>273</td>\n",
       "      <td>6.344785</td>\n",
       "    </tr>\n",
       "  </tbody>\n",
       "</table>\n",
       "</div>"
      ],
      "text/plain": [
       "            count     sum  min  max      mean\n",
       "n_altnames  26953  171011    1  273  6.344785"
      ]
     },
     "execution_count": 61,
     "metadata": {},
     "output_type": "execute_result"
    },
    {
     "data": {
      "image/png": "[encoded data removed]",
      "text/plain": [
       "<Figure size 864x216 with 1 Axes>"
      ]
     },
     "metadata": {},
     "output_type": "display_data"
    }
   ],
   "source": [
    "n_altnames = (sa.select(Languoid.id, sa.func.count().label('n_altnames'))\n",
    "              .outerjoin_from(Languoid, Altname)\n",
    "              .group_by(Languoid.id)\n",
    "              .alias('languoid_naltnames')\n",
    "              .c.n_altnames)\n",
    "\n",
    "select_la_dist = (sa.select(n_altnames, sa.func.count().label('n_languoids'))\n",
    "                  .group_by(n_altnames)\n",
    "                  .order_by(n_altnames))\n",
    "\n",
    "_ = read_sql(select_la_dist, index_col='n_altnames')\n",
    "\n",
    "_.plot.area(figsize=(12 * 72 / 100, 3 * 72 / 100))\n",
    "\n",
    "(read_sql(sa.select(sa.literal('n_altnames').label('value'),\n",
    "                    sa.func.count().label('count'),\n",
    "                    sa.func.sum(n_altnames).label('sum'),\n",
    "                    sa.func.min(n_altnames).label('min'),\n",
    "                    sa.func.max(n_altnames).label('max'),\n",
    "                    sa.func.avg(n_altnames).label('mean')),\n",
    "         index_col='value')\n",
    " .rename_axis(None))"
   ]
  },
  {
   "cell_type": "markdown",
   "metadata": {},
   "source": [
    "## source"
   ]
  },
  {
   "cell_type": "code",
   "execution_count": 62,
   "metadata": {},
   "outputs": [
    {
     "name": "stderr",
     "output_type": "stream",
     "text": [
      "BEGIN (implicit)\n",
      "SELECT sourceprovider.name AS provider, languoid.level, count(*) AS n_sources \n",
      "FROM sourceprovider JOIN source ON sourceprovider.id = source.provider_id JOIN languoid ON languoid.id = source.languoid_id GROUP BY sourceprovider.name, languoid.level ORDER BY provider, n_sources DESC\n",
      "[generated in 0.00096s] ()\n",
      "ROLLBACK\n"
     ]
    },
    {
     "data": {
      "text/html": [
       "<div>\n",
       "<style scoped>\n",
       "    .dataframe tbody tr th:only-of-type {\n",
       "        vertical-align: middle;\n",
       "    }\n",
       "\n",
       "    .dataframe tbody tr th {\n",
       "        vertical-align: top;\n",
       "    }\n",
       "\n",
       "    .dataframe thead th {\n",
       "        text-align: right;\n",
       "    }\n",
       "</style>\n",
       "<table border=\"1\" class=\"dataframe\">\n",
       "  <thead>\n",
       "    <tr style=\"text-align: right;\">\n",
       "      <th></th>\n",
       "      <th></th>\n",
       "      <th>n_sources</th>\n",
       "    </tr>\n",
       "    <tr>\n",
       "      <th>provider</th>\n",
       "      <th>level</th>\n",
       "      <th></th>\n",
       "    </tr>\n",
       "  </thead>\n",
       "  <tbody>\n",
       "    <tr>\n",
       "      <th rowspan=\"3\" valign=\"top\">glottolog</th>\n",
       "      <th>language</th>\n",
       "      <td>215399</td>\n",
       "    </tr>\n",
       "    <tr>\n",
       "      <th>dialect</th>\n",
       "      <td>2661</td>\n",
       "    </tr>\n",
       "    <tr>\n",
       "      <th>family</th>\n",
       "      <td>2612</td>\n",
       "    </tr>\n",
       "  </tbody>\n",
       "</table>\n",
       "</div>"
      ],
      "text/plain": [
       "                    n_sources\n",
       "provider  level              \n",
       "glottolog language     215399\n",
       "          dialect        2661\n",
       "          family         2612"
      ]
     },
     "execution_count": 62,
     "metadata": {},
     "output_type": "execute_result"
    }
   ],
   "source": [
    "from treedb.models import Source, SourceProvider\n",
    "\n",
    "select_provider_nsources = (sa.select(SourceProvider.name.label('provider'),\n",
    "                                      Languoid.level,\n",
    "                                      sa.func.count().label('n_sources'))\n",
    "                            .join_from(SourceProvider, Source).join(Languoid)\n",
    "                            .group_by(SourceProvider.name, Languoid.level)\n",
    "                            .order_by('provider', sa.desc('n_sources')))\n",
    "\n",
    "read_sql(select_provider_nsources, index_col=['provider', 'level'])"
   ]
  },
  {
   "cell_type": "code",
   "execution_count": 63,
   "metadata": {},
   "outputs": [
    {
     "name": "stderr",
     "output_type": "stream",
     "text": [
      "BEGIN (implicit)\n",
      "SELECT lang_nsources.n_sources, count(*) AS n_languoids \n",
      "FROM (SELECT languoid.id AS id, count(source.languoid_id) AS n_sources \n",
      "FROM languoid LEFT OUTER JOIN source ON languoid.id = source.languoid_id GROUP BY languoid.id) AS lang_nsources GROUP BY lang_nsources.n_sources ORDER BY n_languoids\n",
      "[generated in 0.00103s] ()\n",
      "ROLLBACK\n",
      "BEGIN (implicit)\n",
      "SELECT ? AS value, count(*) AS count, sum(lang_nsources.n_sources) AS sum, min(lang_nsources.n_sources) AS min, max(lang_nsources.n_sources) AS max, avg(lang_nsources.n_sources) AS mean \n",
      "FROM (SELECT languoid.id AS id, count(source.languoid_id) AS n_sources \n",
      "FROM languoid LEFT OUTER JOIN source ON languoid.id = source.languoid_id GROUP BY languoid.id) AS lang_nsources\n",
      "[generated in 0.00106s] ('n_sources',)\n",
      "ROLLBACK\n"
     ]
    },
    {
     "data": {
      "text/html": [
       "<div>\n",
       "<style scoped>\n",
       "    .dataframe tbody tr th:only-of-type {\n",
       "        vertical-align: middle;\n",
       "    }\n",
       "\n",
       "    .dataframe tbody tr th {\n",
       "        vertical-align: top;\n",
       "    }\n",
       "\n",
       "    .dataframe thead th {\n",
       "        text-align: right;\n",
       "    }\n",
       "</style>\n",
       "<table border=\"1\" class=\"dataframe\">\n",
       "  <thead>\n",
       "    <tr style=\"text-align: right;\">\n",
       "      <th></th>\n",
       "      <th>count</th>\n",
       "      <th>sum</th>\n",
       "      <th>min</th>\n",
       "      <th>max</th>\n",
       "      <th>mean</th>\n",
       "    </tr>\n",
       "  </thead>\n",
       "  <tbody>\n",
       "    <tr>\n",
       "      <th>n_sources</th>\n",
       "      <td>26953</td>\n",
       "      <td>220672</td>\n",
       "      <td>0</td>\n",
       "      <td>1565</td>\n",
       "      <td>8.187289</td>\n",
       "    </tr>\n",
       "  </tbody>\n",
       "</table>\n",
       "</div>"
      ],
      "text/plain": [
       "           count     sum  min   max      mean\n",
       "n_sources  26953  220672    0  1565  8.187289"
      ]
     },
     "execution_count": 63,
     "metadata": {},
     "output_type": "execute_result"
    },
    {
     "data": {
      "image/png": "[encoded data removed]",
      "text/plain": [
       "<Figure size 288x216 with 1 Axes>"
      ]
     },
     "metadata": {},
     "output_type": "display_data"
    },
    {
     "data": {
      "image/png": "[encoded data removed]",
      "text/plain": [
       "<Figure size 576x216 with 1 Axes>"
      ]
     },
     "metadata": {},
     "output_type": "display_data"
    }
   ],
   "source": [
    "n_sources = (sa.select(Languoid.id,\n",
    "                       sa.func.count(Source.languoid_id).label('n_sources'))\n",
    "             .outerjoin_from(Languoid, Source)\n",
    "             .group_by(Languoid.id)\n",
    "             .alias('lang_nsources')\n",
    "             .c.n_sources)\n",
    "\n",
    "select_nsources_nlangs = (sa.select(n_sources, sa.func.count().label('n_languoids'))\n",
    "                          .group_by(n_sources)\n",
    "                          .order_by('n_languoids'))\n",
    "\n",
    "_ = read_sql(select_nsources_nlangs, index_col='n_sources')\n",
    "(_.groupby(_.index != 0).sum().rename_axis('n_sources')\n",
    "    .rename(index={False: '= 0', True: '> 0'}).plot.bar(figsize=(4 * 72 / 100, 3 * 72 / 100)))\n",
    "(_.drop(0).plot.area(figsize=(8 * 72 / 100, 3 *  72 / 100), logx=True)\n",
    "    .xaxis.set_major_formatter(mpl.ticker.ScalarFormatter()))\n",
    "\n",
    "(read_sql(sa.select(sa.literal('n_sources').label('value'),\n",
    "                    sa.func.count().label('count'),\n",
    "                    sa.func.sum(n_sources).label('sum'),\n",
    "                    sa.func.min(n_sources).label('min'),\n",
    "                    sa.func.max(n_sources).label('max'),\n",
    "                    sa.func.avg(n_sources).label('mean')),\n",
    "          index_col='value')\n",
    " .rename_axis(None))"
   ]
  },
  {
   "cell_type": "code",
   "execution_count": 64,
   "metadata": {},
   "outputs": [
    {
     "name": "stderr",
     "output_type": "stream",
     "text": [
      "BEGIN (implicit)\n",
      "SELECT lang_nsources.level, lang_nsources.n_sources, count(*) AS n_languoids \n",
      "FROM (SELECT languoid.id AS id, languoid.level AS level, count(source.languoid_id) AS n_sources \n",
      "FROM languoid LEFT OUTER JOIN source ON languoid.id = source.languoid_id GROUP BY languoid.id, languoid.level) AS lang_nsources GROUP BY lang_nsources.level, lang_nsources.n_sources ORDER BY n_languoids\n",
      "[generated in 0.00080s] ()\n",
      "ROLLBACK\n"
     ]
    },
    {
     "data": {
      "image/png": "[encoded data removed]",
      "text/plain": [
       "<Figure size 288x216 with 1 Axes>"
      ]
     },
     "metadata": {},
     "output_type": "display_data"
    },
    {
     "data": {
      "image/png": "[encoded data removed]",
      "text/plain": [
       "<Figure size 576x216 with 1 Axes>"
      ]
     },
     "metadata": {},
     "output_type": "display_data"
    }
   ],
   "source": [
    "select_lang_nsources = (sa.select(Languoid.id, Languoid.level,\n",
    "                                  sa.func.count(Source.languoid_id).label('n_sources'))\n",
    "                        .outerjoin_from(Languoid, Source)\n",
    "                        .group_by(Languoid.id, Languoid.level)\n",
    "                        .alias('lang_nsources'))\n",
    "\n",
    "select_ln_nlangs = (sa.select(select_lang_nsources.c.level,\n",
    "                              select_lang_nsources.c.n_sources,\n",
    "                              sa.func.count().label('n_languoids'))\n",
    "                    .group_by(select_lang_nsources.c.level, select_lang_nsources.c.n_sources)\n",
    "                    .order_by('n_languoids'))\n",
    "\n",
    "_ = read_sql(select_ln_nlangs).pivot(index='n_sources', columns='level', values='n_languoids')\n",
    "(_.groupby(_.index != 0).sum()[list(treedb.LEVEL)].rename_axis('n_sources')\n",
    " .rename(index={False: '= 0', True: '> 0'}).plot.bar(figsize=(4 * 72 / 100, 3 * 72 / 100)))\n",
    "(_.drop(0)[list(treedb.LEVEL)].plot.area(figsize=(8 * 72 / 100, 3 * 72 / 100), logx=True)\n",
    " .xaxis.set_major_formatter(mpl.ticker.ScalarFormatter()))"
   ]
  },
  {
   "cell_type": "code",
   "execution_count": 65,
   "metadata": {},
   "outputs": [
    {
     "name": "stderr",
     "output_type": "stream",
     "text": [
      "BEGIN (implicit)\n",
      "SELECT bibfile.name AS bibfile, count(*) AS n_used \n",
      "FROM bibfile JOIN bibitem ON bibfile.id = bibitem.bibfile_id GROUP BY bibfile.name ORDER BY n_used DESC\n",
      "[generated in 0.00085s] ()\n",
      "ROLLBACK\n"
     ]
    },
    {
     "data": {
      "image/png": "[encoded data removed]",
      "text/plain": [
       "<Figure size 864x216 with 1 Axes>"
      ]
     },
     "metadata": {},
     "output_type": "display_data"
    }
   ],
   "source": [
    "from treedb.models import Bibfile, Bibitem\n",
    "\n",
    "select_bibfile_nused = (sa.select(Bibfile.name.label('bibfile'), sa.func.count().label('n_used'))\n",
    "                        .join_from(Bibfile, Bibitem)\n",
    "                        .group_by(Bibfile.name)\n",
    "                        .order_by(sa.desc('n_used')))\n",
    "\n",
    "(read_sql(select_bibfile_nused, index_col='bibfile')\n",
    " .plot.bar(figsize=(12 * 72 / 100, 3 * 72 / 100)));"
   ]
  },
  {
   "cell_type": "markdown",
   "metadata": {},
   "source": [
    "## classification"
   ]
  },
  {
   "cell_type": "code",
   "execution_count": 66,
   "metadata": {},
   "outputs": [
    {
     "name": "stderr",
     "output_type": "stream",
     "text": [
      "BEGIN (implicit)\n",
      "SELECT classificationref.kind, languoid.level, count(*) AS n_classificationrefs \n",
      "FROM classificationref JOIN languoid ON languoid.id = classificationref.languoid_id GROUP BY classificationref.kind, languoid.level ORDER BY classificationref.kind, languoid.level\n",
      "[generated in 0.00078s] ()\n",
      "ROLLBACK\n"
     ]
    },
    {
     "data": {
      "text/html": [
       "<div>\n",
       "<style scoped>\n",
       "    .dataframe tbody tr th:only-of-type {\n",
       "        vertical-align: middle;\n",
       "    }\n",
       "\n",
       "    .dataframe tbody tr th {\n",
       "        vertical-align: top;\n",
       "    }\n",
       "\n",
       "    .dataframe thead tr th {\n",
       "        text-align: left;\n",
       "    }\n",
       "\n",
       "    .dataframe thead tr:last-of-type th {\n",
       "        text-align: right;\n",
       "    }\n",
       "</style>\n",
       "<table border=\"1\" class=\"dataframe\">\n",
       "  <thead>\n",
       "    <tr>\n",
       "      <th></th>\n",
       "      <th colspan=\"3\" halign=\"left\">n_classificationrefs</th>\n",
       "    </tr>\n",
       "    <tr>\n",
       "      <th>level</th>\n",
       "      <th>dialect</th>\n",
       "      <th>family</th>\n",
       "      <th>language</th>\n",
       "    </tr>\n",
       "    <tr>\n",
       "      <th>kind</th>\n",
       "      <th></th>\n",
       "      <th></th>\n",
       "      <th></th>\n",
       "    </tr>\n",
       "  </thead>\n",
       "  <tbody>\n",
       "    <tr>\n",
       "      <th>family</th>\n",
       "      <td>8</td>\n",
       "      <td>446</td>\n",
       "      <td>244</td>\n",
       "    </tr>\n",
       "    <tr>\n",
       "      <th>sub</th>\n",
       "      <td>128</td>\n",
       "      <td>7008</td>\n",
       "      <td>11445</td>\n",
       "    </tr>\n",
       "  </tbody>\n",
       "</table>\n",
       "</div>"
      ],
      "text/plain": [
       "       n_classificationrefs                \n",
       "level               dialect family language\n",
       "kind                                       \n",
       "family                    8    446      244\n",
       "sub                     128   7008    11445"
      ]
     },
     "execution_count": 66,
     "metadata": {},
     "output_type": "execute_result"
    }
   ],
   "source": [
    "from treedb.models import ClassificationRef\n",
    "\n",
    "select_cr_levels = (sa.select(ClassificationRef.kind, Languoid.level,\n",
    "                              sa.func.count().label('n_classificationrefs'))\n",
    "                    .join_from(ClassificationRef, Languoid)\n",
    "                    .group_by(ClassificationRef.kind, Languoid.level)\n",
    "                    .order_by('kind', 'level'))\n",
    "\n",
    "read_sql(select_cr_levels, index_col=['kind', 'level']).unstack()"
   ]
  },
  {
   "cell_type": "code",
   "execution_count": 67,
   "metadata": {},
   "outputs": [
    {
     "name": "stderr",
     "output_type": "stream",
     "text": [
      "BEGIN (implicit)\n",
      "SELECT lang_ncrefs.n_crefs, count(*) AS n_languoids \n",
      "FROM (SELECT languoid.id AS id, count(*) AS n_crefs \n",
      "FROM languoid LEFT OUTER JOIN classificationref ON languoid.id = classificationref.languoid_id GROUP BY languoid.id) AS lang_ncrefs GROUP BY lang_ncrefs.n_crefs ORDER BY lang_ncrefs.n_crefs\n",
      "[generated in 0.00108s] ()\n",
      "ROLLBACK\n",
      "BEGIN (implicit)\n",
      "SELECT ? AS value, count(*) AS count, sum(lang_ncrefs.n_crefs) AS sum, min(lang_ncrefs.n_crefs) AS min, max(lang_ncrefs.n_crefs) AS max, avg(lang_ncrefs.n_crefs) AS mean \n",
      "FROM (SELECT languoid.id AS id, count(*) AS n_crefs \n",
      "FROM languoid LEFT OUTER JOIN classificationref ON languoid.id = classificationref.languoid_id GROUP BY languoid.id) AS lang_ncrefs\n",
      "[generated in 0.00080s] ('n_crefs',)\n",
      "ROLLBACK\n"
     ]
    },
    {
     "data": {
      "text/html": [
       "<div>\n",
       "<style scoped>\n",
       "    .dataframe tbody tr th:only-of-type {\n",
       "        vertical-align: middle;\n",
       "    }\n",
       "\n",
       "    .dataframe tbody tr th {\n",
       "        vertical-align: top;\n",
       "    }\n",
       "\n",
       "    .dataframe thead th {\n",
       "        text-align: right;\n",
       "    }\n",
       "</style>\n",
       "<table border=\"1\" class=\"dataframe\">\n",
       "  <thead>\n",
       "    <tr style=\"text-align: right;\">\n",
       "      <th></th>\n",
       "      <th>count</th>\n",
       "      <th>sum</th>\n",
       "      <th>min</th>\n",
       "      <th>max</th>\n",
       "      <th>mean</th>\n",
       "    </tr>\n",
       "  </thead>\n",
       "  <tbody>\n",
       "    <tr>\n",
       "      <th>n_crefs</th>\n",
       "      <td>26953</td>\n",
       "      <td>33661</td>\n",
       "      <td>1</td>\n",
       "      <td>16</td>\n",
       "      <td>1.248878</td>\n",
       "    </tr>\n",
       "  </tbody>\n",
       "</table>\n",
       "</div>"
      ],
      "text/plain": [
       "         count    sum  min  max      mean\n",
       "n_crefs  26953  33661    1   16  1.248878"
      ]
     },
     "execution_count": 67,
     "metadata": {},
     "output_type": "execute_result"
    },
    {
     "data": {
      "image/png": "[encoded data removed]",
      "text/plain": [
       "<Figure size 864x216 with 1 Axes>"
      ]
     },
     "metadata": {},
     "output_type": "display_data"
    }
   ],
   "source": [
    "n_crefs = (sa.select(Languoid.id, sa.func.count().label('n_crefs'))\n",
    "           .outerjoin_from(Languoid, ClassificationRef)\n",
    "           .group_by(Languoid.id)\n",
    "           .alias('lang_ncrefs')\n",
    "           .c.n_crefs)\n",
    "\n",
    "select_lcr_dist = (sa.select(n_crefs, sa.func.count().label('n_languoids'))\n",
    "                   .group_by(n_crefs)\n",
    "                   .order_by(n_crefs))\n",
    "\n",
    "_ = read_sql(select_lcr_dist, index_col='n_crefs')\n",
    "\n",
    "_.plot.area(figsize=(12 * 72 / 100, 3 * 72 / 100))\n",
    "\n",
    "(read_sql(sa.select(sa.literal('n_crefs').label('value'),\n",
    "                    sa.func.count().label('count'),\n",
    "                    sa.func.sum(n_crefs).label('sum'),\n",
    "                    sa.func.min(n_crefs).label('min'),\n",
    "                    sa.func.max(n_crefs).label('max'),\n",
    "                    sa.func.avg(n_crefs).label('mean')),\n",
    "         index_col='value')\n",
    " .rename_axis(None))"
   ]
  },
  {
   "cell_type": "markdown",
   "metadata": {},
   "source": [
    "## link"
   ]
  },
  {
   "cell_type": "code",
   "execution_count": 68,
   "metadata": {},
   "outputs": [
    {
     "name": "stderr",
     "output_type": "stream",
     "text": [
      "BEGIN (implicit)\n",
      "SELECT sqlite_master.sql \n",
      "FROM sqlite_master \n",
      "WHERE sqlite_master.type = ? AND sqlite_master.name = ?\n",
      "[cached since 8.31s ago] ('table', 'link')\n",
      "SELECT count(*) AS n_rows \n",
      "FROM link\n",
      "[generated in 0.00047s] ()\n",
      "ROLLBACK\n"
     ]
    },
    {
     "name": "stdout",
     "output_type": "stream",
     "text": [
      "CREATE TABLE link (\n",
      "\tlanguoid_id VARCHAR(8) NOT NULL, \n",
      "\tord INTEGER NOT NULL CHECK (ord >= 1), \n",
      "\turl TEXT NOT NULL CHECK (url != ''), \n",
      "\ttitle TEXT CHECK (title != ''), \n",
      "\tscheme TEXT, \n",
      "\tPRIMARY KEY (languoid_id, ord), \n",
      "\tUNIQUE (languoid_id, url), \n",
      "\tCHECK (substr(url, 1, length(scheme) + 3) = scheme || '://'), \n",
      "\tFOREIGN KEY(languoid_id) REFERENCES languoid (id), \n",
      "\tCHECK (scheme IN ('http', 'https'))\n",
      ") WITHOUT ROWID\n",
      "32870\n"
     ]
    }
   ],
   "source": [
    "from treedb.models import Link\n",
    "\n",
    "print_sql(Link)"
   ]
  },
  {
   "cell_type": "code",
   "execution_count": 69,
   "metadata": {
    "tags": []
   },
   "outputs": [
    {
     "name": "stderr",
     "output_type": "stream",
     "text": [
      "BEGIN (implicit)\n",
      "SELECT link.scheme AS link_scheme, count(*) AS n_links \n",
      "FROM link GROUP BY link.scheme ORDER BY n_links DESC\n",
      "[generated in 0.00093s] ()\n",
      "ROLLBACK\n"
     ]
    },
    {
     "data": {
      "image/png": "[encoded data removed]",
      "text/plain": [
       "<Figure size 432x288 with 1 Axes>"
      ]
     },
     "metadata": {},
     "output_type": "display_data"
    }
   ],
   "source": [
    "select_scheme_nlinks = (sa.select(Link.scheme.label('link_scheme'), sa.func.count().label('n_links'))\n",
    "                        .group_by(Link.scheme)\n",
    "                        .order_by(sa.desc('n_links')))\n",
    "\n",
    "(read_sql(select_scheme_nlinks, index_col='link_scheme')\n",
    " .plot.pie(y='n_links', figsize=(6 * 72 / 100, 4 * 72 / 100)));"
   ]
  },
  {
   "cell_type": "code",
   "execution_count": 70,
   "metadata": {
    "tags": []
   },
   "outputs": [
    {
     "name": "stderr",
     "output_type": "stream",
     "text": [
      "BEGIN (implicit)\n",
      "SELECT link.url \n",
      "FROM link\n",
      "[generated in 0.00087s] ()\n",
      "ROLLBACK\n"
     ]
    },
    {
     "data": {
      "image/png": "[encoded data removed]",
      "text/plain": [
       "<Figure size 432x288 with 1 Axes>"
      ]
     },
     "metadata": {},
     "output_type": "display_data"
    }
   ],
   "source": [
    "from urllib.parse import urlparse\n",
    "\n",
    "hosts = collections.Counter(urlparse(url).hostname for url, in treedb.iterrows(sa.select(Link.url)))\n",
    "\n",
    "(pd.DataFrame.from_dict(hosts, orient='index', columns=['n_links'])\n",
    " .sort_values(by='n_links')\n",
    " .plot.barh(figsize=(6 * 72 / 100, 4 * 72 / 100)));"
   ]
  },
  {
   "cell_type": "markdown",
   "metadata": {},
   "source": [
    "## endangerment"
   ]
  },
  {
   "cell_type": "code",
   "execution_count": 71,
   "metadata": {},
   "outputs": [
    {
     "name": "stderr",
     "output_type": "stream",
     "text": [
      "BEGIN (implicit)\n",
      "SELECT sqlite_master.sql \n",
      "FROM sqlite_master \n",
      "WHERE sqlite_master.type = ? AND sqlite_master.name = ?\n",
      "[cached since 8.676s ago] ('table', 'endangerment')\n",
      "SELECT count(*) AS n_rows \n",
      "FROM endangerment\n",
      "[generated in 0.00042s] ()\n",
      "ROLLBACK\n"
     ]
    },
    {
     "name": "stdout",
     "output_type": "stream",
     "text": [
      "CREATE TABLE endangerment (\n",
      "\tlanguoid_id VARCHAR(8) NOT NULL, \n",
      "\tstatus VARCHAR NOT NULL, \n",
      "\tsource_id INTEGER NOT NULL, \n",
      "\tdate DATETIME NOT NULL, \n",
      "\tcomment TEXT NOT NULL CHECK (comment != ''), \n",
      "\tPRIMARY KEY (languoid_id), \n",
      "\tFOREIGN KEY(languoid_id) REFERENCES languoid (id), \n",
      "\tFOREIGN KEY(status) REFERENCES endangermentstatus (name), \n",
      "\tFOREIGN KEY(source_id) REFERENCES endangermentsource (id)\n",
      ") WITHOUT ROWID\n",
      "8557\n"
     ]
    },
    {
     "name": "stderr",
     "output_type": "stream",
     "text": [
      "BEGIN (implicit)\n",
      "SELECT sqlite_master.sql \n",
      "FROM sqlite_master \n",
      "WHERE sqlite_master.type = ? AND sqlite_master.name = ?\n",
      "[cached since 8.682s ago] ('table', 'endangermentstatus')\n",
      "SELECT count(*) AS n_rows \n",
      "FROM endangermentstatus\n",
      "[generated in 0.00044s] ()\n",
      "ROLLBACK\n"
     ]
    },
    {
     "name": "stdout",
     "output_type": "stream",
     "text": [
      "CREATE TABLE endangermentstatus (\n",
      "\tname VARCHAR NOT NULL CHECK (name != ''), \n",
      "\tconfig_section VARCHAR NOT NULL CHECK (config_section != ''), \n",
      "\tordinal INTEGER NOT NULL CHECK (ordinal >= 1), \n",
      "\tegids VARCHAR NOT NULL CHECK (egids != ''), \n",
      "\tunesco VARCHAR NOT NULL CHECK (unesco != ''), \n",
      "\telcat VARCHAR NOT NULL CHECK (elcat != ''), \n",
      "\ticon VARCHAR NOT NULL CHECK (icon != ''), \n",
      "\tbibitem_id INTEGER, \n",
      "\tPRIMARY KEY (name), \n",
      "\tUNIQUE (config_section), \n",
      "\tFOREIGN KEY(bibitem_id) REFERENCES bibitem (id)\n",
      ") WITHOUT ROWID\n",
      "6\n"
     ]
    },
    {
     "name": "stderr",
     "output_type": "stream",
     "text": [
      "BEGIN (implicit)\n",
      "SELECT sqlite_master.sql \n",
      "FROM sqlite_master \n",
      "WHERE sqlite_master.type = ? AND sqlite_master.name = ?\n",
      "[cached since 8.686s ago] ('table', 'endangermentsource')\n",
      "SELECT count(*) AS n_rows \n",
      "FROM endangermentsource\n",
      "[generated in 0.00052s] ()\n",
      "ROLLBACK\n"
     ]
    },
    {
     "name": "stdout",
     "output_type": "stream",
     "text": [
      "CREATE TABLE endangermentsource (\n",
      "\tid INTEGER NOT NULL, \n",
      "\tname TEXT NOT NULL CHECK (name != ''), \n",
      "\tbibitem_id INTEGER, \n",
      "\tpages TEXT CHECK (pages != ''), \n",
      "\tPRIMARY KEY (id), \n",
      "\tUNIQUE (bibitem_id, pages), \n",
      "\tCHECK ((bibitem_id IS NULL) = (pages IS NULL)), \n",
      "\tUNIQUE (name), \n",
      "\tFOREIGN KEY(bibitem_id) REFERENCES bibitem (id)\n",
      ")\n",
      "65\n"
     ]
    },
    {
     "name": "stderr",
     "output_type": "stream",
     "text": [
      "BEGIN (implicit)\n",
      "SELECT endangermentstatus.name, endangermentstatus.config_section, endangermentstatus.ordinal, endangermentstatus.egids, endangermentstatus.unesco, endangermentstatus.elcat, endangermentstatus.icon, endangermentstatus.bibitem_id \n",
      "FROM endangermentstatus ORDER BY endangermentstatus.ordinal\n",
      "[generated in 0.00064s] ()\n",
      "ROLLBACK\n"
     ]
    },
    {
     "data": {
      "text/html": [
       "<div>\n",
       "<style scoped>\n",
       "    .dataframe tbody tr th:only-of-type {\n",
       "        vertical-align: middle;\n",
       "    }\n",
       "\n",
       "    .dataframe tbody tr th {\n",
       "        vertical-align: top;\n",
       "    }\n",
       "\n",
       "    .dataframe thead th {\n",
       "        text-align: right;\n",
       "    }\n",
       "</style>\n",
       "<table border=\"1\" class=\"dataframe\">\n",
       "  <thead>\n",
       "    <tr style=\"text-align: right;\">\n",
       "      <th></th>\n",
       "      <th>name</th>\n",
       "      <th>ordinal</th>\n",
       "      <th>egids</th>\n",
       "      <th>unesco</th>\n",
       "      <th>elcat</th>\n",
       "      <th>icon</th>\n",
       "      <th>bibitem_id</th>\n",
       "    </tr>\n",
       "    <tr>\n",
       "      <th>config_section</th>\n",
       "      <th></th>\n",
       "      <th></th>\n",
       "      <th></th>\n",
       "      <th></th>\n",
       "      <th></th>\n",
       "      <th></th>\n",
       "      <th></th>\n",
       "    </tr>\n",
       "  </thead>\n",
       "  <tbody>\n",
       "    <tr>\n",
       "      <th>safe</th>\n",
       "      <td>not endangered</td>\n",
       "      <td>1</td>\n",
       "      <td>&lt;=6a</td>\n",
       "      <td>safe</td>\n",
       "      <td>at risk/safe</td>\n",
       "      <td>ca2f49b</td>\n",
       "      <td>1</td>\n",
       "    </tr>\n",
       "    <tr>\n",
       "      <th>vulnerable</th>\n",
       "      <td>threatened</td>\n",
       "      <td>2</td>\n",
       "      <td>6b</td>\n",
       "      <td>vulnerable</td>\n",
       "      <td>vulnerable</td>\n",
       "      <td>cd5ce04</td>\n",
       "      <td>1</td>\n",
       "    </tr>\n",
       "    <tr>\n",
       "      <th>definite</th>\n",
       "      <td>shifting</td>\n",
       "      <td>3</td>\n",
       "      <td>7</td>\n",
       "      <td>definitely endangered</td>\n",
       "      <td>threatened/endangered</td>\n",
       "      <td>sf19903</td>\n",
       "      <td>1</td>\n",
       "    </tr>\n",
       "    <tr>\n",
       "      <th>severe</th>\n",
       "      <td>moribund</td>\n",
       "      <td>4</td>\n",
       "      <td>8a</td>\n",
       "      <td>severely endangered</td>\n",
       "      <td>severely endangered</td>\n",
       "      <td>df94902</td>\n",
       "      <td>1</td>\n",
       "    </tr>\n",
       "    <tr>\n",
       "      <th>critical</th>\n",
       "      <td>nearly extinct</td>\n",
       "      <td>5</td>\n",
       "      <td>8b</td>\n",
       "      <td>critically endangered</td>\n",
       "      <td>critically endangered</td>\n",
       "      <td>ta80003</td>\n",
       "      <td>1</td>\n",
       "    </tr>\n",
       "    <tr>\n",
       "      <th>extinct</th>\n",
       "      <td>extinct</td>\n",
       "      <td>6</td>\n",
       "      <td>&gt;=9</td>\n",
       "      <td>extinct</td>\n",
       "      <td>dormant/awakening</td>\n",
       "      <td>f888888</td>\n",
       "      <td>1</td>\n",
       "    </tr>\n",
       "  </tbody>\n",
       "</table>\n",
       "</div>"
      ],
      "text/plain": [
       "                          name  ordinal egids                 unesco  \\\n",
       "config_section                                                         \n",
       "safe            not endangered        1  <=6a                   safe   \n",
       "vulnerable          threatened        2    6b             vulnerable   \n",
       "definite              shifting        3     7  definitely endangered   \n",
       "severe                moribund        4    8a    severely endangered   \n",
       "critical        nearly extinct        5    8b  critically endangered   \n",
       "extinct                extinct        6   >=9                extinct   \n",
       "\n",
       "                                elcat     icon  bibitem_id  \n",
       "config_section                                              \n",
       "safe                     at risk/safe  ca2f49b           1  \n",
       "vulnerable                 vulnerable  cd5ce04           1  \n",
       "definite        threatened/endangered  sf19903           1  \n",
       "severe            severely endangered  df94902           1  \n",
       "critical        critically endangered  ta80003           1  \n",
       "extinct             dormant/awakening  f888888           1  "
      ]
     },
     "execution_count": 71,
     "metadata": {},
     "output_type": "execute_result"
    }
   ],
   "source": [
    "from treedb.models import Endangerment, EndangermentStatus, EndangermentSource\n",
    "\n",
    "print_sql(Endangerment)\n",
    "print_sql(EndangermentStatus)\n",
    "print_sql(EndangermentSource)\n",
    "read_sql(sa.select(EndangermentStatus).order_by('ordinal'), index_col='config_section')"
   ]
  },
  {
   "cell_type": "code",
   "execution_count": 72,
   "metadata": {},
   "outputs": [
    {
     "name": "stderr",
     "output_type": "stream",
     "text": [
      "BEGIN (implicit)\n",
      "SELECT endangermentsource.name AS source, count(*) AS n_endangerments \n",
      "FROM endangerment JOIN endangermentsource ON endangermentsource.id = endangerment.source_id GROUP BY endangermentsource.name ORDER BY n_endangerments\n",
      "[generated in 0.00087s] ()\n",
      "ROLLBACK\n"
     ]
    },
    {
     "data": {
      "image/png": "[encoded data removed]",
      "text/plain": [
       "<Figure size 432x288 with 1 Axes>"
      ]
     },
     "metadata": {},
     "output_type": "display_data"
    }
   ],
   "source": [
    "e_source = EndangermentSource.name.label('source')\n",
    "\n",
    "select_source_nendangerments = (sa.select(e_source, sa.func.count().label('n_endangerments'))\n",
    "                                .join_from(Endangerment, EndangermentSource)\n",
    "                                .group_by(e_source)\n",
    "                                .order_by('n_endangerments'))\n",
    "\n",
    "(read_sql(select_source_nendangerments, index_col='source')\n",
    " .plot.barh(figsize=(6 * 72 / 100, 4 * 72 / 100)));"
   ]
  },
  {
   "cell_type": "markdown",
   "metadata": {},
   "source": [
    "## Example query"
   ]
  },
  {
   "cell_type": "code",
   "execution_count": 73,
   "metadata": {},
   "outputs": [
    {
     "name": "stderr",
     "output_type": "stream",
     "text": [
      "BEGIN (implicit)\n",
      "WITH RECURSIVE tree(child_id, parent_id, steps, terminal) AS \n",
      "(SELECT child.id AS child_id, child.id AS parent_id, ? AS steps, child.parent_id IS NULL AS terminal \n",
      "FROM languoid AS child UNION ALL SELECT tree.child_id AS child_id, parent.parent_id AS parent_id, tree.steps + ? AS steps, grandparent.parent_id IS NULL AS terminal \n",
      "FROM tree JOIN languoid AS parent ON tree.parent_id = parent.id AND parent.parent_id IS NOT NULL LEFT OUTER JOIN languoid AS grandparent ON parent.parent_id = grandparent.id)\n",
      " SELECT languoid.id, languoid.name, languoid.level, languoid.parent_id, (SELECT group_concat(parent_path.path_part, ?) AS path \n",
      "FROM (SELECT tree.parent_id AS path_part \n",
      "FROM tree \n",
      "WHERE tree.child_id = languoid.id ORDER BY tree.steps DESC) AS parent_path) AS path, (SELECT tree.parent_id \n",
      "FROM tree \n",
      "WHERE tree.child_id = languoid.id AND tree.steps > ? AND tree.terminal = 1) AS family_id, (SELECT tree.parent_id \n",
      "FROM tree \n",
      "WHERE tree.child_id = languoid.id AND languoid.level = ? AND (EXISTS (SELECT * \n",
      "FROM languoid AS ancestor \n",
      "WHERE tree.parent_id = ancestor.id AND ancestor.level = ?))) AS dialect_language_id, languoid.hid, languoid.iso639_3, languoid.latitude, languoid.longitude, (SELECT group_concat(lang_ma.macroarea_name, ?) AS macroareas \n",
      "FROM (SELECT languoid_macroarea.macroarea_name AS macroarea_name \n",
      "FROM languoid_macroarea \n",
      "WHERE languoid_macroarea.languoid_id = languoid.id ORDER BY languoid_macroarea.macroarea_name) AS lang_ma) AS macroareas, (SELECT group_concat(lang_country.country_id, ?) AS countries \n",
      "FROM (SELECT languoid_country.country_id AS country_id \n",
      "FROM languoid_country \n",
      "WHERE languoid_country.languoid_id = languoid.id ORDER BY languoid_country.country_id) AS lang_country) AS countries, (SELECT group_concat(lang_link.printf, ?) AS links \n",
      "FROM (SELECT CASE WHEN (link.title IS NOT NULL) THEN printf(?, link.title, link.url) ELSE link.url END AS printf \n",
      "FROM link \n",
      "WHERE link.languoid_id = languoid.id ORDER BY link.ord) AS lang_link) AS links, (SELECT group_concat(lang_source_glottolog.printf, ?) AS sources_glottolog \n",
      "FROM (SELECT CASE WHEN (source_glottolog.pages IS NOT NULL AND source_glottolog.\"trigger\" IS NOT NULL) THEN printf(?, source_bibfile.name, source_bibitem.bibkey, source_glottolog.pages, source_glottolog.\"trigger\") WHEN (source_glottolog.pages IS NOT NULL) THEN printf(?, source_bibfile.name, source_bibitem.bibkey, source_glottolog.pages) WHEN (source_glottolog.\"trigger\" IS NOT NULL) THEN printf(?, source_bibfile.name, source_bibitem.bibkey, source_glottolog.\"trigger\") ELSE printf(?, source_bibfile.name, source_bibitem.bibkey) END AS printf \n",
      "FROM source AS source_glottolog JOIN sourceprovider AS source_provider ON source_provider.id = source_glottolog.provider_id JOIN bibitem AS source_bibitem ON source_bibitem.id = source_glottolog.bibitem_id JOIN bibfile AS source_bibfile ON source_bibfile.id = source_bibitem.bibfile_id \n",
      "WHERE source_glottolog.languoid_id = languoid.id AND source_provider.name = ? ORDER BY source_bibfile.name, source_bibitem.bibkey) AS lang_source_glottolog) AS sources_glottolog, (SELECT group_concat(lang_altname_aiatsis.printf, ?) AS altnames_aiatsis \n",
      "FROM (SELECT CASE WHEN (altname_aiatsis.lang = ?) THEN altname_aiatsis.name ELSE printf(?, altname_aiatsis.name, altname_aiatsis.lang) END AS printf \n",
      "FROM altname AS altname_aiatsis JOIN altnameprovider AS altname_aiatsis_provider ON altname_aiatsis_provider.id = altname_aiatsis.provider_id \n",
      "WHERE altname_aiatsis.languoid_id = languoid.id AND altname_aiatsis_provider.name = ? ORDER BY altname_aiatsis.name, altname_aiatsis.lang) AS lang_altname_aiatsis) AS altnames_aiatsis, (SELECT group_concat(lang_altname_elcat.printf, ?) AS altnames_elcat \n",
      "FROM (SELECT CASE WHEN (altname_elcat.lang = ?) THEN altname_elcat.name ELSE printf(?, altname_elcat.name, altname_elcat.lang) END AS printf \n",
      "FROM altname AS altname_elcat JOIN altnameprovider AS altname_elcat_provider ON altname_elcat_provider.id = altname_elcat.provider_id \n",
      "WHERE altname_elcat.languoid_id = languoid.id AND altname_elcat_provider.name = ? ORDER BY altname_elcat.name, altname_elcat.lang) AS lang_altname_elcat) AS altnames_elcat, (SELECT group_concat(lang_altname_ethnologue.printf, ?) AS altnames_ethnologue \n",
      "FROM (SELECT CASE WHEN (altname_ethnologue.lang = ?) THEN altname_ethnologue.name ELSE printf(?, altname_ethnologue.name, altname_ethnologue.lang) END AS printf \n",
      "FROM altname AS altname_ethnologue JOIN altnameprovider AS altname_ethnologue_provider ON altname_ethnologue_provider.id = altname_ethnologue.provider_id \n",
      "WHERE altname_ethnologue.languoid_id = languoid.id AND altname_ethnologue_provider.name = ? ORDER BY altname_ethnologue.name, altname_ethnologue.lang) AS lang_altname_ethnologue) AS altnames_ethnologue, (SELECT group_concat(lang_altname_glottolog.printf, ?) AS altnames_glottolog \n",
      "FROM (SELECT CASE WHEN (altname_glottolog.lang = ?) THEN altname_glottolog.name ELSE printf(?, altname_glottolog.name, altname_glottolog.lang) END AS printf \n",
      "FROM altname AS altname_glottolog JOIN altnameprovider AS altname_glottolog_provider ON altname_glottolog_provider.id = altname_glottolog.provider_id \n",
      "WHERE altname_glottolog.languoid_id = languoid.id AND altname_glottolog_provider.name = ? ORDER BY altname_glottolog.name, altname_glottolog.lang) AS lang_altname_glottolog) AS altnames_glottolog, (SELECT group_concat(lang_altname_hhbib_lgcode.printf, ?) AS altnames_hhbib_lgcode \n",
      "FROM (SELECT CASE WHEN (altname_hhbib_lgcode.lang = ?) THEN altname_hhbib_lgcode.name ELSE printf(?, altname_hhbib_lgcode.name, altname_hhbib_lgcode.lang) END AS printf \n",
      "FROM altname AS altname_hhbib_lgcode JOIN altnameprovider AS altname_hhbib_lgcode_provider ON altname_hhbib_lgcode_provider.id = altname_hhbib_lgcode.provider_id \n",
      "WHERE altname_hhbib_lgcode.languoid_id = languoid.id AND altname_hhbib_lgcode_provider.name = ? ORDER BY altname_hhbib_lgcode.name, altname_hhbib_lgcode.lang) AS lang_altname_hhbib_lgcode) AS altnames_hhbib_lgcode, (SELECT group_concat(lang_altname_lexvo.printf, ?) AS altnames_lexvo \n",
      "FROM (SELECT CASE WHEN (altname_lexvo.lang = ?) THEN altname_lexvo.name ELSE printf(?, altname_lexvo.name, altname_lexvo.lang) END AS printf \n",
      "FROM altname AS altname_lexvo JOIN altnameprovider AS altname_lexvo_provider ON altname_lexvo_provider.id = altname_lexvo.provider_id \n",
      "WHERE altname_lexvo.languoid_id = languoid.id AND altname_lexvo_provider.name = ? ORDER BY altname_lexvo.name, altname_lexvo.lang) AS lang_altname_lexvo) AS altnames_lexvo, (SELECT group_concat(\"lang_altname_moseley & asher (1994)\".printf, ?) AS \"altnames_moseley & asher (1994)\" \n",
      "FROM (SELECT CASE WHEN (\"altname_moseley & asher (1994)\".lang = ?) THEN \"altname_moseley & asher (1994)\".name ELSE printf(?, \"altname_moseley & asher (1994)\".name, \"altname_moseley & asher (1994)\".lang) END AS printf \n",
      "FROM altname AS \"altname_moseley & asher (1994)\" JOIN altnameprovider AS \"altname_moseley & asher (1994)_provider\" ON \"altname_moseley & asher (1994)_provider\".id = \"altname_moseley & asher (1994)\".provider_id \n",
      "WHERE \"altname_moseley & asher (1994)\".languoid_id = languoid.id AND \"altname_moseley & asher (1994)_provider\".name = ? ORDER BY \"altname_moseley & asher (1994)\".name, \"altname_moseley & asher (1994)\".lang) AS \"lang_altname_moseley & asher (1994)\") AS \"altnames_moseley & asher (1994)\", (SELECT group_concat(lang_altname_multitree.printf, ?) AS altnames_multitree \n",
      "FROM (SELECT CASE WHEN (altname_multitree.lang = ?) THEN altname_multitree.name ELSE printf(?, altname_multitree.name, altname_multitree.lang) END AS printf \n",
      "FROM altname AS altname_multitree JOIN altnameprovider AS altname_multitree_provider ON altname_multitree_provider.id = altname_multitree.provider_id \n",
      "WHERE altname_multitree.languoid_id = languoid.id AND altname_multitree_provider.name = ? ORDER BY altname_multitree.name, altname_multitree.lang) AS lang_altname_multitree) AS altnames_multitree, (SELECT group_concat(\"lang_altname_ruhlen (1987)\".printf, ?) AS \"altnames_ruhlen (1987)\" \n",
      "FROM (SELECT CASE WHEN (\"altname_ruhlen (1987)\".lang = ?) THEN \"altname_ruhlen (1987)\".name ELSE printf(?, \"altname_ruhlen (1987)\".name, \"altname_ruhlen (1987)\".lang) END AS printf \n",
      "FROM altname AS \"altname_ruhlen (1987)\" JOIN altnameprovider AS \"altname_ruhlen (1987)_provider\" ON \"altname_ruhlen (1987)_provider\".id = \"altname_ruhlen (1987)\".provider_id \n",
      "WHERE \"altname_ruhlen (1987)\".languoid_id = languoid.id AND \"altname_ruhlen (1987)_provider\".name = ? ORDER BY \"altname_ruhlen (1987)\".name, \"altname_ruhlen (1987)\".lang) AS \"lang_altname_ruhlen (1987)\") AS \"altnames_ruhlen (1987)\", (SELECT group_concat(lang_altname_wals.printf, ?) AS altnames_wals \n",
      "FROM (SELECT CASE WHEN (altname_wals.lang = ?) THEN altname_wals.name ELSE printf(?, altname_wals.name, altname_wals.lang) END AS printf \n",
      "FROM altname AS altname_wals JOIN altnameprovider AS altname_wals_provider ON altname_wals_provider.id = altname_wals.provider_id \n",
      "WHERE altname_wals.languoid_id = languoid.id AND altname_wals_provider.name = ? ORDER BY altname_wals.name, altname_wals.lang) AS lang_altname_wals) AS altnames_wals, (SELECT group_concat(\"lang_altname_wals other\".printf, ?) AS \"altnames_wals other\" \n",
      "FROM (SELECT CASE WHEN (\"altname_wals other\".lang = ?) THEN \"altname_wals other\".name ELSE printf(?, \"altname_wals other\".name, \"altname_wals other\".lang) END AS printf \n",
      "FROM altname AS \"altname_wals other\" JOIN altnameprovider AS \"altname_wals other_provider\" ON \"altname_wals other_provider\".id = \"altname_wals other\".provider_id \n",
      "WHERE \"altname_wals other\".languoid_id = languoid.id AND \"altname_wals other_provider\".name = ? ORDER BY \"altname_wals other\".name, \"altname_wals other\".lang) AS \"lang_altname_wals other\") AS \"altnames_wals other\", (SELECT group_concat(lang_trigger_lgcode.\"trigger\", ?) AS triggers_lgcode \n",
      "FROM (SELECT trigger_lgcode.\"trigger\" AS \"trigger\" \n",
      "FROM \"trigger\" AS trigger_lgcode \n",
      "WHERE trigger_lgcode.languoid_id = languoid.id AND trigger_lgcode.field = ? ORDER BY trigger_lgcode.ord) AS lang_trigger_lgcode) AS triggers_lgcode, (SELECT group_concat(lang_trigger_inlg.\"trigger\", ?) AS triggers_inlg \n",
      "FROM (SELECT trigger_inlg.\"trigger\" AS \"trigger\" \n",
      "FROM \"trigger\" AS trigger_inlg \n",
      "WHERE trigger_inlg.languoid_id = languoid.id AND trigger_inlg.field = ? ORDER BY trigger_inlg.ord) AS lang_trigger_inlg) AS triggers_inlg, ident_endangeredlanguages.identifier AS identifier_endangeredlanguages, ident_languagelandscape.identifier AS identifier_languagelandscape, ident_multitree.identifier AS identifier_multitree, ident_wals.identifier AS identifier_wals, cc_sub.comment AS classification_sub, (SELECT group_concat(lang_cref_sub.printf, ?) AS classification_subrefs \n",
      "FROM (SELECT printf(CASE WHEN (cr_sub.pages IS NOT NULL) THEN ? ELSE ? END, bibfile_cr_sub.name, bibitem_cr_sub.bibkey, cr_sub.pages) AS printf \n",
      "FROM classificationref AS cr_sub JOIN bibitem AS bibitem_cr_sub ON bibitem_cr_sub.id = cr_sub.bibitem_id JOIN bibfile AS bibfile_cr_sub ON bibfile_cr_sub.id = bibitem_cr_sub.bibfile_id \n",
      "WHERE cr_sub.languoid_id = languoid.id AND cr_sub.kind = ? ORDER BY cr_sub.ord) AS lang_cref_sub) AS classification_subrefs, cc_family.comment AS classification_family, (SELECT group_concat(lang_cref_family.printf, ?) AS classification_familyrefs \n",
      "FROM (SELECT printf(CASE WHEN (cr_family.pages IS NOT NULL) THEN ? ELSE ? END, bibfile_cr_family.name, bibitem_cr_family.bibkey, cr_family.pages) AS printf \n",
      "FROM classificationref AS cr_family JOIN bibitem AS bibitem_cr_family ON bibitem_cr_family.id = cr_family.bibitem_id JOIN bibfile AS bibfile_cr_family ON bibfile_cr_family.id = bibitem_cr_family.bibfile_id \n",
      "WHERE cr_family.languoid_id = languoid.id AND cr_family.kind = ? ORDER BY cr_family.ord) AS lang_cref_family) AS classification_familyrefs, endangerment.status AS endangerment_status, endangerment.date AS endangerment_date, endangerment.comment AS endangerment_comment, CASE WHEN (endangermentsource.bibitem_id IS NULL) THEN endangermentsource.name ELSE printf(?, bibfile_e.name, bibitem_e.bibkey, endangermentsource.pages) END AS endangerment_source, ethnologuecomment.isohid AS elcomment_isohid, ethnologuecomment.comment_type AS elcomment_comment_type, ethnologuecomment.ethnologue_versions AS elcomment_ethnologue_versions, ethnologuecomment.comment AS elcomment_comment, isoretirement.code AS iso_retirement_code, isoretirement.name AS iso_retirement_name, isoretirement.change_request AS iso_retirement_change_request, isoretirement.effective AS iso_retirement_effective, isoretirement.reason AS iso_retirement_reason, isoretirement.remedy AS iso_retirement_remedy, isoretirement.comment AS iso_retirement_comment, (SELECT group_concat(lang_irct.code, ?) AS iso_retirement_change_to \n",
      "FROM (SELECT isoretirement_changeto.code AS code \n",
      "FROM isoretirement_changeto \n",
      "WHERE isoretirement_changeto.languoid_id = isoretirement.languoid_id ORDER BY isoretirement_changeto.ord) AS lang_irct) AS iso_retirement_change_to \n",
      "FROM languoid LEFT OUTER JOIN (identifier AS ident_endangeredlanguages JOIN identifiersite AS ident_endangeredlanguages_site ON ident_endangeredlanguages.site_id = ident_endangeredlanguages_site.id) ON ident_endangeredlanguages_site.name = ? AND ident_endangeredlanguages.languoid_id = languoid.id LEFT OUTER JOIN (identifier AS ident_languagelandscape JOIN identifiersite AS ident_languagelandscape_site ON ident_languagelandscape.site_id = ident_languagelandscape_site.id) ON ident_languagelandscape_site.name = ? AND ident_languagelandscape.languoid_id = languoid.id LEFT OUTER JOIN (identifier AS ident_multitree JOIN identifiersite AS ident_multitree_site ON ident_multitree.site_id = ident_multitree_site.id) ON ident_multitree_site.name = ? AND ident_multitree.languoid_id = languoid.id LEFT OUTER JOIN (identifier AS ident_wals JOIN identifiersite AS ident_wals_site ON ident_wals.site_id = ident_wals_site.id) ON ident_wals_site.name = ? AND ident_wals.languoid_id = languoid.id LEFT OUTER JOIN classificationcomment AS cc_sub ON cc_sub.kind = ? AND cc_sub.languoid_id = languoid.id LEFT OUTER JOIN classificationcomment AS cc_family ON cc_family.kind = ? AND cc_family.languoid_id = languoid.id LEFT OUTER JOIN (endangerment JOIN endangermentsource ON endangermentsource.id = endangerment.source_id) ON languoid.id = endangerment.languoid_id LEFT OUTER JOIN (bibitem AS bibitem_e JOIN bibfile AS bibfile_e ON bibfile_e.id = bibitem_e.bibfile_id) ON bibitem_e.id = endangermentsource.bibitem_id LEFT OUTER JOIN ethnologuecomment ON languoid.id = ethnologuecomment.languoid_id LEFT OUTER JOIN isoretirement ON languoid.id = isoretirement.languoid_id ORDER BY languoid.id\n",
      "[generated in 0.00167s] (0, 1, '/', 0, 'dialect', 'language', ', ', ', ', ', ', '[%s](%s)', ', ', '**%s:%s**:%s<trigger \"%s\">', '**%s:%s**:%s', '**%s:%s**<trigger \"%s\">', '**%s:%s**', 'glottolog', ', ', '', '%s [%s]', 'aiatsis', ', ', '', '%s [%s]', 'elcat', ', ', '', '%s [%s]', 'ethnologue', ', ', '', '%s [%s]', 'glottolog', ', ', '', '%s [%s]', 'hhbib_lgcode', ', ', '', '%s [%s]', 'lexvo', ', ', '', '%s [%s]', 'moseley & asher (1994)', ', ', '', '%s [%s]', 'multitree', ', ', '', '%s [%s]', 'ruhlen (1987)', ', ', '', '%s [%s]', 'wals', ', ', '', '%s [%s]', 'wals other', ', ', 'lgcode', ', ', 'inlg', ', ', '**%s:%s**:%s', '**%s:%s**', 'sub', ', ', '**%s:%s**:%s', '**%s:%s**', 'family', '**%s:%s**:%s', ', ', 'endangeredlanguages', 'languagelandscape', 'multitree', 'wals', 'sub', 'family')\n",
      "[INFO@treedb.backend.export] hash rows with 'sha256', csv header: ['id', 'name', 'level', 'parent_id', 'path', 'family_id', 'dialect_language_id', 'hid', 'iso639_3', 'latitude', 'longitude', 'macroareas', 'countries', 'links', 'sources_glottolog', 'altnames_aiatsis', 'altnames_elcat', 'altnames_ethnologue', 'altnames_glottolog', 'altnames_hhbib_lgcode', 'altnames_lexvo', 'altnames_moseley & asher (1994)', 'altnames_multitree', 'altnames_ruhlen (1987)', 'altnames_wals', 'altnames_wals other', 'triggers_lgcode', 'triggers_inlg', 'identifier_endangeredlanguages', 'identifier_languagelandscape', 'identifier_multitree', 'identifier_wals', 'classification_sub', 'classification_subrefs', 'classification_family', 'classification_familyrefs', 'endangerment_status', 'endangerment_date', 'endangerment_comment', 'endangerment_source', 'elcomment_isohid', 'elcomment_comment_type', 'elcomment_ethnologue_versions', 'elcomment_comment', 'iso_retirement_code', 'iso_retirement_name', 'iso_retirement_change_request', 'iso_retirement_effective', 'iso_retirement_reason', 'iso_retirement_remedy', 'iso_retirement_comment', 'iso_retirement_change_to']\n",
      "ROLLBACK\n"
     ]
    },
    {
     "name": "stdout",
     "output_type": "stream",
     "text": [
      "CPU times: total: 4.72 s\n",
      "Wall time: 4.73 s\n"
     ]
    },
    {
     "data": {
      "text/plain": [
       "'c235e4b709b009a31f5a8eace0edeff02b08546f9f81b90139d017723fb4fa65'"
      ]
     },
     "execution_count": 73,
     "metadata": {},
     "output_type": "execute_result"
    }
   ],
   "source": [
    "%time treedb.hash_csv(treedb.get_example_query())"
   ]
  }
 ],
 "metadata": {
  "kernelspec": {
   "display_name": "Python 3 (ipykernel)",
   "language": "python",
   "name": "python3"
  },
  "language_info": {
   "codemirror_mode": {
    "name": "ipython",
    "version": 3
   },
   "file_extension": ".py",
   "mimetype": "text/x-python",
   "name": "python",
   "nbconvert_exporter": "python",
   "pygments_lexer": "ipython3",
   "version": "3.13.3"
  }
 },
 "nbformat": 4,
 "nbformat_minor": 4
}
