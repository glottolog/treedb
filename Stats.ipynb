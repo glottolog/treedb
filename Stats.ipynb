{
 "cells": [
  {
   "cell_type": "markdown",
   "metadata": {},
   "source": [
    "# report stats, monitor change\n",
    "\n",
    "record properties of ``treedb.sqlite3``\n",
    "loaded from [Glottolog](https://glottolog.org)\n",
    "[master repo](https://github.com/glottolog/glottolog) commit\n",
    "and monitor changes by diffing this\n",
    "\n",
    "<div style=\"text-align: right\">\n",
    "  <a href=\"https://nbviewer.jupyter.org/github/glottolog/treedb/blob/master/Stats.ipynb\">\n",
    "      latest version from GitHub in nbviewer\n",
    "  </a>\n",
    "</div>\n",
    "\n",
    "### contents\n",
    "1. [clone/checkout](#clone/checkout)\n",
    "2. [load](#load)\n",
    "3. [treedb.sqlite3](#treedb.sqlite3)\n",
    "4. [\\_\\_dataset\\_\\_](#__dataset__)\n",
    "5. [\\_\\_producer\\_\\_](#__producer__)\n",
    "6. [treedb.raw](#treedb.raw)\n",
    "7. [languoid](#languoid)\n",
    "8. [macroarea](#macroarea)\n",
    "9. [country](#country)\n",
    "10. [endangerment](#endangerment)\n",
    "11. [link](#link)\n",
    "12. [denormalized](#denormalized)"
   ]
  },
  {
   "cell_type": "code",
   "execution_count": 1,
   "metadata": {},
   "outputs": [
    {
     "data": {
      "text/plain": [
       "'0.9.1.dev0'"
      ]
     },
     "execution_count": 1,
     "metadata": {},
     "output_type": "execute_result"
    }
   ],
   "source": [
    "%matplotlib inline\n",
    "\n",
    "import collections\n",
    "\n",
    "import pandas as pd\n",
    "import sqlalchemy as sa\n",
    "import matplotlib as mpl\n",
    "import matplotlib.pyplot as plt\n",
    "\n",
    "import treedb\n",
    "import treedb.raw\n",
    "\n",
    "treedb.configure_logging(log_sql=False)\n",
    "\n",
    "treedb.__version__"
   ]
  },
  {
   "cell_type": "markdown",
   "metadata": {},
   "source": [
    "## clone/checkout"
   ]
  },
  {
   "cell_type": "code",
   "execution_count": 2,
   "metadata": {},
   "outputs": [
    {
     "name": "stdout",
     "output_type": "stream",
     "text": [
      "Wall time: 27.8 s\n"
     ]
    },
    {
     "data": {
      "text/plain": [
       "(None,\n",
       " CompletedProcess(args=['git', 'checkout', '-B', 'treedb', 'v4.1'], returncode=0))"
      ]
     },
     "execution_count": 2,
     "metadata": {},
     "output_type": "execute_result"
    }
   ],
   "source": [
    "%%time\n",
    "\n",
    "TARGET = '../glottolog/'\n",
    "\n",
    "TAG = 'v4.1'\n",
    "\n",
    "REBUILD = False\n",
    "\n",
    "treedb.checkout_or_clone(TAG, target=TARGET)"
   ]
  },
  {
   "cell_type": "markdown",
   "metadata": {},
   "source": [
    "## load"
   ]
  },
  {
   "cell_type": "code",
   "execution_count": 3,
   "metadata": {},
   "outputs": [
    {
     "data": {
      "text/plain": [
       "<treedb.proxies.PathProxy path='../glottolog/languoids/tree' inode=16888498603023198>"
      ]
     },
     "execution_count": 3,
     "metadata": {},
     "output_type": "execute_result"
    }
   ],
   "source": [
    "treedb.set_root(TARGET)"
   ]
  },
  {
   "cell_type": "code",
   "execution_count": 4,
   "metadata": {},
   "outputs": [
    {
     "data": {
      "text/plain": [
       "(('abin1243',), <DirEntry 'md.ini'>, <treedb.files.ConfigParser at 0x4ed26a0>)"
      ]
     },
     "execution_count": 4,
     "metadata": {},
     "output_type": "execute_result"
    }
   ],
   "source": [
    "next(treedb.iterfiles())"
   ]
  },
  {
   "cell_type": "code",
   "execution_count": 5,
   "metadata": {},
   "outputs": [
    {
     "data": {
      "text/plain": [
       "(('abin1243',),\n",
       " {'id': 'abin1243',\n",
       "  'parent_id': None,\n",
       "  'level': 'language',\n",
       "  'name': 'Abinomn',\n",
       "  'hid': 'bsa',\n",
       "  'iso639_3': 'bsa',\n",
       "  'latitude': -2.92281,\n",
       "  'longitude': 138.891,\n",
       "  'macroareas': ['Papunesia'],\n",
       "  'countries': [{'name': 'Indonesia', 'id': 'ID'}],\n",
       "  'links': [{'url': 'http://endangeredlanguages.com/lang/1763',\n",
       "    'title': 'Abinomn',\n",
       "    'scheme': 'http'},\n",
       "   {'url': 'https://www.wikidata.org/entity/Q56648',\n",
       "    'title': None,\n",
       "    'scheme': 'https'},\n",
       "   {'url': 'https://en.wikipedia.org/wiki/Abinomn_language',\n",
       "    'title': None,\n",
       "    'scheme': 'https'}],\n",
       "  'sources': {'glottolog': [{'bibfile': 'hh',\n",
       "     'bibkey': 'e:Lagerberg:Moegip',\n",
       "     'pages': None,\n",
       "     'trigger': None},\n",
       "    {'bibfile': 'hh',\n",
       "     'bibkey': 'h:SilzerClouse:Index',\n",
       "     'pages': None,\n",
       "     'trigger': None},\n",
       "    {'bibfile': 'hh',\n",
       "     'bibkey': 'h:SilzerHeikkinen:Irian',\n",
       "     'pages': None,\n",
       "     'trigger': None},\n",
       "    {'bibfile': 'hh',\n",
       "     'bibkey': 'hv:Foley:Northwest-New-Guinea',\n",
       "     'pages': None,\n",
       "     'trigger': None},\n",
       "    {'bibfile': 'hh',\n",
       "     'bibkey': 'hvtyp:DonohueMusgrave:Melanesia',\n",
       "     'pages': None,\n",
       "     'trigger': None},\n",
       "    {'bibfile': 'hh',\n",
       "     'bibkey': 'w:Fiwei:Abinomn',\n",
       "     'pages': None,\n",
       "     'trigger': None}]},\n",
       "  'altnames': {'multitree': [{'name': '\"Baso\"', 'lang': ''},\n",
       "    {'name': 'Abinomn', 'lang': ''},\n",
       "    {'name': 'Avinomen', 'lang': ''},\n",
       "    {'name': 'Foja', 'lang': ''},\n",
       "    {'name': 'Foya', 'lang': ''}],\n",
       "   'lexvo': [{'name': 'Abinomn', 'lang': 'en'},\n",
       "    {'name': 'Abinomn language', 'lang': 'en'},\n",
       "    {'name': 'Abinomneg', 'lang': 'br'},\n",
       "    {'name': 'Lingua abinomn', 'lang': 'gl'},\n",
       "    {'name': 'Llingua Abinomn', 'lang': 'ast'}],\n",
       "   'hhbib_lgcode': [{'name': 'Baso', 'lang': ''}],\n",
       "   'elcat': [{'name': '\"Baso\"', 'lang': ''},\n",
       "    {'name': 'Abinomn', 'lang': ''},\n",
       "    {'name': 'Avinomen', 'lang': ''},\n",
       "    {'name': 'Foja', 'lang': ''},\n",
       "    {'name': 'Foya', 'lang': ''}]},\n",
       "  'triggers': {'lgcode': ['macrohistory', 'moegip']},\n",
       "  'identifier': {'multitree': 'bsa', 'endangeredlanguages': '1763'},\n",
       "  'classification': {'familyrefs': [{'bibfile': 'hh',\n",
       "     'bibkey': 'h:SilzerClouse:Index',\n",
       "     'pages': None,\n",
       "     'trigger': None},\n",
       "    {'bibfile': 'hh',\n",
       "     'bibkey': 'hvtyp:DonohueMusgrave:Melanesia',\n",
       "     'pages': None,\n",
       "     'trigger': None}]},\n",
       "  'endangerment': {'status': 'shifting',\n",
       "   'source': {'name': 'ElCat', 'bibfile': None, 'bibkey': None, 'pages': None},\n",
       "   'date': datetime.datetime(2017, 8, 19, 8, 16, 16),\n",
       "   'comment': 'Abinomn (1763-bsa) = Endangered (20 percent certain, based on the evidence available)'},\n",
       "  'hh_ethnologue_comment': None,\n",
       "  'iso_retirement': None})"
      ]
     },
     "execution_count": 5,
     "metadata": {},
     "output_type": "execute_result"
    }
   ],
   "source": [
    "next(treedb.iterlanguoids())"
   ]
  },
  {
   "cell_type": "code",
   "execution_count": 6,
   "metadata": {},
   "outputs": [
    {
     "data": {
      "text/plain": [
       "<treedb.proxies.SQLiteEngineProxy filename='treedb.sqlite3' size=None>"
      ]
     },
     "execution_count": 6,
     "metadata": {},
     "output_type": "execute_result"
    }
   ],
   "source": [
    "treedb.set_engine('treedb.sqlite3')"
   ]
  },
  {
   "cell_type": "code",
   "execution_count": 7,
   "metadata": {},
   "outputs": [
    {
     "name": "stdout",
     "output_type": "stream",
     "text": [
      "0:01:39.971718\n",
      "Wall time: 1min 40s\n"
     ]
    },
    {
     "data": {
      "text/plain": [
       "<treedb.proxies.SQLiteEngineProxy filename='treedb.sqlite3' size=100925440>"
      ]
     },
     "execution_count": 7,
     "metadata": {},
     "output_type": "execute_result"
    }
   ],
   "source": [
    "%%time\n",
    "\n",
    "engine = treedb.load(rebuild=REBUILD, exclude_raw=False)\n",
    "engine"
   ]
  },
  {
   "cell_type": "code",
   "execution_count": 8,
   "metadata": {},
   "outputs": [
    {
     "data": {
      "text/plain": [
       "datetime.datetime(2020, 4, 11, 19, 45, 18, 417797)"
      ]
     },
     "execution_count": 8,
     "metadata": {},
     "output_type": "execute_result"
    }
   ],
   "source": [
    "engine.file_mtime()"
   ]
  },
  {
   "cell_type": "code",
   "execution_count": 9,
   "metadata": {},
   "outputs": [
    {
     "data": {
      "text/plain": [
       "96.25"
      ]
     },
     "execution_count": 9,
     "metadata": {},
     "output_type": "execute_result"
    }
   ],
   "source": [
    "engine.file_size(as_megabytes=True)"
   ]
  },
  {
   "cell_type": "code",
   "execution_count": 10,
   "metadata": {},
   "outputs": [
    {
     "name": "stdout",
     "output_type": "stream",
     "text": [
      "Wall time: 680 ms\n"
     ]
    },
    {
     "data": {
      "text/plain": [
       "'0fdcbfc1da16f0ec13924ae923a98a13591a20c06b1f34355093dc6824b1b8a2'"
      ]
     },
     "execution_count": 10,
     "metadata": {},
     "output_type": "execute_result"
    }
   ],
   "source": [
    "%time engine.file_sha256()"
   ]
  },
  {
   "cell_type": "code",
   "execution_count": 11,
   "metadata": {},
   "outputs": [
    {
     "name": "stdout",
     "output_type": "stream",
     "text": [
      "Wall time: 358 ms\n"
     ]
    },
    {
     "data": {
      "text/plain": [
       "'strong:sha256:1d5a043b6cff9b2adb073e94eb67f5d4789b3b8f215c1eb7a3f26d0d1858d90a'"
      ]
     },
     "execution_count": 11,
     "metadata": {},
     "output_type": "execute_result"
    }
   ],
   "source": [
    "%time treedb.raw.checksum()"
   ]
  },
  {
   "cell_type": "code",
   "execution_count": 12,
   "metadata": {},
   "outputs": [
    {
     "name": "stdout",
     "output_type": "stream",
     "text": [
      "Wall time: 8.8 s\n"
     ]
    },
    {
     "data": {
      "text/plain": [
       "'weak:sha256:2380ef917237713ac2d6710c05bb62648f9dafa40024550906674a5135d05e3b'"
      ]
     },
     "execution_count": 12,
     "metadata": {},
     "output_type": "execute_result"
    }
   ],
   "source": [
    "%time treedb.raw.checksum(weak=True)"
   ]
  },
  {
   "cell_type": "code",
   "execution_count": 13,
   "metadata": {},
   "outputs": [
    {
     "name": "stdout",
     "output_type": "stream",
     "text": [
      "Wall time: 8.66 s\n"
     ]
    },
    {
     "data": {
      "text/plain": [
       "'unordered:sha256:dc6ed1762d47dec12432b09e0d1a1159153f062893bd884e8f21ec6b9e42d6c8'"
      ]
     },
     "execution_count": 13,
     "metadata": {},
     "output_type": "execute_result"
    }
   ],
   "source": [
    "%time treedb.raw.checksum(weak='unordered')"
   ]
  },
  {
   "cell_type": "code",
   "execution_count": 14,
   "metadata": {},
   "outputs": [
    {
     "name": "stdout",
     "output_type": "stream",
     "text": [
      "valid_glottocodeCheck: OK\n",
      "valid_iso639_3Check: OK\n",
      "valid_hidCheck: OK\n",
      "clean_nameCheck: OK\n",
      "family_parentCheck: OK\n",
      "language_parentCheck: OK\n",
      "dialect_parentCheck: OK\n",
      "family_childrenCheck: OK\n",
      "family_languagesCheck: OK\n",
      "bookkeeping_no_childrenCheck: OK\n",
      "no_empty_filesCheck: OK\n",
      "Wall time: 2.79 s\n"
     ]
    },
    {
     "data": {
      "text/plain": [
       "True"
      ]
     },
     "execution_count": 14,
     "metadata": {},
     "output_type": "execute_result"
    }
   ],
   "source": [
    "%time treedb.check()"
   ]
  },
  {
   "cell_type": "code",
   "execution_count": 15,
   "metadata": {},
   "outputs": [],
   "source": [
    "#%time treedb.compare_with_files()"
   ]
  },
  {
   "cell_type": "code",
   "execution_count": 16,
   "metadata": {},
   "outputs": [
    {
     "name": "stdout",
     "output_type": "stream",
     "text": [
      "Wall time: 11.5 s\n"
     ]
    },
    {
     "data": {
      "text/plain": [
       "'path_json:id:sha256:ba2569945c4542f388554b51b98e4fc8d063cb76602be4994b627af7c4400e72'"
      ]
     },
     "execution_count": 16,
     "metadata": {},
     "output_type": "execute_result"
    }
   ],
   "source": [
    "%time treedb.checksum()"
   ]
  },
  {
   "cell_type": "code",
   "execution_count": 17,
   "metadata": {},
   "outputs": [
    {
     "name": "stdout",
     "output_type": "stream",
     "text": [
      "Wall time: 13.4 s\n"
     ]
    },
    {
     "data": {
      "text/plain": [
       "'path_json:id:sha256:bff14c37c75b1b9cea361000a6edf853fa7206883720522f2cbf9900f02be8cc'"
      ]
     },
     "execution_count": 17,
     "metadata": {},
     "output_type": "execute_result"
    }
   ],
   "source": [
    "%time treedb.checksum(source='raw')"
   ]
  },
  {
   "cell_type": "code",
   "execution_count": 18,
   "metadata": {},
   "outputs": [],
   "source": [
    "#%time treedb.checksum(file_order=True)"
   ]
  },
  {
   "cell_type": "code",
   "execution_count": 19,
   "metadata": {},
   "outputs": [],
   "source": [
    "#%time treedb.checksum(source='raw', file_order=True)"
   ]
  },
  {
   "cell_type": "code",
   "execution_count": 20,
   "metadata": {},
   "outputs": [],
   "source": [
    "#%time treedb.checksum(source='files', file_order=True)"
   ]
  },
  {
   "cell_type": "markdown",
   "metadata": {},
   "source": [
    "## treedb.sqlite3"
   ]
  },
  {
   "cell_type": "code",
   "execution_count": 21,
   "metadata": {},
   "outputs": [
    {
     "name": "stderr",
     "output_type": "stream",
     "text": [
      "[INFO@treedb.logging_] treedb version: 0.9.1.dev0\n",
      "SELECT sqlite_version() AS sqlite_version_1\n",
      "()\n"
     ]
    },
    {
     "data": {
      "text/plain": [
       "'3.31.1'"
      ]
     },
     "execution_count": 21,
     "metadata": {},
     "output_type": "execute_result"
    }
   ],
   "source": [
    "from treedb import count, select, text\n",
    "\n",
    "treedb.configure_logging(level='INFO', log_sql=True)\n",
    "    \n",
    "select([sa.func.sqlite_version()]).scalar()"
   ]
  },
  {
   "cell_type": "code",
   "execution_count": 22,
   "metadata": {},
   "outputs": [
    {
     "name": "stderr",
     "output_type": "stream",
     "text": [
      "PRAGMA application_id\n",
      "()\n"
     ]
    },
    {
     "data": {
      "text/plain": [
       "1122"
      ]
     },
     "execution_count": 22,
     "metadata": {},
     "output_type": "execute_result"
    }
   ],
   "source": [
    "application_id = text('PRAGMA application_id').scalar()\n",
    "\n",
    "assert application_id == 1122 == 0x462\n",
    "assert application_id == sum(ord(c) for c in treedb.Dataset.__tablename__)\n",
    "assert treedb.Dataset.__tablename__ == '__dataset__'\n",
    "\n",
    "application_id"
   ]
  },
  {
   "cell_type": "code",
   "execution_count": 23,
   "metadata": {},
   "outputs": [
    {
     "name": "stderr",
     "output_type": "stream",
     "text": [
      "SELECT sqlite_master.name \n",
      "FROM sqlite_master \n",
      "WHERE sqlite_master.type = ? AND sqlite_master.name NOT LIKE ? ORDER BY sqlite_master.name\n",
      "('table', 'sqlite_%')\n",
      "SELECT ? AS table_name, (SELECT count(*) AS n \n",
      "FROM __dataset__) AS n_rows UNION ALL SELECT ? AS table_name, (SELECT count(*) AS n \n",
      "FROM __producer__) AS n_rows UNION ALL SELECT ? AS table_name, (SELECT count(*) AS n \n",
      "FROM _file) AS n_rows UNION ALL SELECT ? AS table_name, (SELECT count(*) AS n \n",
      "FROM _option) AS n_rows UNION ALL SELECT ? AS table_name, (SELECT count(*) AS n \n",
      "FROM _value) AS n_rows UNION ALL SELECT ? AS table_name, (SELECT count(*) AS n \n",
      "FROM altname) AS n_rows UNION ALL SELECT ? AS table_name, (SELECT count(*) AS n \n",
      "FROM bibfile) AS n_rows UNION ALL SELECT ? AS table_name, (SELECT count(*) AS n \n",
      "FROM bibitem) AS n_rows UNION ALL SELECT ? AS table_name, (SELECT count(*) AS n \n",
      "FROM classificationcomment) AS n_rows UNION ALL SELECT ? AS table_name, (SELECT count(*) AS n \n",
      "FROM classificationref) AS n_rows UNION ALL SELECT ? AS table_name, (SELECT count(*) AS n \n",
      "FROM country) AS n_rows UNION ALL SELECT ? AS table_name, (SELECT count(*) AS n \n",
      "FROM endangerment) AS n_rows UNION ALL SELECT ? AS table_name, (SELECT count(*) AS n \n",
      "FROM endangerment_source) AS n_rows UNION ALL SELECT ? AS table_name, (SELECT count(*) AS n \n",
      "FROM ethnologuecomment) AS n_rows UNION ALL SELECT ? AS table_name, (SELECT count(*) AS n \n",
      "FROM identifier) AS n_rows UNION ALL SELECT ? AS table_name, (SELECT count(*) AS n \n",
      "FROM isoretirement) AS n_rows UNION ALL SELECT ? AS table_name, (SELECT count(*) AS n \n",
      "FROM isoretirement_changeto) AS n_rows UNION ALL SELECT ? AS table_name, (SELECT count(*) AS n \n",
      "FROM languoid) AS n_rows UNION ALL SELECT ? AS table_name, (SELECT count(*) AS n \n",
      "FROM languoid_country) AS n_rows UNION ALL SELECT ? AS table_name, (SELECT count(*) AS n \n",
      "FROM languoid_macroarea) AS n_rows UNION ALL SELECT ? AS table_name, (SELECT count(*) AS n \n",
      "FROM link) AS n_rows UNION ALL SELECT ? AS table_name, (SELECT count(*) AS n \n",
      "FROM macroarea) AS n_rows UNION ALL SELECT ? AS table_name, (SELECT count(*) AS n \n",
      "FROM source) AS n_rows UNION ALL SELECT ? AS table_name, (SELECT count(*) AS n \n",
      "FROM \"trigger\") AS n_rows\n",
      "('__dataset__', '__producer__', '_file', '_option', '_value', 'altname', 'bibfile', 'bibitem', 'classificationcomment', 'classificationref', 'country', 'endangerment', 'endangerment_source', 'ethnologuecomment', 'identifier', 'isoretirement', 'isoretirement_changeto', 'languoid', 'languoid_country', 'languoid_macroarea', 'link', 'macroarea', 'source', 'trigger')\n"
     ]
    },
    {
     "data": {
      "text/html": [
       "<div>\n",
       "<style scoped>\n",
       "    .dataframe tbody tr th:only-of-type {\n",
       "        vertical-align: middle;\n",
       "    }\n",
       "\n",
       "    .dataframe tbody tr th {\n",
       "        vertical-align: top;\n",
       "    }\n",
       "\n",
       "    .dataframe thead th {\n",
       "        text-align: right;\n",
       "    }\n",
       "</style>\n",
       "<table border=\"1\" class=\"dataframe\">\n",
       "  <thead>\n",
       "    <tr style=\"text-align: right;\">\n",
       "      <th></th>\n",
       "      <th>n_rows</th>\n",
       "    </tr>\n",
       "    <tr>\n",
       "      <th>table_name</th>\n",
       "      <th></th>\n",
       "    </tr>\n",
       "  </thead>\n",
       "  <tbody>\n",
       "    <tr>\n",
       "      <th>__dataset__</th>\n",
       "      <td>1</td>\n",
       "    </tr>\n",
       "    <tr>\n",
       "      <th>__producer__</th>\n",
       "      <td>1</td>\n",
       "    </tr>\n",
       "    <tr>\n",
       "      <th>_file</th>\n",
       "      <td>24701</td>\n",
       "    </tr>\n",
       "    <tr>\n",
       "      <th>_option</th>\n",
       "      <td>52</td>\n",
       "    </tr>\n",
       "    <tr>\n",
       "      <th>_value</th>\n",
       "      <td>612307</td>\n",
       "    </tr>\n",
       "    <tr>\n",
       "      <th>altname</th>\n",
       "      <td>148287</td>\n",
       "    </tr>\n",
       "    <tr>\n",
       "      <th>bibfile</th>\n",
       "      <td>35</td>\n",
       "    </tr>\n",
       "    <tr>\n",
       "      <th>bibitem</th>\n",
       "      <td>156510</td>\n",
       "    </tr>\n",
       "    <tr>\n",
       "      <th>classificationcomment</th>\n",
       "      <td>11696</td>\n",
       "    </tr>\n",
       "    <tr>\n",
       "      <th>classificationref</th>\n",
       "      <td>15686</td>\n",
       "    </tr>\n",
       "    <tr>\n",
       "      <th>country</th>\n",
       "      <td>226</td>\n",
       "    </tr>\n",
       "    <tr>\n",
       "      <th>endangerment</th>\n",
       "      <td>7983</td>\n",
       "    </tr>\n",
       "    <tr>\n",
       "      <th>endangerment_source</th>\n",
       "      <td>7</td>\n",
       "    </tr>\n",
       "    <tr>\n",
       "      <th>ethnologuecomment</th>\n",
       "      <td>814</td>\n",
       "    </tr>\n",
       "    <tr>\n",
       "      <th>identifier</th>\n",
       "      <td>20887</td>\n",
       "    </tr>\n",
       "    <tr>\n",
       "      <th>isoretirement</th>\n",
       "      <td>325</td>\n",
       "    </tr>\n",
       "    <tr>\n",
       "      <th>isoretirement_changeto</th>\n",
       "      <td>419</td>\n",
       "    </tr>\n",
       "    <tr>\n",
       "      <th>languoid</th>\n",
       "      <td>24701</td>\n",
       "    </tr>\n",
       "    <tr>\n",
       "      <th>languoid_country</th>\n",
       "      <td>10979</td>\n",
       "    </tr>\n",
       "    <tr>\n",
       "      <th>languoid_macroarea</th>\n",
       "      <td>18513</td>\n",
       "    </tr>\n",
       "    <tr>\n",
       "      <th>link</th>\n",
       "      <td>28887</td>\n",
       "    </tr>\n",
       "    <tr>\n",
       "      <th>macroarea</th>\n",
       "      <td>6</td>\n",
       "    </tr>\n",
       "    <tr>\n",
       "      <th>source</th>\n",
       "      <td>206554</td>\n",
       "    </tr>\n",
       "    <tr>\n",
       "      <th>trigger</th>\n",
       "      <td>30311</td>\n",
       "    </tr>\n",
       "  </tbody>\n",
       "</table>\n",
       "</div>"
      ],
      "text/plain": [
       "                        n_rows\n",
       "table_name                    \n",
       "__dataset__                  1\n",
       "__producer__                 1\n",
       "_file                    24701\n",
       "_option                     52\n",
       "_value                  612307\n",
       "altname                 148287\n",
       "bibfile                     35\n",
       "bibitem                 156510\n",
       "classificationcomment    11696\n",
       "classificationref        15686\n",
       "country                    226\n",
       "endangerment              7983\n",
       "endangerment_source          7\n",
       "ethnologuecomment          814\n",
       "identifier               20887\n",
       "isoretirement              325\n",
       "isoretirement_changeto     419\n",
       "languoid                 24701\n",
       "languoid_country         10979\n",
       "languoid_macroarea       18513\n",
       "link                     28887\n",
       "macroarea                    6\n",
       "source                  206554\n",
       "trigger                  30311"
      ]
     },
     "execution_count": 23,
     "metadata": {},
     "output_type": "execute_result"
    }
   ],
   "source": [
    "from treedb import pd_read_sql as read_sql\n",
    "\n",
    "read_sql(treedb.select_tables_nrows(), index_col='table_name')"
   ]
  },
  {
   "cell_type": "code",
   "execution_count": 24,
   "metadata": {},
   "outputs": [
    {
     "name": "stderr",
     "output_type": "stream",
     "text": [
      "SELECT sqlite_master.name \n",
      "FROM sqlite_master \n",
      "WHERE sqlite_master.type = ? AND sqlite_master.name NOT LIKE ? ORDER BY sqlite_master.name\n",
      "('view', 'sqlite_%')\n"
     ]
    },
    {
     "name": "stdout",
     "output_type": "stream",
     "text": [
      "example\n",
      "path_json\n",
      "stats\n"
     ]
    }
   ],
   "source": [
    "treedb.print_rows(treedb.sqlite_master.select_views(), format_='{name}')"
   ]
  },
  {
   "cell_type": "code",
   "execution_count": 25,
   "metadata": {
    "scrolled": true
   },
   "outputs": [
    {
     "name": "stderr",
     "output_type": "stream",
     "text": [
      "SELECT sqlite_master.sql \n",
      "FROM sqlite_master \n",
      "WHERE sqlite_master.type = ? AND sqlite_master.name = ?\n",
      "('table', 'sqlite_master')\n",
      "SELECT count(*) AS n_rows \n",
      "FROM sqlite_master\n",
      "()\n"
     ]
    },
    {
     "name": "stdout",
     "output_type": "stream",
     "text": [
      "None\n",
      "68\n"
     ]
    }
   ],
   "source": [
    "from treedb import print_table_sql as print_sql\n",
    "\n",
    "print_sql('sqlite_master')"
   ]
  },
  {
   "cell_type": "markdown",
   "metadata": {},
   "source": [
    "## \\_\\_dataset\\_\\_"
   ]
  },
  {
   "cell_type": "code",
   "execution_count": 26,
   "metadata": {},
   "outputs": [
    {
     "name": "stderr",
     "output_type": "stream",
     "text": [
      "SELECT sqlite_master.sql \n",
      "FROM sqlite_master \n",
      "WHERE sqlite_master.type = ? AND sqlite_master.name = ?\n",
      "('table', '__dataset__')\n",
      "SELECT count(*) AS n_rows \n",
      "FROM __dataset__\n",
      "()\n"
     ]
    },
    {
     "name": "stdout",
     "output_type": "stream",
     "text": [
      "CREATE TABLE __dataset__ (\n",
      "\tid BOOLEAN DEFAULT (1) NOT NULL CHECK (id), \n",
      "\ttitle TEXT NOT NULL CHECK (title != ''), \n",
      "\tgit_commit VARCHAR(40) NOT NULL CHECK (length(git_commit) = 40), \n",
      "\tgit_describe TEXT NOT NULL CHECK (git_describe != ''), \n",
      "\tclean BOOLEAN NOT NULL, \n",
      "\texclude_raw BOOLEAN NOT NULL, \n",
      "\tPRIMARY KEY (id), \n",
      "\tCHECK (id IN (0, 1)), \n",
      "\tUNIQUE (git_commit), \n",
      "\tUNIQUE (git_describe), \n",
      "\tCHECK (clean IN (0, 1)), \n",
      "\tCHECK (exclude_raw IN (0, 1))\n",
      ")\n",
      "1\n"
     ]
    }
   ],
   "source": [
    "from treedb import Dataset\n",
    "\n",
    "print_sql(Dataset)"
   ]
  },
  {
   "cell_type": "code",
   "execution_count": 27,
   "metadata": {},
   "outputs": [
    {
     "name": "stderr",
     "output_type": "stream",
     "text": [
      "SELECT __dataset__.id, __dataset__.title, __dataset__.git_commit, __dataset__.git_describe, __dataset__.clean, __dataset__.exclude_raw \n",
      "FROM __dataset__\n",
      "()\n"
     ]
    },
    {
     "data": {
      "text/html": [
       "<div>\n",
       "<style scoped>\n",
       "    .dataframe tbody tr th:only-of-type {\n",
       "        vertical-align: middle;\n",
       "    }\n",
       "\n",
       "    .dataframe tbody tr th {\n",
       "        vertical-align: top;\n",
       "    }\n",
       "\n",
       "    .dataframe thead th {\n",
       "        text-align: right;\n",
       "    }\n",
       "</style>\n",
       "<table border=\"1\" class=\"dataframe\">\n",
       "  <thead>\n",
       "    <tr style=\"text-align: right;\">\n",
       "      <th></th>\n",
       "      <th>__dataset__</th>\n",
       "    </tr>\n",
       "  </thead>\n",
       "  <tbody>\n",
       "    <tr>\n",
       "      <th>id</th>\n",
       "      <td>True</td>\n",
       "    </tr>\n",
       "    <tr>\n",
       "      <th>title</th>\n",
       "      <td>Glottolog treedb</td>\n",
       "    </tr>\n",
       "    <tr>\n",
       "      <th>git_commit</th>\n",
       "      <td>d350705d5a3fcf51b5fb2d394bb66f019faa9c11</td>\n",
       "    </tr>\n",
       "    <tr>\n",
       "      <th>git_describe</th>\n",
       "      <td>v4.1</td>\n",
       "    </tr>\n",
       "    <tr>\n",
       "      <th>clean</th>\n",
       "      <td>True</td>\n",
       "    </tr>\n",
       "    <tr>\n",
       "      <th>exclude_raw</th>\n",
       "      <td>False</td>\n",
       "    </tr>\n",
       "  </tbody>\n",
       "</table>\n",
       "</div>"
      ],
      "text/plain": [
       "                                           __dataset__\n",
       "id                                                True\n",
       "title                                 Glottolog treedb\n",
       "git_commit    d350705d5a3fcf51b5fb2d394bb66f019faa9c11\n",
       "git_describe                                      v4.1\n",
       "clean                                             True\n",
       "exclude_raw                                      False"
      ]
     },
     "execution_count": 27,
     "metadata": {},
     "output_type": "execute_result"
    }
   ],
   "source": [
    "dataset, = select([Dataset]).execute()\n",
    "\n",
    "pd.DataFrame.from_dict(dataset, orient='index', columns=['__dataset__'])"
   ]
  },
  {
   "cell_type": "markdown",
   "metadata": {},
   "source": [
    "## \\_\\_producer\\_\\_"
   ]
  },
  {
   "cell_type": "code",
   "execution_count": 28,
   "metadata": {},
   "outputs": [
    {
     "name": "stderr",
     "output_type": "stream",
     "text": [
      "SELECT sqlite_master.sql \n",
      "FROM sqlite_master \n",
      "WHERE sqlite_master.type = ? AND sqlite_master.name = ?\n",
      "('table', '__producer__')\n",
      "SELECT count(*) AS n_rows \n",
      "FROM __producer__\n",
      "()\n"
     ]
    },
    {
     "name": "stdout",
     "output_type": "stream",
     "text": [
      "CREATE TABLE __producer__ (\n",
      "\tid BOOLEAN DEFAULT (1) NOT NULL CHECK (id), \n",
      "\tname TEXT NOT NULL CHECK (name != ''), \n",
      "\tversion TEXT NOT NULL CHECK (version != ''), \n",
      "\tPRIMARY KEY (id), \n",
      "\tCHECK (id IN (0, 1)), \n",
      "\tUNIQUE (name)\n",
      ")\n",
      "1\n"
     ]
    }
   ],
   "source": [
    "from treedb import Producer\n",
    "\n",
    "print_sql(Producer)"
   ]
  },
  {
   "cell_type": "code",
   "execution_count": 29,
   "metadata": {},
   "outputs": [
    {
     "name": "stderr",
     "output_type": "stream",
     "text": [
      "SELECT __producer__.id, __producer__.name, __producer__.version \n",
      "FROM __producer__\n",
      "()\n"
     ]
    },
    {
     "data": {
      "text/html": [
       "<div>\n",
       "<style scoped>\n",
       "    .dataframe tbody tr th:only-of-type {\n",
       "        vertical-align: middle;\n",
       "    }\n",
       "\n",
       "    .dataframe tbody tr th {\n",
       "        vertical-align: top;\n",
       "    }\n",
       "\n",
       "    .dataframe thead th {\n",
       "        text-align: right;\n",
       "    }\n",
       "</style>\n",
       "<table border=\"1\" class=\"dataframe\">\n",
       "  <thead>\n",
       "    <tr style=\"text-align: right;\">\n",
       "      <th></th>\n",
       "      <th>__producer__</th>\n",
       "    </tr>\n",
       "  </thead>\n",
       "  <tbody>\n",
       "    <tr>\n",
       "      <th>id</th>\n",
       "      <td>True</td>\n",
       "    </tr>\n",
       "    <tr>\n",
       "      <th>name</th>\n",
       "      <td>treedb</td>\n",
       "    </tr>\n",
       "    <tr>\n",
       "      <th>version</th>\n",
       "      <td>0.9.1.dev0</td>\n",
       "    </tr>\n",
       "  </tbody>\n",
       "</table>\n",
       "</div>"
      ],
      "text/plain": [
       "        __producer__\n",
       "id              True\n",
       "name          treedb\n",
       "version   0.9.1.dev0"
      ]
     },
     "execution_count": 29,
     "metadata": {},
     "output_type": "execute_result"
    }
   ],
   "source": [
    "producer, = select([Producer]).execute()\n",
    "\n",
    "pd.DataFrame.from_dict(producer, orient='index', columns=['__producer__'])"
   ]
  },
  {
   "cell_type": "markdown",
   "metadata": {},
   "source": [
    "## `treedb.raw`"
   ]
  },
  {
   "cell_type": "code",
   "execution_count": 30,
   "metadata": {},
   "outputs": [
    {
     "name": "stderr",
     "output_type": "stream",
     "text": [
      "SELECT sqlite_master.sql \n",
      "FROM sqlite_master \n",
      "WHERE sqlite_master.type = ? AND sqlite_master.name = ?\n",
      "('table', '_file')\n",
      "SELECT count(*) AS n_rows \n",
      "FROM _file\n",
      "()\n"
     ]
    },
    {
     "name": "stdout",
     "output_type": "stream",
     "text": [
      "CREATE TABLE _file (\n",
      "\tid INTEGER NOT NULL, \n",
      "\tglottocode VARCHAR(8) NOT NULL CHECK (length(glottocode) = 8), \n",
      "\tpath TEXT NOT NULL CHECK (length(path) >= 8 AND (length(path) + 1) % 9 = 0), \n",
      "\tsize INTEGER NOT NULL CHECK (size > 0), \n",
      "\tsha256 VARCHAR(64) NOT NULL CHECK (length(sha256) = 64), \n",
      "\tPRIMARY KEY (id), \n",
      "\tCHECK (substr(path, -length(glottocode)) = glottocode), \n",
      "\tUNIQUE (glottocode), \n",
      "\tUNIQUE (path), \n",
      "\tUNIQUE (sha256)\n",
      ")\n",
      "24701\n"
     ]
    },
    {
     "name": "stderr",
     "output_type": "stream",
     "text": [
      "SELECT sqlite_master.sql \n",
      "FROM sqlite_master \n",
      "WHERE sqlite_master.type = ? AND sqlite_master.name = ?\n",
      "('table', '_option')\n",
      "SELECT count(*) AS n_rows \n",
      "FROM _option\n",
      "()\n",
      "SELECT sqlite_master.sql \n",
      "FROM sqlite_master \n",
      "WHERE sqlite_master.type = ? AND sqlite_master.name = ?\n",
      "('table', '_value')\n",
      "SELECT count(*) AS n_rows \n",
      "FROM _value\n",
      "()\n"
     ]
    },
    {
     "name": "stdout",
     "output_type": "stream",
     "text": [
      "CREATE TABLE _option (\n",
      "\tid INTEGER NOT NULL, \n",
      "\tsection TEXT NOT NULL CHECK (section != ''), \n",
      "\toption TEXT NOT NULL CHECK (option != ''), \n",
      "\tis_lines BOOLEAN, \n",
      "\tPRIMARY KEY (id), \n",
      "\tUNIQUE (section, option), \n",
      "\tCHECK (is_lines IN (0, 1))\n",
      ")\n",
      "52\n",
      "CREATE TABLE _value (\n",
      "\tfile_id INTEGER NOT NULL, \n",
      "\toption_id INTEGER NOT NULL, \n",
      "\tline INTEGER NOT NULL CHECK (line > 0), \n",
      "\tvalue TEXT NOT NULL CHECK (value != ''), \n",
      "\tPRIMARY KEY (file_id, option_id, line), \n",
      "\tUNIQUE (file_id, line), \n",
      "\tFOREIGN KEY(file_id) REFERENCES _file (id), \n",
      "\tFOREIGN KEY(option_id) REFERENCES _option (id)\n",
      ")\n",
      "612307\n"
     ]
    }
   ],
   "source": [
    "from treedb.raw import File, Option, Value\n",
    "\n",
    "for model in (File, Option, Value):\n",
    "    print_sql(model)"
   ]
  },
  {
   "cell_type": "code",
   "execution_count": 31,
   "metadata": {},
   "outputs": [
    {
     "name": "stderr",
     "output_type": "stream",
     "text": [
      "SELECT _file.id, _file.glottocode, _file.path, _file.size, _file.sha256 \n",
      "FROM _file\n",
      " LIMIT ? OFFSET ?\n",
      "(5, 0)\n"
     ]
    },
    {
     "data": {
      "text/html": [
       "<div>\n",
       "<style scoped>\n",
       "    .dataframe tbody tr th:only-of-type {\n",
       "        vertical-align: middle;\n",
       "    }\n",
       "\n",
       "    .dataframe tbody tr th {\n",
       "        vertical-align: top;\n",
       "    }\n",
       "\n",
       "    .dataframe thead th {\n",
       "        text-align: right;\n",
       "    }\n",
       "</style>\n",
       "<table border=\"1\" class=\"dataframe\">\n",
       "  <thead>\n",
       "    <tr style=\"text-align: right;\">\n",
       "      <th></th>\n",
       "      <th>glottocode</th>\n",
       "      <th>path</th>\n",
       "      <th>size</th>\n",
       "      <th>sha256</th>\n",
       "    </tr>\n",
       "    <tr>\n",
       "      <th>id</th>\n",
       "      <th></th>\n",
       "      <th></th>\n",
       "      <th></th>\n",
       "      <th></th>\n",
       "    </tr>\n",
       "  </thead>\n",
       "  <tbody>\n",
       "    <tr>\n",
       "      <th>1</th>\n",
       "      <td>abin1243</td>\n",
       "      <td>abin1243</td>\n",
       "      <td>1229</td>\n",
       "      <td>b7c19c6bc411908419022568fa021e39d64b1e9ab2e57c...</td>\n",
       "    </tr>\n",
       "    <tr>\n",
       "      <th>2</th>\n",
       "      <td>abis1238</td>\n",
       "      <td>abis1238</td>\n",
       "      <td>1832</td>\n",
       "      <td>4e844f3a7e6849397b27ad4594c0ca07d9110b57e471c7...</td>\n",
       "    </tr>\n",
       "    <tr>\n",
       "      <th>3</th>\n",
       "      <td>abkh1242</td>\n",
       "      <td>abkh1242</td>\n",
       "      <td>306</td>\n",
       "      <td>5dd28ae1265a0967b1a236d06c7fd6e7ac3b9e32d866dd...</td>\n",
       "    </tr>\n",
       "    <tr>\n",
       "      <th>4</th>\n",
       "      <td>abkh1243</td>\n",
       "      <td>abkh1242/abkh1243</td>\n",
       "      <td>257</td>\n",
       "      <td>a5900355c69af22d94eaa0a147b95fc291270634bc033c...</td>\n",
       "    </tr>\n",
       "    <tr>\n",
       "      <th>5</th>\n",
       "      <td>abaz1241</td>\n",
       "      <td>abkh1242/abkh1243/abaz1241</td>\n",
       "      <td>2466</td>\n",
       "      <td>bb238d89efe3be4addccc5399e6da94feff72c774ead1b...</td>\n",
       "    </tr>\n",
       "  </tbody>\n",
       "</table>\n",
       "</div>"
      ],
      "text/plain": [
       "   glottocode                        path  size  \\\n",
       "id                                                \n",
       "1    abin1243                    abin1243  1229   \n",
       "2    abis1238                    abis1238  1832   \n",
       "3    abkh1242                    abkh1242   306   \n",
       "4    abkh1243           abkh1242/abkh1243   257   \n",
       "5    abaz1241  abkh1242/abkh1243/abaz1241  2466   \n",
       "\n",
       "                                               sha256  \n",
       "id                                                     \n",
       "1   b7c19c6bc411908419022568fa021e39d64b1e9ab2e57c...  \n",
       "2   4e844f3a7e6849397b27ad4594c0ca07d9110b57e471c7...  \n",
       "3   5dd28ae1265a0967b1a236d06c7fd6e7ac3b9e32d866dd...  \n",
       "4   a5900355c69af22d94eaa0a147b95fc291270634bc033c...  \n",
       "5   bb238d89efe3be4addccc5399e6da94feff72c774ead1b...  "
      ]
     },
     "execution_count": 31,
     "metadata": {},
     "output_type": "execute_result"
    }
   ],
   "source": [
    "read_sql(select([File]).limit(5), index_col='id')"
   ]
  },
  {
   "cell_type": "code",
   "execution_count": 32,
   "metadata": {},
   "outputs": [
    {
     "name": "stderr",
     "output_type": "stream",
     "text": [
      "SELECT _option.id, _option.section, _option.option, _option.is_lines \n",
      "FROM _option\n",
      " LIMIT ? OFFSET ?\n",
      "(5, 0)\n"
     ]
    },
    {
     "data": {
      "text/html": [
       "<div>\n",
       "<style scoped>\n",
       "    .dataframe tbody tr th:only-of-type {\n",
       "        vertical-align: middle;\n",
       "    }\n",
       "\n",
       "    .dataframe tbody tr th {\n",
       "        vertical-align: top;\n",
       "    }\n",
       "\n",
       "    .dataframe thead th {\n",
       "        text-align: right;\n",
       "    }\n",
       "</style>\n",
       "<table border=\"1\" class=\"dataframe\">\n",
       "  <thead>\n",
       "    <tr style=\"text-align: right;\">\n",
       "      <th></th>\n",
       "      <th>section</th>\n",
       "      <th>option</th>\n",
       "      <th>is_lines</th>\n",
       "    </tr>\n",
       "    <tr>\n",
       "      <th>id</th>\n",
       "      <th></th>\n",
       "      <th></th>\n",
       "      <th></th>\n",
       "    </tr>\n",
       "  </thead>\n",
       "  <tbody>\n",
       "    <tr>\n",
       "      <th>1</th>\n",
       "      <td>core</td>\n",
       "      <td>name</td>\n",
       "      <td>False</td>\n",
       "    </tr>\n",
       "    <tr>\n",
       "      <th>2</th>\n",
       "      <td>core</td>\n",
       "      <td>hid</td>\n",
       "      <td>False</td>\n",
       "    </tr>\n",
       "    <tr>\n",
       "      <th>3</th>\n",
       "      <td>core</td>\n",
       "      <td>level</td>\n",
       "      <td>False</td>\n",
       "    </tr>\n",
       "    <tr>\n",
       "      <th>4</th>\n",
       "      <td>core</td>\n",
       "      <td>iso639-3</td>\n",
       "      <td>False</td>\n",
       "    </tr>\n",
       "    <tr>\n",
       "      <th>5</th>\n",
       "      <td>core</td>\n",
       "      <td>latitude</td>\n",
       "      <td>False</td>\n",
       "    </tr>\n",
       "  </tbody>\n",
       "</table>\n",
       "</div>"
      ],
      "text/plain": [
       "   section    option  is_lines\n",
       "id                            \n",
       "1     core      name     False\n",
       "2     core       hid     False\n",
       "3     core     level     False\n",
       "4     core  iso639-3     False\n",
       "5     core  latitude     False"
      ]
     },
     "execution_count": 32,
     "metadata": {},
     "output_type": "execute_result"
    }
   ],
   "source": [
    "read_sql(select([Option]).limit(5), index_col='id')"
   ]
  },
  {
   "cell_type": "code",
   "execution_count": 33,
   "metadata": {},
   "outputs": [
    {
     "name": "stderr",
     "output_type": "stream",
     "text": [
      "SELECT _value.file_id, _value.option_id, _value.line, _value.value \n",
      "FROM _value\n",
      " LIMIT ? OFFSET ?\n",
      "(5, 0)\n"
     ]
    },
    {
     "data": {
      "text/html": [
       "<div>\n",
       "<style scoped>\n",
       "    .dataframe tbody tr th:only-of-type {\n",
       "        vertical-align: middle;\n",
       "    }\n",
       "\n",
       "    .dataframe tbody tr th {\n",
       "        vertical-align: top;\n",
       "    }\n",
       "\n",
       "    .dataframe thead th {\n",
       "        text-align: right;\n",
       "    }\n",
       "</style>\n",
       "<table border=\"1\" class=\"dataframe\">\n",
       "  <thead>\n",
       "    <tr style=\"text-align: right;\">\n",
       "      <th></th>\n",
       "      <th></th>\n",
       "      <th>line</th>\n",
       "      <th>value</th>\n",
       "    </tr>\n",
       "    <tr>\n",
       "      <th>file_id</th>\n",
       "      <th>option_id</th>\n",
       "      <th></th>\n",
       "      <th></th>\n",
       "    </tr>\n",
       "  </thead>\n",
       "  <tbody>\n",
       "    <tr>\n",
       "      <th rowspan=\"5\" valign=\"top\">1</th>\n",
       "      <th>1</th>\n",
       "      <td>1</td>\n",
       "      <td>Abinomn</td>\n",
       "    </tr>\n",
       "    <tr>\n",
       "      <th>2</th>\n",
       "      <td>2</td>\n",
       "      <td>bsa</td>\n",
       "    </tr>\n",
       "    <tr>\n",
       "      <th>3</th>\n",
       "      <td>3</td>\n",
       "      <td>language</td>\n",
       "    </tr>\n",
       "    <tr>\n",
       "      <th>4</th>\n",
       "      <td>4</td>\n",
       "      <td>bsa</td>\n",
       "    </tr>\n",
       "    <tr>\n",
       "      <th>5</th>\n",
       "      <td>5</td>\n",
       "      <td>-2.92281</td>\n",
       "    </tr>\n",
       "  </tbody>\n",
       "</table>\n",
       "</div>"
      ],
      "text/plain": [
       "                   line     value\n",
       "file_id option_id                \n",
       "1       1             1   Abinomn\n",
       "        2             2       bsa\n",
       "        3             3  language\n",
       "        4             4       bsa\n",
       "        5             5  -2.92281"
      ]
     },
     "execution_count": 33,
     "metadata": {},
     "output_type": "execute_result"
    }
   ],
   "source": [
    "read_sql(select([Value]).limit(5), index_col=['file_id', 'option_id'])"
   ]
  },
  {
   "cell_type": "code",
   "execution_count": 34,
   "metadata": {},
   "outputs": [
    {
     "name": "stderr",
     "output_type": "stream",
     "text": [
      "SELECT _option.section, _option.option, _value.line, _value.value \n",
      "FROM _file JOIN _value ON _file.id = _value.file_id JOIN _option ON _option.id = _value.option_id \n",
      "WHERE _file.glottocode = ?\n",
      "('abin1243',)\n"
     ]
    },
    {
     "data": {
      "text/html": [
       "<div>\n",
       "<style scoped>\n",
       "    .dataframe tbody tr th:only-of-type {\n",
       "        vertical-align: middle;\n",
       "    }\n",
       "\n",
       "    .dataframe tbody tr th {\n",
       "        vertical-align: top;\n",
       "    }\n",
       "\n",
       "    .dataframe thead th {\n",
       "        text-align: right;\n",
       "    }\n",
       "</style>\n",
       "<table border=\"1\" class=\"dataframe\">\n",
       "  <thead>\n",
       "    <tr style=\"text-align: right;\">\n",
       "      <th></th>\n",
       "      <th></th>\n",
       "      <th></th>\n",
       "      <th>value</th>\n",
       "    </tr>\n",
       "    <tr>\n",
       "      <th>section</th>\n",
       "      <th>option</th>\n",
       "      <th>line</th>\n",
       "      <th></th>\n",
       "    </tr>\n",
       "  </thead>\n",
       "  <tbody>\n",
       "    <tr>\n",
       "      <th rowspan=\"11\" valign=\"top\">core</th>\n",
       "      <th>name</th>\n",
       "      <th>1</th>\n",
       "      <td>Abinomn</td>\n",
       "    </tr>\n",
       "    <tr>\n",
       "      <th>hid</th>\n",
       "      <th>2</th>\n",
       "      <td>bsa</td>\n",
       "    </tr>\n",
       "    <tr>\n",
       "      <th>level</th>\n",
       "      <th>3</th>\n",
       "      <td>language</td>\n",
       "    </tr>\n",
       "    <tr>\n",
       "      <th>iso639-3</th>\n",
       "      <th>4</th>\n",
       "      <td>bsa</td>\n",
       "    </tr>\n",
       "    <tr>\n",
       "      <th>latitude</th>\n",
       "      <th>5</th>\n",
       "      <td>-2.92281</td>\n",
       "    </tr>\n",
       "    <tr>\n",
       "      <th>longitude</th>\n",
       "      <th>6</th>\n",
       "      <td>138.891</td>\n",
       "    </tr>\n",
       "    <tr>\n",
       "      <th>macroareas</th>\n",
       "      <th>7</th>\n",
       "      <td>Papunesia</td>\n",
       "    </tr>\n",
       "    <tr>\n",
       "      <th>countries</th>\n",
       "      <th>8</th>\n",
       "      <td>Indonesia (ID)</td>\n",
       "    </tr>\n",
       "    <tr>\n",
       "      <th rowspan=\"3\" valign=\"top\">links</th>\n",
       "      <th>9</th>\n",
       "      <td>[Abinomn](http://endangeredlanguages.com/lang/...</td>\n",
       "    </tr>\n",
       "    <tr>\n",
       "      <th>10</th>\n",
       "      <td>https://www.wikidata.org/entity/Q56648</td>\n",
       "    </tr>\n",
       "    <tr>\n",
       "      <th>11</th>\n",
       "      <td>https://en.wikipedia.org/wiki/Abinomn_language</td>\n",
       "    </tr>\n",
       "    <tr>\n",
       "      <th rowspan=\"6\" valign=\"top\">sources</th>\n",
       "      <th rowspan=\"6\" valign=\"top\">glottolog</th>\n",
       "      <th>12</th>\n",
       "      <td>**hh:e:Lagerberg:Moegip**</td>\n",
       "    </tr>\n",
       "    <tr>\n",
       "      <th>13</th>\n",
       "      <td>**hh:h:SilzerClouse:Index**</td>\n",
       "    </tr>\n",
       "    <tr>\n",
       "      <th>14</th>\n",
       "      <td>**hh:h:SilzerHeikkinen:Irian**</td>\n",
       "    </tr>\n",
       "    <tr>\n",
       "      <th>15</th>\n",
       "      <td>**hh:hv:Foley:Northwest-New-Guinea**</td>\n",
       "    </tr>\n",
       "    <tr>\n",
       "      <th>16</th>\n",
       "      <td>**hh:hvtyp:DonohueMusgrave:Melanesia**</td>\n",
       "    </tr>\n",
       "    <tr>\n",
       "      <th>17</th>\n",
       "      <td>**hh:w:Fiwei:Abinomn**</td>\n",
       "    </tr>\n",
       "    <tr>\n",
       "      <th rowspan=\"16\" valign=\"top\">altnames</th>\n",
       "      <th rowspan=\"5\" valign=\"top\">multitree</th>\n",
       "      <th>18</th>\n",
       "      <td>\"Baso\"</td>\n",
       "    </tr>\n",
       "    <tr>\n",
       "      <th>19</th>\n",
       "      <td>Abinomn</td>\n",
       "    </tr>\n",
       "    <tr>\n",
       "      <th>20</th>\n",
       "      <td>Avinomen</td>\n",
       "    </tr>\n",
       "    <tr>\n",
       "      <th>21</th>\n",
       "      <td>Foja</td>\n",
       "    </tr>\n",
       "    <tr>\n",
       "      <th>22</th>\n",
       "      <td>Foya</td>\n",
       "    </tr>\n",
       "    <tr>\n",
       "      <th rowspan=\"5\" valign=\"top\">lexvo</th>\n",
       "      <th>23</th>\n",
       "      <td>Abinomn [en]</td>\n",
       "    </tr>\n",
       "    <tr>\n",
       "      <th>24</th>\n",
       "      <td>Abinomn language [en]</td>\n",
       "    </tr>\n",
       "    <tr>\n",
       "      <th>25</th>\n",
       "      <td>Abinomneg [br]</td>\n",
       "    </tr>\n",
       "    <tr>\n",
       "      <th>26</th>\n",
       "      <td>Lingua abinomn [gl]</td>\n",
       "    </tr>\n",
       "    <tr>\n",
       "      <th>27</th>\n",
       "      <td>Llingua Abinomn [ast]</td>\n",
       "    </tr>\n",
       "    <tr>\n",
       "      <th>hhbib_lgcode</th>\n",
       "      <th>28</th>\n",
       "      <td>Baso</td>\n",
       "    </tr>\n",
       "    <tr>\n",
       "      <th rowspan=\"5\" valign=\"top\">elcat</th>\n",
       "      <th>29</th>\n",
       "      <td>\"Baso\"</td>\n",
       "    </tr>\n",
       "    <tr>\n",
       "      <th>30</th>\n",
       "      <td>Abinomn</td>\n",
       "    </tr>\n",
       "    <tr>\n",
       "      <th>31</th>\n",
       "      <td>Avinomen</td>\n",
       "    </tr>\n",
       "    <tr>\n",
       "      <th>32</th>\n",
       "      <td>Foja</td>\n",
       "    </tr>\n",
       "    <tr>\n",
       "      <th>33</th>\n",
       "      <td>Foya</td>\n",
       "    </tr>\n",
       "    <tr>\n",
       "      <th rowspan=\"2\" valign=\"top\">triggers</th>\n",
       "      <th rowspan=\"2\" valign=\"top\">lgcode</th>\n",
       "      <th>34</th>\n",
       "      <td>macrohistory</td>\n",
       "    </tr>\n",
       "    <tr>\n",
       "      <th>35</th>\n",
       "      <td>moegip</td>\n",
       "    </tr>\n",
       "    <tr>\n",
       "      <th rowspan=\"2\" valign=\"top\">identifier</th>\n",
       "      <th>multitree</th>\n",
       "      <th>36</th>\n",
       "      <td>bsa</td>\n",
       "    </tr>\n",
       "    <tr>\n",
       "      <th>endangeredlanguages</th>\n",
       "      <th>37</th>\n",
       "      <td>1763</td>\n",
       "    </tr>\n",
       "    <tr>\n",
       "      <th rowspan=\"2\" valign=\"top\">classification</th>\n",
       "      <th rowspan=\"2\" valign=\"top\">familyrefs</th>\n",
       "      <th>38</th>\n",
       "      <td>**hh:h:SilzerClouse:Index**</td>\n",
       "    </tr>\n",
       "    <tr>\n",
       "      <th>39</th>\n",
       "      <td>**hh:hvtyp:DonohueMusgrave:Melanesia**</td>\n",
       "    </tr>\n",
       "    <tr>\n",
       "      <th rowspan=\"4\" valign=\"top\">endangerment</th>\n",
       "      <th>status</th>\n",
       "      <th>40</th>\n",
       "      <td>shifting</td>\n",
       "    </tr>\n",
       "    <tr>\n",
       "      <th>source</th>\n",
       "      <th>41</th>\n",
       "      <td>ElCat</td>\n",
       "    </tr>\n",
       "    <tr>\n",
       "      <th>date</th>\n",
       "      <th>42</th>\n",
       "      <td>2017-08-19T08:16:16</td>\n",
       "    </tr>\n",
       "    <tr>\n",
       "      <th>comment</th>\n",
       "      <th>43</th>\n",
       "      <td>Abinomn (1763-bsa) = Endangered (20 percent ce...</td>\n",
       "    </tr>\n",
       "  </tbody>\n",
       "</table>\n",
       "</div>"
      ],
      "text/plain": [
       "                                                                                     value\n",
       "section        option              line                                                   \n",
       "core           name                1                                               Abinomn\n",
       "               hid                 2                                                   bsa\n",
       "               level               3                                              language\n",
       "               iso639-3            4                                                   bsa\n",
       "               latitude            5                                              -2.92281\n",
       "               longitude           6                                               138.891\n",
       "               macroareas          7                                             Papunesia\n",
       "               countries           8                                        Indonesia (ID)\n",
       "               links               9     [Abinomn](http://endangeredlanguages.com/lang/...\n",
       "                                   10               https://www.wikidata.org/entity/Q56648\n",
       "                                   11       https://en.wikipedia.org/wiki/Abinomn_language\n",
       "sources        glottolog           12                            **hh:e:Lagerberg:Moegip**\n",
       "                                   13                          **hh:h:SilzerClouse:Index**\n",
       "                                   14                       **hh:h:SilzerHeikkinen:Irian**\n",
       "                                   15                 **hh:hv:Foley:Northwest-New-Guinea**\n",
       "                                   16               **hh:hvtyp:DonohueMusgrave:Melanesia**\n",
       "                                   17                               **hh:w:Fiwei:Abinomn**\n",
       "altnames       multitree           18                                               \"Baso\"\n",
       "                                   19                                              Abinomn\n",
       "                                   20                                             Avinomen\n",
       "                                   21                                                 Foja\n",
       "                                   22                                                 Foya\n",
       "               lexvo               23                                         Abinomn [en]\n",
       "                                   24                                Abinomn language [en]\n",
       "                                   25                                       Abinomneg [br]\n",
       "                                   26                                  Lingua abinomn [gl]\n",
       "                                   27                                Llingua Abinomn [ast]\n",
       "               hhbib_lgcode        28                                                 Baso\n",
       "               elcat               29                                               \"Baso\"\n",
       "                                   30                                              Abinomn\n",
       "                                   31                                             Avinomen\n",
       "                                   32                                                 Foja\n",
       "                                   33                                                 Foya\n",
       "triggers       lgcode              34                                         macrohistory\n",
       "                                   35                                               moegip\n",
       "identifier     multitree           36                                                  bsa\n",
       "               endangeredlanguages 37                                                 1763\n",
       "classification familyrefs          38                          **hh:h:SilzerClouse:Index**\n",
       "                                   39               **hh:hvtyp:DonohueMusgrave:Melanesia**\n",
       "endangerment   status              40                                             shifting\n",
       "               source              41                                                ElCat\n",
       "               date                42                                  2017-08-19T08:16:16\n",
       "               comment             43    Abinomn (1763-bsa) = Endangered (20 percent ce..."
      ]
     },
     "execution_count": 34,
     "metadata": {},
     "output_type": "execute_result"
    }
   ],
   "source": [
    "select_file_values = select([Option.section, Option.option, Value.line, Value.value])\\\n",
    "                     .select_from(sa.join(File, Value).join(Option))\\\n",
    "                     .where(File.glottocode == sa.bindparam('glottocode'))\n",
    "\n",
    "read_sql(select_file_values, params={'glottocode': 'abin1243'},\n",
    "         index_col=['section', 'option', 'line'])"
   ]
  },
  {
   "cell_type": "code",
   "execution_count": 35,
   "metadata": {
    "scrolled": false
   },
   "outputs": [
    {
     "name": "stderr",
     "output_type": "stream",
     "text": [
      "SELECT (length(_file.path) + ?) / ? AS path_depth, languoid.level, count(*) AS n_files \n",
      "FROM _file JOIN languoid ON _file.glottocode = languoid.id GROUP BY (length(_file.path) + ?) / ?, languoid.level ORDER BY path_depth, languoid.level\n",
      "(1, 9, 1, 9)\n",
      "[INFO@numexpr.utils] NumExpr defaulting to 4 threads.\n"
     ]
    },
    {
     "data": {
      "image/png": "[encoded data removed]",
      "text/plain": [
       "<Figure size 864x216 with 1 Axes>"
      ]
     },
     "metadata": {
      "needs_background": "light"
     },
     "output_type": "display_data"
    },
    {
     "data": {
      "image/png": "[encoded data removed]",
      "text/plain": [
       "<Figure size 864x216 with 1 Axes>"
      ]
     },
     "metadata": {
      "needs_background": "light"
     },
     "output_type": "display_data"
    }
   ],
   "source": [
    "path_depth = File.path_depth()\n",
    "\n",
    "select_path_depths = select([path_depth,\n",
    "                             treedb.Languoid.level, count().label('n_files')])\\\n",
    "                     .select_from(sa.join(File, treedb.Languoid,\n",
    "                                          File.glottocode == treedb.Languoid.id))\\\n",
    "                     .group_by(path_depth, treedb.Languoid.level)\\\n",
    "                     .order_by('path_depth', 'level')\n",
    "\n",
    "_ = read_sql(select_path_depths, index_col=['path_depth', 'level'])\\\n",
    "    .unstack(fill_value=0).droplevel(0, axis='columns')[list(treedb.LEVEL)]\n",
    "\n",
    "_.plot.bar(stacked=True, figsize=(12, 3))\n",
    "\n",
    "(100 * _.div(_.sum(axis='columns'), axis='rows')).plot.bar(stacked=True, figsize=(12, 3));"
   ]
  },
  {
   "cell_type": "code",
   "execution_count": 36,
   "metadata": {},
   "outputs": [
    {
     "name": "stderr",
     "output_type": "stream",
     "text": [
      "SELECT _file.size AS file_size, count(*) AS n_files \n",
      "FROM _file GROUP BY _file.size ORDER BY file_size\n",
      "()\n"
     ]
    },
    {
     "data": {
      "text/html": [
       "<div>\n",
       "<style scoped>\n",
       "    .dataframe tbody tr th:only-of-type {\n",
       "        vertical-align: middle;\n",
       "    }\n",
       "\n",
       "    .dataframe tbody tr th {\n",
       "        vertical-align: top;\n",
       "    }\n",
       "\n",
       "    .dataframe thead th {\n",
       "        text-align: right;\n",
       "    }\n",
       "</style>\n",
       "<table border=\"1\" class=\"dataframe\">\n",
       "  <thead>\n",
       "    <tr style=\"text-align: right;\">\n",
       "      <th></th>\n",
       "      <th>file_size</th>\n",
       "    </tr>\n",
       "  </thead>\n",
       "  <tbody>\n",
       "    <tr>\n",
       "      <th>min</th>\n",
       "      <td>63.0</td>\n",
       "    </tr>\n",
       "    <tr>\n",
       "      <th>max</th>\n",
       "      <td>46286.0</td>\n",
       "    </tr>\n",
       "  </tbody>\n",
       "</table>\n",
       "</div>"
      ],
      "text/plain": [
       "     file_size\n",
       "min       63.0\n",
       "max    46286.0"
      ]
     },
     "execution_count": 36,
     "metadata": {},
     "output_type": "execute_result"
    },
    {
     "data": {
      "image/png": "[encoded data removed]",
      "text/plain": [
       "<Figure size 864x216 with 1 Axes>"
      ]
     },
     "metadata": {
      "needs_background": "light"
     },
     "output_type": "display_data"
    }
   ],
   "source": [
    "file_size = File.size.label('file_size')\n",
    "\n",
    "select_file_sizes = select([file_size, count().label('n_files')])\\\n",
    "                    .group_by(file_size)\\\n",
    "                    .order_by('file_size')\n",
    "\n",
    "_ = read_sql(select_file_sizes, index_col='file_size')\n",
    "\n",
    "_.plot.area(figsize=(12, 3), logx=True).xaxis.set_major_formatter(mpl.ticker.ScalarFormatter())\n",
    "_.index.to_series().describe().to_frame().loc[['min', 'max']]"
   ]
  },
  {
   "cell_type": "code",
   "execution_count": 37,
   "metadata": {},
   "outputs": [
    {
     "name": "stderr",
     "output_type": "stream",
     "text": [
      "SELECT n_values, count(*) AS n_files \n",
      "FROM (SELECT _file.glottocode AS glottocode, count(DISTINCT _value.option_id) AS n_values \n",
      "FROM _file JOIN _value ON _file.id = _value.file_id GROUP BY _file.glottocode) GROUP BY n_values ORDER BY n_values\n",
      "()\n"
     ]
    },
    {
     "data": {
      "text/html": [
       "<div>\n",
       "<style scoped>\n",
       "    .dataframe tbody tr th:only-of-type {\n",
       "        vertical-align: middle;\n",
       "    }\n",
       "\n",
       "    .dataframe tbody tr th {\n",
       "        vertical-align: top;\n",
       "    }\n",
       "\n",
       "    .dataframe thead th {\n",
       "        text-align: right;\n",
       "    }\n",
       "</style>\n",
       "<table border=\"1\" class=\"dataframe\">\n",
       "  <thead>\n",
       "    <tr style=\"text-align: right;\">\n",
       "      <th></th>\n",
       "      <th>n_values</th>\n",
       "    </tr>\n",
       "  </thead>\n",
       "  <tbody>\n",
       "    <tr>\n",
       "      <th>min</th>\n",
       "      <td>2.0</td>\n",
       "    </tr>\n",
       "    <tr>\n",
       "      <th>max</th>\n",
       "      <td>36.0</td>\n",
       "    </tr>\n",
       "  </tbody>\n",
       "</table>\n",
       "</div>"
      ],
      "text/plain": [
       "     n_values\n",
       "min       2.0\n",
       "max      36.0"
      ]
     },
     "execution_count": 37,
     "metadata": {},
     "output_type": "execute_result"
    },
    {
     "data": {
      "image/png": "[encoded data removed]",
      "text/plain": [
       "<Figure size 864x216 with 1 Axes>"
      ]
     },
     "metadata": {
      "needs_background": "light"
     },
     "output_type": "display_data"
    }
   ],
   "source": [
    "file_nvalues = select([File.glottocode,\n",
    "                       count(Value.option_id.distinct()).label('n_values')])\\\n",
    "               .select_from(sa.join(File, Value))\\\n",
    "               .group_by(File.glottocode).c.n_values\n",
    "\n",
    "select_nvalues = select([file_nvalues, count().label('n_files')])\\\n",
    "                 .group_by(file_nvalues)\\\n",
    "                 .order_by(file_nvalues)\n",
    "\n",
    "_ = read_sql(select_nvalues, index_col=['n_values'])\n",
    "\n",
    "_.plot.bar(figsize=(12, 3))\n",
    "_.index.to_series().describe().to_frame().loc[['min', 'max']]"
   ]
  },
  {
   "cell_type": "code",
   "execution_count": 38,
   "metadata": {},
   "outputs": [
    {
     "name": "stderr",
     "output_type": "stream",
     "text": [
      "SELECT length(_value.value) AS value_length, count(*) AS n_values \n",
      "FROM _value GROUP BY length(_value.value) ORDER BY value_length\n",
      "()\n"
     ]
    },
    {
     "data": {
      "text/html": [
       "<div>\n",
       "<style scoped>\n",
       "    .dataframe tbody tr th:only-of-type {\n",
       "        vertical-align: middle;\n",
       "    }\n",
       "\n",
       "    .dataframe tbody tr th {\n",
       "        vertical-align: top;\n",
       "    }\n",
       "\n",
       "    .dataframe thead th {\n",
       "        text-align: right;\n",
       "    }\n",
       "</style>\n",
       "<table border=\"1\" class=\"dataframe\">\n",
       "  <thead>\n",
       "    <tr style=\"text-align: right;\">\n",
       "      <th></th>\n",
       "      <th>value_length</th>\n",
       "    </tr>\n",
       "  </thead>\n",
       "  <tbody>\n",
       "    <tr>\n",
       "      <th>min</th>\n",
       "      <td>1.0</td>\n",
       "    </tr>\n",
       "    <tr>\n",
       "      <th>max</th>\n",
       "      <td>6215.0</td>\n",
       "    </tr>\n",
       "  </tbody>\n",
       "</table>\n",
       "</div>"
      ],
      "text/plain": [
       "     value_length\n",
       "min           1.0\n",
       "max        6215.0"
      ]
     },
     "execution_count": 38,
     "metadata": {},
     "output_type": "execute_result"
    },
    {
     "data": {
      "image/png": "[encoded data removed]",
      "text/plain": [
       "<Figure size 864x216 with 1 Axes>"
      ]
     },
     "metadata": {
      "needs_background": "light"
     },
     "output_type": "display_data"
    }
   ],
   "source": [
    "value_length = sa.func.length(Value.value).label('value_length')\n",
    "\n",
    "select_value_length = select([value_length, count().label('n_values')])\\\n",
    "                      .group_by(value_length)\\\n",
    "                      .order_by('value_length')\n",
    "\n",
    "_ = read_sql(select_value_length, index_col='value_length')\n",
    "\n",
    "_.plot.area(figsize=(12, 3), logx=True).xaxis.set_major_formatter(mpl.ticker.ScalarFormatter())\n",
    "_.index.to_series().describe().to_frame().loc[['min', 'max']]"
   ]
  },
  {
   "cell_type": "code",
   "execution_count": 39,
   "metadata": {},
   "outputs": [
    {
     "name": "stderr",
     "output_type": "stream",
     "text": [
      "[INFO@treedb.raw.values] fetch statistics\n",
      "SELECT _option.section, _option.option, count(*) AS n \n",
      "FROM _option JOIN _value ON _option.id = _value.option_id GROUP BY _option.section, _option.option ORDER BY _option.section, n DESC\n",
      "()\n"
     ]
    },
    {
     "name": "stdout",
     "output_type": "stream",
     "text": [
      "altnames               multitree              54,640\n",
      "altnames               hhbib_lgcode           27,933\n",
      "altnames               lexvo                  26,031\n",
      "altnames               elcat                  23,412\n",
      "altnames               aiatsis                6,542\n",
      "altnames               wals                   2,441\n",
      "altnames               wals other             2,097\n",
      "altnames               moseley & asher (1994) 2,089\n",
      "altnames               ruhlen (1987)          2,007\n",
      "altnames               glottolog              1,093\n",
      "altnames               ethnologue             2\n",
      "classification         subrefs                14,993\n",
      "classification         sub                    11,490\n",
      "classification         familyrefs             693\n",
      "classification         family                 206\n",
      "core                   links                  28,887\n",
      "core                   name                   24,701\n",
      "core                   level                  24,701\n",
      "core                   macroareas             18,513\n",
      "core                   countries              10,979\n",
      "core                   hid                    8,708\n",
      "core                   longitude              8,301\n",
      "core                   latitude               8,301\n",
      "core                   iso639-3               8,015\n",
      "core                   name_comment           14\n",
      "core                   speakers               1\n",
      "core                   name_pronunciation     1\n",
      "core                   location               1\n",
      "core                   comment                1\n",
      "endangerment           status                 7,983\n",
      "endangerment           source                 7,983\n",
      "endangerment           date                   7,983\n",
      "endangerment           comment                7,983\n",
      "hh_ethnologue_comment  isohid                 814\n",
      "hh_ethnologue_comment  ethnologue_versions    814\n",
      "hh_ethnologue_comment  comment_type           814\n",
      "hh_ethnologue_comment  comment                814\n",
      "identifier             multitree              14,925\n",
      "identifier             endangeredlanguages    2,999\n",
      "identifier             wals                   2,620\n",
      "identifier             languagelandscape      343\n",
      "iso_retirement         change_to              419\n",
      "iso_retirement         reason                 325\n",
      "iso_retirement         name                   325\n",
      "iso_retirement         effective              325\n",
      "iso_retirement         code                   325\n",
      "iso_retirement         change_request         316\n",
      "iso_retirement         remedy                 307\n",
      "iso_retirement         comment                232\n",
      "sources                glottolog              206,554\n",
      "triggers               lgcode                 30,124\n",
      "triggers               inlg                   187\n",
      "Wall time: 1.07 s\n"
     ]
    }
   ],
   "source": [
    "%time treedb.raw.print_stats()"
   ]
  },
  {
   "cell_type": "markdown",
   "metadata": {},
   "source": [
    "## languoid"
   ]
  },
  {
   "cell_type": "code",
   "execution_count": 40,
   "metadata": {},
   "outputs": [
    {
     "name": "stderr",
     "output_type": "stream",
     "text": [
      "SELECT sqlite_master.sql \n",
      "FROM sqlite_master \n",
      "WHERE sqlite_master.type = ? AND sqlite_master.name = ?\n",
      "('table', 'languoid')\n",
      "SELECT count(*) AS n_rows \n",
      "FROM languoid\n",
      "()\n"
     ]
    },
    {
     "name": "stdout",
     "output_type": "stream",
     "text": [
      "CREATE TABLE languoid (\n",
      "\tid VARCHAR(8) NOT NULL CHECK (length(id) = 8), \n",
      "\tname VARCHAR NOT NULL CHECK (name != ''), \n",
      "\tlevel VARCHAR(8) NOT NULL, \n",
      "\tparent_id VARCHAR(8), \n",
      "\thid TEXT CHECK (length(hid) >= 3), \n",
      "\tiso639_3 VARCHAR(3) CHECK (length(iso639_3) = 3), \n",
      "\tlatitude FLOAT CHECK (latitude BETWEEN -90 AND 90), \n",
      "\tlongitude FLOAT CHECK (longitude BETWEEN -180 AND 180), \n",
      "\tPRIMARY KEY (id), \n",
      "\tCHECK ((latitude IS NULL) = (longitude IS NULL)), \n",
      "\tUNIQUE (name), \n",
      "\tCHECK (level IN ('family', 'language', 'dialect')), \n",
      "\tFOREIGN KEY(parent_id) REFERENCES languoid (id) DEFERRABLE INITIALLY DEFERRED, \n",
      "\tUNIQUE (hid), \n",
      "\tUNIQUE (iso639_3)\n",
      ")\n",
      "24701\n"
     ]
    }
   ],
   "source": [
    "from treedb import LEVEL, Languoid\n",
    "\n",
    "FAMILY, LANGUAGE, DIALECT = LEVEL\n",
    "\n",
    "print_sql(Languoid)"
   ]
  },
  {
   "cell_type": "code",
   "execution_count": 41,
   "metadata": {},
   "outputs": [
    {
     "name": "stderr",
     "output_type": "stream",
     "text": [
      "WITH RECURSIVE tree(child_id, parent_id, terminal) AS \n",
      "(SELECT child.id AS child_id, parent.id AS parent_id, parent.parent_id IS NULL AS terminal \n",
      "FROM languoid AS child JOIN languoid AS parent ON child.parent_id = parent.id UNION ALL SELECT tree.child_id AS child_id, parent.parent_id AS parent_id, grandparent.parent_id IS NULL AS terminal \n",
      "FROM tree JOIN languoid AS parent ON parent.id = tree.parent_id AND parent.parent_id IS NOT NULL LEFT OUTER JOIN languoid AS grandparent ON grandparent.id = parent.parent_id)\n",
      " SELECT ? AS kind, count(*) AS n \n",
      "FROM languoid UNION ALL SELECT ? AS kind, count(*) AS n \n",
      "FROM languoid \n",
      "WHERE languoid.level = ? AND languoid.parent_id IS NULL UNION ALL SELECT ? AS kind, count(*) AS n \n",
      "FROM languoid \n",
      "WHERE languoid.level = ? AND languoid.parent_id IS NULL UNION ALL SELECT ? AS kind, count(*) AS n \n",
      "FROM languoid \n",
      "WHERE languoid.parent_id IS NULL UNION ALL SELECT ? AS kind, count(*) AS n \n",
      "FROM languoid \n",
      "WHERE languoid.level = ? UNION ALL SELECT ? AS kind, count(*) AS n \n",
      "FROM languoid \n",
      "WHERE languoid.level = ? AND languoid.parent_id IS NOT NULL UNION ALL SELECT ? AS kind, count(*) AS n \n",
      "FROM languoid \n",
      "WHERE languoid.level = ? UNION ALL SELECT ? AS kind, count(*) AS n \n",
      "FROM languoid AS child LEFT OUTER JOIN (tree JOIN languoid AS root ON tree.parent_id = root.id AND tree.terminal = 1) ON tree.child_id = child.id \n",
      "WHERE child.level = ? AND (root.name IS NULL OR root.name NOT IN (?, ?, ?, ?, ?, ?, ?, ?)) UNION ALL SELECT ? AS kind, count(*) AS n \n",
      "FROM languoid AS child LEFT OUTER JOIN (tree JOIN languoid AS root ON tree.parent_id = root.id AND tree.terminal = 1) ON tree.child_id = child.id \n",
      "WHERE child.level = ? AND root.name = ? UNION ALL SELECT ? AS kind, count(*) AS n \n",
      "FROM languoid AS child LEFT OUTER JOIN (tree JOIN languoid AS root ON tree.parent_id = root.id AND tree.terminal = 1) ON tree.child_id = child.id \n",
      "WHERE child.level = ? AND root.name = ? UNION ALL SELECT ? AS kind, count(*) AS n \n",
      "FROM languoid AS child LEFT OUTER JOIN (tree JOIN languoid AS root ON tree.parent_id = root.id AND tree.terminal = 1) ON tree.child_id = child.id \n",
      "WHERE child.level = ? AND root.name = ? UNION ALL SELECT ? AS kind, count(*) AS n \n",
      "FROM languoid AS child LEFT OUTER JOIN (tree JOIN languoid AS root ON tree.parent_id = root.id AND tree.terminal = 1) ON tree.child_id = child.id \n",
      "WHERE child.level = ? AND root.name = ? UNION ALL SELECT ? AS kind, count(*) AS n \n",
      "FROM languoid AS child LEFT OUTER JOIN (tree JOIN languoid AS root ON tree.parent_id = root.id AND tree.terminal = 1) ON tree.child_id = child.id \n",
      "WHERE child.level = ? AND root.name = ? UNION ALL SELECT ? AS kind, count(*) AS n \n",
      "FROM languoid AS child LEFT OUTER JOIN (tree JOIN languoid AS root ON tree.parent_id = root.id AND tree.terminal = 1) ON tree.child_id = child.id \n",
      "WHERE child.level = ? AND root.name = ? UNION ALL SELECT ? AS kind, count(*) AS n \n",
      "FROM languoid AS child LEFT OUTER JOIN (tree JOIN languoid AS root ON tree.parent_id = root.id AND tree.terminal = 1) ON tree.child_id = child.id \n",
      "WHERE child.level = ? AND root.name = ? UNION ALL SELECT ? AS kind, count(*) AS n \n",
      "FROM languoid AS child LEFT OUTER JOIN (tree JOIN languoid AS root ON tree.parent_id = root.id AND tree.terminal = 1) ON tree.child_id = child.id \n",
      "WHERE child.level = ? AND (root.name IS NOT ?) UNION ALL SELECT ? AS kind, count(*) AS n \n",
      "FROM languoid AS child LEFT OUTER JOIN (tree JOIN languoid AS root ON tree.parent_id = root.id AND tree.terminal = 1) ON tree.child_id = child.id \n",
      "WHERE child.level = ? AND root.name = ?\n",
      "('languoids', 'families', 'family', 'isolates', 'language', 'roots', 'languages', 'language', 'subfamilies', 'family', 'dialects', 'dialect', 'Spoken L1 Languages', 'language', 'Sign Language', 'Unclassifiable', 'Pidgin', 'Unattested', 'Artificial Language', 'Mixed Language', 'Speech Register', 'Bookkeeping', 'Sign Language', 'language', 'Sign Language', 'Unclassifiable', 'language', 'Unclassifiable', 'Pidgin', 'language', 'Pidgin', 'Unattested', 'language', 'Unattested', 'Artificial Language', 'language', 'Artificial Language', 'Mixed Language', 'language', 'Mixed Language', 'Speech Register', 'language', 'Speech Register', 'All', 'language', 'Bookkeeping', 'Bookkeeping', 'language', 'Bookkeeping')\n"
     ]
    },
    {
     "name": "stdout",
     "output_type": "stream",
     "text": [
      "24,701 languoids\n",
      "   241 families\n",
      "   188 isolates\n",
      "   429 roots\n",
      " 8,506 languages\n",
      " 4,170 subfamilies\n",
      "11,784 dialects\n",
      " 7,596 Spoken L1 Languages\n",
      "   194 Sign Language\n",
      "   122 Unclassifiable\n",
      "    80 Pidgin\n",
      "    67 Unattested\n",
      "    28 Artificial Language\n",
      "    14 Mixed Language\n",
      "    10 Speech Register\n",
      " 8,111 All\n",
      "   395 Bookkeeping\n",
      "Wall time: 9.34 s\n"
     ]
    }
   ],
   "source": [
    "%time treedb.print_languoid_stats()"
   ]
  },
  {
   "cell_type": "code",
   "execution_count": 42,
   "metadata": {},
   "outputs": [
    {
     "name": "stderr",
     "output_type": "stream",
     "text": [
      "SELECT languoid.id, languoid.name, languoid.level, languoid.parent_id, languoid.hid, languoid.iso639_3, languoid.latitude, languoid.longitude \n",
      "FROM languoid\n",
      " LIMIT ? OFFSET ?\n",
      "(5, 0)\n"
     ]
    },
    {
     "data": {
      "text/html": [
       "<div>\n",
       "<style scoped>\n",
       "    .dataframe tbody tr th:only-of-type {\n",
       "        vertical-align: middle;\n",
       "    }\n",
       "\n",
       "    .dataframe tbody tr th {\n",
       "        vertical-align: top;\n",
       "    }\n",
       "\n",
       "    .dataframe thead th {\n",
       "        text-align: right;\n",
       "    }\n",
       "</style>\n",
       "<table border=\"1\" class=\"dataframe\">\n",
       "  <thead>\n",
       "    <tr style=\"text-align: right;\">\n",
       "      <th></th>\n",
       "      <th>name</th>\n",
       "      <th>level</th>\n",
       "      <th>parent_id</th>\n",
       "      <th>hid</th>\n",
       "      <th>iso639_3</th>\n",
       "      <th>latitude</th>\n",
       "      <th>longitude</th>\n",
       "    </tr>\n",
       "    <tr>\n",
       "      <th>id</th>\n",
       "      <th></th>\n",
       "      <th></th>\n",
       "      <th></th>\n",
       "      <th></th>\n",
       "      <th></th>\n",
       "      <th></th>\n",
       "      <th></th>\n",
       "    </tr>\n",
       "  </thead>\n",
       "  <tbody>\n",
       "    <tr>\n",
       "      <th>3adt1234</th>\n",
       "      <td>3Ad-Tekles</td>\n",
       "      <td>dialect</td>\n",
       "      <td>nort3292</td>\n",
       "      <td>None</td>\n",
       "      <td>None</td>\n",
       "      <td>NaN</td>\n",
       "      <td>NaN</td>\n",
       "    </tr>\n",
       "    <tr>\n",
       "      <th>aala1237</th>\n",
       "      <td>Aalawa</td>\n",
       "      <td>dialect</td>\n",
       "      <td>ramo1244</td>\n",
       "      <td>None</td>\n",
       "      <td>None</td>\n",
       "      <td>NaN</td>\n",
       "      <td>NaN</td>\n",
       "    </tr>\n",
       "    <tr>\n",
       "      <th>aant1238</th>\n",
       "      <td>Aantantara</td>\n",
       "      <td>dialect</td>\n",
       "      <td>nort2920</td>\n",
       "      <td>None</td>\n",
       "      <td>None</td>\n",
       "      <td>NaN</td>\n",
       "      <td>NaN</td>\n",
       "    </tr>\n",
       "    <tr>\n",
       "      <th>aari1238</th>\n",
       "      <td>Aari-Gayil</td>\n",
       "      <td>family</td>\n",
       "      <td>ahkk1235</td>\n",
       "      <td>aiz</td>\n",
       "      <td>aiz</td>\n",
       "      <td>NaN</td>\n",
       "      <td>NaN</td>\n",
       "    </tr>\n",
       "    <tr>\n",
       "      <th>aari1239</th>\n",
       "      <td>Aari</td>\n",
       "      <td>language</td>\n",
       "      <td>aari1238</td>\n",
       "      <td>aiw</td>\n",
       "      <td>aiw</td>\n",
       "      <td>5.95034</td>\n",
       "      <td>36.5721</td>\n",
       "    </tr>\n",
       "  </tbody>\n",
       "</table>\n",
       "</div>"
      ],
      "text/plain": [
       "                name     level parent_id   hid iso639_3  latitude  longitude\n",
       "id                                                                          \n",
       "3adt1234  3Ad-Tekles   dialect  nort3292  None     None       NaN        NaN\n",
       "aala1237      Aalawa   dialect  ramo1244  None     None       NaN        NaN\n",
       "aant1238  Aantantara   dialect  nort2920  None     None       NaN        NaN\n",
       "aari1238  Aari-Gayil    family  ahkk1235   aiz      aiz       NaN        NaN\n",
       "aari1239        Aari  language  aari1238   aiw      aiw   5.95034    36.5721"
      ]
     },
     "execution_count": 42,
     "metadata": {},
     "output_type": "execute_result"
    }
   ],
   "source": [
    "read_sql(select([Languoid]).limit(5), index_col='id')"
   ]
  },
  {
   "cell_type": "code",
   "execution_count": 43,
   "metadata": {},
   "outputs": [
    {
     "name": "stderr",
     "output_type": "stream",
     "text": [
      "SELECT languoid.id, languoid.name, languoid.level, languoid.parent_id, languoid.hid, languoid.iso639_3, languoid.latitude, languoid.longitude \n",
      "FROM languoid ORDER BY languoid.id\n",
      " LIMIT ? OFFSET ?\n",
      "(5, 0)\n"
     ]
    },
    {
     "data": {
      "text/html": [
       "<div>\n",
       "<style scoped>\n",
       "    .dataframe tbody tr th:only-of-type {\n",
       "        vertical-align: middle;\n",
       "    }\n",
       "\n",
       "    .dataframe tbody tr th {\n",
       "        vertical-align: top;\n",
       "    }\n",
       "\n",
       "    .dataframe thead th {\n",
       "        text-align: right;\n",
       "    }\n",
       "</style>\n",
       "<table border=\"1\" class=\"dataframe\">\n",
       "  <thead>\n",
       "    <tr style=\"text-align: right;\">\n",
       "      <th></th>\n",
       "      <th>name</th>\n",
       "      <th>level</th>\n",
       "      <th>parent_id</th>\n",
       "      <th>hid</th>\n",
       "      <th>iso639_3</th>\n",
       "      <th>latitude</th>\n",
       "      <th>longitude</th>\n",
       "    </tr>\n",
       "    <tr>\n",
       "      <th>id</th>\n",
       "      <th></th>\n",
       "      <th></th>\n",
       "      <th></th>\n",
       "      <th></th>\n",
       "      <th></th>\n",
       "      <th></th>\n",
       "      <th></th>\n",
       "    </tr>\n",
       "  </thead>\n",
       "  <tbody>\n",
       "    <tr>\n",
       "      <th>3adt1234</th>\n",
       "      <td>3Ad-Tekles</td>\n",
       "      <td>dialect</td>\n",
       "      <td>nort3292</td>\n",
       "      <td>None</td>\n",
       "      <td>None</td>\n",
       "      <td>NaN</td>\n",
       "      <td>NaN</td>\n",
       "    </tr>\n",
       "    <tr>\n",
       "      <th>aala1237</th>\n",
       "      <td>Aalawa</td>\n",
       "      <td>dialect</td>\n",
       "      <td>ramo1244</td>\n",
       "      <td>None</td>\n",
       "      <td>None</td>\n",
       "      <td>NaN</td>\n",
       "      <td>NaN</td>\n",
       "    </tr>\n",
       "    <tr>\n",
       "      <th>aant1238</th>\n",
       "      <td>Aantantara</td>\n",
       "      <td>dialect</td>\n",
       "      <td>nort2920</td>\n",
       "      <td>None</td>\n",
       "      <td>None</td>\n",
       "      <td>NaN</td>\n",
       "      <td>NaN</td>\n",
       "    </tr>\n",
       "    <tr>\n",
       "      <th>aari1238</th>\n",
       "      <td>Aari-Gayil</td>\n",
       "      <td>family</td>\n",
       "      <td>ahkk1235</td>\n",
       "      <td>aiz</td>\n",
       "      <td>aiz</td>\n",
       "      <td>NaN</td>\n",
       "      <td>NaN</td>\n",
       "    </tr>\n",
       "    <tr>\n",
       "      <th>aari1239</th>\n",
       "      <td>Aari</td>\n",
       "      <td>language</td>\n",
       "      <td>aari1238</td>\n",
       "      <td>aiw</td>\n",
       "      <td>aiw</td>\n",
       "      <td>5.95034</td>\n",
       "      <td>36.5721</td>\n",
       "    </tr>\n",
       "  </tbody>\n",
       "</table>\n",
       "</div>"
      ],
      "text/plain": [
       "                name     level parent_id   hid iso639_3  latitude  longitude\n",
       "id                                                                          \n",
       "3adt1234  3Ad-Tekles   dialect  nort3292  None     None       NaN        NaN\n",
       "aala1237      Aalawa   dialect  ramo1244  None     None       NaN        NaN\n",
       "aant1238  Aantantara   dialect  nort2920  None     None       NaN        NaN\n",
       "aari1238  Aari-Gayil    family  ahkk1235   aiz      aiz       NaN        NaN\n",
       "aari1239        Aari  language  aari1238   aiw      aiw   5.95034    36.5721"
      ]
     },
     "execution_count": 43,
     "metadata": {},
     "output_type": "execute_result"
    }
   ],
   "source": [
    "read_sql(select([Languoid]).order_by('id').limit(5), index_col='id')"
   ]
  },
  {
   "cell_type": "code",
   "execution_count": 44,
   "metadata": {},
   "outputs": [
    {
     "name": "stderr",
     "output_type": "stream",
     "text": [
      "SELECT languoid.id, languoid.name, languoid.level, languoid.parent_id, languoid.hid, languoid.iso639_3, languoid.latitude, languoid.longitude \n",
      "FROM languoid ORDER BY languoid.name\n",
      " LIMIT ? OFFSET ?\n",
      "(5, 0)\n"
     ]
    },
    {
     "data": {
      "text/html": [
       "<div>\n",
       "<style scoped>\n",
       "    .dataframe tbody tr th:only-of-type {\n",
       "        vertical-align: middle;\n",
       "    }\n",
       "\n",
       "    .dataframe tbody tr th {\n",
       "        vertical-align: top;\n",
       "    }\n",
       "\n",
       "    .dataframe thead th {\n",
       "        text-align: right;\n",
       "    }\n",
       "</style>\n",
       "<table border=\"1\" class=\"dataframe\">\n",
       "  <thead>\n",
       "    <tr style=\"text-align: right;\">\n",
       "      <th></th>\n",
       "      <th>name</th>\n",
       "      <th>level</th>\n",
       "      <th>parent_id</th>\n",
       "      <th>hid</th>\n",
       "      <th>iso639_3</th>\n",
       "      <th>latitude</th>\n",
       "      <th>longitude</th>\n",
       "    </tr>\n",
       "    <tr>\n",
       "      <th>id</th>\n",
       "      <th></th>\n",
       "      <th></th>\n",
       "      <th></th>\n",
       "      <th></th>\n",
       "      <th></th>\n",
       "      <th></th>\n",
       "      <th></th>\n",
       "    </tr>\n",
       "  </thead>\n",
       "  <tbody>\n",
       "    <tr>\n",
       "      <th>gang1269</th>\n",
       "      <td>!Gã!nge</td>\n",
       "      <td>dialect</td>\n",
       "      <td>sero1239</td>\n",
       "      <td>None</td>\n",
       "      <td>None</td>\n",
       "      <td>NaN</td>\n",
       "      <td>NaN</td>\n",
       "    </tr>\n",
       "    <tr>\n",
       "      <th>kwii1241</th>\n",
       "      <td>!Kwi</td>\n",
       "      <td>family</td>\n",
       "      <td>tuuu1241</td>\n",
       "      <td>None</td>\n",
       "      <td>None</td>\n",
       "      <td>NaN</td>\n",
       "      <td>NaN</td>\n",
       "    </tr>\n",
       "    <tr>\n",
       "      <th>oung1238</th>\n",
       "      <td>!O!ung</td>\n",
       "      <td>language</td>\n",
       "      <td>book1242</td>\n",
       "      <td>oun</td>\n",
       "      <td>oun</td>\n",
       "      <td>-15.3</td>\n",
       "      <td>14.35</td>\n",
       "    </tr>\n",
       "    <tr>\n",
       "      <th>abda1238</th>\n",
       "      <td>'Abd Al-Kuri</td>\n",
       "      <td>dialect</td>\n",
       "      <td>soqo1240</td>\n",
       "      <td>None</td>\n",
       "      <td>None</td>\n",
       "      <td>NaN</td>\n",
       "      <td>NaN</td>\n",
       "    </tr>\n",
       "    <tr>\n",
       "      <th>aden1242</th>\n",
       "      <td>'Aden</td>\n",
       "      <td>dialect</td>\n",
       "      <td>jude1267</td>\n",
       "      <td>None</td>\n",
       "      <td>None</td>\n",
       "      <td>NaN</td>\n",
       "      <td>NaN</td>\n",
       "    </tr>\n",
       "  </tbody>\n",
       "</table>\n",
       "</div>"
      ],
      "text/plain": [
       "                  name     level parent_id   hid iso639_3  latitude  longitude\n",
       "id                                                                            \n",
       "gang1269       !Gã!nge   dialect  sero1239  None     None       NaN        NaN\n",
       "kwii1241          !Kwi    family  tuuu1241  None     None       NaN        NaN\n",
       "oung1238        !O!ung  language  book1242   oun      oun     -15.3      14.35\n",
       "abda1238  'Abd Al-Kuri   dialect  soqo1240  None     None       NaN        NaN\n",
       "aden1242         'Aden   dialect  jude1267  None     None       NaN        NaN"
      ]
     },
     "execution_count": 44,
     "metadata": {},
     "output_type": "execute_result"
    }
   ],
   "source": [
    "read_sql(select([Languoid]).order_by('name').limit(5), index_col='id')"
   ]
  },
  {
   "cell_type": "code",
   "execution_count": 45,
   "metadata": {},
   "outputs": [
    {
     "name": "stderr",
     "output_type": "stream",
     "text": [
      "SELECT child.level AS child_level, parent.level AS parent_level, count(*) AS n_languoids \n",
      "FROM languoid AS child LEFT OUTER JOIN languoid AS parent ON child.parent_id = parent.id GROUP BY child.level, parent.level ORDER BY child_level, parent_level\n",
      "()\n"
     ]
    },
    {
     "data": {
      "text/html": [
       "<div>\n",
       "<style scoped>\n",
       "    .dataframe tbody tr th:only-of-type {\n",
       "        vertical-align: middle;\n",
       "    }\n",
       "\n",
       "    .dataframe tbody tr th {\n",
       "        vertical-align: top;\n",
       "    }\n",
       "\n",
       "    .dataframe thead tr th {\n",
       "        text-align: left;\n",
       "    }\n",
       "\n",
       "    .dataframe thead tr:last-of-type th {\n",
       "        text-align: right;\n",
       "    }\n",
       "</style>\n",
       "<table border=\"1\" class=\"dataframe\">\n",
       "  <thead>\n",
       "    <tr>\n",
       "      <th></th>\n",
       "      <th colspan=\"4\" halign=\"left\">n_languoids</th>\n",
       "      <th>all</th>\n",
       "    </tr>\n",
       "    <tr>\n",
       "      <th>parent_level</th>\n",
       "      <th>NaN</th>\n",
       "      <th>dialect</th>\n",
       "      <th>family</th>\n",
       "      <th>language</th>\n",
       "      <th></th>\n",
       "    </tr>\n",
       "    <tr>\n",
       "      <th>child_level</th>\n",
       "      <th></th>\n",
       "      <th></th>\n",
       "      <th></th>\n",
       "      <th></th>\n",
       "      <th></th>\n",
       "    </tr>\n",
       "  </thead>\n",
       "  <tbody>\n",
       "    <tr>\n",
       "      <th>dialect</th>\n",
       "      <td>0</td>\n",
       "      <td>1611</td>\n",
       "      <td>0</td>\n",
       "      <td>10173</td>\n",
       "      <td>11784</td>\n",
       "    </tr>\n",
       "    <tr>\n",
       "      <th>family</th>\n",
       "      <td>241</td>\n",
       "      <td>0</td>\n",
       "      <td>4170</td>\n",
       "      <td>0</td>\n",
       "      <td>4411</td>\n",
       "    </tr>\n",
       "    <tr>\n",
       "      <th>language</th>\n",
       "      <td>188</td>\n",
       "      <td>0</td>\n",
       "      <td>8318</td>\n",
       "      <td>0</td>\n",
       "      <td>8506</td>\n",
       "    </tr>\n",
       "    <tr>\n",
       "      <th>all</th>\n",
       "      <td>429</td>\n",
       "      <td>1611</td>\n",
       "      <td>12488</td>\n",
       "      <td>10173</td>\n",
       "      <td>24701</td>\n",
       "    </tr>\n",
       "  </tbody>\n",
       "</table>\n",
       "</div>"
      ],
      "text/plain": [
       "             n_languoids                            all\n",
       "parent_level         NaN dialect family language       \n",
       "child_level                                            \n",
       "dialect                0    1611      0    10173  11784\n",
       "family               241       0   4170        0   4411\n",
       "language             188       0   8318        0   8506\n",
       "all                  429    1611  12488    10173  24701"
      ]
     },
     "execution_count": 45,
     "metadata": {},
     "output_type": "execute_result"
    }
   ],
   "source": [
    "Child, Parent = (sa.orm.aliased(Languoid, name=n) for n in ('child', 'parent'))\n",
    "\n",
    "select_parent_levels = select([Child.level.label('child_level'),\n",
    "                               Parent.level.label('parent_level'),\n",
    "                               count().label('n_languoids')])\\\n",
    "                       .select_from(sa.outerjoin(Child, Parent,\n",
    "                                                 Child.parent_id == Parent.id))\\\n",
    "                       .group_by(Child.level, Parent.level)\\\n",
    "                       .order_by('child_level', 'parent_level')\n",
    "\n",
    "read_sql(select_parent_levels, index_col=['child_level', 'parent_level'])\\\n",
    "    .unstack(fill_value=0).assign(all=lambda x: x.sum(axis='columns'))\\\n",
    "    .pipe(lambda x: x.append(x.sum().rename('all')))"
   ]
  },
  {
   "cell_type": "code",
   "execution_count": 46,
   "metadata": {},
   "outputs": [
    {
     "name": "stderr",
     "output_type": "stream",
     "text": [
      "SELECT languoid.level AS level, count(*) AS n_languoids, count(languoid.iso639_3) AS n_isos \n",
      "FROM languoid GROUP BY languoid.level ORDER BY level\n",
      "()\n"
     ]
    },
    {
     "data": {
      "text/html": [
       "<div>\n",
       "<style scoped>\n",
       "    .dataframe tbody tr th:only-of-type {\n",
       "        vertical-align: middle;\n",
       "    }\n",
       "\n",
       "    .dataframe tbody tr th {\n",
       "        vertical-align: top;\n",
       "    }\n",
       "\n",
       "    .dataframe thead th {\n",
       "        text-align: right;\n",
       "    }\n",
       "</style>\n",
       "<table border=\"1\" class=\"dataframe\">\n",
       "  <thead>\n",
       "    <tr style=\"text-align: right;\">\n",
       "      <th></th>\n",
       "      <th>n_languoids</th>\n",
       "      <th>n_isos</th>\n",
       "      <th>ratio</th>\n",
       "    </tr>\n",
       "    <tr>\n",
       "      <th>level</th>\n",
       "      <th></th>\n",
       "      <th></th>\n",
       "      <th></th>\n",
       "    </tr>\n",
       "  </thead>\n",
       "  <tbody>\n",
       "    <tr>\n",
       "      <th>dialect</th>\n",
       "      <td>11784</td>\n",
       "      <td>158</td>\n",
       "      <td>1.340801</td>\n",
       "    </tr>\n",
       "    <tr>\n",
       "      <th>family</th>\n",
       "      <td>4411</td>\n",
       "      <td>46</td>\n",
       "      <td>1.042847</td>\n",
       "    </tr>\n",
       "    <tr>\n",
       "      <th>language</th>\n",
       "      <td>8506</td>\n",
       "      <td>7811</td>\n",
       "      <td>91.829297</td>\n",
       "    </tr>\n",
       "  </tbody>\n",
       "</table>\n",
       "</div>"
      ],
      "text/plain": [
       "          n_languoids  n_isos      ratio\n",
       "level                                   \n",
       "dialect         11784     158   1.340801\n",
       "family           4411      46   1.042847\n",
       "language         8506    7811  91.829297"
      ]
     },
     "execution_count": 46,
     "metadata": {},
     "output_type": "execute_result"
    }
   ],
   "source": [
    "select_nisos = select([Languoid.level.label('level'),\n",
    "                       count().label('n_languoids'),\n",
    "                       count(Languoid.iso639_3).label('n_isos')])\\\n",
    "               .group_by(Languoid.level)\\\n",
    "               .order_by('level')\n",
    "\n",
    "read_sql(select_nisos, index_col=['level'])\\\n",
    "    .assign(ratio=lambda x: 100 * x['n_isos'] / x['n_languoids'])"
   ]
  },
  {
   "cell_type": "code",
   "execution_count": 47,
   "metadata": {},
   "outputs": [
    {
     "name": "stderr",
     "output_type": "stream",
     "text": [
      "SELECT languoid.level AS level, count(*) AS n_languoids, count(languoid.latitude) AS n_locations \n",
      "FROM languoid GROUP BY languoid.level ORDER BY level\n",
      "()\n"
     ]
    },
    {
     "data": {
      "text/html": [
       "<div>\n",
       "<style scoped>\n",
       "    .dataframe tbody tr th:only-of-type {\n",
       "        vertical-align: middle;\n",
       "    }\n",
       "\n",
       "    .dataframe tbody tr th {\n",
       "        vertical-align: top;\n",
       "    }\n",
       "\n",
       "    .dataframe thead th {\n",
       "        text-align: right;\n",
       "    }\n",
       "</style>\n",
       "<table border=\"1\" class=\"dataframe\">\n",
       "  <thead>\n",
       "    <tr style=\"text-align: right;\">\n",
       "      <th></th>\n",
       "      <th>n_languoids</th>\n",
       "      <th>n_locations</th>\n",
       "      <th>ratio</th>\n",
       "    </tr>\n",
       "    <tr>\n",
       "      <th>level</th>\n",
       "      <th></th>\n",
       "      <th></th>\n",
       "      <th></th>\n",
       "    </tr>\n",
       "  </thead>\n",
       "  <tbody>\n",
       "    <tr>\n",
       "      <th>dialect</th>\n",
       "      <td>11784</td>\n",
       "      <td>239</td>\n",
       "      <td>2.028174</td>\n",
       "    </tr>\n",
       "    <tr>\n",
       "      <th>family</th>\n",
       "      <td>4411</td>\n",
       "      <td>16</td>\n",
       "      <td>0.362730</td>\n",
       "    </tr>\n",
       "    <tr>\n",
       "      <th>language</th>\n",
       "      <td>8506</td>\n",
       "      <td>8046</td>\n",
       "      <td>94.592053</td>\n",
       "    </tr>\n",
       "  </tbody>\n",
       "</table>\n",
       "</div>"
      ],
      "text/plain": [
       "          n_languoids  n_locations      ratio\n",
       "level                                        \n",
       "dialect         11784          239   2.028174\n",
       "family           4411           16   0.362730\n",
       "language         8506         8046  94.592053"
      ]
     },
     "execution_count": 47,
     "metadata": {},
     "output_type": "execute_result"
    }
   ],
   "source": [
    "select_nlocations = select([Languoid.level.label('level'),\n",
    "                            count().label('n_languoids'),\n",
    "                            count(Languoid.latitude).label('n_locations')])\\\n",
    "                    .group_by(Languoid.level)\\\n",
    "                    .order_by('level')\n",
    "\n",
    "read_sql(select_nlocations, index_col=['level'])\\\n",
    "    .assign(ratio=lambda x: 100 * x['n_locations'] / x['n_languoids'])"
   ]
  },
  {
   "cell_type": "code",
   "execution_count": 48,
   "metadata": {},
   "outputs": [
    {
     "name": "stderr",
     "output_type": "stream",
     "text": [
      "SELECT languoid.latitude, languoid.longitude \n",
      "FROM languoid \n",
      "WHERE languoid.level = ?\n",
      "('language',)\n"
     ]
    },
    {
     "data": {
      "image/png": "[encoded data removed]",
      "text/plain": [
       "<Figure size 864x432 with 1 Axes>"
      ]
     },
     "metadata": {
      "needs_background": "light"
     },
     "output_type": "display_data"
    }
   ],
   "source": [
    "select_latlon = select([Languoid.latitude, Languoid.longitude])\\\n",
    "                .where(Languoid.level == LANGUAGE)\n",
    "\n",
    "latitudes, longitudes = zip(*select_latlon.execute())\n",
    "    \n",
    "plt.figure(figsize=(12, 6))\n",
    "plt.axis([-180, 180, -90, 90])\n",
    "plt.xticks(range(-180, 181, 60))\n",
    "plt.yticks(range(-90, 91, 30))\n",
    "plt.scatter(longitudes, latitudes, 1, 'black');"
   ]
  },
  {
   "cell_type": "code",
   "execution_count": 49,
   "metadata": {},
   "outputs": [
    {
     "name": "stderr",
     "output_type": "stream",
     "text": [
      "WITH RECURSIVE tree(child_id, parent_id) AS \n",
      "(SELECT child.id AS child_id, parent.id AS parent_id \n",
      "FROM languoid AS child JOIN languoid AS parent ON child.parent_id = parent.id UNION ALL SELECT tree.child_id AS child_id, parent.parent_id AS parent_id \n",
      "FROM tree JOIN languoid AS parent ON parent.id = tree.parent_id AND parent.parent_id IS NOT NULL)\n",
      " SELECT family.id AS family_id, count(child.id) AS n_languages \n",
      "FROM languoid AS family LEFT OUTER JOIN (languoid AS child JOIN tree ON tree.child_id = child.id) ON tree.parent_id = family.id \n",
      "WHERE family.parent_id IS NULL AND family.level = ? AND child.level = ? GROUP BY family.id \n",
      "HAVING count(child.id) >= ? ORDER BY n_languages\n",
      "('family', 'language', 100)\n"
     ]
    },
    {
     "data": {
      "image/png": "[encoded data removed]",
      "text/plain": [
       "<Figure size 432x288 with 1 Axes>"
      ]
     },
     "metadata": {
      "needs_background": "light"
     },
     "output_type": "display_data"
    }
   ],
   "source": [
    "tree = treedb.Languoid.tree()\n",
    "\n",
    "Family = sa.orm.aliased(treedb.Languoid, name='family')\n",
    "\n",
    "child_tree = sa.join(Child, tree, tree.c.child_id == Child.id)\n",
    "family_child = sa.outerjoin(Family, child_tree, tree.c.parent_id == Family.id)\n",
    "\n",
    "n_languages = count(Child.id).label('n_languages')\n",
    "\n",
    "select_family_nlanguages = select([Family.id.label('family_id'), n_languages])\\\n",
    "                           .select_from(family_child)\\\n",
    "                           .where(Family.parent_id == None)\\\n",
    "                           .where(Family.level == FAMILY)\\\n",
    "                           .where(Child.level == LANGUAGE)\\\n",
    "                           .group_by(Family.id)\n",
    "\n",
    "select_top_families = select_family_nlanguages\\\n",
    "    .having(n_languages >= 100)\\\n",
    "    .order_by('n_languages')\n",
    "\n",
    "read_sql(select_top_families, index_col=['family_id']).plot.barh();"
   ]
  },
  {
   "cell_type": "code",
   "execution_count": 50,
   "metadata": {},
   "outputs": [
    {
     "name": "stderr",
     "output_type": "stream",
     "text": [
      "WITH RECURSIVE tree(child_id, parent_id) AS \n",
      "(SELECT child.id AS child_id, parent.id AS parent_id \n",
      "FROM languoid AS child JOIN languoid AS parent ON child.parent_id = parent.id UNION ALL SELECT tree.child_id AS child_id, parent.parent_id AS parent_id \n",
      "FROM tree JOIN languoid AS parent ON parent.id = tree.parent_id AND parent.parent_id IS NOT NULL)\n",
      " SELECT n_languages AS family_size, count(*) AS n_families \n",
      "FROM (SELECT family.id AS family_id, count(child.id) AS n_languages \n",
      "FROM languoid AS family LEFT OUTER JOIN (languoid AS child JOIN tree ON tree.child_id = child.id) ON tree.parent_id = family.id \n",
      "WHERE family.parent_id IS NULL AND family.level = ? AND child.level = ? GROUP BY family.id) GROUP BY n_languages ORDER BY family_size\n",
      "('family', 'language')\n"
     ]
    },
    {
     "data": {
      "text/html": [
       "<div>\n",
       "<style scoped>\n",
       "    .dataframe tbody tr th:only-of-type {\n",
       "        vertical-align: middle;\n",
       "    }\n",
       "\n",
       "    .dataframe tbody tr th {\n",
       "        vertical-align: top;\n",
       "    }\n",
       "\n",
       "    .dataframe thead th {\n",
       "        text-align: right;\n",
       "    }\n",
       "</style>\n",
       "<table border=\"1\" class=\"dataframe\">\n",
       "  <thead>\n",
       "    <tr style=\"text-align: right;\">\n",
       "      <th></th>\n",
       "      <th>family_size</th>\n",
       "    </tr>\n",
       "  </thead>\n",
       "  <tbody>\n",
       "    <tr>\n",
       "      <th>min</th>\n",
       "      <td>2.0</td>\n",
       "    </tr>\n",
       "    <tr>\n",
       "      <th>max</th>\n",
       "      <td>1432.0</td>\n",
       "    </tr>\n",
       "  </tbody>\n",
       "</table>\n",
       "</div>"
      ],
      "text/plain": [
       "     family_size\n",
       "min          2.0\n",
       "max       1432.0"
      ]
     },
     "execution_count": 50,
     "metadata": {},
     "output_type": "execute_result"
    },
    {
     "data": {
      "image/png": "[encoded data removed]",
      "text/plain": [
       "<Figure size 864x216 with 1 Axes>"
      ]
     },
     "metadata": {
      "needs_background": "light"
     },
     "output_type": "display_data"
    }
   ],
   "source": [
    "family_size = select_family_nlanguages.c.n_languages.label('family_size')\n",
    "\n",
    "select_family_sizes = select([family_size, count().label('n_families')])\\\n",
    "                      .group_by(family_size)\\\n",
    "                      .order_by('family_size')\n",
    "\n",
    "_ = read_sql(select_family_sizes, index_col=['family_size'])\n",
    "\n",
    "_.plot.area(figsize=(12, 3), logx=True).xaxis.set_major_formatter(mpl.ticker.ScalarFormatter())\n",
    "_.index.to_series().describe().to_frame().loc[['min', 'max']]"
   ]
  },
  {
   "cell_type": "code",
   "execution_count": 51,
   "metadata": {},
   "outputs": [
    {
     "name": "stderr",
     "output_type": "stream",
     "text": [
      "WITH levels AS \n",
      "(SELECT ? AS level UNION ALL SELECT ? AS level UNION ALL SELECT ? AS level)\n",
      " SELECT parent.id AS parent_id, parent.level AS parent_level, levels.level AS child_level, count(child.id) AS n_children \n",
      "FROM languoid AS parent JOIN levels ON 1 LEFT OUTER JOIN languoid AS child ON child.parent_id = parent.id AND child.level = levels.level GROUP BY parent.id, parent.level, levels.level\n",
      "('family', 'language', 'dialect')\n"
     ]
    },
    {
     "data": {
      "text/html": [
       "<div>\n",
       "<style scoped>\n",
       "    .dataframe tbody tr th:only-of-type {\n",
       "        vertical-align: middle;\n",
       "    }\n",
       "\n",
       "    .dataframe tbody tr th {\n",
       "        vertical-align: top;\n",
       "    }\n",
       "\n",
       "    .dataframe thead tr th {\n",
       "        text-align: left;\n",
       "    }\n",
       "\n",
       "    .dataframe thead tr:last-of-type th {\n",
       "        text-align: right;\n",
       "    }\n",
       "</style>\n",
       "<table border=\"1\" class=\"dataframe\">\n",
       "  <thead>\n",
       "    <tr>\n",
       "      <th></th>\n",
       "      <th colspan=\"3\" halign=\"left\">sum</th>\n",
       "      <th colspan=\"3\" halign=\"left\">max</th>\n",
       "      <th colspan=\"3\" halign=\"left\">mean</th>\n",
       "    </tr>\n",
       "    <tr>\n",
       "      <th>child_level</th>\n",
       "      <th>dialect</th>\n",
       "      <th>family</th>\n",
       "      <th>language</th>\n",
       "      <th>dialect</th>\n",
       "      <th>family</th>\n",
       "      <th>language</th>\n",
       "      <th>dialect</th>\n",
       "      <th>family</th>\n",
       "      <th>language</th>\n",
       "    </tr>\n",
       "    <tr>\n",
       "      <th>parent_level</th>\n",
       "      <th></th>\n",
       "      <th></th>\n",
       "      <th></th>\n",
       "      <th></th>\n",
       "      <th></th>\n",
       "      <th></th>\n",
       "      <th></th>\n",
       "      <th></th>\n",
       "      <th></th>\n",
       "    </tr>\n",
       "  </thead>\n",
       "  <tbody>\n",
       "    <tr>\n",
       "      <th>dialect</th>\n",
       "      <td>1611</td>\n",
       "      <td>0</td>\n",
       "      <td>0</td>\n",
       "      <td>22</td>\n",
       "      <td>0</td>\n",
       "      <td>0</td>\n",
       "      <td>0.136711</td>\n",
       "      <td>0.000000</td>\n",
       "      <td>0.00000</td>\n",
       "    </tr>\n",
       "    <tr>\n",
       "      <th>family</th>\n",
       "      <td>0</td>\n",
       "      <td>4170</td>\n",
       "      <td>8318</td>\n",
       "      <td>0</td>\n",
       "      <td>44</td>\n",
       "      <td>395</td>\n",
       "      <td>0.000000</td>\n",
       "      <td>0.945364</td>\n",
       "      <td>1.88574</td>\n",
       "    </tr>\n",
       "    <tr>\n",
       "      <th>language</th>\n",
       "      <td>10173</td>\n",
       "      <td>0</td>\n",
       "      <td>0</td>\n",
       "      <td>32</td>\n",
       "      <td>0</td>\n",
       "      <td>0</td>\n",
       "      <td>1.195979</td>\n",
       "      <td>0.000000</td>\n",
       "      <td>0.00000</td>\n",
       "    </tr>\n",
       "  </tbody>\n",
       "</table>\n",
       "</div>"
      ],
      "text/plain": [
       "                 sum                     max                      mean  \\\n",
       "child_level  dialect family language dialect family language   dialect   \n",
       "parent_level                                                             \n",
       "dialect         1611      0        0      22      0        0  0.136711   \n",
       "family             0   4170     8318       0     44      395  0.000000   \n",
       "language       10173      0        0      32      0        0  1.195979   \n",
       "\n",
       "                                 \n",
       "child_level     family language  \n",
       "parent_level                     \n",
       "dialect       0.000000  0.00000  \n",
       "family        0.945364  1.88574  \n",
       "language      0.000000  0.00000  "
      ]
     },
     "execution_count": 51,
     "metadata": {},
     "output_type": "execute_result"
    }
   ],
   "source": [
    "levels = sa.union_all(*[select([sa.literal(l).label('level')]) for l in LEVEL])\\\n",
    "         .cte(name='levels')\n",
    "\n",
    "select_nchildren = select([Parent.id.label('parent_id'),\n",
    "                           Parent.level.label('parent_level'),\n",
    "                           levels.c.level.label('child_level'),\n",
    "                           count(Child.id).label('n_children')])\\\n",
    "                   .select_from(sa.join(Parent, levels, sa.true())\n",
    "                        .outerjoin(Child, sa.and_(Child.parent_id == Parent.id,\n",
    "                                                  Child.level == levels.c.level)))\\\n",
    "                   .group_by(Parent.id, Parent.level, levels.c.level)\n",
    "\n",
    "read_sql(select_nchildren)\\\n",
    "    .pivot_table(index='parent_level', columns='child_level', values='n_children',\n",
    "                 aggfunc=['sum', 'max', 'mean'], fill_value=0)"
   ]
  },
  {
   "cell_type": "code",
   "execution_count": 52,
   "metadata": {},
   "outputs": [
    {
     "name": "stderr",
     "output_type": "stream",
     "text": [
      "WITH RECURSIVE tree(child_id, parent_id) AS \n",
      "(SELECT child.id AS child_id, parent.id AS parent_id \n",
      "FROM languoid AS child JOIN languoid AS parent ON child.parent_id = parent.id UNION ALL SELECT tree.child_id AS child_id, parent.parent_id AS parent_id \n",
      "FROM tree JOIN languoid AS parent ON parent.id = tree.parent_id AND parent.parent_id IS NOT NULL)\n",
      " SELECT anon_1.parent_level, min(anon_1.n_descendants) AS min, max(anon_1.n_descendants) AS max, CAST(sum(anon_1.n_descendants) AS FLOAT) / count(anon_1.n_descendants) AS mean \n",
      "FROM (SELECT parent.id AS parent_id, parent.level AS parent_level, count(child.id) AS n_descendants \n",
      "FROM languoid AS child JOIN tree ON tree.child_id = child.id JOIN languoid AS parent ON tree.parent_id = parent.id GROUP BY parent.id, parent.level) AS anon_1 GROUP BY parent_level ORDER BY parent_level\n",
      "()\n",
      "WITH RECURSIVE tree(child_id, parent_id) AS \n",
      "(SELECT child.id AS child_id, parent.id AS parent_id \n",
      "FROM languoid AS child JOIN languoid AS parent ON child.parent_id = parent.id UNION ALL SELECT tree.child_id AS child_id, parent.parent_id AS parent_id \n",
      "FROM tree JOIN languoid AS parent ON parent.id = tree.parent_id AND parent.parent_id IS NOT NULL)\n",
      " SELECT ? AS parent_level, min(anon_1.n_descendants) AS min, max(anon_1.n_descendants) AS max, CAST(sum(anon_1.n_descendants) AS FLOAT) / count(anon_1.n_descendants) AS mean \n",
      "FROM (SELECT parent.id AS parent_id, parent.level AS parent_level, count(child.id) AS n_descendants \n",
      "FROM languoid AS child JOIN tree ON tree.child_id = child.id JOIN languoid AS parent ON tree.parent_id = parent.id GROUP BY parent.id, parent.level) AS anon_1\n",
      "('total',)\n"
     ]
    },
    {
     "data": {
      "text/html": [
       "<div>\n",
       "<style scoped>\n",
       "    .dataframe tbody tr th:only-of-type {\n",
       "        vertical-align: middle;\n",
       "    }\n",
       "\n",
       "    .dataframe tbody tr th {\n",
       "        vertical-align: top;\n",
       "    }\n",
       "\n",
       "    .dataframe thead tr th {\n",
       "        text-align: left;\n",
       "    }\n",
       "\n",
       "    .dataframe thead tr:last-of-type th {\n",
       "        text-align: right;\n",
       "    }\n",
       "</style>\n",
       "<table border=\"1\" class=\"dataframe\">\n",
       "  <thead>\n",
       "    <tr>\n",
       "      <th></th>\n",
       "      <th colspan=\"3\" halign=\"left\">n_descendants</th>\n",
       "    </tr>\n",
       "    <tr>\n",
       "      <th></th>\n",
       "      <th>min</th>\n",
       "      <th>max</th>\n",
       "      <th>mean</th>\n",
       "    </tr>\n",
       "    <tr>\n",
       "      <th>parent_level</th>\n",
       "      <th></th>\n",
       "      <th></th>\n",
       "      <th></th>\n",
       "    </tr>\n",
       "  </thead>\n",
       "  <tbody>\n",
       "    <tr>\n",
       "      <th>dialect</th>\n",
       "      <td>1</td>\n",
       "      <td>57</td>\n",
       "      <td>4.763103</td>\n",
       "    </tr>\n",
       "    <tr>\n",
       "      <th>family</th>\n",
       "      <td>1</td>\n",
       "      <td>4722</td>\n",
       "      <td>32.503514</td>\n",
       "    </tr>\n",
       "    <tr>\n",
       "      <th>language</th>\n",
       "      <td>1</td>\n",
       "      <td>125</td>\n",
       "      <td>4.187633</td>\n",
       "    </tr>\n",
       "    <tr>\n",
       "      <th>total</th>\n",
       "      <td>1</td>\n",
       "      <td>4722</td>\n",
       "      <td>20.440016</td>\n",
       "    </tr>\n",
       "  </tbody>\n",
       "</table>\n",
       "</div>"
      ],
      "text/plain": [
       "             n_descendants                 \n",
       "                       min   max       mean\n",
       "parent_level                               \n",
       "dialect                  1    57   4.763103\n",
       "family                   1  4722  32.503514\n",
       "language                 1   125   4.187633\n",
       "total                    1  4722  20.440016"
      ]
     },
     "execution_count": 52,
     "metadata": {},
     "output_type": "execute_result"
    }
   ],
   "source": [
    "select_ndescendants = select([Parent.id.label('parent_id'),\n",
    "                              Parent.level.label('parent_level'),\n",
    "                              count(Child.id).label('n_descendants')])\\\n",
    "                      .select_from(sa.join(Child, tree, tree.c.child_id == Child.id)\n",
    "                          .join(Parent, tree.c.parent_id == Parent.id))\\\n",
    "                      .group_by(Parent.id, Parent.level)\\\n",
    "                      .alias()\n",
    "\n",
    "n_descendants = select_ndescendants.c.n_descendants\n",
    "d_min = sa.func.min(n_descendants).label('min')\n",
    "d_max = sa.func.max(n_descendants).label('max')\n",
    "d_mean = (sa.func.sum(n_descendants).cast(sa.Float) / count(n_descendants)).label('mean')\n",
    "\n",
    "select_level_mean_descendants = select([select_ndescendants.c.parent_level,\n",
    "                                        d_min, d_max, d_mean])\\\n",
    "                                .group_by(select_nchildren.c.parent_level)\\\n",
    "                                .order_by(select_nchildren.c.parent_level)\n",
    "\n",
    "select_total_mean_descendants = select([sa.literal('total').label('parent_level'),\n",
    "                                        d_min, d_max, d_mean])\n",
    "\n",
    "select_mean_descendants = [select_level_mean_descendants, select_total_mean_descendants]\n",
    "\n",
    "_ = pd.concat([read_sql(q, index_col=['parent_level']) for q in select_mean_descendants])\n",
    "_.columns = pd.MultiIndex.from_product([['n_descendants'], _.columns])\n",
    "_"
   ]
  },
  {
   "cell_type": "markdown",
   "metadata": {},
   "source": [
    "## macroarea"
   ]
  },
  {
   "cell_type": "code",
   "execution_count": 53,
   "metadata": {},
   "outputs": [
    {
     "name": "stderr",
     "output_type": "stream",
     "text": [
      "SELECT sqlite_master.sql \n",
      "FROM sqlite_master \n",
      "WHERE sqlite_master.type = ? AND sqlite_master.name = ?\n",
      "('table', 'macroarea')\n",
      "SELECT count(*) AS n_rows \n",
      "FROM macroarea\n",
      "()\n",
      "SELECT sqlite_master.sql \n",
      "FROM sqlite_master \n",
      "WHERE sqlite_master.type = ? AND sqlite_master.name = ?\n",
      "('table', 'languoid_macroarea')\n",
      "SELECT count(*) AS n_rows \n",
      "FROM languoid_macroarea\n",
      "()\n"
     ]
    },
    {
     "name": "stdout",
     "output_type": "stream",
     "text": [
      "CREATE TABLE macroarea (\n",
      "\tname VARCHAR(13) NOT NULL, \n",
      "\tPRIMARY KEY (name), \n",
      "\tCHECK (name IN ('Africa', 'Australia', 'Eurasia', 'North America', 'Papunesia', 'South America'))\n",
      ")\n",
      "6\n",
      "CREATE TABLE languoid_macroarea (\n",
      "\tlanguoid_id VARCHAR(8) NOT NULL, \n",
      "\tmacroarea_name VARCHAR(13) NOT NULL, \n",
      "\tPRIMARY KEY (languoid_id, macroarea_name), \n",
      "\tFOREIGN KEY(languoid_id) REFERENCES languoid (id), \n",
      "\tFOREIGN KEY(macroarea_name) REFERENCES macroarea (name)\n",
      ")\n",
      "18513\n"
     ]
    }
   ],
   "source": [
    "from treedb.models import Macroarea, languoid_macroarea\n",
    "\n",
    "print_sql(Macroarea)\n",
    "print_sql(languoid_macroarea)"
   ]
  },
  {
   "cell_type": "code",
   "execution_count": 54,
   "metadata": {},
   "outputs": [
    {
     "name": "stderr",
     "output_type": "stream",
     "text": [
      "SELECT macroarea.name AS macroarea, count(*) AS n_languages \n",
      "FROM macroarea LEFT OUTER JOIN (languoid_macroarea JOIN languoid ON languoid.id = languoid_macroarea.languoid_id) ON macroarea.name = languoid_macroarea.macroarea_name \n",
      "WHERE languoid.level = ? GROUP BY macroarea.name ORDER BY n_languages DESC\n",
      "('language',)\n"
     ]
    },
    {
     "data": {
      "text/html": [
       "<div>\n",
       "<style scoped>\n",
       "    .dataframe tbody tr th:only-of-type {\n",
       "        vertical-align: middle;\n",
       "    }\n",
       "\n",
       "    .dataframe tbody tr th {\n",
       "        vertical-align: top;\n",
       "    }\n",
       "\n",
       "    .dataframe thead th {\n",
       "        text-align: right;\n",
       "    }\n",
       "</style>\n",
       "<table border=\"1\" class=\"dataframe\">\n",
       "  <thead>\n",
       "    <tr style=\"text-align: right;\">\n",
       "      <th></th>\n",
       "      <th>n_languages</th>\n",
       "    </tr>\n",
       "    <tr>\n",
       "      <th>macroarea</th>\n",
       "      <th></th>\n",
       "    </tr>\n",
       "  </thead>\n",
       "  <tbody>\n",
       "    <tr>\n",
       "      <th>Africa</th>\n",
       "      <td>2344</td>\n",
       "    </tr>\n",
       "    <tr>\n",
       "      <th>Papunesia</th>\n",
       "      <td>2206</td>\n",
       "    </tr>\n",
       "    <tr>\n",
       "      <th>Eurasia</th>\n",
       "      <td>1971</td>\n",
       "    </tr>\n",
       "    <tr>\n",
       "      <th>North America</th>\n",
       "      <td>786</td>\n",
       "    </tr>\n",
       "    <tr>\n",
       "      <th>South America</th>\n",
       "      <td>711</td>\n",
       "    </tr>\n",
       "    <tr>\n",
       "      <th>Australia</th>\n",
       "      <td>385</td>\n",
       "    </tr>\n",
       "  </tbody>\n",
       "</table>\n",
       "</div>"
      ],
      "text/plain": [
       "               n_languages\n",
       "macroarea                 \n",
       "Africa                2344\n",
       "Papunesia             2206\n",
       "Eurasia               1971\n",
       "North America          786\n",
       "South America          711\n",
       "Australia              385"
      ]
     },
     "execution_count": 54,
     "metadata": {},
     "output_type": "execute_result"
    }
   ],
   "source": [
    "select_macroarea_nlanguages = select([Macroarea.name.label('macroarea'),\n",
    "                                      count().label('n_languages')])\\\n",
    "                              .select_from(sa.outerjoin(Macroarea,\n",
    "                                    sa.join(languoid_macroarea, Languoid)))\\\n",
    "                              .where(Languoid.level == LANGUAGE)\\\n",
    "                              .group_by(Macroarea.name)\\\n",
    "                              .order_by(sa.desc('n_languages'))\n",
    "\n",
    "read_sql(select_macroarea_nlanguages, index_col='macroarea')"
   ]
  },
  {
   "cell_type": "code",
   "execution_count": 55,
   "metadata": {},
   "outputs": [
    {
     "name": "stderr",
     "output_type": "stream",
     "text": [
      "SELECT languoid.id, languoid.name, group_concat(macroarea.name, ?) AS macroareas \n",
      "FROM languoid JOIN languoid_macroarea ON languoid.id = languoid_macroarea.languoid_id JOIN macroarea ON macroarea.name = languoid_macroarea.macroarea_name \n",
      "WHERE languoid.level = ? GROUP BY languoid.id \n",
      "HAVING count(*) > ? ORDER BY languoid.id\n",
      "(', ', 'language', 1)\n"
     ]
    },
    {
     "data": {
      "text/html": [
       "<div>\n",
       "<style scoped>\n",
       "    .dataframe tbody tr th:only-of-type {\n",
       "        vertical-align: middle;\n",
       "    }\n",
       "\n",
       "    .dataframe tbody tr th {\n",
       "        vertical-align: top;\n",
       "    }\n",
       "\n",
       "    .dataframe thead th {\n",
       "        text-align: right;\n",
       "    }\n",
       "</style>\n",
       "<table border=\"1\" class=\"dataframe\">\n",
       "  <thead>\n",
       "    <tr style=\"text-align: right;\">\n",
       "      <th></th>\n",
       "      <th>id</th>\n",
       "      <th>name</th>\n",
       "      <th>macroareas</th>\n",
       "    </tr>\n",
       "  </thead>\n",
       "  <tbody>\n",
       "  </tbody>\n",
       "</table>\n",
       "</div>"
      ],
      "text/plain": [
       "Empty DataFrame\n",
       "Columns: [id, name, macroareas]\n",
       "Index: []"
      ]
     },
     "execution_count": 55,
     "metadata": {},
     "output_type": "execute_result"
    }
   ],
   "source": [
    "macroareas = sa.func.group_concat(Macroarea.name, ', ').label('macroareas')\n",
    "\n",
    "select_multiarea_languages = select([Languoid.id, Languoid.name, macroareas])\\\n",
    "                             .select_from(sa.join(Languoid, languoid_macroarea).join(Macroarea))\\\n",
    "                             .where(Languoid.level == LANGUAGE)\\\n",
    "                             .group_by(Languoid.id)\\\n",
    "                             .having(count() > 1)\\\n",
    "                             .order_by('id')\n",
    "    \n",
    "read_sql(select_multiarea_languages)"
   ]
  },
  {
   "cell_type": "markdown",
   "metadata": {},
   "source": [
    "## country"
   ]
  },
  {
   "cell_type": "code",
   "execution_count": 56,
   "metadata": {},
   "outputs": [
    {
     "name": "stderr",
     "output_type": "stream",
     "text": [
      "SELECT sqlite_master.sql \n",
      "FROM sqlite_master \n",
      "WHERE sqlite_master.type = ? AND sqlite_master.name = ?\n",
      "('table', 'country')\n",
      "SELECT count(*) AS n_rows \n",
      "FROM country\n",
      "()\n",
      "SELECT sqlite_master.sql \n",
      "FROM sqlite_master \n",
      "WHERE sqlite_master.type = ? AND sqlite_master.name = ?\n",
      "('table', 'languoid_country')\n",
      "SELECT count(*) AS n_rows \n",
      "FROM languoid_country\n",
      "()\n"
     ]
    },
    {
     "name": "stdout",
     "output_type": "stream",
     "text": [
      "CREATE TABLE country (\n",
      "\tid VARCHAR(2) NOT NULL CHECK (length(id) = 2), \n",
      "\tname TEXT NOT NULL CHECK (name != ''), \n",
      "\tPRIMARY KEY (id), \n",
      "\tUNIQUE (name)\n",
      ")\n",
      "226\n",
      "CREATE TABLE languoid_country (\n",
      "\tlanguoid_id VARCHAR(8) NOT NULL, \n",
      "\tcountry_id VARCHAR(2) NOT NULL, \n",
      "\tPRIMARY KEY (languoid_id, country_id), \n",
      "\tFOREIGN KEY(languoid_id) REFERENCES languoid (id), \n",
      "\tFOREIGN KEY(country_id) REFERENCES country (id)\n",
      ")\n",
      "10979\n"
     ]
    }
   ],
   "source": [
    "from treedb.models import Country, languoid_country\n",
    "\n",
    "print_sql(Country)\n",
    "print_sql(languoid_country)"
   ]
  },
  {
   "cell_type": "code",
   "execution_count": 57,
   "metadata": {},
   "outputs": [
    {
     "name": "stderr",
     "output_type": "stream",
     "text": [
      "SELECT country.name AS country, count(*) AS n_languages \n",
      "FROM country LEFT OUTER JOIN (languoid_country JOIN languoid ON languoid.id = languoid_country.languoid_id) ON country.id = languoid_country.country_id \n",
      "WHERE languoid.level = ? GROUP BY country.id ORDER BY n_languages DESC\n",
      " LIMIT ? OFFSET ?\n",
      "('language', 10, 0)\n"
     ]
    },
    {
     "data": {
      "text/html": [
       "<div>\n",
       "<style scoped>\n",
       "    .dataframe tbody tr th:only-of-type {\n",
       "        vertical-align: middle;\n",
       "    }\n",
       "\n",
       "    .dataframe tbody tr th {\n",
       "        vertical-align: top;\n",
       "    }\n",
       "\n",
       "    .dataframe thead th {\n",
       "        text-align: right;\n",
       "    }\n",
       "</style>\n",
       "<table border=\"1\" class=\"dataframe\">\n",
       "  <thead>\n",
       "    <tr style=\"text-align: right;\">\n",
       "      <th></th>\n",
       "      <th>n_languages</th>\n",
       "    </tr>\n",
       "    <tr>\n",
       "      <th>country</th>\n",
       "      <th></th>\n",
       "    </tr>\n",
       "  </thead>\n",
       "  <tbody>\n",
       "    <tr>\n",
       "      <th>Papua New Guinea</th>\n",
       "      <td>896</td>\n",
       "    </tr>\n",
       "    <tr>\n",
       "      <th>Indonesia</th>\n",
       "      <td>744</td>\n",
       "    </tr>\n",
       "    <tr>\n",
       "      <th>Nigeria</th>\n",
       "      <td>573</td>\n",
       "    </tr>\n",
       "    <tr>\n",
       "      <th>India</th>\n",
       "      <td>499</td>\n",
       "    </tr>\n",
       "    <tr>\n",
       "      <th>China</th>\n",
       "      <td>398</td>\n",
       "    </tr>\n",
       "    <tr>\n",
       "      <th>Australia</th>\n",
       "      <td>392</td>\n",
       "    </tr>\n",
       "    <tr>\n",
       "      <th>Mexico</th>\n",
       "      <td>328</td>\n",
       "    </tr>\n",
       "    <tr>\n",
       "      <th>Brazil</th>\n",
       "      <td>324</td>\n",
       "    </tr>\n",
       "    <tr>\n",
       "      <th>United States</th>\n",
       "      <td>321</td>\n",
       "    </tr>\n",
       "    <tr>\n",
       "      <th>Cameroon</th>\n",
       "      <td>313</td>\n",
       "    </tr>\n",
       "  </tbody>\n",
       "</table>\n",
       "</div>"
      ],
      "text/plain": [
       "                  n_languages\n",
       "country                      \n",
       "Papua New Guinea          896\n",
       "Indonesia                 744\n",
       "Nigeria                   573\n",
       "India                     499\n",
       "China                     398\n",
       "Australia                 392\n",
       "Mexico                    328\n",
       "Brazil                    324\n",
       "United States             321\n",
       "Cameroon                  313"
      ]
     },
     "execution_count": 57,
     "metadata": {},
     "output_type": "execute_result"
    }
   ],
   "source": [
    "select_country_nlanguages = select([Country.name.label('country'),\n",
    "                                    count().label('n_languages')])\\\n",
    "                            .select_from(sa.outerjoin(Country,\n",
    "                                                      sa.join(languoid_country, Languoid)))\\\n",
    "                            .where(Languoid.level == LANGUAGE)\\\n",
    "                            .group_by(Country.id)\\\n",
    "                            .order_by(sa.desc('n_languages'))\\\n",
    "                            .limit(10)\n",
    "\n",
    "read_sql(select_country_nlanguages, index_col='country')"
   ]
  },
  {
   "cell_type": "code",
   "execution_count": 58,
   "metadata": {},
   "outputs": [
    {
     "name": "stderr",
     "output_type": "stream",
     "text": [
      "SELECT id, name, count(*) AS n_countries, group_concat(country, ?) AS countries \n",
      "FROM (SELECT languoid.id AS id, languoid.name AS name, country.id AS country \n",
      "FROM languoid JOIN languoid_country ON languoid.id = languoid_country.languoid_id JOIN country ON country.id = languoid_country.country_id \n",
      "WHERE languoid.level = ? ORDER BY languoid.id, country) GROUP BY id, name \n",
      "HAVING count(*) > ? ORDER BY n_countries DESC, id\n",
      " LIMIT ? OFFSET ?\n",
      "(', ', 'language', 1, 10, 0)\n"
     ]
    },
    {
     "data": {
      "text/html": [
       "<div>\n",
       "<style scoped>\n",
       "    .dataframe tbody tr th:only-of-type {\n",
       "        vertical-align: middle;\n",
       "    }\n",
       "\n",
       "    .dataframe tbody tr th {\n",
       "        vertical-align: top;\n",
       "    }\n",
       "\n",
       "    .dataframe thead th {\n",
       "        text-align: right;\n",
       "    }\n",
       "</style>\n",
       "<table border=\"1\" class=\"dataframe\">\n",
       "  <thead>\n",
       "    <tr style=\"text-align: right;\">\n",
       "      <th></th>\n",
       "      <th>name</th>\n",
       "      <th>n_countries</th>\n",
       "      <th>countries</th>\n",
       "    </tr>\n",
       "    <tr>\n",
       "      <th>id</th>\n",
       "      <th></th>\n",
       "      <th></th>\n",
       "      <th></th>\n",
       "    </tr>\n",
       "  </thead>\n",
       "  <tbody>\n",
       "    <tr>\n",
       "      <th>stan1288</th>\n",
       "      <td>Spanish</td>\n",
       "      <td>30</td>\n",
       "      <td>AD, AR, BO, BR, BZ, CL, CO, CR, CU, DO, EC, ES...</td>\n",
       "    </tr>\n",
       "    <tr>\n",
       "      <th>stan1293</th>\n",
       "      <td>English</td>\n",
       "      <td>26</td>\n",
       "      <td>AU, BM, BR, BZ, CA, CK, CU, DO, FK, GB, GI, GP...</td>\n",
       "    </tr>\n",
       "    <tr>\n",
       "      <th>stan1318</th>\n",
       "      <td>Standard Arabic</td>\n",
       "      <td>25</td>\n",
       "      <td>AE, BH, DJ, DZ, EG, ER, IL, IQ, JO, KM, KW, LB...</td>\n",
       "    </tr>\n",
       "    <tr>\n",
       "      <th>amer1248</th>\n",
       "      <td>American Sign Language</td>\n",
       "      <td>22</td>\n",
       "      <td>BB, BF, BJ, BO, CA, CD, CF, CI, CN, GA, GH, JM...</td>\n",
       "    </tr>\n",
       "    <tr>\n",
       "      <th>east2295</th>\n",
       "      <td>Eastern Yiddish</td>\n",
       "      <td>22</td>\n",
       "      <td>AR, AU, BE, BY, CA, CR, EE, HU, IL, LT, LV, MD...</td>\n",
       "    </tr>\n",
       "    <tr>\n",
       "      <th>russ1263</th>\n",
       "      <td>Russian</td>\n",
       "      <td>19</td>\n",
       "      <td>BY, CN, EE, FI, GE, KG, KP, KZ, LT, LV, MD, MN...</td>\n",
       "    </tr>\n",
       "    <tr>\n",
       "      <th>stan1295</th>\n",
       "      <td>German</td>\n",
       "      <td>16</td>\n",
       "      <td>AT, BE, CH, CZ, DE, DK, FR, HU, IT, LI, LU, NL...</td>\n",
       "    </tr>\n",
       "    <tr>\n",
       "      <th>port1283</th>\n",
       "      <td>Portuguese</td>\n",
       "      <td>15</td>\n",
       "      <td>AD, AR, BO, BR, CO, ES, FR, GF, GY, PE, PT, PY...</td>\n",
       "    </tr>\n",
       "    <tr>\n",
       "      <th>sint1235</th>\n",
       "      <td>Sinte Romani</td>\n",
       "      <td>13</td>\n",
       "      <td>AT, CH, CZ, DE, FR, HR, IT, KZ, ME, NL, PL, RS...</td>\n",
       "    </tr>\n",
       "    <tr>\n",
       "      <th>nucl1301</th>\n",
       "      <td>Turkish</td>\n",
       "      <td>12</td>\n",
       "      <td>AL, AM, AZ, BG, CY, GE, GR, IQ, IR, MK, SY, TR</td>\n",
       "    </tr>\n",
       "  </tbody>\n",
       "</table>\n",
       "</div>"
      ],
      "text/plain": [
       "                            name  n_countries  \\\n",
       "id                                              \n",
       "stan1288                 Spanish           30   \n",
       "stan1293                 English           26   \n",
       "stan1318         Standard Arabic           25   \n",
       "amer1248  American Sign Language           22   \n",
       "east2295         Eastern Yiddish           22   \n",
       "russ1263                 Russian           19   \n",
       "stan1295                  German           16   \n",
       "port1283              Portuguese           15   \n",
       "sint1235            Sinte Romani           13   \n",
       "nucl1301                 Turkish           12   \n",
       "\n",
       "                                                  countries  \n",
       "id                                                           \n",
       "stan1288  AD, AR, BO, BR, BZ, CL, CO, CR, CU, DO, EC, ES...  \n",
       "stan1293  AU, BM, BR, BZ, CA, CK, CU, DO, FK, GB, GI, GP...  \n",
       "stan1318  AE, BH, DJ, DZ, EG, ER, IL, IQ, JO, KM, KW, LB...  \n",
       "amer1248  BB, BF, BJ, BO, CA, CD, CF, CI, CN, GA, GH, JM...  \n",
       "east2295  AR, AU, BE, BY, CA, CR, EE, HU, IL, LT, LV, MD...  \n",
       "russ1263  BY, CN, EE, FI, GE, KG, KP, KZ, LT, LV, MD, MN...  \n",
       "stan1295  AT, BE, CH, CZ, DE, DK, FR, HU, IT, LI, LU, NL...  \n",
       "port1283  AD, AR, BO, BR, CO, ES, FR, GF, GY, PE, PT, PY...  \n",
       "sint1235  AT, CH, CZ, DE, FR, HR, IT, KZ, ME, NL, PL, RS...  \n",
       "nucl1301     AL, AM, AZ, BG, CY, GE, GR, IQ, IR, MK, SY, TR  "
      ]
     },
     "execution_count": 58,
     "metadata": {},
     "output_type": "execute_result"
    }
   ],
   "source": [
    "select_lc = select([Languoid.id, Languoid.name, Country.id.label('country')])\\\n",
    "            .select_from(sa.join(Languoid, languoid_country).join(Country))\\\n",
    "            .where(Languoid.level == LANGUAGE)\\\n",
    "            .order_by(Languoid.id, 'country')\n",
    "\n",
    "countries = sa.func.group_concat(select_lc.c.country, ', ').label('countries')\n",
    "\n",
    "select_multicountry_languages = select([select_lc.c.id,\n",
    "                                        select_lc.c.name,\n",
    "                                        count().label('n_countries'),\n",
    "                                        countries])\\\n",
    "                                .group_by(select_lc.c.id, select_lc.c.name)\\\n",
    "                                .having(count() > 1)\\\n",
    "                                .order_by(sa.desc('n_countries'), select_lc.c.id)\\\n",
    "                                .limit(10)\n",
    "    \n",
    "read_sql(select_multicountry_languages, index_col='id')"
   ]
  },
  {
   "cell_type": "markdown",
   "metadata": {},
   "source": [
    "## endangerment"
   ]
  },
  {
   "cell_type": "code",
   "execution_count": 59,
   "metadata": {},
   "outputs": [
    {
     "name": "stderr",
     "output_type": "stream",
     "text": [
      "SELECT sqlite_master.sql \n",
      "FROM sqlite_master \n",
      "WHERE sqlite_master.type = ? AND sqlite_master.name = ?\n",
      "('table', 'endangerment')\n",
      "SELECT count(*) AS n_rows \n",
      "FROM endangerment\n",
      "()\n",
      "SELECT sqlite_master.sql \n",
      "FROM sqlite_master \n",
      "WHERE sqlite_master.type = ? AND sqlite_master.name = ?\n",
      "('table', 'endangerment_source')\n",
      "SELECT count(*) AS n_rows \n",
      "FROM endangerment_source\n",
      "()\n"
     ]
    },
    {
     "name": "stdout",
     "output_type": "stream",
     "text": [
      "CREATE TABLE endangerment (\n",
      "\tlanguoid_id VARCHAR(8) NOT NULL, \n",
      "\tstatus VARCHAR(14) NOT NULL, \n",
      "\tsource_id INTEGER NOT NULL, \n",
      "\tdate DATETIME NOT NULL, \n",
      "\tcomment TEXT NOT NULL CHECK (comment != ''), \n",
      "\tPRIMARY KEY (languoid_id), \n",
      "\tFOREIGN KEY(languoid_id) REFERENCES languoid (id), \n",
      "\tCHECK (status IN ('not endangered', 'threatened', 'shifting', 'moribund', 'nearly extinct', 'extinct')), \n",
      "\tFOREIGN KEY(source_id) REFERENCES endangerment_source (id)\n",
      ")\n",
      "7983\n",
      "CREATE TABLE endangerment_source (\n",
      "\tid INTEGER NOT NULL, \n",
      "\tname TEXT NOT NULL CHECK (name != ''), \n",
      "\tbibitem_id INTEGER, \n",
      "\tpages TEXT CHECK (pages != ''), \n",
      "\tPRIMARY KEY (id), \n",
      "\tUNIQUE (bibitem_id, pages), \n",
      "\tCHECK ((bibitem_id IS NULL) = (pages IS NULL)), \n",
      "\tUNIQUE (name), \n",
      "\tFOREIGN KEY(bibitem_id) REFERENCES bibitem (id)\n",
      ")\n",
      "7\n"
     ]
    }
   ],
   "source": [
    "from treedb.models import Endangerment, EndangermentSource\n",
    "\n",
    "print_sql(Endangerment)\n",
    "print_sql(EndangermentSource)"
   ]
  },
  {
   "cell_type": "code",
   "execution_count": 60,
   "metadata": {},
   "outputs": [
    {
     "name": "stderr",
     "output_type": "stream",
     "text": [
      "SELECT endangerment_source.name AS source, count(*) AS n_endangerments \n",
      "FROM endangerment JOIN endangerment_source ON endangerment_source.id = endangerment.source_id GROUP BY endangerment_source.name ORDER BY n_endangerments DESC\n",
      "()\n"
     ]
    },
    {
     "data": {
      "image/png": "[encoded data removed]",
      "text/plain": [
       "<Figure size 432x288 with 1 Axes>"
      ]
     },
     "metadata": {},
     "output_type": "display_data"
    }
   ],
   "source": [
    "e_source = EndangermentSource.name.label('source')\n",
    "\n",
    "select_source_nendangerments = select([e_source, count().label('n_endangerments')])\\\n",
    "                               .select_from(sa.join(Endangerment, EndangermentSource))\\\n",
    "                               .group_by(e_source)\\\n",
    "                               .order_by(sa.desc('n_endangerments'))\n",
    "\n",
    "read_sql(select_source_nendangerments, index_col=['source']).plot.pie(y='n_endangerments');"
   ]
  },
  {
   "cell_type": "markdown",
   "metadata": {},
   "source": [
    "## link"
   ]
  },
  {
   "cell_type": "code",
   "execution_count": 61,
   "metadata": {},
   "outputs": [
    {
     "name": "stderr",
     "output_type": "stream",
     "text": [
      "SELECT sqlite_master.sql \n",
      "FROM sqlite_master \n",
      "WHERE sqlite_master.type = ? AND sqlite_master.name = ?\n",
      "('table', 'link')\n",
      "SELECT count(*) AS n_rows \n",
      "FROM link\n",
      "()\n"
     ]
    },
    {
     "name": "stdout",
     "output_type": "stream",
     "text": [
      "CREATE TABLE link (\n",
      "\tlanguoid_id VARCHAR(8) NOT NULL, \n",
      "\tord INTEGER NOT NULL CHECK (ord >= 1), \n",
      "\turl TEXT NOT NULL CHECK (url != ''), \n",
      "\ttitle TEXT CHECK (title != ''), \n",
      "\tscheme TEXT, \n",
      "\tPRIMARY KEY (languoid_id, ord), \n",
      "\tUNIQUE (languoid_id, url), \n",
      "\tCHECK (substr(url, 1, length(scheme) + 3) = scheme || '://'), \n",
      "\tFOREIGN KEY(languoid_id) REFERENCES languoid (id), \n",
      "\tCHECK (scheme IN ('http', 'https'))\n",
      ")\n",
      "28887\n"
     ]
    }
   ],
   "source": [
    "from treedb.models import Link\n",
    "\n",
    "print_sql(Link)"
   ]
  },
  {
   "cell_type": "code",
   "execution_count": 62,
   "metadata": {},
   "outputs": [
    {
     "name": "stderr",
     "output_type": "stream",
     "text": [
      "SELECT link.scheme AS link_scheme, count(*) AS n_links \n",
      "FROM link GROUP BY link.scheme ORDER BY n_links DESC\n",
      "()\n"
     ]
    },
    {
     "data": {
      "image/png": "[encoded data removed]",
      "text/plain": [
       "<Figure size 432x288 with 1 Axes>"
      ]
     },
     "metadata": {},
     "output_type": "display_data"
    }
   ],
   "source": [
    "select_scheme_nlinks = select([Link.scheme.label('link_scheme'), count().label('n_links')])\\\n",
    "                       .group_by(Link.scheme)\\\n",
    "                       .order_by(sa.desc('n_links'))\n",
    "\n",
    "read_sql(select_scheme_nlinks, index_col=['link_scheme']).plot.pie(y='n_links');"
   ]
  },
  {
   "cell_type": "code",
   "execution_count": 63,
   "metadata": {},
   "outputs": [
    {
     "name": "stderr",
     "output_type": "stream",
     "text": [
      "SELECT link.url \n",
      "FROM link\n",
      "()\n"
     ]
    },
    {
     "data": {
      "image/png": "[encoded data removed]",
      "text/plain": [
       "<Figure size 432x288 with 1 Axes>"
      ]
     },
     "metadata": {
      "needs_background": "light"
     },
     "output_type": "display_data"
    }
   ],
   "source": [
    "from urllib.parse import urlparse\n",
    "\n",
    "hosts = collections.Counter(urlparse(u).hostname for u, in select([Link.url]).execute())\n",
    "\n",
    "pd.DataFrame.from_dict(hosts, orient='index', columns=['n_links'])\\\n",
    "    .sort_values(by='n_links').plot.barh();"
   ]
  },
  {
   "cell_type": "markdown",
   "metadata": {},
   "source": [
    "## denormalized"
   ]
  },
  {
   "cell_type": "code",
   "execution_count": 64,
   "metadata": {},
   "outputs": [
    {
     "name": "stderr",
     "output_type": "stream",
     "text": [
      "WITH RECURSIVE tree(child_id, parent_id, steps, terminal) AS \n",
      "(SELECT child.id AS child_id, child.id AS parent_id, ? AS steps, child.parent_id IS NULL AS terminal \n",
      "FROM languoid AS child UNION ALL SELECT tree.child_id AS child_id, parent.parent_id AS parent_id, tree.steps + ? AS steps, grandparent.parent_id IS NULL AS terminal \n",
      "FROM tree JOIN languoid AS parent ON parent.id = tree.parent_id AND parent.parent_id IS NOT NULL LEFT OUTER JOIN languoid AS grandparent ON grandparent.id = parent.parent_id)\n",
      " SELECT languoid.id, languoid.name, languoid.level, languoid.parent_id, (SELECT group_concat(path_part, ?) AS path \n",
      "FROM (SELECT tree.parent_id AS path_part \n",
      "FROM tree \n",
      "WHERE tree.child_id = languoid.id ORDER BY tree.steps DESC)) AS path, (SELECT tree.parent_id \n",
      "FROM tree \n",
      "WHERE tree.child_id = languoid.id AND tree.steps > ? AND tree.terminal = 1) AS family_id, (SELECT tree.parent_id \n",
      "FROM tree \n",
      "WHERE tree.child_id = languoid.id AND languoid.level = ? AND (EXISTS (SELECT * \n",
      "FROM languoid AS ancestor \n",
      "WHERE ancestor.id = tree.parent_id AND ancestor.level = ?))) AS dialect_language_id, languoid.hid, languoid.iso639_3, languoid.latitude, languoid.longitude, (SELECT group_concat(languoid_macroarea.macroarea_name, ?) AS macroareas \n",
      "FROM languoid_macroarea \n",
      "WHERE languoid_macroarea.languoid_id = languoid.id) AS macroareas, (SELECT group_concat(country.id, ?) AS countries \n",
      "FROM languoid_country JOIN country ON country.id = languoid_country.country_id \n",
      "WHERE languoid_country.languoid_id = languoid.id ORDER BY country.id) AS countries, (SELECT group_concat(CASE WHEN (link.title IS NOT NULL) THEN printf(?, link.title, link.url) ELSE link.url END, ?) AS links \n",
      "FROM link \n",
      "WHERE link.languoid_id = languoid.id ORDER BY link.ord) AS links, (SELECT group_concat(printf, ?) AS sources_glottolog \n",
      "FROM (SELECT CASE WHEN (source_glottolog.pages IS NOT NULL AND source_glottolog.\"trigger\" IS NOT NULL) THEN printf(?, source_bibfile.name, source_bibitem.bibkey, source_glottolog.pages, source_glottolog.\"trigger\") WHEN (source_glottolog.pages IS NOT NULL) THEN printf(?, source_bibfile.name, source_bibitem.bibkey, source_glottolog.pages) WHEN (source_glottolog.\"trigger\" IS NOT NULL) THEN printf(?, source_bibfile.name, source_bibitem.bibkey, source_glottolog.\"trigger\") ELSE printf(?, source_bibfile.name, source_bibitem.bibkey) END AS printf \n",
      "FROM source AS source_glottolog, bibfile AS source_bibfile, bibitem AS source_bibitem \n",
      "WHERE source_glottolog.provider = ? AND source_glottolog.languoid_id = languoid.id AND source_glottolog.bibitem_id = source_bibitem.id AND source_bibitem.bibfile_id = source_bibfile.id ORDER BY source_bibfile.name, source_bibitem.bibkey)) AS sources_glottolog, (SELECT group_concat(CASE WHEN (altname_aiatsis.lang = ?) THEN altname_aiatsis.name ELSE printf(?, altname_aiatsis.name, altname_aiatsis.lang) END, ?) AS altnames_aiatsis \n",
      "FROM altname AS altname_aiatsis \n",
      "WHERE altname_aiatsis.provider = ? AND altname_aiatsis.languoid_id = languoid.id ORDER BY altname_aiatsis.name, altname_aiatsis.lang) AS altnames_aiatsis, (SELECT group_concat(CASE WHEN (altname_elcat.lang = ?) THEN altname_elcat.name ELSE printf(?, altname_elcat.name, altname_elcat.lang) END, ?) AS altnames_elcat \n",
      "FROM altname AS altname_elcat \n",
      "WHERE altname_elcat.provider = ? AND altname_elcat.languoid_id = languoid.id ORDER BY altname_elcat.name, altname_elcat.lang) AS altnames_elcat, (SELECT group_concat(CASE WHEN (altname_ethnologue.lang = ?) THEN altname_ethnologue.name ELSE printf(?, altname_ethnologue.name, altname_ethnologue.lang) END, ?) AS altnames_ethnologue \n",
      "FROM altname AS altname_ethnologue \n",
      "WHERE altname_ethnologue.provider = ? AND altname_ethnologue.languoid_id = languoid.id ORDER BY altname_ethnologue.name, altname_ethnologue.lang) AS altnames_ethnologue, (SELECT group_concat(CASE WHEN (altname_glottolog.lang = ?) THEN altname_glottolog.name ELSE printf(?, altname_glottolog.name, altname_glottolog.lang) END, ?) AS altnames_glottolog \n",
      "FROM altname AS altname_glottolog \n",
      "WHERE altname_glottolog.provider = ? AND altname_glottolog.languoid_id = languoid.id ORDER BY altname_glottolog.name, altname_glottolog.lang) AS altnames_glottolog, (SELECT group_concat(CASE WHEN (altname_hhbib_lgcode.lang = ?) THEN altname_hhbib_lgcode.name ELSE printf(?, altname_hhbib_lgcode.name, altname_hhbib_lgcode.lang) END, ?) AS altnames_hhbib_lgcode \n",
      "FROM altname AS altname_hhbib_lgcode \n",
      "WHERE altname_hhbib_lgcode.provider = ? AND altname_hhbib_lgcode.languoid_id = languoid.id ORDER BY altname_hhbib_lgcode.name, altname_hhbib_lgcode.lang) AS altnames_hhbib_lgcode, (SELECT group_concat(CASE WHEN (altname_lexvo.lang = ?) THEN altname_lexvo.name ELSE printf(?, altname_lexvo.name, altname_lexvo.lang) END, ?) AS altnames_lexvo \n",
      "FROM altname AS altname_lexvo \n",
      "WHERE altname_lexvo.provider = ? AND altname_lexvo.languoid_id = languoid.id ORDER BY altname_lexvo.name, altname_lexvo.lang) AS altnames_lexvo, (SELECT group_concat(CASE WHEN (\"altname_moseley & asher (1994)\".lang = ?) THEN \"altname_moseley & asher (1994)\".name ELSE printf(?, \"altname_moseley & asher (1994)\".name, \"altname_moseley & asher (1994)\".lang) END, ?) AS \"altnames_moseley & asher (1994)\" \n",
      "FROM altname AS \"altname_moseley & asher (1994)\" \n",
      "WHERE \"altname_moseley & asher (1994)\".provider = ? AND \"altname_moseley & asher (1994)\".languoid_id = languoid.id ORDER BY \"altname_moseley & asher (1994)\".name, \"altname_moseley & asher (1994)\".lang) AS \"altnames_moseley & asher (1994)\", (SELECT group_concat(CASE WHEN (altname_multitree.lang = ?) THEN altname_multitree.name ELSE printf(?, altname_multitree.name, altname_multitree.lang) END, ?) AS altnames_multitree \n",
      "FROM altname AS altname_multitree \n",
      "WHERE altname_multitree.provider = ? AND altname_multitree.languoid_id = languoid.id ORDER BY altname_multitree.name, altname_multitree.lang) AS altnames_multitree, (SELECT group_concat(CASE WHEN (\"altname_ruhlen (1987)\".lang = ?) THEN \"altname_ruhlen (1987)\".name ELSE printf(?, \"altname_ruhlen (1987)\".name, \"altname_ruhlen (1987)\".lang) END, ?) AS \"altnames_ruhlen (1987)\" \n",
      "FROM altname AS \"altname_ruhlen (1987)\" \n",
      "WHERE \"altname_ruhlen (1987)\".provider = ? AND \"altname_ruhlen (1987)\".languoid_id = languoid.id ORDER BY \"altname_ruhlen (1987)\".name, \"altname_ruhlen (1987)\".lang) AS \"altnames_ruhlen (1987)\", (SELECT group_concat(CASE WHEN (altname_wals.lang = ?) THEN altname_wals.name ELSE printf(?, altname_wals.name, altname_wals.lang) END, ?) AS altnames_wals \n",
      "FROM altname AS altname_wals \n",
      "WHERE altname_wals.provider = ? AND altname_wals.languoid_id = languoid.id ORDER BY altname_wals.name, altname_wals.lang) AS altnames_wals, (SELECT group_concat(CASE WHEN (\"altname_wals other\".lang = ?) THEN \"altname_wals other\".name ELSE printf(?, \"altname_wals other\".name, \"altname_wals other\".lang) END, ?) AS \"altnames_wals other\" \n",
      "FROM altname AS \"altname_wals other\" \n",
      "WHERE \"altname_wals other\".provider = ? AND \"altname_wals other\".languoid_id = languoid.id ORDER BY \"altname_wals other\".name, \"altname_wals other\".lang) AS \"altnames_wals other\", (SELECT group_concat(trigger_lgcode.\"trigger\", ?) AS triggers_lgcode \n",
      "FROM \"trigger\" AS trigger_lgcode \n",
      "WHERE trigger_lgcode.field = ? AND trigger_lgcode.languoid_id = languoid.id ORDER BY trigger_lgcode.ord) AS triggers_lgcode, (SELECT group_concat(trigger_inlg.\"trigger\", ?) AS triggers_inlg \n",
      "FROM \"trigger\" AS trigger_inlg \n",
      "WHERE trigger_inlg.field = ? AND trigger_inlg.languoid_id = languoid.id ORDER BY trigger_inlg.ord) AS triggers_inlg, ident_endangeredlanguages.identifier AS identifier_endangeredlanguages, ident_languagelandscape.identifier AS identifier_languagelandscape, ident_multitree.identifier AS identifier_multitree, ident_wals.identifier AS identifier_wals, cc_sub.comment AS classification_sub, (SELECT group_concat(printf, ?) AS classification_subrefs \n",
      "FROM (SELECT printf(CASE WHEN (cr_sub.pages IS NOT NULL) THEN ? ELSE ? END, bibfile_cr_sub.name, bibitem_cr_sub.bibkey, cr_sub.pages) AS printf \n",
      "FROM classificationref AS cr_sub, bibfile AS bibfile_cr_sub, bibitem AS bibitem_cr_sub \n",
      "WHERE cr_sub.kind = ? AND cr_sub.languoid_id = languoid.id AND cr_sub.bibitem_id = bibitem_cr_sub.id AND bibitem_cr_sub.bibfile_id = bibfile_cr_sub.id ORDER BY cr_sub.ord)) AS classification_subrefs, cc_fam.comment AS classification_family, (SELECT group_concat(printf, ?) AS classification_familyrefs \n",
      "FROM (SELECT printf(CASE WHEN (cr_family.pages IS NOT NULL) THEN ? ELSE ? END, bibfile_cr_family.name, bibitem_cr_family.bibkey, cr_family.pages) AS printf \n",
      "FROM classificationref AS cr_family, bibfile AS bibfile_cr_family, bibitem AS bibitem_cr_family \n",
      "WHERE cr_family.kind = ? AND cr_family.languoid_id = languoid.id AND cr_family.bibitem_id = bibitem_cr_family.id AND bibitem_cr_family.bibfile_id = bibfile_cr_family.id ORDER BY cr_family.ord)) AS classification_familyrefs, endangerment.status AS endangerment_status, endangerment.date AS endangerment_date, endangerment.comment AS endangerment_comment, CASE WHEN (endangerment_source.bibitem_id IS NULL) THEN endangerment_source.name ELSE printf(?, bibfile_e.name, bibitem_e.bibkey, endangerment_source.pages) END AS endangerment_source, ethnologuecomment.isohid AS elcomment_isohid, ethnologuecomment.comment_type AS elcomment_comment_type, ethnologuecomment.ethnologue_versions AS elcomment_ethnologue_versions, ethnologuecomment.comment AS elcomment_comment, isoretirement.code AS iso_retirement_code, isoretirement.name AS iso_retirement_name, isoretirement.change_request AS iso_retirement_change_request, isoretirement.effective AS iso_retirement_effective, isoretirement.reason AS iso_retirement_reason, isoretirement.remedy AS iso_retirement_remedy, isoretirement.comment AS iso_retirement_comment, (SELECT group_concat(isoretirement_changeto.code, ?) AS iso_retirement_change_to \n",
      "FROM isoretirement_changeto \n",
      "WHERE isoretirement_changeto.languoid_id = languoid.id ORDER BY isoretirement_changeto.ord) AS iso_retirement_change_to \n",
      "FROM languoid LEFT OUTER JOIN identifier AS ident_endangeredlanguages ON ident_endangeredlanguages.site = ? AND ident_endangeredlanguages.languoid_id = languoid.id LEFT OUTER JOIN identifier AS ident_languagelandscape ON ident_languagelandscape.site = ? AND ident_languagelandscape.languoid_id = languoid.id LEFT OUTER JOIN identifier AS ident_multitree ON ident_multitree.site = ? AND ident_multitree.languoid_id = languoid.id LEFT OUTER JOIN identifier AS ident_wals ON ident_wals.site = ? AND ident_wals.languoid_id = languoid.id LEFT OUTER JOIN classificationcomment AS cc_sub ON cc_sub.kind = ? AND cc_sub.languoid_id = languoid.id LEFT OUTER JOIN classificationcomment AS cc_fam ON cc_fam.kind = ? AND cc_fam.languoid_id = languoid.id LEFT OUTER JOIN (endangerment JOIN endangerment_source ON endangerment_source.id = endangerment.source_id LEFT OUTER JOIN (bibitem AS bibitem_e JOIN bibfile AS bibfile_e ON bibfile_e.id = bibitem_e.bibfile_id) ON bibitem_e.id = endangerment_source.bibitem_id) ON languoid.id = endangerment.languoid_id LEFT OUTER JOIN ethnologuecomment ON languoid.id = ethnologuecomment.languoid_id LEFT OUTER JOIN isoretirement ON languoid.id = isoretirement.languoid_id ORDER BY languoid.id\n"
     ]
    },
    {
     "name": "stderr",
     "output_type": "stream",
     "text": [
      "(0, 1, '/', 0, 'dialect', 'language', ', ', ', ', '(%s)[%s]', ', ', ', ', '**%s:%s**:%s<trigger \"%s\">', '**%s:%s**:%s', '**%s:%s**<trigger \"%s\">', '**%s:%s**', 'glottolog', '', '%s [%s]', ', ', 'aiatsis', '', '%s [%s]', ', ', 'elcat', '', '%s [%s]', ', ', 'ethnologue', '', '%s [%s]', ', ', 'glottolog', '', '%s [%s]', ', ', 'hhbib_lgcode', '', '%s [%s]', ', ', 'lexvo', '', '%s [%s]', ', ', 'moseley & asher (1994)', '', '%s [%s]', ', ', 'multitree', '', '%s [%s]', ', ', 'ruhlen (1987)', '', '%s [%s]', ', ', 'wals', '', '%s [%s]', ', ', 'wals other', ', ', 'lgcode', ', ', 'inlg', ', ', '**%s:%s**:%s', '**%s:%s**', 'sub', ', ', '**%s:%s**:%s', '**%s:%s**', 'family', '**%s:%s**:%s', ', ', 'endangeredlanguages', 'languagelandscape', 'multitree', 'wals', 'sub', 'family')\n",
      "[INFO@treedb.queries] hash rows with 'sha256', header: ['id', 'name', 'level', 'parent_id', 'path', 'family_id', 'dialect_language_id', 'hid', 'iso639_3', 'latitude', 'longitude', 'macroareas', 'countries', 'links', 'sources_glottolog', 'altnames_aiatsis', 'altnames_elcat', 'altnames_ethnologue', 'altnames_glottolog', 'altnames_hhbib_lgcode', 'altnames_lexvo', 'altnames_moseley & asher (1994)', 'altnames_multitree', 'altnames_ruhlen (1987)', 'altnames_wals', 'altnames_wals other', 'triggers_lgcode', 'triggers_inlg', 'identifier_endangeredlanguages', 'identifier_languagelandscape', 'identifier_multitree', 'identifier_wals', 'classification_sub', 'classification_subrefs', 'classification_family', 'classification_familyrefs', 'endangerment_status', 'endangerment_date', 'endangerment_comment', 'endangerment_source', 'elcomment_isohid', 'elcomment_comment_type', 'elcomment_ethnologue_versions', 'elcomment_comment', 'iso_retirement_code', 'iso_retirement_name', 'iso_retirement_change_request', 'iso_retirement_effective', 'iso_retirement_reason', 'iso_retirement_remedy', 'iso_retirement_comment', 'iso_retirement_change_to']\n"
     ]
    },
    {
     "name": "stdout",
     "output_type": "stream",
     "text": [
      "Wall time: 10 s\n"
     ]
    },
    {
     "data": {
      "text/plain": [
       "'51569805689a929ad9eec83c0345566fb2ae26e8e0c28fc3a046a4a2dc1ee29d'"
      ]
     },
     "execution_count": 64,
     "metadata": {},
     "output_type": "execute_result"
    }
   ],
   "source": [
    "%time treedb.hash_csv(treedb.get_query())"
   ]
  },
  {
   "cell_type": "code",
   "execution_count": 65,
   "metadata": {},
   "outputs": [],
   "source": [
    "#%time read_sql(treedb.get_query())"
   ]
  }
 ],
 "metadata": {
  "kernelspec": {
   "display_name": "Python 3",
   "language": "python",
   "name": "python3"
  },
  "language_info": {
   "codemirror_mode": {
    "name": "ipython",
    "version": 3
   },
   "file_extension": ".py",
   "mimetype": "text/x-python",
   "name": "python",
   "nbconvert_exporter": "python",
   "pygments_lexer": "ipython3",
   "version": "3.8.2"
  }
 },
 "nbformat": 4,
 "nbformat_minor": 2
}
